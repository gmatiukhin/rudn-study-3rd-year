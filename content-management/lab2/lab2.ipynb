{
 "cells": [
  {
   "cell_type": "markdown",
   "id": "541aa55d-502a-41ab-9a18-865ae5cde232",
   "metadata": {
    "jp-MarkdownHeadingCollapsed": true
   },
   "source": [
    "### РОССИЙСКИЙ УНИВЕРСИТЕТ ДРУЖБЫ НАРОДОВ\n",
    "\n",
    "#### Факультет физико-математических и естественных наук  "
   ]
  },
  {
   "cell_type": "markdown",
   "id": "d61f4fe5-afce-4988-a833-3aebcf4799bf",
   "metadata": {},
   "source": [
    "## ОТЧЕТ ПО ЛАБОРАТОРНОЙ РАБОТЕ № 2\n",
    "\n",
    "\n",
    "### Дисциплина: Управление ИТ-сервисами и контентом"
   ]
  },
  {
   "cell_type": "markdown",
   "id": "354eb003-840f-4d76-9da2-08d209b0e204",
   "metadata": {},
   "source": [
    "##### Студент:  Матюхин Григорий Васильевич\n",
    "##### Группа:   НПИбд-01-21"
   ]
  },
  {
   "cell_type": "markdown",
   "id": "ea8e54b2-0e1f-40ab-a335-83c41d92c5a6",
   "metadata": {},
   "source": [
    "## Москва 2024\n",
    "***"
   ]
  },
  {
   "cell_type": "markdown",
   "id": "45d1deb4-9230-489b-9ba0-177290f7f946",
   "metadata": {},
   "source": [
    "# Введение"
   ]
  },
  {
   "cell_type": "markdown",
   "id": "895a7d54-9482-456d-ab0c-eba81c0567c0",
   "metadata": {},
   "source": [
    "В данной лабораторной работе изучается web-сервис [random.org](https://random.org). Данный веб-сервис\n",
    "предоставляет API для получения последовательностей истинно случайных чисел. Этот сервис работает по протоколу [JSON-RPC](https://www.jsonrpc.org/)."
   ]
  },
  {
   "cell_type": "markdown",
   "id": "0c6bbf7f-8794-4421-944b-b251101257f7",
   "metadata": {},
   "source": [
    "## JSON-RPC"
   ]
  },
  {
   "cell_type": "markdown",
   "id": "b59b3e48-31d6-4e7e-a8b6-f7fc858c18cd",
   "metadata": {},
   "source": [
    "Что-бы вызвать какую-то процедуру на сервере, работающем на JSON-RPC, клиенту необходимо отправить на правильный эндпоинт объект, содержащий следующие поля:\n",
    "- jsonrpc -- версия протокола, всегда равно \"2.0\";\n",
    "- method -- название метода, который следует вызвать;\n",
    "- params -- значения аргументов к методу;\n",
    "- id -- идентификатор запроса.\n",
    "\n",
    "В ответ на это сервер отправит объект из:\n",
    "- jsonrpc -- так же как в запросе;\n",
    "- result -- если успешно выполнено, результат выполнения метода;\n",
    "- error -- если была ошибка, описание ошибки;\n",
    "- id -- то же самое значение, как и id в запросе. Клиент может использовать это для корреляции запросов и ответов."
   ]
  },
  {
   "cell_type": "markdown",
   "id": "ce68241b-a989-4563-a6b5-79cb15d58dba",
   "metadata": {},
   "source": [
    "# Выполнение"
   ]
  },
  {
   "cell_type": "markdown",
   "id": "6ae639b7-4656-47f1-b249-f984a5f81f96",
   "metadata": {},
   "source": [
    "Для доступа к API необходим ключ. Его можно получить зарегестрировавшись на сайте.\n",
    "Сохраним его в переменную."
   ]
  },
  {
   "cell_type": "code",
   "execution_count": 12,
   "id": "50f518eb-1a26-448b-a0cc-f565ab3e0b07",
   "metadata": {},
   "outputs": [],
   "source": [
    "RANDOMORG_KEY=XXX"
   ]
  },
  {
   "cell_type": "markdown",
   "id": "5c022051-c29a-4edb-879a-d8519887d4c1",
   "metadata": {},
   "source": [
    "## Генерация целых чисел"
   ]
  },
  {
   "cell_type": "markdown",
   "id": "bf410d6b-7505-4f55-9073-d627b956daaf",
   "metadata": {},
   "source": [
    "### Простая генерация пяти целых чисел"
   ]
  },
  {
   "cell_type": "markdown",
   "id": "bc1446b9-2cbf-47c9-acb0-6134b46d7b83",
   "metadata": {},
   "source": [
    "Сформируем запрос на генерацию пяти целых чисел в диапазоне $[-10, 50]$.\n",
    "Для этого вызовем метод `generateIntegers` с необходимыми параметрами:\n",
    "- n -- количество чисел;\n",
    "- min -- минимум;\n",
    "- max -- максимум;\n",
    "\n",
    "Выведем тело запроса и ответа (помечены `>` и `<` соответственно),\n",
    "а так-же и сам ответ в формате JSON."
   ]
  },
  {
   "cell_type": "code",
   "execution_count": 2,
   "id": "c451cff9-f1fc-4dd7-bc21-0559df0a7cc4",
   "metadata": {},
   "outputs": [],
   "source": [
    "BASE_URL=https://api.random.org/json-rpc/4/invoke"
   ]
  },
  {
   "cell_type": "code",
   "execution_count": 3,
   "id": "08b1eed8-c06f-4ae7-9a04-a7fa24659115",
   "metadata": {},
   "outputs": [
    {
     "name": "stdout",
     "output_type": "stream",
     "text": [
      "\u001b[0m\u001b[1m\u001b[31m>\u001b[0m POST /json-rpc/4/invoke HTTP/2\n",
      "\u001b[0m\u001b[1m\u001b[31m>\u001b[0m Host: api.random.org\n",
      "\u001b[0m\u001b[1m\u001b[31m>\u001b[0m User-Agent: curl/8.7.1\n",
      "\u001b[0m\u001b[1m\u001b[31m>\u001b[0m Accept: */*\n",
      "\u001b[0m\u001b[1m\u001b[31m>\u001b[0m Content-Type: application/json\n",
      "\u001b[0m\u001b[1m\u001b[31m>\u001b[0m Content-Length: 196\n",
      "\u001b[0m\u001b[1m\u001b[31m>\u001b[0m \n",
      "\u001b[0m\u001b[1m\u001b[31m<\u001b[0m HTTP/2 200 \n",
      "\u001b[0m\u001b[1m\u001b[31m<\u001b[0m date: Tue, 30 Apr 2024 20:04:36 GMT\n",
      "\u001b[0m\u001b[1m\u001b[31m<\u001b[0m content-type: application/json; charset=utf-8\n",
      "\u001b[0m\u001b[1m\u001b[31m<\u001b[0m content-length: 185\n",
      "\u001b[0m\u001b[1m\u001b[31m<\u001b[0m x-content-type-options: nosniff\n",
      "\u001b[0m\u001b[1m\u001b[31m<\u001b[0m access-control-allow-origin: *\n",
      "\u001b[0m\u001b[1m\u001b[31m<\u001b[0m access-control-allow-headers: Origin, X-Requested-With, Content-Type, Accept\n",
      "\u001b[0m\u001b[1m\u001b[31m<\u001b[0m cf-cache-status: DYNAMIC\n",
      "\u001b[0m\u001b[1m\u001b[31m<\u001b[0m set-cookie: __cflb=02DiuEJLVpaAQLxvFoC1yWv9tVL87GjjiASj16m9YzVg7; SameSite=Lax; path=/; expires=Tue, 07-May-24 20:04:36 GMT; HttpOnly\n",
      "\u001b[0m\u001b[1m\u001b[31m<\u001b[0m strict-transport-security: max-age=31536000; includeSubDomains; preload\n",
      "\u001b[0m\u001b[1m\u001b[31m<\u001b[0m server: cloudflare\n",
      "\u001b[0m\u001b[1m\u001b[31m<\u001b[0m cf-ray: 87ca244beaa878ff-DME\n",
      "\u001b[0m\u001b[1m\u001b[31m<\u001b[0m \n",
      "\u001b[1;39m{\n",
      "  \u001b[0m\u001b[1;34m\"jsonrpc\"\u001b[0m\u001b[1;39m: \u001b[0m\u001b[0;32m\"2.0\"\u001b[0m\u001b[1;39m,\n",
      "  \u001b[0m\u001b[1;34m\"result\"\u001b[0m\u001b[1;39m: \u001b[0m\u001b[1;39m{\n",
      "    \u001b[0m\u001b[1;34m\"random\"\u001b[0m\u001b[1;39m: \u001b[0m\u001b[1;39m{\n",
      "      \u001b[0m\u001b[1;34m\"data\"\u001b[0m\u001b[1;39m: \u001b[0m\u001b[1;39m[\n",
      "        \u001b[0;39m-5\u001b[0m\u001b[1;39m,\n",
      "        \u001b[0;39m45\u001b[0m\u001b[1;39m,\n",
      "        \u001b[0;39m-8\u001b[0m\u001b[1;39m,\n",
      "        \u001b[0;39m16\u001b[0m\u001b[1;39m,\n",
      "        \u001b[0;39m4\u001b[0m\u001b[1;39m\n",
      "      \u001b[1;39m]\u001b[0m\u001b[1;39m,\n",
      "      \u001b[0m\u001b[1;34m\"completionTime\"\u001b[0m\u001b[1;39m: \u001b[0m\u001b[0;32m\"2024-04-30 20:04:36Z\"\u001b[0m\u001b[1;39m\n",
      "    \u001b[1;39m}\u001b[0m\u001b[1;39m,\n",
      "    \u001b[0m\u001b[1;34m\"bitsUsed\"\u001b[0m\u001b[1;39m: \u001b[0m\u001b[0;39m30\u001b[0m\u001b[1;39m,\n",
      "    \u001b[0m\u001b[1;34m\"bitsLeft\"\u001b[0m\u001b[1;39m: \u001b[0m\u001b[0;39m247876\u001b[0m\u001b[1;39m,\n",
      "    \u001b[0m\u001b[1;34m\"requestsLeft\"\u001b[0m\u001b[1;39m: \u001b[0m\u001b[0;39m948\u001b[0m\u001b[1;39m,\n",
      "    \u001b[0m\u001b[1;34m\"advisoryDelay\"\u001b[0m\u001b[1;39m: \u001b[0m\u001b[0;39m1440\u001b[0m\u001b[1;39m\n",
      "  \u001b[1;39m}\u001b[0m\u001b[1;39m,\n",
      "  \u001b[0m\u001b[1;34m\"id\"\u001b[0m\u001b[1;39m: \u001b[0m\u001b[0;39m69420\u001b[0m\u001b[1;39m\n",
      "\u001b[1;39m}\u001b[0m\n"
     ]
    }
   ],
   "source": [
    "(curl -s -X POST $BASE_URL \\\n",
    "  -H \"Content-Type: application/json\" \\\n",
    "  -v \\\n",
    "  -d @- <<END\n",
    "  {\n",
    "    \"jsonrpc\": \"2.0\",\n",
    "    \"id\": 69420,\n",
    "    \"method\": \"generateIntegers\",\n",
    "    \"params\": {\n",
    "      \"apiKey\": \"$RANDOMORG_KEY\",\n",
    "      \"n\": 5,\n",
    "      \"min\": -10,\n",
    "      \"max\": 50\n",
    "    }\n",
    "  }\n",
    "END\n",
    ") \\\n",
    "  2> >(rg \"<|>\") \\\n",
    "  > >(jq)"
   ]
  },
  {
   "cell_type": "markdown",
   "id": "427e3d9c-5a47-4bb2-8a75-2c6bb75cf4c3",
   "metadata": {},
   "source": [
    "В теле ответа получаем следующую информацию:\n",
    "\n",
    "- jsonrpc -- версия протокола\n",
    "- result -- результат выполнения процедуры\n",
    "  - random -- случайные числа\n",
    "    - data -- данные\n",
    "    - completionTime -- когда был осуществлен запрос\n",
    "  - bitsUsed -- сколько битов случайности требовалось для выполнения\n",
    "  - bitsLeft -- сколько битов осталось в квоте для данного ключа\n",
    "  - requestsLeft -- сколько запросов осталось\n",
    "  - advisoryDelay -- сколько времени рекомендуется ждать перед следующим запросом, чтобы не превысить rate limit\n",
    "- id -- id запроса"
   ]
  },
  {
   "cell_type": "markdown",
   "id": "ecef281c-dab2-4999-b725-e4f194b5ec82",
   "metadata": {},
   "source": [
    "Рассмотрим заголовки ответа:\n",
    "- date -- дата\n",
    "- content-type -- тип данных ответа\n",
    "- content-length -- длинна данных ответа\n",
    "- x-content-type-options -- браузер не должен догадываться, какой тип данных был отправлен, поле content-type верно\n",
    "- access-control-allow-origin -- кому можно посылать запросы\n",
    "- access-control-allow-headers -- разрешить запросы с этими заголовками\n",
    "- cf-cache-status -- надо ли кэшировать эту страницу в Cloudflare CDN\n",
    "- set-cookie -- установить куки с данным значением\n",
    "- strict-transport-security -- гарантия, что сайт, влкючая поддоменны, будет доступен по HTTPS как минимум год\n",
    "- server -- был использован прокси Cloudflare\n",
    "- cf-ray -- идентификатор в логах Cloudflare"
   ]
  },
  {
   "cell_type": "markdown",
   "id": "09d50cb9-68c9-4d0b-b7b5-f9fb9479c4b5",
   "metadata": {},
   "source": [
    "### Генерация типов в восьмеричной системе"
   ]
  },
  {
   "cell_type": "markdown",
   "id": "071d8b71-f16b-48e9-ae21-17c3328c2df8",
   "metadata": {},
   "source": [
    "Можно сгенерировать числа в другой системе исчисления.\n",
    "Для этого необходимо задать опциональный параметр `base`."
   ]
  },
  {
   "cell_type": "code",
   "execution_count": 4,
   "id": "ed97fff7-08ba-4ed6-a141-abdc0db1789f",
   "metadata": {},
   "outputs": [
    {
     "name": "stdout",
     "output_type": "stream",
     "text": [
      "\u001b[1;39m{\n",
      "  \u001b[0m\u001b[1;34m\"jsonrpc\"\u001b[0m\u001b[1;39m: \u001b[0m\u001b[0;32m\"2.0\"\u001b[0m\u001b[1;39m,\n",
      "  \u001b[0m\u001b[1;34m\"result\"\u001b[0m\u001b[1;39m: \u001b[0m\u001b[1;39m{\n",
      "    \u001b[0m\u001b[1;34m\"random\"\u001b[0m\u001b[1;39m: \u001b[0m\u001b[1;39m{\n",
      "      \u001b[0m\u001b[1;34m\"data\"\u001b[0m\u001b[1;39m: \u001b[0m\u001b[1;39m[\n",
      "        \u001b[0;32m\"25\"\u001b[0m\u001b[1;39m,\n",
      "        \u001b[0;32m\"30\"\u001b[0m\u001b[1;39m,\n",
      "        \u001b[0;32m\"41\"\u001b[0m\u001b[1;39m,\n",
      "        \u001b[0;32m\"32\"\u001b[0m\u001b[1;39m,\n",
      "        \u001b[0;32m\"07\"\u001b[0m\u001b[1;39m\n",
      "      \u001b[1;39m]\u001b[0m\u001b[1;39m,\n",
      "      \u001b[0m\u001b[1;34m\"completionTime\"\u001b[0m\u001b[1;39m: \u001b[0m\u001b[0;32m\"2024-04-30 20:04:37Z\"\u001b[0m\u001b[1;39m\n",
      "    \u001b[1;39m}\u001b[0m\u001b[1;39m,\n",
      "    \u001b[0m\u001b[1;34m\"bitsUsed\"\u001b[0m\u001b[1;39m: \u001b[0m\u001b[0;39m30\u001b[0m\u001b[1;39m,\n",
      "    \u001b[0m\u001b[1;34m\"bitsLeft\"\u001b[0m\u001b[1;39m: \u001b[0m\u001b[0;39m247846\u001b[0m\u001b[1;39m,\n",
      "    \u001b[0m\u001b[1;34m\"requestsLeft\"\u001b[0m\u001b[1;39m: \u001b[0m\u001b[0;39m947\u001b[0m\u001b[1;39m,\n",
      "    \u001b[0m\u001b[1;34m\"advisoryDelay\"\u001b[0m\u001b[1;39m: \u001b[0m\u001b[0;39m1440\u001b[0m\u001b[1;39m\n",
      "  \u001b[1;39m}\u001b[0m\u001b[1;39m,\n",
      "  \u001b[0m\u001b[1;34m\"id\"\u001b[0m\u001b[1;39m: \u001b[0m\u001b[0;39m69420\u001b[0m\u001b[1;39m\n",
      "\u001b[1;39m}\u001b[0m\n"
     ]
    }
   ],
   "source": [
    "(curl -s -X POST $BASE_URL \\\n",
    "  -H \"Content-Type: application/json\" \\\n",
    "  -d @- <<END\n",
    "  {\n",
    "    \"jsonrpc\": \"2.0\",\n",
    "    \"id\": 69420,\n",
    "    \"method\": \"generateIntegers\",\n",
    "    \"params\": {\n",
    "      \"apiKey\": \"$RANDOMORG_KEY\",\n",
    "      \"n\": 5,\n",
    "      \"min\": -10,\n",
    "      \"max\": 50,\n",
    "      \"base\": 8\n",
    "    }\n",
    "  }\n",
    "END\n",
    ") | jq"
   ]
  },
  {
   "cell_type": "markdown",
   "id": "358c6fac-e579-4946-a1be-77d4c969cefa",
   "metadata": {},
   "source": [
    "Теперь числа в ответе приходят как JSON-строки, а не как JSON-числа."
   ]
  },
  {
   "cell_type": "markdown",
   "id": "ba9c5862-9ac2-49a1-92a1-9032b7d069ec",
   "metadata": {},
   "source": [
    "## Ошибки"
   ]
  },
  {
   "cell_type": "markdown",
   "id": "f7a8ed69-b5d3-48ec-a3a4-d758df520478",
   "metadata": {},
   "source": [
    "Если метод в JSON-RPC не может вернуть результат, то он возвращает ошибку.\n",
    "В теле есть код ошибки, строка с человеко-читаемым объяснением ошибки и дополнительные данные,\n",
    "чтобы ее исправить."
   ]
  },
  {
   "cell_type": "markdown",
   "id": "31339c4d-845e-4deb-9e6f-4eab874269d3",
   "metadata": {},
   "source": [
    "### Неверный JSON"
   ]
  },
  {
   "cell_type": "markdown",
   "id": "83059ddb-4dc4-47fe-b1c0-8ac4138e813b",
   "metadata": {},
   "source": [
    "Поставим лишнюю запятую в запросе."
   ]
  },
  {
   "cell_type": "code",
   "execution_count": 5,
   "id": "73edb2de-9601-4b17-98cb-d3cb7895de9f",
   "metadata": {},
   "outputs": [
    {
     "name": "stdout",
     "output_type": "stream",
     "text": [
      "\u001b[1;39m{\n",
      "  \u001b[0m\u001b[1;34m\"jsonrpc\"\u001b[0m\u001b[1;39m: \u001b[0m\u001b[0;32m\"2.0\"\u001b[0m\u001b[1;39m,\n",
      "  \u001b[0m\u001b[1;34m\"error\"\u001b[0m\u001b[1;39m: \u001b[0m\u001b[1;39m{\n",
      "    \u001b[0m\u001b[1;34m\"code\"\u001b[0m\u001b[1;39m: \u001b[0m\u001b[0;39m-32700\u001b[0m\u001b[1;39m,\n",
      "    \u001b[0m\u001b[1;34m\"message\"\u001b[0m\u001b[1;39m: \u001b[0m\u001b[0;32m\"Parse error\"\u001b[0m\u001b[1;39m,\n",
      "    \u001b[0m\u001b[1;34m\"data\"\u001b[0m\u001b[1;39m: \u001b[0m\u001b[0;90mnull\u001b[0m\u001b[1;39m\n",
      "  \u001b[1;39m}\u001b[0m\u001b[1;39m,\n",
      "  \u001b[0m\u001b[1;34m\"id\"\u001b[0m\u001b[1;39m: \u001b[0m\u001b[0;90mnull\u001b[0m\u001b[1;39m\n",
      "\u001b[1;39m}\u001b[0m\n"
     ]
    }
   ],
   "source": [
    "(curl -s -X POST $BASE_URL \\\n",
    "  -H \"Content-Type: application/json\" \\\n",
    "  -d @- <<END\n",
    "  {\n",
    "    \"jsonrpc\": \"2.0\",\n",
    "    \"id\": 69420,\n",
    "    \"method\": \"generateIntegers\",\n",
    "    \"params\": {\n",
    "      \"apiKey\": \"$RANDOMORG_KEY\",\n",
    "      \"n\": 5,\n",
    "      \"min\": -10,\n",
    "      \"max\": 50,\n",
    "    }\n",
    "  }\n",
    "END\n",
    ") | jq"
   ]
  },
  {
   "cell_type": "markdown",
   "id": "7b681749-3389-4cf7-845c-f1c11114c5d8",
   "metadata": {},
   "source": [
    "### Метод не найден"
   ]
  },
  {
   "cell_type": "markdown",
   "id": "1269210b-8743-43ef-9b4a-cc1351cb3c75",
   "metadata": {},
   "source": [
    "Попробуем вызвать несуществующий метод."
   ]
  },
  {
   "cell_type": "code",
   "execution_count": 6,
   "id": "b4c89161-09c1-4a9b-a72c-c888302d1238",
   "metadata": {},
   "outputs": [
    {
     "name": "stdout",
     "output_type": "stream",
     "text": [
      "\u001b[1;39m{\n",
      "  \u001b[0m\u001b[1;34m\"jsonrpc\"\u001b[0m\u001b[1;39m: \u001b[0m\u001b[0;32m\"2.0\"\u001b[0m\u001b[1;39m,\n",
      "  \u001b[0m\u001b[1;34m\"error\"\u001b[0m\u001b[1;39m: \u001b[0m\u001b[1;39m{\n",
      "    \u001b[0m\u001b[1;34m\"code\"\u001b[0m\u001b[1;39m: \u001b[0m\u001b[0;39m-32601\u001b[0m\u001b[1;39m,\n",
      "    \u001b[0m\u001b[1;34m\"message\"\u001b[0m\u001b[1;39m: \u001b[0m\u001b[0;32m\"Method not found\"\u001b[0m\u001b[1;39m,\n",
      "    \u001b[0m\u001b[1;34m\"data\"\u001b[0m\u001b[1;39m: \u001b[0m\u001b[0;90mnull\u001b[0m\u001b[1;39m\n",
      "  \u001b[1;39m}\u001b[0m\u001b[1;39m,\n",
      "  \u001b[0m\u001b[1;34m\"id\"\u001b[0m\u001b[1;39m: \u001b[0m\u001b[0;39m69420\u001b[0m\u001b[1;39m\n",
      "\u001b[1;39m}\u001b[0m\n"
     ]
    }
   ],
   "source": [
    "(curl -s -X POST $BASE_URL \\\n",
    "  -H \"Content-Type: application/json\" \\\n",
    "  -d @- <<END\n",
    "  {\n",
    "    \"jsonrpc\": \"2.0\",\n",
    "    \"id\": 69420,\n",
    "    \"method\": \"generateInteger\",\n",
    "    \"params\": {\n",
    "      \"apiKey\": \"$RANDOMORG_KEY\",\n",
    "      \"n\": 5,\n",
    "      \"min\": -10,\n",
    "      \"max\": 50\n",
    "    }\n",
    "  }\n",
    "END\n",
    ") | jq"
   ]
  },
  {
   "cell_type": "markdown",
   "id": "4ef8db7f-d7fa-4038-8c6c-643dbc0c31ae",
   "metadata": {},
   "source": [
    "### Плохие параметры процедуры"
   ]
  },
  {
   "cell_type": "markdown",
   "id": "ba4cb069-e845-4252-b36f-72a576cfd764",
   "metadata": {},
   "source": [
    "Запросим больше чисел чем есть в диапазоне."
   ]
  },
  {
   "cell_type": "code",
   "execution_count": 7,
   "id": "4aacef5f-d8ac-4c78-8532-961d3de8fe79",
   "metadata": {},
   "outputs": [
    {
     "name": "stdout",
     "output_type": "stream",
     "text": [
      "\u001b[1;39m{\n",
      "  \u001b[0m\u001b[1;34m\"jsonrpc\"\u001b[0m\u001b[1;39m: \u001b[0m\u001b[0;32m\"2.0\"\u001b[0m\u001b[1;39m,\n",
      "  \u001b[0m\u001b[1;34m\"error\"\u001b[0m\u001b[1;39m: \u001b[0m\u001b[1;39m{\n",
      "    \u001b[0m\u001b[1;34m\"code\"\u001b[0m\u001b[1;39m: \u001b[0m\u001b[0;39m301\u001b[0m\u001b[1;39m,\n",
      "    \u001b[0m\u001b[1;34m\"message\"\u001b[0m\u001b[1;39m: \u001b[0m\u001b[0;32m\"You requested 5 values without replacement but the domain you specified only contains 4\"\u001b[0m\u001b[1;39m,\n",
      "    \u001b[0m\u001b[1;34m\"data\"\u001b[0m\u001b[1;39m: \u001b[0m\u001b[1;39m[\n",
      "      \u001b[0;39m5\u001b[0m\u001b[1;39m,\n",
      "      \u001b[0;39m4\u001b[0m\u001b[1;39m\n",
      "    \u001b[1;39m]\u001b[0m\u001b[1;39m\n",
      "  \u001b[1;39m}\u001b[0m\u001b[1;39m,\n",
      "  \u001b[0m\u001b[1;34m\"id\"\u001b[0m\u001b[1;39m: \u001b[0m\u001b[0;39m69420\u001b[0m\u001b[1;39m\n",
      "\u001b[1;39m}\u001b[0m\n"
     ]
    }
   ],
   "source": [
    "(curl -s -X POST $BASE_URL \\\n",
    "  -H \"Content-Type: application/json\" \\\n",
    "  -d @- <<END\n",
    "  {\n",
    "    \"jsonrpc\": \"2.0\",\n",
    "    \"id\": 69420,\n",
    "    \"method\": \"generateIntegers\",\n",
    "    \"params\": {\n",
    "      \"apiKey\": \"$RANDOMORG_KEY\",\n",
    "      \"n\": 5,\n",
    "      \"min\": 1,\n",
    "      \"max\": 4,\n",
    "      \"replacement\": false\n",
    "    }\n",
    "  }\n",
    "END\n",
    ") | jq"
   ]
  },
  {
   "cell_type": "markdown",
   "id": "bcb73556-eba5-4ca5-99b2-90fa43cf07bf",
   "metadata": {},
   "source": [
    "## Генерация числовых последовательностей"
   ]
  },
  {
   "cell_type": "markdown",
   "id": "d191c561-1ca8-41b7-99f4-5470bbf3cf8b",
   "metadata": {},
   "source": [
    "Используем метод `generateIntegerSequences`. В параметрах:\n",
    "- n -- количество последовательнойстей;\n",
    "- min -- минимум;\n",
    "- max -- максимум;\n",
    "- length -- длинна последовательностей."
   ]
  },
  {
   "cell_type": "code",
   "execution_count": 8,
   "id": "137b3d13-b688-44ad-b3ad-ba24bec59bd8",
   "metadata": {},
   "outputs": [
    {
     "name": "stdout",
     "output_type": "stream",
     "text": [
      "\u001b[1;39m{\n",
      "  \u001b[0m\u001b[1;34m\"jsonrpc\"\u001b[0m\u001b[1;39m: \u001b[0m\u001b[0;32m\"2.0\"\u001b[0m\u001b[1;39m,\n",
      "  \u001b[0m\u001b[1;34m\"result\"\u001b[0m\u001b[1;39m: \u001b[0m\u001b[1;39m{\n",
      "    \u001b[0m\u001b[1;34m\"random\"\u001b[0m\u001b[1;39m: \u001b[0m\u001b[1;39m{\n",
      "      \u001b[0m\u001b[1;34m\"data\"\u001b[0m\u001b[1;39m: \u001b[0m\u001b[1;39m[\n",
      "        \u001b[1;39m[\n",
      "          \u001b[0;39m5\u001b[0m\u001b[1;39m,\n",
      "          \u001b[0;39m36\u001b[0m\u001b[1;39m,\n",
      "          \u001b[0;39m25\u001b[0m\u001b[1;39m\n",
      "        \u001b[1;39m]\u001b[0m\u001b[1;39m,\n",
      "        \u001b[1;39m[\n",
      "          \u001b[0;39m30\u001b[0m\u001b[1;39m,\n",
      "          \u001b[0;39m8\u001b[0m\u001b[1;39m,\n",
      "          \u001b[0;39m33\u001b[0m\u001b[1;39m\n",
      "        \u001b[1;39m]\u001b[0m\u001b[1;39m,\n",
      "        \u001b[1;39m[\n",
      "          \u001b[0;39m-7\u001b[0m\u001b[1;39m,\n",
      "          \u001b[0;39m-8\u001b[0m\u001b[1;39m,\n",
      "          \u001b[0;39m-6\u001b[0m\u001b[1;39m\n",
      "        \u001b[1;39m]\u001b[0m\u001b[1;39m,\n",
      "        \u001b[1;39m[\n",
      "          \u001b[0;39m-2\u001b[0m\u001b[1;39m,\n",
      "          \u001b[0;39m5\u001b[0m\u001b[1;39m,\n",
      "          \u001b[0;39m21\u001b[0m\u001b[1;39m\n",
      "        \u001b[1;39m]\u001b[0m\u001b[1;39m,\n",
      "        \u001b[1;39m[\n",
      "          \u001b[0;39m-3\u001b[0m\u001b[1;39m,\n",
      "          \u001b[0;39m12\u001b[0m\u001b[1;39m,\n",
      "          \u001b[0;39m19\u001b[0m\u001b[1;39m\n",
      "        \u001b[1;39m]\u001b[0m\u001b[1;39m\n",
      "      \u001b[1;39m]\u001b[0m\u001b[1;39m,\n",
      "      \u001b[0m\u001b[1;34m\"completionTime\"\u001b[0m\u001b[1;39m: \u001b[0m\u001b[0;32m\"2024-04-30 20:04:41Z\"\u001b[0m\u001b[1;39m\n",
      "    \u001b[1;39m}\u001b[0m\u001b[1;39m,\n",
      "    \u001b[0m\u001b[1;34m\"bitsUsed\"\u001b[0m\u001b[1;39m: \u001b[0m\u001b[0;39m90\u001b[0m\u001b[1;39m,\n",
      "    \u001b[0m\u001b[1;34m\"bitsLeft\"\u001b[0m\u001b[1;39m: \u001b[0m\u001b[0;39m247756\u001b[0m\u001b[1;39m,\n",
      "    \u001b[0m\u001b[1;34m\"requestsLeft\"\u001b[0m\u001b[1;39m: \u001b[0m\u001b[0;39m946\u001b[0m\u001b[1;39m,\n",
      "    \u001b[0m\u001b[1;34m\"advisoryDelay\"\u001b[0m\u001b[1;39m: \u001b[0m\u001b[0;39m1410\u001b[0m\u001b[1;39m\n",
      "  \u001b[1;39m}\u001b[0m\u001b[1;39m,\n",
      "  \u001b[0m\u001b[1;34m\"id\"\u001b[0m\u001b[1;39m: \u001b[0m\u001b[0;39m69420\u001b[0m\u001b[1;39m\n",
      "\u001b[1;39m}\u001b[0m\n"
     ]
    }
   ],
   "source": [
    "(curl -s -X POST $BASE_URL \\\n",
    "  -H \"Content-Type: application/json\" \\\n",
    "  -d @- <<END\n",
    "  {\n",
    "    \"jsonrpc\": \"2.0\",\n",
    "    \"id\": 69420,\n",
    "    \"method\": \"generateIntegerSequences\",\n",
    "    \"params\": {\n",
    "      \"apiKey\": \"$RANDOMORG_KEY\",\n",
    "      \"n\": 5,\n",
    "      \"min\": -10,\n",
    "      \"max\": 50,\n",
    "      \"length\": 3\n",
    "    }\n",
    "  }\n",
    "END\n",
    ") | jq"
   ]
  },
  {
   "cell_type": "markdown",
   "id": "50218d0f-ee7a-46be-98a2-f5828104d59b",
   "metadata": {},
   "source": [
    "Теперь `result.random.data` содержит список списков случайных чисел."
   ]
  },
  {
   "cell_type": "markdown",
   "id": "bcc38c45-64db-447a-bbbd-5f8e540b165d",
   "metadata": {},
   "source": [
    "## Использование"
   ]
  },
  {
   "cell_type": "markdown",
   "id": "05220803-1b99-4371-b2ff-e84f1658639d",
   "metadata": {},
   "source": [
    "### 1d6"
   ]
  },
  {
   "cell_type": "code",
   "execution_count": 9,
   "id": "d1acae42-2193-47c6-a355-4bdadb794a4a",
   "metadata": {
    "scrolled": true
   },
   "outputs": [
    {
     "name": "stdout",
     "output_type": "stream",
     "text": [
      "\u001b[0;39m4\u001b[0m\n"
     ]
    }
   ],
   "source": [
    "(curl -s -X POST $BASE_URL \\\n",
    "  -H \"Content-Type: application/json\" \\\n",
    "  -d @- <<END\n",
    "  {\n",
    "    \"jsonrpc\": \"2.0\",\n",
    "    \"id\": 69420,\n",
    "    \"method\": \"generateIntegers\",\n",
    "    \"params\": {\n",
    "      \"apiKey\": \"$RANDOMORG_KEY\",\n",
    "      \"n\": 1,\n",
    "      \"min\": 1,\n",
    "      \"max\": 6\n",
    "    }\n",
    "  }\n",
    "END\n",
    ") | jq '.result.random.data[0]'"
   ]
  },
  {
   "cell_type": "markdown",
   "id": "8b8114ab-b3b0-45b6-858b-971269418a78",
   "metadata": {},
   "source": [
    "### Подброс монеты"
   ]
  },
  {
   "cell_type": "markdown",
   "id": "42be4966-0cee-42b9-bf71-e599ec5983ec",
   "metadata": {},
   "source": [
    "- 1 -- орел\n",
    "- 0 -- решка"
   ]
  },
  {
   "cell_type": "code",
   "execution_count": 10,
   "id": "6e8b562c-c936-4289-b2ae-d03f5ff74b40",
   "metadata": {
    "scrolled": true
   },
   "outputs": [
    {
     "name": "stdout",
     "output_type": "stream",
     "text": [
      "\u001b[0;39m1\u001b[0m\n"
     ]
    }
   ],
   "source": [
    "(curl -s -X POST $BASE_URL \\\n",
    "  -H \"Content-Type: application/json\" \\\n",
    "  -d @- <<END\n",
    "  {\n",
    "    \"jsonrpc\": \"2.0\",\n",
    "    \"id\": 69420,\n",
    "    \"method\": \"generateIntegers\",\n",
    "    \"params\": {\n",
    "      \"apiKey\": \"$RANDOMORG_KEY\",\n",
    "      \"n\": 1,\n",
    "      \"min\": 0,\n",
    "      \"max\": 1\n",
    "    }\n",
    "  }\n",
    "END\n",
    ") | jq '.result.random.data[0]'"
   ]
  },
  {
   "cell_type": "markdown",
   "id": "cb583600-a64e-4b74-9f90-eaa74e3ab930",
   "metadata": {},
   "source": [
    "### 5 IPv4 адресов"
   ]
  },
  {
   "cell_type": "code",
   "execution_count": 11,
   "id": "2d0d5484-0c12-49e7-a553-bd42558fe032",
   "metadata": {},
   "outputs": [
    {
     "name": "stdout",
     "output_type": "stream",
     "text": [
      "\u001b[0;32m\"153.20.106.0\"\u001b[0m\n",
      "\u001b[0;32m\"119.88.89.108\"\u001b[0m\n",
      "\u001b[0;32m\"44.94.152.241\"\u001b[0m\n",
      "\u001b[0;32m\"95.37.73.30\"\u001b[0m\n",
      "\u001b[0;32m\"194.11.24.131\"\u001b[0m\n"
     ]
    }
   ],
   "source": [
    "(curl -s -X POST $BASE_URL \\\n",
    "  -H \"Content-Type: application/json\" \\\n",
    "  -d @- <<END\n",
    "  {\n",
    "    \"jsonrpc\": \"2.0\",\n",
    "    \"id\": 69420,\n",
    "    \"method\": \"generateIntegerSequences\",\n",
    "    \"params\": {\n",
    "      \"apiKey\": \"$RANDOMORG_KEY\",\n",
    "      \"n\": 5,\n",
    "      \"length\": 4,\n",
    "      \"min\": 0,\n",
    "      \"max\": 255 \n",
    "    }\n",
    "  }\n",
    "END\n",
    ") | jq '.result.random.data.[] | join(\".\")'"
   ]
  }
 ],
 "metadata": {
  "kernelspec": {
   "display_name": "Bash",
   "language": "bash",
   "name": "bash"
  },
  "language_info": {
   "codemirror_mode": "shell",
   "file_extension": ".sh",
   "mimetype": "text/x-sh",
   "name": "bash"
  }
 },
 "nbformat": 4,
 "nbformat_minor": 5
}
