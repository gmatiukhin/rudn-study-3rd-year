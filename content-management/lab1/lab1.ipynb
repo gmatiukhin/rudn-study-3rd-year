{
 "cells": [
  {
   "cell_type": "markdown",
   "id": "36692cd2-6dc7-4291-8b35-82bf754e553f",
   "metadata": {
    "jp-MarkdownHeadingCollapsed": true
   },
   "source": [
    "### РОССИЙСКИЙ УНИВЕРСИТЕТ ДРУЖБЫ НАРОДОВ\n",
    "\n",
    "#### Факультет физико-математических и естественных наук  "
   ]
  },
  {
   "cell_type": "markdown",
   "id": "73386a5b-37b7-403d-a996-0ef37a5a0d2b",
   "metadata": {},
   "source": [
    "## ОТЧЕТ ПО ЛАБОРАТОРНОЙ РАБОТЕ № 1\n",
    "\n",
    "\n",
    "### Дисциплина: Управление ИТ-сервисами и контентом"
   ]
  },
  {
   "cell_type": "markdown",
   "id": "fea70f56-3bb9-4438-8154-ee6a4beae954",
   "metadata": {},
   "source": [
    "##### Студент:  Матюхин Григорий Васильевич\n",
    "##### Группа:   НПИбд-01-21"
   ]
  },
  {
   "cell_type": "markdown",
   "id": "c390992d-9ba9-458f-bfc1-7e03c7bfe18c",
   "metadata": {},
   "source": [
    "## Москва 2024\n",
    "***"
   ]
  },
  {
   "cell_type": "markdown",
   "id": "0261fb82-2054-4377-b37d-1698b69b0407",
   "metadata": {},
   "source": [
    "# Введение"
   ]
  },
  {
   "cell_type": "markdown",
   "id": "32b58f7c-5993-4c98-828c-cda239cbcd52",
   "metadata": {},
   "source": [
    "Данная лабораторная работа посвящена HTTP запросам типа GET и POST, которые чаще всего\n",
    "используются в открытых API различных Web-сервисов. Для лучшего усвоения теоретического\n",
    "материала, необходимо вручную составить требуемые запросы и проинтерпретировать ответы,\n",
    "полученные от сервера."
   ]
  },
  {
   "cell_type": "markdown",
   "id": "15b506da-7266-44eb-9b5e-fecbd811817c",
   "metadata": {},
   "source": [
    "# Выполнение"
   ]
  },
  {
   "cell_type": "markdown",
   "id": "ec2df052-5179-4b6d-b55c-c7b20c84773c",
   "metadata": {},
   "source": [
    "В данной лабораторной работе я буду использовать `curl` для произведения Web-запросов,\n",
    "а также другие утилиты  `bash` чтобы парсить ответы."
   ]
  },
  {
   "cell_type": "markdown",
   "id": "de873bf1-ae36-41a7-a412-0432e4423e10",
   "metadata": {},
   "source": [
    "## GET запросы"
   ]
  },
  {
   "cell_type": "markdown",
   "id": "7c0667db-47f7-4824-ac36-08424824500e",
   "metadata": {},
   "source": [
    "Посылать все наши GET запросы будем на [https://httpbin.org/get](https://httpbin.org/get).\n",
    "Посмоторим, что он выдает просто так."
   ]
  },
  {
   "cell_type": "code",
   "execution_count": 1,
   "id": "1940f857-a252-4787-adf8-177516f743b8",
   "metadata": {},
   "outputs": [
    {
     "name": "stdout",
     "output_type": "stream",
     "text": [
      "\u001b[1;39m{\n",
      "  \u001b[0m\u001b[1;34m\"args\"\u001b[0m\u001b[1;39m: \u001b[0m\u001b[1;39m{}\u001b[0m\u001b[1;39m,\n",
      "  \u001b[0m\u001b[1;34m\"headers\"\u001b[0m\u001b[1;39m: \u001b[0m\u001b[1;39m{\n",
      "    \u001b[0m\u001b[1;34m\"Accept\"\u001b[0m\u001b[1;39m: \u001b[0m\u001b[0;32m\"*/*\"\u001b[0m\u001b[1;39m,\n",
      "    \u001b[0m\u001b[1;34m\"Host\"\u001b[0m\u001b[1;39m: \u001b[0m\u001b[0;32m\"httpbin.org\"\u001b[0m\u001b[1;39m,\n",
      "    \u001b[0m\u001b[1;34m\"User-Agent\"\u001b[0m\u001b[1;39m: \u001b[0m\u001b[0;32m\"curl/8.7.1\"\u001b[0m\u001b[1;39m,\n",
      "    \u001b[0m\u001b[1;34m\"X-Amzn-Trace-Id\"\u001b[0m\u001b[1;39m: \u001b[0m\u001b[0;32m\"Root=1-662975d5-35695aec208126bf1cd295b2\"\u001b[0m\u001b[1;39m\n",
      "  \u001b[1;39m}\u001b[0m\u001b[1;39m,\n",
      "  \u001b[0m\u001b[1;34m\"origin\"\u001b[0m\u001b[1;39m: \u001b[0m\u001b[0;32m\"134.0.107.154\"\u001b[0m\u001b[1;39m,\n",
      "  \u001b[0m\u001b[1;34m\"url\"\u001b[0m\u001b[1;39m: \u001b[0m\u001b[0;32m\"https://httpbin.org/get\"\u001b[0m\u001b[1;39m\n",
      "\u001b[1;39m}\u001b[0m\n"
     ]
    }
   ],
   "source": [
    "curl -X GET https://httpbin.org/get -s | jq"
   ]
  },
  {
   "cell_type": "markdown",
   "id": "c6d8346b-5d49-40c5-930e-cff6d1261928",
   "metadata": {},
   "source": [
    "Теперь составим GET запрос с параметрами. Для него выведем содержимое запроса (будет отмечено символом `>`), содержимое ответа (будет отмечено символом `<`) и сам ответ сервера."
   ]
  },
  {
   "cell_type": "code",
   "execution_count": 2,
   "id": "0399d3ba-b86e-4ef3-9587-c6c1f5a1c5d4",
   "metadata": {},
   "outputs": [
    {
     "name": "stdout",
     "output_type": "stream",
     "text": [
      "\u001b[0m\u001b[1m\u001b[31m>\u001b[0m GET /get?fname=Grigorii&lname=Matiukhin HTTP/2\n",
      "\u001b[0m\u001b[1m\u001b[31m>\u001b[0m Host: httpbin.org\n",
      "\u001b[0m\u001b[1m\u001b[31m>\u001b[0m User-Agent: curl/8.7.1\n",
      "\u001b[0m\u001b[1m\u001b[31m>\u001b[0m Accept: */*\n",
      "\u001b[0m\u001b[1m\u001b[31m>\u001b[0m \n",
      "\u001b[0m\u001b[1m\u001b[31m<\u001b[0m HTTP/2 200 \n",
      "\u001b[0m\u001b[1m\u001b[31m<\u001b[0m date: Wed, 24 Apr 2024 21:12:54 GMT\n",
      "\u001b[0m\u001b[1m\u001b[31m<\u001b[0m content-type: application/json\n",
      "\u001b[0m\u001b[1m\u001b[31m<\u001b[0m content-length: 339\n",
      "\u001b[0m\u001b[1m\u001b[31m<\u001b[0m server: gunicorn/19.9.0\n",
      "\u001b[0m\u001b[1m\u001b[31m<\u001b[0m access-control-allow-origin: *\n",
      "\u001b[0m\u001b[1m\u001b[31m<\u001b[0m access-control-allow-credentials: true\n",
      "\u001b[0m\u001b[1m\u001b[31m<\u001b[0m \n",
      "\u001b[1;39m{\n",
      "  \u001b[0m\u001b[1;34m\"args\"\u001b[0m\u001b[1;39m: \u001b[0m\u001b[1;39m{\n",
      "    \u001b[0m\u001b[1;34m\"fname\"\u001b[0m\u001b[1;39m: \u001b[0m\u001b[0;32m\"Grigorii\"\u001b[0m\u001b[1;39m,\n",
      "    \u001b[0m\u001b[1;34m\"lname\"\u001b[0m\u001b[1;39m: \u001b[0m\u001b[0;32m\"Matiukhin\"\u001b[0m\u001b[1;39m\n",
      "  \u001b[1;39m}\u001b[0m\u001b[1;39m,\n",
      "  \u001b[0m\u001b[1;34m\"headers\"\u001b[0m\u001b[1;39m: \u001b[0m\u001b[1;39m{\n",
      "    \u001b[0m\u001b[1;34m\"Accept\"\u001b[0m\u001b[1;39m: \u001b[0m\u001b[0;32m\"*/*\"\u001b[0m\u001b[1;39m,\n",
      "    \u001b[0m\u001b[1;34m\"Host\"\u001b[0m\u001b[1;39m: \u001b[0m\u001b[0;32m\"httpbin.org\"\u001b[0m\u001b[1;39m,\n",
      "    \u001b[0m\u001b[1;34m\"User-Agent\"\u001b[0m\u001b[1;39m: \u001b[0m\u001b[0;32m\"curl/8.7.1\"\u001b[0m\u001b[1;39m,\n",
      "    \u001b[0m\u001b[1;34m\"X-Amzn-Trace-Id\"\u001b[0m\u001b[1;39m: \u001b[0m\u001b[0;32m\"Root=1-662975d6-2da944917d5cfad20eaa5dc2\"\u001b[0m\u001b[1;39m\n",
      "  \u001b[1;39m}\u001b[0m\u001b[1;39m,\n",
      "  \u001b[0m\u001b[1;34m\"origin\"\u001b[0m\u001b[1;39m: \u001b[0m\u001b[0;32m\"134.0.107.154\"\u001b[0m\u001b[1;39m,\n",
      "  \u001b[0m\u001b[1;34m\"url\"\u001b[0m\u001b[1;39m: \u001b[0m\u001b[0;32m\"https://httpbin.org/get?fname=Grigorii&lname=Matiukhin\"\u001b[0m\u001b[1;39m\n",
      "\u001b[1;39m}\u001b[0m\n"
     ]
    }
   ],
   "source": [
    "curl -X GET \"https://httpbin.org/get?fname=Grigorii&lname=Matiukhin\" -sv \\\n",
    "  2> >(rg \"<|>\") > >(jq)"
   ]
  },
  {
   "cell_type": "markdown",
   "id": "45910acb-ee10-4200-b4ed-c99c5e76b5bf",
   "metadata": {},
   "source": [
    "Мы видим те же самые аргументы, которые мы подали в строке запроса, в теле JSON ответа.\n",
    "\n",
    "Опишем все заголовки, которые здесь присутствуют:\n",
    "- Запрос\n",
    "    - `Host` -- доменное имя сервера\n",
    "    - `User-Agent` -- какая программа посылает запрос (в данном случае `curl`)\n",
    "    - `Accept` -- какие типы данных можем получить в ответ (в данном случае все возможные)\n",
    "    - `X-Amzn-Trace-Id` -- заголовок, котоый мы сами не посылали. Его добавляет AWS Load Balances, на стороне httpbin.org, он нужен для отслеживания запросов в логах приложений\n",
    "- Ответ\n",
    "    - `date` -- дата\n",
    "    - `content-type` -- тип данный ответа (в данном случае JSON)\n",
    "    - `content-length` -- длинна данных ответа\n",
    "    - `server` -- что за программа отвечает на запросы\n",
    "    - `access-control-allow-origin` -- каким сайтам сервер доверяет, чтобы делится с ними ответом на запрос. Если сайт не включен в значение данного заголовка, то содержимое ответа для него не будет видно. (в данном случае разрешены все сайты)\n",
    "    - `access-control-allow-credentials` -- следует ли разрешать запросам на авторизацию из других сайтоы выполнятся (в данном случае следует)"
   ]
  },
  {
   "cell_type": "markdown",
   "id": "1d13ade1-0c2c-4ec4-af5c-f57c6de7bcbd",
   "metadata": {},
   "source": [
    "## POST запросы"
   ]
  },
  {
   "cell_type": "markdown",
   "id": "1aeea17b-e158-44e7-babd-b432a01d0b1c",
   "metadata": {},
   "source": [
    "Посмотрим на сам эндпоинт сначала"
   ]
  },
  {
   "cell_type": "code",
   "execution_count": 3,
   "id": "05534f03-ecf0-4fdd-b1bf-34066672ad31",
   "metadata": {},
   "outputs": [
    {
     "name": "stdout",
     "output_type": "stream",
     "text": [
      "\u001b[1;39m{\n",
      "  \u001b[0m\u001b[1;34m\"args\"\u001b[0m\u001b[1;39m: \u001b[0m\u001b[1;39m{}\u001b[0m\u001b[1;39m,\n",
      "  \u001b[0m\u001b[1;34m\"data\"\u001b[0m\u001b[1;39m: \u001b[0m\u001b[0;32m\"\"\u001b[0m\u001b[1;39m,\n",
      "  \u001b[0m\u001b[1;34m\"files\"\u001b[0m\u001b[1;39m: \u001b[0m\u001b[1;39m{}\u001b[0m\u001b[1;39m,\n",
      "  \u001b[0m\u001b[1;34m\"form\"\u001b[0m\u001b[1;39m: \u001b[0m\u001b[1;39m{\n",
      "    \u001b[0m\u001b[1;34m\"{}\"\u001b[0m\u001b[1;39m: \u001b[0m\u001b[0;32m\"\"\u001b[0m\u001b[1;39m\n",
      "  \u001b[1;39m}\u001b[0m\u001b[1;39m,\n",
      "  \u001b[0m\u001b[1;34m\"headers\"\u001b[0m\u001b[1;39m: \u001b[0m\u001b[1;39m{\n",
      "    \u001b[0m\u001b[1;34m\"Accept\"\u001b[0m\u001b[1;39m: \u001b[0m\u001b[0;32m\"*/*\"\u001b[0m\u001b[1;39m,\n",
      "    \u001b[0m\u001b[1;34m\"Content-Length\"\u001b[0m\u001b[1;39m: \u001b[0m\u001b[0;32m\"2\"\u001b[0m\u001b[1;39m,\n",
      "    \u001b[0m\u001b[1;34m\"Content-Type\"\u001b[0m\u001b[1;39m: \u001b[0m\u001b[0;32m\"application/x-www-form-urlencoded\"\u001b[0m\u001b[1;39m,\n",
      "    \u001b[0m\u001b[1;34m\"Host\"\u001b[0m\u001b[1;39m: \u001b[0m\u001b[0;32m\"httpbin.org\"\u001b[0m\u001b[1;39m,\n",
      "    \u001b[0m\u001b[1;34m\"User-Agent\"\u001b[0m\u001b[1;39m: \u001b[0m\u001b[0;32m\"curl/8.7.1\"\u001b[0m\u001b[1;39m,\n",
      "    \u001b[0m\u001b[1;34m\"X-Amzn-Trace-Id\"\u001b[0m\u001b[1;39m: \u001b[0m\u001b[0;32m\"Root=1-662975d6-6e1eb4082fe137b91d95c6cd\"\u001b[0m\u001b[1;39m\n",
      "  \u001b[1;39m}\u001b[0m\u001b[1;39m,\n",
      "  \u001b[0m\u001b[1;34m\"json\"\u001b[0m\u001b[1;39m: \u001b[0m\u001b[0;90mnull\u001b[0m\u001b[1;39m,\n",
      "  \u001b[0m\u001b[1;34m\"origin\"\u001b[0m\u001b[1;39m: \u001b[0m\u001b[0;32m\"134.0.107.154\"\u001b[0m\u001b[1;39m,\n",
      "  \u001b[0m\u001b[1;34m\"url\"\u001b[0m\u001b[1;39m: \u001b[0m\u001b[0;32m\"https://httpbin.org/post\"\u001b[0m\u001b[1;39m\n",
      "\u001b[1;39m}\u001b[0m\n"
     ]
    }
   ],
   "source": [
    "curl -X POST https://httpbin.org/post -s -d {} | jq"
   ]
  },
  {
   "cell_type": "markdown",
   "id": "a0af2959-e2fe-4ed7-837f-fb8d75557ed9",
   "metadata": {},
   "source": [
    "### Параметры веб-формы"
   ]
  },
  {
   "cell_type": "markdown",
   "id": "d5c3a975-1e6f-462a-970d-c7b318d77ae0",
   "metadata": {},
   "source": [
    "Отправим наши параметры как поля веб-формы. Для этого можно установить заголовок `Content-Type: application/x-www-form-urlencoded`, а можно и не устанавливать.\n",
    "`curl` ставит его сам для POST запросов по-умолчанию.\n",
    "\n",
    "Сравним это на следующих запросах:"
   ]
  },
  {
   "cell_type": "code",
   "execution_count": 4,
   "id": "f43284dc-dc0b-4a71-8651-2b4f351dfcb4",
   "metadata": {},
   "outputs": [
    {
     "name": "stdout",
     "output_type": "stream",
     "text": [
      "\u001b[0m\u001b[1m\u001b[31m>\u001b[0m POST /post HTTP/2\n",
      "\u001b[0m\u001b[1m\u001b[31m>\u001b[0m Host: httpbin.org\n",
      "\u001b[0m\u001b[1m\u001b[31m>\u001b[0m User-Agent: curl/8.7.1\n",
      "\u001b[0m\u001b[1m\u001b[31m>\u001b[0m Accept: */*\n",
      "\u001b[0m\u001b[1m\u001b[31m>\u001b[0m Content-Type: application/x-www-form-urlencoded\n",
      "\u001b[0m\u001b[1m\u001b[31m>\u001b[0m Content-Length: 48\n",
      "\u001b[0m\u001b[1m\u001b[31m>\u001b[0m \n"
     ]
    }
   ],
   "source": [
    "curl -X POST https://httpbin.org/post \\\n",
    "  -H \"Content-Type: application/x-www-form-urlencoded\" \\\n",
    "  -d \"fname=Grigorii&lname=Matiukhin&stdnum=1032211403\" -sv \\\n",
    "  2> >(rg \">\") > /dev/null"
   ]
  },
  {
   "cell_type": "code",
   "execution_count": 5,
   "id": "084b03b0",
   "metadata": {},
   "outputs": [
    {
     "name": "stdout",
     "output_type": "stream",
     "text": [
      "\u001b[0m\u001b[1m\u001b[31m>\u001b[0m POST /post HTTP/2\n",
      "\u001b[0m\u001b[1m\u001b[31m>\u001b[0m Host: httpbin.org\n",
      "\u001b[0m\u001b[1m\u001b[31m>\u001b[0m User-Agent: curl/8.7.1\n",
      "\u001b[0m\u001b[1m\u001b[31m>\u001b[0m Accept: */*\n",
      "\u001b[0m\u001b[1m\u001b[31m>\u001b[0m Content-Length: 48\n",
      "\u001b[0m\u001b[1m\u001b[31m>\u001b[0m Content-Type: application/x-www-form-urlencoded\n",
      "\u001b[0m\u001b[1m\u001b[31m>\u001b[0m \n"
     ]
    }
   ],
   "source": [
    "curl -X POST https://httpbin.org/post \\\n",
    "  -d \"fname=Grigorii&lname=Matiukhin&stdnum=1032211403\" -sv \\\n",
    "  2> >(rg \">\") > /dev/null"
   ]
  },
  {
   "cell_type": "markdown",
   "id": "a5167d38-ce34-430e-b0c2-8194da8f5b79",
   "metadata": {},
   "source": [
    "Теперь посмотрим на ответ:"
   ]
  },
  {
   "cell_type": "code",
   "execution_count": 6,
   "id": "d668dfba",
   "metadata": {},
   "outputs": [
    {
     "name": "stdout",
     "output_type": "stream",
     "text": [
      "\u001b[1;39m{\n",
      "  \u001b[0m\u001b[1;34m\"args\"\u001b[0m\u001b[1;39m: \u001b[0m\u001b[1;39m{}\u001b[0m\u001b[1;39m,\n",
      "  \u001b[0m\u001b[1;34m\"data\"\u001b[0m\u001b[1;39m: \u001b[0m\u001b[0;32m\"\"\u001b[0m\u001b[1;39m,\n",
      "  \u001b[0m\u001b[1;34m\"files\"\u001b[0m\u001b[1;39m: \u001b[0m\u001b[1;39m{}\u001b[0m\u001b[1;39m,\n",
      "  \u001b[0m\u001b[1;34m\"form\"\u001b[0m\u001b[1;39m: \u001b[0m\u001b[1;39m{\n",
      "    \u001b[0m\u001b[1;34m\"fname\"\u001b[0m\u001b[1;39m: \u001b[0m\u001b[0;32m\"Grigorii\"\u001b[0m\u001b[1;39m,\n",
      "    \u001b[0m\u001b[1;34m\"lname\"\u001b[0m\u001b[1;39m: \u001b[0m\u001b[0;32m\"Matiukhin\"\u001b[0m\u001b[1;39m,\n",
      "    \u001b[0m\u001b[1;34m\"stdnum\"\u001b[0m\u001b[1;39m: \u001b[0m\u001b[0;32m\"1032211403\"\u001b[0m\u001b[1;39m\n",
      "  \u001b[1;39m}\u001b[0m\u001b[1;39m,\n",
      "  \u001b[0m\u001b[1;34m\"headers\"\u001b[0m\u001b[1;39m: \u001b[0m\u001b[1;39m{\n",
      "    \u001b[0m\u001b[1;34m\"Accept\"\u001b[0m\u001b[1;39m: \u001b[0m\u001b[0;32m\"*/*\"\u001b[0m\u001b[1;39m,\n",
      "    \u001b[0m\u001b[1;34m\"Content-Length\"\u001b[0m\u001b[1;39m: \u001b[0m\u001b[0;32m\"48\"\u001b[0m\u001b[1;39m,\n",
      "    \u001b[0m\u001b[1;34m\"Content-Type\"\u001b[0m\u001b[1;39m: \u001b[0m\u001b[0;32m\"application/x-www-form-urlencoded\"\u001b[0m\u001b[1;39m,\n",
      "    \u001b[0m\u001b[1;34m\"Host\"\u001b[0m\u001b[1;39m: \u001b[0m\u001b[0;32m\"httpbin.org\"\u001b[0m\u001b[1;39m,\n",
      "    \u001b[0m\u001b[1;34m\"User-Agent\"\u001b[0m\u001b[1;39m: \u001b[0m\u001b[0;32m\"curl/8.7.1\"\u001b[0m\u001b[1;39m,\n",
      "    \u001b[0m\u001b[1;34m\"X-Amzn-Trace-Id\"\u001b[0m\u001b[1;39m: \u001b[0m\u001b[0;32m\"Root=1-662975d8-7ebcec33283bb6324e6c0713\"\u001b[0m\u001b[1;39m\n",
      "  \u001b[1;39m}\u001b[0m\u001b[1;39m,\n",
      "  \u001b[0m\u001b[1;34m\"json\"\u001b[0m\u001b[1;39m: \u001b[0m\u001b[0;90mnull\u001b[0m\u001b[1;39m,\n",
      "  \u001b[0m\u001b[1;34m\"origin\"\u001b[0m\u001b[1;39m: \u001b[0m\u001b[0;32m\"134.0.107.154\"\u001b[0m\u001b[1;39m,\n",
      "  \u001b[0m\u001b[1;34m\"url\"\u001b[0m\u001b[1;39m: \u001b[0m\u001b[0;32m\"https://httpbin.org/post\"\u001b[0m\u001b[1;39m\n",
      "\u001b[1;39m}\u001b[0m\n"
     ]
    }
   ],
   "source": [
    "curl -X POST https://httpbin.org/post \\\n",
    "  -H \"Content-Type: application/x-www-form-urlencoded\" \\\n",
    "  -d \"fname=Grigorii&lname=Matiukhin&stdnum=1032211403\" -s | jq"
   ]
  },
  {
   "cell_type": "markdown",
   "id": "dd62cfc2-4921-4de7-baac-0b473fd4dd1d",
   "metadata": {},
   "source": [
    "Сервер правильно понял, какие данные мы отправляли и извлек их из формы."
   ]
  },
  {
   "cell_type": "markdown",
   "id": "d6a9b34a-aa72-47e1-b9f4-200d38db1f56",
   "metadata": {},
   "source": [
    "### Параметры как JSON"
   ]
  },
  {
   "cell_type": "markdown",
   "id": "a7d5e0eb-a54f-4c82-95b3-2860e09b22cf",
   "metadata": {},
   "source": [
    "Теперь поробуем передать наши данные как JSON. Для этого нам нужно установить заголовок: `Content-Type: application/json`."
   ]
  },
  {
   "cell_type": "code",
   "execution_count": 7,
   "id": "eefaa79c-2177-4c9a-9943-e73f5aa2a841",
   "metadata": {},
   "outputs": [
    {
     "name": "stdout",
     "output_type": "stream",
     "text": [
      "\u001b[1;39m{\n",
      "  \u001b[0m\u001b[1;34m\"args\"\u001b[0m\u001b[1;39m: \u001b[0m\u001b[1;39m{}\u001b[0m\u001b[1;39m,\n",
      "  \u001b[0m\u001b[1;34m\"data\"\u001b[0m\u001b[1;39m: \u001b[0m\u001b[0;32m\"{\\\"fname\\\": \\\"Grigorii\\\", \\\"lname\\\": \\\"Matiukhin\\\", \\\"stdnum\\\": 1032211403}\"\u001b[0m\u001b[1;39m,\n",
      "  \u001b[0m\u001b[1;34m\"files\"\u001b[0m\u001b[1;39m: \u001b[0m\u001b[1;39m{}\u001b[0m\u001b[1;39m,\n",
      "  \u001b[0m\u001b[1;34m\"form\"\u001b[0m\u001b[1;39m: \u001b[0m\u001b[1;39m{}\u001b[0m\u001b[1;39m,\n",
      "  \u001b[0m\u001b[1;34m\"headers\"\u001b[0m\u001b[1;39m: \u001b[0m\u001b[1;39m{\n",
      "    \u001b[0m\u001b[1;34m\"Accept\"\u001b[0m\u001b[1;39m: \u001b[0m\u001b[0;32m\"*/*\"\u001b[0m\u001b[1;39m,\n",
      "    \u001b[0m\u001b[1;34m\"Content-Length\"\u001b[0m\u001b[1;39m: \u001b[0m\u001b[0;32m\"65\"\u001b[0m\u001b[1;39m,\n",
      "    \u001b[0m\u001b[1;34m\"Content-Type\"\u001b[0m\u001b[1;39m: \u001b[0m\u001b[0;32m\"application/json\"\u001b[0m\u001b[1;39m,\n",
      "    \u001b[0m\u001b[1;34m\"Host\"\u001b[0m\u001b[1;39m: \u001b[0m\u001b[0;32m\"httpbin.org\"\u001b[0m\u001b[1;39m,\n",
      "    \u001b[0m\u001b[1;34m\"User-Agent\"\u001b[0m\u001b[1;39m: \u001b[0m\u001b[0;32m\"curl/8.7.1\"\u001b[0m\u001b[1;39m,\n",
      "    \u001b[0m\u001b[1;34m\"X-Amzn-Trace-Id\"\u001b[0m\u001b[1;39m: \u001b[0m\u001b[0;32m\"Root=1-662975d9-0c0d3c5e41e8937f4ef674db\"\u001b[0m\u001b[1;39m\n",
      "  \u001b[1;39m}\u001b[0m\u001b[1;39m,\n",
      "  \u001b[0m\u001b[1;34m\"json\"\u001b[0m\u001b[1;39m: \u001b[0m\u001b[1;39m{\n",
      "    \u001b[0m\u001b[1;34m\"fname\"\u001b[0m\u001b[1;39m: \u001b[0m\u001b[0;32m\"Grigorii\"\u001b[0m\u001b[1;39m,\n",
      "    \u001b[0m\u001b[1;34m\"lname\"\u001b[0m\u001b[1;39m: \u001b[0m\u001b[0;32m\"Matiukhin\"\u001b[0m\u001b[1;39m,\n",
      "    \u001b[0m\u001b[1;34m\"stdnum\"\u001b[0m\u001b[1;39m: \u001b[0m\u001b[0;39m1032211403\u001b[0m\u001b[1;39m\n",
      "  \u001b[1;39m}\u001b[0m\u001b[1;39m,\n",
      "  \u001b[0m\u001b[1;34m\"origin\"\u001b[0m\u001b[1;39m: \u001b[0m\u001b[0;32m\"134.0.107.154\"\u001b[0m\u001b[1;39m,\n",
      "  \u001b[0m\u001b[1;34m\"url\"\u001b[0m\u001b[1;39m: \u001b[0m\u001b[0;32m\"https://httpbin.org/post\"\u001b[0m\u001b[1;39m\n",
      "\u001b[1;39m}\u001b[0m\n"
     ]
    }
   ],
   "source": [
    "curl -X POST https://httpbin.org/post \\\n",
    "  -H \"Content-Type: application/json\" \\\n",
    "  -d '{\"fname\": \"Grigorii\", \"lname\": \"Matiukhin\", \"stdnum\": 1032211403}' -s | jq"
   ]
  },
  {
   "cell_type": "markdown",
   "id": "0bd90475-f83d-4a83-92d3-5efcce9fa830",
   "metadata": {},
   "source": [
    "И в этот раз сервер понял наши намерения и извлек данные из JSON тела запроса."
   ]
  },
  {
   "cell_type": "markdown",
   "id": "5cfe19f8-18c0-49c5-85b0-4d9a17393ca6",
   "metadata": {},
   "source": [
    "# Вывод"
   ]
  },
  {
   "cell_type": "markdown",
   "id": "a4ecc8d5-579e-4c95-8505-b7d49855c388",
   "metadata": {},
   "source": [
    "В данной лабораторной работе мы смогли отправить базовые HTTP-запросы на веб-сервер."
   ]
  }
 ],
 "metadata": {
  "kernelspec": {
   "display_name": "Bash",
   "language": "bash",
   "name": "bash"
  },
  "language_info": {
   "codemirror_mode": "shell",
   "file_extension": ".sh",
   "mimetype": "text/x-sh",
   "name": "bash"
  }
 },
 "nbformat": 4,
 "nbformat_minor": 5
}
