{
 "cells": [
  {
   "cell_type": "markdown",
   "id": "a68ade50-9a94-4797-9a29-bdc8bda76849",
   "metadata": {},
   "source": [
    "### РОССИЙСКИЙ УНИВЕРСИТЕТ ДРУЖБЫ НАРОДОВ\n",
    "\n",
    "#### Факультет физико-математических и естественных наук  "
   ]
  },
  {
   "cell_type": "markdown",
   "id": "74944f8c-495d-4837-892c-7fe178661023",
   "metadata": {},
   "source": [
    "## ОТЧЕТ ПО ЛАБОРАТОРНОЙ РАБОТЕ № 4\n",
    "\n",
    "\n",
    "### Дисциплина: Управление ИТ-сервисами и контентом"
   ]
  },
  {
   "cell_type": "markdown",
   "id": "b07a0027-32e3-4245-8e99-dcf7ea5ca6e6",
   "metadata": {},
   "source": [
    "##### Студент:  Матюхин Григорий Васильевич\n",
    "##### Группа:   НПИбд-01-21"
   ]
  },
  {
   "cell_type": "markdown",
   "id": "e442cf96-2ba7-4db2-afa2-9289439a0a68",
   "metadata": {},
   "source": [
    "## Москва 2024\n",
    "***"
   ]
  },
  {
   "cell_type": "markdown",
   "id": "7bc7f106-4fd1-4aa6-8b5a-2413b697bd58",
   "metadata": {},
   "source": [
    "# Введение"
   ]
  },
  {
   "cell_type": "markdown",
   "id": "4597c219-770b-4426-b870-d468c02d94d9",
   "metadata": {},
   "source": [
    "В данной лабораторной работе необходимо для какого-либо метода из лабораторной №3 составить JSON схему, описывающую все возможности метода. JSON схема должна быть составлена и для объекта, который посылается в запросе и для объекта, который приходит в ответе от сервера. Правильность схемы проверьте с помощью валидатора, например https://jsonschemavalidator.net"
   ]
  },
  {
   "cell_type": "markdown",
   "id": "1faaf1ac-6f9e-4a42-962c-2d0e5d5b2954",
   "metadata": {},
   "source": [
    "# Выполнение"
   ]
  },
  {
   "cell_type": "markdown",
   "id": "1625a5aa-197b-447b-ac55-ff98d786148f",
   "metadata": {},
   "source": [
    "Для данной лабораторной работы мной был выбран метод `photos.createAlbum`. Этот метод хорош тем, что его ответы имеют вложенные схемы и мы можем это протестировать.\n",
    "\n",
    "Сохраним наши схемы и тесты для них в файлы. Тестировать будем с помощью утилиты `check-jsonschema`."
   ]
  },
  {
   "cell_type": "markdown",
   "id": "5fd7654a-4334-4981-8976-b0c037bc54ac",
   "metadata": {},
   "source": [
    "## Запрос"
   ]
  },
  {
   "cell_type": "code",
   "execution_count": 1,
   "id": "f3c86716-b360-406e-8690-5b59c1aded15",
   "metadata": {
    "scrolled": true
   },
   "outputs": [
    {
     "name": "stdout",
     "output_type": "stream",
     "text": [
      "\u001b[1;39m{\n",
      "  \u001b[0m\u001b[1;34m\"$schema\"\u001b[0m\u001b[1;39m: \u001b[0m\u001b[0;32m\"https://json-schema.org/draft/2020-12/schema\"\u001b[0m\u001b[1;39m,\n",
      "  \u001b[0m\u001b[1;34m\"type\"\u001b[0m\u001b[1;39m: \u001b[0m\u001b[0;32m\"object\"\u001b[0m\u001b[1;39m,\n",
      "  \u001b[0m\u001b[1;34m\"properties\"\u001b[0m\u001b[1;39m: \u001b[0m\u001b[1;39m{\n",
      "    \u001b[0m\u001b[1;34m\"v\"\u001b[0m\u001b[1;39m: \u001b[0m\u001b[1;39m{\n",
      "      \u001b[0m\u001b[1;34m\"type\"\u001b[0m\u001b[1;39m: \u001b[0m\u001b[0;32m\"string\"\u001b[0m\u001b[1;39m,\n",
      "      \u001b[0m\u001b[1;34m\"description\"\u001b[0m\u001b[1;39m: \u001b[0m\u001b[0;32m\"Версия используемого API\"\u001b[0m\u001b[1;39m,\n",
      "      \u001b[0m\u001b[1;34m\"const\"\u001b[0m\u001b[1;39m: \u001b[0m\u001b[0;32m\"5.199\"\u001b[0m\u001b[1;39m\n",
      "    \u001b[1;39m}\u001b[0m\u001b[1;39m,\n",
      "    \u001b[0m\u001b[1;34m\"access_token\"\u001b[0m\u001b[1;39m: \u001b[0m\u001b[1;39m{\n",
      "      \u001b[0m\u001b[1;34m\"type\"\u001b[0m\u001b[1;39m: \u001b[0m\u001b[0;32m\"string\"\u001b[0m\u001b[1;39m,\n",
      "      \u001b[0m\u001b[1;34m\"description\"\u001b[0m\u001b[1;39m: \u001b[0m\u001b[0;32m\"Токен доступа (должен быть пользовательский)\"\u001b[0m\u001b[1;39m\n",
      "    \u001b[1;39m}\u001b[0m\u001b[1;39m,\n",
      "    \u001b[0m\u001b[1;34m\"title\"\u001b[0m\u001b[1;39m: \u001b[0m\u001b[1;39m{\n",
      "      \u001b[0m\u001b[1;34m\"description\"\u001b[0m\u001b[1;39m: \u001b[0m\u001b[0;32m\"Album title.\"\u001b[0m\u001b[1;39m,\n",
      "      \u001b[0m\u001b[1;34m\"type\"\u001b[0m\u001b[1;39m: \u001b[0m\u001b[0;32m\"string\"\u001b[0m\u001b[1;39m,\n",
      "      \u001b[0m\u001b[1;34m\"minLength\"\u001b[0m\u001b[1;39m: \u001b[0m\u001b[0;39m1\u001b[0m\u001b[1;39m\n",
      "    \u001b[1;39m}\u001b[0m\u001b[1;39m,\n",
      "    \u001b[0m\u001b[1;34m\"group_id\"\u001b[0m\u001b[1;39m: \u001b[0m\u001b[1;39m{\n",
      "      \u001b[0m\u001b[1;34m\"description\"\u001b[0m\u001b[1;39m: \u001b[0m\u001b[0;32m\"ID of the community in which the album will be created.\"\u001b[0m\u001b[1;39m,\n",
      "      \u001b[0m\u001b[1;34m\"type\"\u001b[0m\u001b[1;39m: \u001b[0m\u001b[0;32m\"integer\"\u001b[0m\u001b[1;39m,\n",
      "      \u001b[0m\u001b[1;34m\"format\"\u001b[0m\u001b[1;39m: \u001b[0m\u001b[0;32m\"int64\"\u001b[0m\u001b[1;39m,\n",
      "      \u001b[0m\u001b[1;34m\"entity\"\u001b[0m\u001b[1;39m: \u001b[0m\u001b[0;32m\"owner\"\u001b[0m\u001b[1;39m\n",
      "    \u001b[1;39m}\u001b[0m\u001b[1;39m,\n",
      "    \u001b[0m\u001b[1;34m\"description\"\u001b[0m\u001b[1;39m: \u001b[0m\u001b[1;39m{\n",
      "      \u001b[0m\u001b[1;34m\"description\"\u001b[0m\u001b[1;39m: \u001b[0m\u001b[0;32m\"Album description.\"\u001b[0m\u001b[1;39m,\n",
      "      \u001b[0m\u001b[1;34m\"type\"\u001b[0m\u001b[1;39m: \u001b[0m\u001b[0;32m\"string\"\u001b[0m\u001b[1;39m\n",
      "    \u001b[1;39m}\u001b[0m\u001b[1;39m,\n",
      "    \u001b[0m\u001b[1;34m\"privacy_view\"\u001b[0m\u001b[1;39m: \u001b[0m\u001b[1;39m{\n",
      "      \u001b[0m\u001b[1;34m\"type\"\u001b[0m\u001b[1;39m: \u001b[0m\u001b[0;32m\"array\"\u001b[0m\u001b[1;39m,\n",
      "      \u001b[0m\u001b[1;34m\"default\"\u001b[0m\u001b[1;39m: \u001b[0m\u001b[0;32m\"all\"\u001b[0m\u001b[1;39m,\n",
      "      \u001b[0m\u001b[1;34m\"items\"\u001b[0m\u001b[1;39m: \u001b[0m\u001b[1;39m{\n",
      "        \u001b[0m\u001b[1;34m\"type\"\u001b[0m\u001b[1;39m: \u001b[0m\u001b[0;32m\"string\"\u001b[0m\u001b[1;39m\n",
      "      \u001b[1;39m}\u001b[0m\u001b[1;39m\n",
      "    \u001b[1;39m}\u001b[0m\u001b[1;39m,\n",
      "    \u001b[0m\u001b[1;34m\"privacy_comment\"\u001b[0m\u001b[1;39m: \u001b[0m\u001b[1;39m{\n",
      "      \u001b[0m\u001b[1;34m\"type\"\u001b[0m\u001b[1;39m: \u001b[0m\u001b[0;32m\"array\"\u001b[0m\u001b[1;39m,\n",
      "      \u001b[0m\u001b[1;34m\"default\"\u001b[0m\u001b[1;39m: \u001b[0m\u001b[0;32m\"all\"\u001b[0m\u001b[1;39m,\n",
      "      \u001b[0m\u001b[1;34m\"items\"\u001b[0m\u001b[1;39m: \u001b[0m\u001b[1;39m{\n",
      "        \u001b[0m\u001b[1;34m\"type\"\u001b[0m\u001b[1;39m: \u001b[0m\u001b[0;32m\"string\"\u001b[0m\u001b[1;39m\n",
      "      \u001b[1;39m}\u001b[0m\u001b[1;39m\n",
      "    \u001b[1;39m}\u001b[0m\u001b[1;39m,\n",
      "    \u001b[0m\u001b[1;34m\"upload_by_admins_only\"\u001b[0m\u001b[1;39m: \u001b[0m\u001b[1;39m{\n",
      "      \u001b[0m\u001b[1;34m\"type\"\u001b[0m\u001b[1;39m: \u001b[0m\u001b[0;32m\"boolean\"\u001b[0m\u001b[1;39m\n",
      "    \u001b[1;39m}\u001b[0m\u001b[1;39m,\n",
      "    \u001b[0m\u001b[1;34m\"comments_disabled\"\u001b[0m\u001b[1;39m: \u001b[0m\u001b[1;39m{\n",
      "      \u001b[0m\u001b[1;34m\"type\"\u001b[0m\u001b[1;39m: \u001b[0m\u001b[0;32m\"boolean\"\u001b[0m\u001b[1;39m\n",
      "    \u001b[1;39m}\u001b[0m\u001b[1;39m\n",
      "  \u001b[1;39m}\u001b[0m\u001b[1;39m,\n",
      "  \u001b[0m\u001b[1;34m\"required\"\u001b[0m\u001b[1;39m: \u001b[0m\u001b[1;39m[\n",
      "    \u001b[0;32m\"v\"\u001b[0m\u001b[1;39m,\n",
      "    \u001b[0;32m\"access_token\"\u001b[0m\u001b[1;39m,\n",
      "    \u001b[0;32m\"title\"\u001b[0m\u001b[1;39m\n",
      "  \u001b[1;39m]\u001b[0m\u001b[1;39m\n",
      "\u001b[1;39m}\u001b[0m\n"
     ]
    }
   ],
   "source": [
    "cat ./schema/photos.createAlbum.json | jq"
   ]
  },
  {
   "cell_type": "markdown",
   "id": "07bbf799-38f4-4fe8-9134-5266dd130a8c",
   "metadata": {},
   "source": [
    "### Тесты"
   ]
  },
  {
   "cell_type": "markdown",
   "id": "d3a6966f-ec5e-4824-b8be-cd72f2d6df40",
   "metadata": {},
   "source": [
    "Минимальный запрос"
   ]
  },
  {
   "cell_type": "code",
   "execution_count": 2,
   "id": "1f8ee51c-dad3-4a0d-9309-a8f618638a75",
   "metadata": {
    "scrolled": true
   },
   "outputs": [
    {
     "name": "stdout",
     "output_type": "stream",
     "text": [
      "\u001b[1;39m{\n",
      "  \u001b[0m\u001b[1;34m\"v\"\u001b[0m\u001b[1;39m: \u001b[0m\u001b[0;32m\"5.199\"\u001b[0m\u001b[1;39m,\n",
      "  \u001b[0m\u001b[1;34m\"access_token\"\u001b[0m\u001b[1;39m: \u001b[0m\u001b[0;32m\"supersecret\"\u001b[0m\u001b[1;39m,\n",
      "  \u001b[0m\u001b[1;34m\"title\"\u001b[0m\u001b[1;39m: \u001b[0m\u001b[0;32m\"My album title\"\u001b[0m\u001b[1;39m\n",
      "\u001b[1;39m}\u001b[0m\n"
     ]
    }
   ],
   "source": [
    "cat ./tests/minimal_req.json | jq"
   ]
  },
  {
   "cell_type": "code",
   "execution_count": 3,
   "id": "422bb975-4587-4105-a0d0-5dbcd1ea2989",
   "metadata": {
    "scrolled": true
   },
   "outputs": [
    {
     "name": "stdout",
     "output_type": "stream",
     "text": [
      "\u001b[32mok\u001b[0m -- validation done\n"
     ]
    }
   ],
   "source": [
    "check-jsonschema ./tests/minimal_req.json \\\n",
    "--schemafile ./schema/photos.createAlbum.json \\\n",
    "--base-uri \"$(pwd)/schema/\""
   ]
  },
  {
   "cell_type": "markdown",
   "id": "ede7cedd-a264-4777-8f31-6107266302ce",
   "metadata": {},
   "source": [
    "Минимальный плохой запрос"
   ]
  },
  {
   "cell_type": "code",
   "execution_count": 4,
   "id": "e80cd49b-2324-4d1c-82c0-0e97e906d00d",
   "metadata": {
    "scrolled": true
   },
   "outputs": [
    {
     "name": "stdout",
     "output_type": "stream",
     "text": [
      "\u001b[1;39m{\n",
      "  \u001b[0m\u001b[1;34m\"v\"\u001b[0m\u001b[1;39m: \u001b[0m\u001b[0;32m\"5.199\"\u001b[0m\u001b[1;39m,\n",
      "  \u001b[0m\u001b[1;34m\"title\"\u001b[0m\u001b[1;39m: \u001b[0m\u001b[0;32m\"My album title\"\u001b[0m\u001b[1;39m\n",
      "\u001b[1;39m}\u001b[0m\n"
     ]
    }
   ],
   "source": [
    "cat ./tests/bad_req.json | jq"
   ]
  },
  {
   "cell_type": "code",
   "execution_count": 5,
   "id": "e13f88e9-1e44-43b3-9b1e-45ed623dadde",
   "metadata": {
    "scrolled": true
   },
   "outputs": [
    {
     "name": "stdout",
     "output_type": "stream",
     "text": [
      "Schema validation errors were encountered.\n",
      "  \u001b[33m./tests/bad_req.json::$\u001b[0m: 'access_token' is a required property\n"
     ]
    },
    {
     "ename": "",
     "evalue": "1",
     "output_type": "error",
     "traceback": []
    }
   ],
   "source": [
    "check-jsonschema ./tests/bad_req.json \\\n",
    "--schemafile ./schema/photos.createAlbum.json \\\n",
    "--base-uri \"$(pwd)/schema/\""
   ]
  },
  {
   "cell_type": "markdown",
   "id": "96a10a63-a426-47d2-9cf9-cee6ed07f434",
   "metadata": {},
   "source": [
    "Плохой тип ключа"
   ]
  },
  {
   "cell_type": "code",
   "execution_count": 6,
   "id": "6b010ad3-98d6-4425-a172-38c4ca9ba069",
   "metadata": {},
   "outputs": [
    {
     "name": "stdout",
     "output_type": "stream",
     "text": [
      "\u001b[1;39m{\n",
      "  \u001b[0m\u001b[1;34m\"v\"\u001b[0m\u001b[1;39m: \u001b[0m\u001b[0;39m5\u001b[0m\u001b[1;39m,\n",
      "  \u001b[0m\u001b[1;34m\"access_token\"\u001b[0m\u001b[1;39m: \u001b[0m\u001b[0;32m\"supersecret\"\u001b[0m\u001b[1;39m,\n",
      "  \u001b[0m\u001b[1;34m\"title\"\u001b[0m\u001b[1;39m: \u001b[0m\u001b[0;32m\"My album title\"\u001b[0m\u001b[1;39m\n",
      "\u001b[1;39m}\u001b[0m\n"
     ]
    }
   ],
   "source": [
    "cat ./tests/bad_req_type.json | jq"
   ]
  },
  {
   "cell_type": "code",
   "execution_count": 7,
   "id": "aea6da37-0fe1-4ae4-b38a-943f3a87dbde",
   "metadata": {},
   "outputs": [
    {
     "name": "stdout",
     "output_type": "stream",
     "text": [
      "Schema validation errors were encountered.\n",
      "  \u001b[33m./tests/bad_req_type.json::$.v\u001b[0m: 5 is not of type 'string'\n",
      "  \u001b[33m./tests/bad_req_type.json::$.v\u001b[0m: '5.199' was expected\n"
     ]
    },
    {
     "ename": "",
     "evalue": "1",
     "output_type": "error",
     "traceback": []
    }
   ],
   "source": [
    "check-jsonschema ./tests/bad_req_type.json \\\n",
    "--schemafile ./schema/photos.createAlbum.json \\\n",
    "--base-uri \"$(pwd)/schema/\""
   ]
  },
  {
   "cell_type": "markdown",
   "id": "30cdb4bd-faf7-482f-8044-85695a0f90c5",
   "metadata": {},
   "source": [
    "Большой запрос"
   ]
  },
  {
   "cell_type": "code",
   "execution_count": 8,
   "id": "e8ce4a9e-bd56-49df-ae0e-1aef275c2b00",
   "metadata": {},
   "outputs": [
    {
     "name": "stdout",
     "output_type": "stream",
     "text": [
      "\u001b[1;39m{\n",
      "  \u001b[0m\u001b[1;34m\"v\"\u001b[0m\u001b[1;39m: \u001b[0m\u001b[0;32m\"5.199\"\u001b[0m\u001b[1;39m,\n",
      "  \u001b[0m\u001b[1;34m\"access_token\"\u001b[0m\u001b[1;39m: \u001b[0m\u001b[0;32m\"supersecret\"\u001b[0m\u001b[1;39m,\n",
      "  \u001b[0m\u001b[1;34m\"title\"\u001b[0m\u001b[1;39m: \u001b[0m\u001b[0;32m\"My album title\"\u001b[0m\u001b[1;39m,\n",
      "  \u001b[0m\u001b[1;34m\"group_id\"\u001b[0m\u001b[1;39m: \u001b[0m\u001b[0;39m2123\u001b[0m\u001b[1;39m,\n",
      "  \u001b[0m\u001b[1;34m\"description\"\u001b[0m\u001b[1;39m: \u001b[0m\u001b[0;32m\"Photos of me\"\u001b[0m\u001b[1;39m,\n",
      "  \u001b[0m\u001b[1;34m\"privacy_view\"\u001b[0m\u001b[1;39m: \u001b[0m\u001b[1;39m[\n",
      "    \u001b[0;32m\"me\"\u001b[0m\u001b[1;39m,\n",
      "    \u001b[0;32m\"you\"\u001b[0m\u001b[1;39m\n",
      "  \u001b[1;39m]\u001b[0m\u001b[1;39m\n",
      "\u001b[1;39m}\u001b[0m\n"
     ]
    }
   ],
   "source": [
    "cat ./tests/complex_req.json | jq"
   ]
  },
  {
   "cell_type": "code",
   "execution_count": 9,
   "id": "8c51f74c-5aa0-488c-8ae1-54fd5fd6408b",
   "metadata": {},
   "outputs": [
    {
     "name": "stdout",
     "output_type": "stream",
     "text": [
      "\u001b[32mok\u001b[0m -- validation done\n"
     ]
    }
   ],
   "source": [
    "check-jsonschema ./tests/complex_req.json \\\n",
    "--schemafile ./schema/photos.createAlbum.json \\\n",
    "--base-uri \"$(pwd)/schema/\""
   ]
  },
  {
   "cell_type": "markdown",
   "id": "d387df40-ebaf-49c4-8c58-3bca2df8bbf0",
   "metadata": {},
   "source": [
    "## Ответ"
   ]
  },
  {
   "cell_type": "markdown",
   "id": "548b3fd0-7100-4424-8fb3-16d0b99af7bc",
   "metadata": {},
   "source": [
    "Ответ состоит из нескольких вложенных частей. На самом деле `full_album` можно вложить в `response`, но для болшей общности (так как все данные и для других методов подаются в ключе `response`) я решил оставить его отдельно."
   ]
  },
  {
   "cell_type": "code",
   "execution_count": 10,
   "id": "309a360a-bf43-4b84-bf01-991fefe420fb",
   "metadata": {},
   "outputs": [
    {
     "name": "stdout",
     "output_type": "stream",
     "text": [
      "\u001b[1;39m{\n",
      "  \u001b[0m\u001b[1;34m\"$schema\"\u001b[0m\u001b[1;39m: \u001b[0m\u001b[0;32m\"https://json-schema.org/draft/2020-12/schema\"\u001b[0m\u001b[1;39m,\n",
      "  \u001b[0m\u001b[1;34m\"type\"\u001b[0m\u001b[1;39m: \u001b[0m\u001b[0;32m\"object\"\u001b[0m\u001b[1;39m,\n",
      "  \u001b[0m\u001b[1;34m\"properties\"\u001b[0m\u001b[1;39m: \u001b[0m\u001b[1;39m{\n",
      "    \u001b[0m\u001b[1;34m\"response\"\u001b[0m\u001b[1;39m: \u001b[0m\u001b[1;39m{\n",
      "      \u001b[0m\u001b[1;34m\"$ref\"\u001b[0m\u001b[1;39m: \u001b[0m\u001b[0;32m\"full_album.json\"\u001b[0m\u001b[1;39m\n",
      "    \u001b[1;39m}\u001b[0m\u001b[1;39m\n",
      "  \u001b[1;39m}\u001b[0m\u001b[1;39m,\n",
      "  \u001b[0m\u001b[1;34m\"required\"\u001b[0m\u001b[1;39m: \u001b[0m\u001b[1;39m[\n",
      "    \u001b[0;32m\"response\"\u001b[0m\u001b[1;39m\n",
      "  \u001b[1;39m]\u001b[0m\u001b[1;39m\n",
      "\u001b[1;39m}\u001b[0m\n"
     ]
    }
   ],
   "source": [
    "cat ./schema/response.json | jq"
   ]
  },
  {
   "cell_type": "code",
   "execution_count": 11,
   "id": "0b99a68a-b217-4771-94e7-da4ee1a19de2",
   "metadata": {
    "scrolled": true
   },
   "outputs": [
    {
     "name": "stdout",
     "output_type": "stream",
     "text": [
      "\u001b[1;39m{\n",
      "  \u001b[0m\u001b[1;34m\"$schema\"\u001b[0m\u001b[1;39m: \u001b[0m\u001b[0;32m\"https://json-schema.org/draft/2020-12/schema\"\u001b[0m\u001b[1;39m,\n",
      "  \u001b[0m\u001b[1;34m\"type\"\u001b[0m\u001b[1;39m: \u001b[0m\u001b[0;32m\"object\"\u001b[0m\u001b[1;39m,\n",
      "  \u001b[0m\u001b[1;34m\"properties\"\u001b[0m\u001b[1;39m: \u001b[0m\u001b[1;39m{\n",
      "    \u001b[0m\u001b[1;34m\"can_upload\"\u001b[0m\u001b[1;39m: \u001b[0m\u001b[1;39m{\n",
      "      \u001b[0m\u001b[1;34m\"description\"\u001b[0m\u001b[1;39m: \u001b[0m\u001b[0;32m\"Information whether current user can upload photo to the album\"\u001b[0m\u001b[1;39m,\n",
      "      \u001b[0m\u001b[1;34m\"type\"\u001b[0m\u001b[1;39m: \u001b[0m\u001b[0;32m\"boolean\"\u001b[0m\u001b[1;39m\n",
      "    \u001b[1;39m}\u001b[0m\u001b[1;39m,\n",
      "    \u001b[0m\u001b[1;34m\"comments_disabled\"\u001b[0m\u001b[1;39m: \u001b[0m\u001b[1;39m{\n",
      "      \u001b[0m\u001b[1;34m\"description\"\u001b[0m\u001b[1;39m: \u001b[0m\u001b[0;32m\"Information whether album comments are disabled\"\u001b[0m\u001b[1;39m,\n",
      "      \u001b[0m\u001b[1;34m\"type\"\u001b[0m\u001b[1;39m: \u001b[0m\u001b[0;32m\"boolean\"\u001b[0m\u001b[1;39m\n",
      "    \u001b[1;39m}\u001b[0m\u001b[1;39m,\n",
      "    \u001b[0m\u001b[1;34m\"created\"\u001b[0m\u001b[1;39m: \u001b[0m\u001b[1;39m{\n",
      "      \u001b[0m\u001b[1;34m\"type\"\u001b[0m\u001b[1;39m: \u001b[0m\u001b[0;32m\"integer\"\u001b[0m\u001b[1;39m,\n",
      "      \u001b[0m\u001b[1;34m\"description\"\u001b[0m\u001b[1;39m: \u001b[0m\u001b[0;32m\"Date when the album has been created in Unixtime, not set for system albums\"\u001b[0m\u001b[1;39m,\n",
      "      \u001b[0m\u001b[1;34m\"minimum\"\u001b[0m\u001b[1;39m: \u001b[0m\u001b[0;39m0\u001b[0m\u001b[1;39m\n",
      "    \u001b[1;39m}\u001b[0m\u001b[1;39m,\n",
      "    \u001b[0m\u001b[1;34m\"description\"\u001b[0m\u001b[1;39m: \u001b[0m\u001b[1;39m{\n",
      "      \u001b[0m\u001b[1;34m\"type\"\u001b[0m\u001b[1;39m: \u001b[0m\u001b[0;32m\"string\"\u001b[0m\u001b[1;39m,\n",
      "      \u001b[0m\u001b[1;34m\"description\"\u001b[0m\u001b[1;39m: \u001b[0m\u001b[0;32m\"Photo album description\"\u001b[0m\u001b[1;39m\n",
      "    \u001b[1;39m}\u001b[0m\u001b[1;39m,\n",
      "    \u001b[0m\u001b[1;34m\"can_delete\"\u001b[0m\u001b[1;39m: \u001b[0m\u001b[1;39m{\n",
      "      \u001b[0m\u001b[1;34m\"type\"\u001b[0m\u001b[1;39m: \u001b[0m\u001b[0;32m\"boolean\"\u001b[0m\u001b[1;39m,\n",
      "      \u001b[0m\u001b[1;34m\"description\"\u001b[0m\u001b[1;39m: \u001b[0m\u001b[0;32m\"album can delete\"\u001b[0m\u001b[1;39m\n",
      "    \u001b[1;39m}\u001b[0m\u001b[1;39m,\n",
      "    \u001b[0m\u001b[1;34m\"id\"\u001b[0m\u001b[1;39m: \u001b[0m\u001b[1;39m{\n",
      "      \u001b[0m\u001b[1;34m\"type\"\u001b[0m\u001b[1;39m: \u001b[0m\u001b[0;32m\"integer\"\u001b[0m\u001b[1;39m,\n",
      "      \u001b[0m\u001b[1;34m\"description\"\u001b[0m\u001b[1;39m: \u001b[0m\u001b[0;32m\"Photo album ID\"\u001b[0m\u001b[1;39m\n",
      "    \u001b[1;39m}\u001b[0m\u001b[1;39m,\n",
      "    \u001b[0m\u001b[1;34m\"can_include_to_feed\"\u001b[0m\u001b[1;39m: \u001b[0m\u001b[1;39m{\n",
      "      \u001b[0m\u001b[1;34m\"type\"\u001b[0m\u001b[1;39m: \u001b[0m\u001b[0;32m\"boolean\"\u001b[0m\u001b[1;39m,\n",
      "      \u001b[0m\u001b[1;34m\"description\"\u001b[0m\u001b[1;39m: \u001b[0m\u001b[0;32m\"album can be selected to feed\"\u001b[0m\u001b[1;39m\n",
      "    \u001b[1;39m}\u001b[0m\u001b[1;39m,\n",
      "    \u001b[0m\u001b[1;34m\"is_locked\"\u001b[0m\u001b[1;39m: \u001b[0m\u001b[1;39m{\n",
      "      \u001b[0m\u001b[1;34m\"type\"\u001b[0m\u001b[1;39m: \u001b[0m\u001b[0;32m\"boolean\"\u001b[0m\u001b[1;39m,\n",
      "      \u001b[0m\u001b[1;34m\"description\"\u001b[0m\u001b[1;39m: \u001b[0m\u001b[0;32m\"Need show privacy lock at album\"\u001b[0m\u001b[1;39m\n",
      "    \u001b[1;39m}\u001b[0m\u001b[1;39m,\n",
      "    \u001b[0m\u001b[1;34m\"owner_id\"\u001b[0m\u001b[1;39m: \u001b[0m\u001b[1;39m{\n",
      "      \u001b[0m\u001b[1;34m\"type\"\u001b[0m\u001b[1;39m: \u001b[0m\u001b[0;32m\"integer\"\u001b[0m\u001b[1;39m,\n",
      "      \u001b[0m\u001b[1;34m\"description\"\u001b[0m\u001b[1;39m: \u001b[0m\u001b[0;32m\"Album owner's ID\"\u001b[0m\u001b[1;39m,\n",
      "      \u001b[0m\u001b[1;34m\"entity\"\u001b[0m\u001b[1;39m: \u001b[0m\u001b[0;32m\"owner\"\u001b[0m\u001b[1;39m,\n",
      "      \u001b[0m\u001b[1;34m\"format\"\u001b[0m\u001b[1;39m: \u001b[0m\u001b[0;32m\"int64\"\u001b[0m\u001b[1;39m\n",
      "    \u001b[1;39m}\u001b[0m\u001b[1;39m,\n",
      "    \u001b[0m\u001b[1;34m\"size\"\u001b[0m\u001b[1;39m: \u001b[0m\u001b[1;39m{\n",
      "      \u001b[0m\u001b[1;34m\"type\"\u001b[0m\u001b[1;39m: \u001b[0m\u001b[0;32m\"integer\"\u001b[0m\u001b[1;39m,\n",
      "      \u001b[0m\u001b[1;34m\"description\"\u001b[0m\u001b[1;39m: \u001b[0m\u001b[0;32m\"Photos number\"\u001b[0m\u001b[1;39m,\n",
      "      \u001b[0m\u001b[1;34m\"minimum\"\u001b[0m\u001b[1;39m: \u001b[0m\u001b[0;39m0\u001b[0m\u001b[1;39m\n",
      "    \u001b[1;39m}\u001b[0m\u001b[1;39m,\n",
      "    \u001b[0m\u001b[1;34m\"sizes\"\u001b[0m\u001b[1;39m: \u001b[0m\u001b[1;39m{\n",
      "      \u001b[0m\u001b[1;34m\"type\"\u001b[0m\u001b[1;39m: \u001b[0m\u001b[0;32m\"array\"\u001b[0m\u001b[1;39m,\n",
      "      \u001b[0m\u001b[1;34m\"items\"\u001b[0m\u001b[1;39m: \u001b[0m\u001b[1;39m{\n",
      "        \u001b[0m\u001b[1;34m\"$ref\"\u001b[0m\u001b[1;39m: \u001b[0m\u001b[0;32m\"photo_sizes.json\"\u001b[0m\u001b[1;39m\n",
      "      \u001b[1;39m}\u001b[0m\u001b[1;39m\n",
      "    \u001b[1;39m}\u001b[0m\u001b[1;39m,\n",
      "    \u001b[0m\u001b[1;34m\"thumb_id\"\u001b[0m\u001b[1;39m: \u001b[0m\u001b[1;39m{\n",
      "      \u001b[0m\u001b[1;34m\"type\"\u001b[0m\u001b[1;39m: \u001b[0m\u001b[0;32m\"integer\"\u001b[0m\u001b[1;39m,\n",
      "      \u001b[0m\u001b[1;34m\"description\"\u001b[0m\u001b[1;39m: \u001b[0m\u001b[0;32m\"Thumb photo ID\"\u001b[0m\u001b[1;39m,\n",
      "      \u001b[0m\u001b[1;34m\"minimum\"\u001b[0m\u001b[1;39m: \u001b[0m\u001b[0;39m0\u001b[0m\u001b[1;39m\n",
      "    \u001b[1;39m}\u001b[0m\u001b[1;39m,\n",
      "    \u001b[0m\u001b[1;34m\"thumb_is_last\"\u001b[0m\u001b[1;39m: \u001b[0m\u001b[1;39m{\n",
      "      \u001b[0m\u001b[1;34m\"description\"\u001b[0m\u001b[1;39m: \u001b[0m\u001b[0;32m\"Information whether the album thumb is last photo\"\u001b[0m\u001b[1;39m,\n",
      "      \u001b[0m\u001b[1;34m\"type\"\u001b[0m\u001b[1;39m: \u001b[0m\u001b[0;32m\"boolean\"\u001b[0m\u001b[1;39m\n",
      "    \u001b[1;39m}\u001b[0m\u001b[1;39m,\n",
      "    \u001b[0m\u001b[1;34m\"thumb_src\"\u001b[0m\u001b[1;39m: \u001b[0m\u001b[1;39m{\n",
      "      \u001b[0m\u001b[1;34m\"type\"\u001b[0m\u001b[1;39m: \u001b[0m\u001b[0;32m\"string\"\u001b[0m\u001b[1;39m,\n",
      "      \u001b[0m\u001b[1;34m\"format\"\u001b[0m\u001b[1;39m: \u001b[0m\u001b[0;32m\"uri\"\u001b[0m\u001b[1;39m,\n",
      "      \u001b[0m\u001b[1;34m\"description\"\u001b[0m\u001b[1;39m: \u001b[0m\u001b[0;32m\"URL of the thumb image\"\u001b[0m\u001b[1;39m\n",
      "    \u001b[1;39m}\u001b[0m\u001b[1;39m,\n",
      "    \u001b[0m\u001b[1;34m\"title\"\u001b[0m\u001b[1;39m: \u001b[0m\u001b[1;39m{\n",
      "      \u001b[0m\u001b[1;34m\"type\"\u001b[0m\u001b[1;39m: \u001b[0m\u001b[0;32m\"string\"\u001b[0m\u001b[1;39m,\n",
      "      \u001b[0m\u001b[1;34m\"description\"\u001b[0m\u001b[1;39m: \u001b[0m\u001b[0;32m\"Photo album title\"\u001b[0m\u001b[1;39m\n",
      "    \u001b[1;39m}\u001b[0m\u001b[1;39m,\n",
      "    \u001b[0m\u001b[1;34m\"updated\"\u001b[0m\u001b[1;39m: \u001b[0m\u001b[1;39m{\n",
      "      \u001b[0m\u001b[1;34m\"type\"\u001b[0m\u001b[1;39m: \u001b[0m\u001b[0;32m\"integer\"\u001b[0m\u001b[1;39m,\n",
      "      \u001b[0m\u001b[1;34m\"description\"\u001b[0m\u001b[1;39m: \u001b[0m\u001b[0;32m\"Date when the album has been updated last time in Unixtime, not set for system albums\"\u001b[0m\u001b[1;39m,\n",
      "      \u001b[0m\u001b[1;34m\"minimum\"\u001b[0m\u001b[1;39m: \u001b[0m\u001b[0;39m0\u001b[0m\u001b[1;39m\n",
      "    \u001b[1;39m}\u001b[0m\u001b[1;39m,\n",
      "    \u001b[0m\u001b[1;34m\"upload_by_admins_only\"\u001b[0m\u001b[1;39m: \u001b[0m\u001b[1;39m{\n",
      "      \u001b[0m\u001b[1;34m\"description\"\u001b[0m\u001b[1;39m: \u001b[0m\u001b[0;32m\"Information whether only community administrators can upload photos\"\u001b[0m\u001b[1;39m,\n",
      "      \u001b[0m\u001b[1;34m\"type\"\u001b[0m\u001b[1;39m: \u001b[0m\u001b[0;32m\"boolean\"\u001b[0m\u001b[1;39m\n",
      "    \u001b[1;39m}\u001b[0m\u001b[1;39m\n",
      "  \u001b[1;39m}\u001b[0m\u001b[1;39m,\n",
      "  \u001b[0m\u001b[1;34m\"required\"\u001b[0m\u001b[1;39m: \u001b[0m\u001b[1;39m[\n",
      "    \u001b[0;32m\"title\"\u001b[0m\u001b[1;39m,\n",
      "    \u001b[0;32m\"id\"\u001b[0m\u001b[1;39m,\n",
      "    \u001b[0;32m\"owner_id\"\u001b[0m\u001b[1;39m,\n",
      "    \u001b[0;32m\"size\"\u001b[0m\u001b[1;39m\n",
      "  \u001b[1;39m]\u001b[0m\u001b[1;39m\n",
      "\u001b[1;39m}\u001b[0m\n"
     ]
    }
   ],
   "source": [
    "cat ./schema/full_album.json | jq"
   ]
  },
  {
   "cell_type": "code",
   "execution_count": 12,
   "id": "4e1ea0dc-5384-4e68-9576-3a1288c1e306",
   "metadata": {
    "scrolled": true
   },
   "outputs": [
    {
     "name": "stdout",
     "output_type": "stream",
     "text": [
      "\u001b[1;39m{\n",
      "  \u001b[0m\u001b[1;34m\"$schema\"\u001b[0m\u001b[1;39m: \u001b[0m\u001b[0;32m\"https://json-schema.org/draft/2020-12/schema\"\u001b[0m\u001b[1;39m,\n",
      "  \u001b[0m\u001b[1;34m\"type\"\u001b[0m\u001b[1;39m: \u001b[0m\u001b[0;32m\"object\"\u001b[0m\u001b[1;39m,\n",
      "  \u001b[0m\u001b[1;34m\"properties\"\u001b[0m\u001b[1;39m: \u001b[0m\u001b[1;39m{\n",
      "    \u001b[0m\u001b[1;34m\"height\"\u001b[0m\u001b[1;39m: \u001b[0m\u001b[1;39m{\n",
      "      \u001b[0m\u001b[1;34m\"type\"\u001b[0m\u001b[1;39m: \u001b[0m\u001b[0;32m\"integer\"\u001b[0m\u001b[1;39m,\n",
      "      \u001b[0m\u001b[1;34m\"description\"\u001b[0m\u001b[1;39m: \u001b[0m\u001b[0;32m\"Height in px\"\u001b[0m\u001b[1;39m,\n",
      "      \u001b[0m\u001b[1;34m\"minimum\"\u001b[0m\u001b[1;39m: \u001b[0m\u001b[0;39m0\u001b[0m\u001b[1;39m\n",
      "    \u001b[1;39m}\u001b[0m\u001b[1;39m,\n",
      "    \u001b[0m\u001b[1;34m\"url\"\u001b[0m\u001b[1;39m: \u001b[0m\u001b[1;39m{\n",
      "      \u001b[0m\u001b[1;34m\"type\"\u001b[0m\u001b[1;39m: \u001b[0m\u001b[0;32m\"string\"\u001b[0m\u001b[1;39m,\n",
      "      \u001b[0m\u001b[1;34m\"format\"\u001b[0m\u001b[1;39m: \u001b[0m\u001b[0;32m\"uri\"\u001b[0m\u001b[1;39m,\n",
      "      \u001b[0m\u001b[1;34m\"description\"\u001b[0m\u001b[1;39m: \u001b[0m\u001b[0;32m\"URL of the image\"\u001b[0m\u001b[1;39m\n",
      "    \u001b[1;39m}\u001b[0m\u001b[1;39m,\n",
      "    \u001b[0m\u001b[1;34m\"src\"\u001b[0m\u001b[1;39m: \u001b[0m\u001b[1;39m{\n",
      "      \u001b[0m\u001b[1;34m\"type\"\u001b[0m\u001b[1;39m: \u001b[0m\u001b[0;32m\"string\"\u001b[0m\u001b[1;39m,\n",
      "      \u001b[0m\u001b[1;34m\"format\"\u001b[0m\u001b[1;39m: \u001b[0m\u001b[0;32m\"uri\"\u001b[0m\u001b[1;39m,\n",
      "      \u001b[0m\u001b[1;34m\"description\"\u001b[0m\u001b[1;39m: \u001b[0m\u001b[0;32m\"URL of the image\"\u001b[0m\u001b[1;39m\n",
      "    \u001b[1;39m}\u001b[0m\u001b[1;39m,\n",
      "    \u001b[0m\u001b[1;34m\"type\"\u001b[0m\u001b[1;39m: \u001b[0m\u001b[1;39m{\n",
      "      \u001b[0m\u001b[1;34m\"type\"\u001b[0m\u001b[1;39m: \u001b[0m\u001b[0;32m\"string\"\u001b[0m\u001b[1;39m,\n",
      "      \u001b[0m\u001b[1;34m\"description\"\u001b[0m\u001b[1;39m: \u001b[0m\u001b[0;32m\"Size type\"\u001b[0m\u001b[1;39m,\n",
      "      \u001b[0m\u001b[1;34m\"enum\"\u001b[0m\u001b[1;39m: \u001b[0m\u001b[1;39m[\n",
      "        \u001b[0;32m\"t\"\u001b[0m\u001b[1;39m,\n",
      "        \u001b[0;32m\"s\"\u001b[0m\u001b[1;39m,\n",
      "        \u001b[0;32m\"m\"\u001b[0m\u001b[1;39m,\n",
      "        \u001b[0;32m\"x\"\u001b[0m\u001b[1;39m,\n",
      "        \u001b[0;32m\"o\"\u001b[0m\u001b[1;39m,\n",
      "        \u001b[0;32m\"p\"\u001b[0m\u001b[1;39m,\n",
      "        \u001b[0;32m\"q\"\u001b[0m\u001b[1;39m,\n",
      "        \u001b[0;32m\"r\"\u001b[0m\u001b[1;39m,\n",
      "        \u001b[0;32m\"k\"\u001b[0m\u001b[1;39m,\n",
      "        \u001b[0;32m\"l\"\u001b[0m\u001b[1;39m,\n",
      "        \u001b[0;32m\"y\"\u001b[0m\u001b[1;39m,\n",
      "        \u001b[0;32m\"z\"\u001b[0m\u001b[1;39m,\n",
      "        \u001b[0;32m\"c\"\u001b[0m\u001b[1;39m,\n",
      "        \u001b[0;32m\"w\"\u001b[0m\u001b[1;39m,\n",
      "        \u001b[0;32m\"a\"\u001b[0m\u001b[1;39m,\n",
      "        \u001b[0;32m\"b\"\u001b[0m\u001b[1;39m,\n",
      "        \u001b[0;32m\"e\"\u001b[0m\u001b[1;39m,\n",
      "        \u001b[0;32m\"i\"\u001b[0m\u001b[1;39m,\n",
      "        \u001b[0;32m\"d\"\u001b[0m\u001b[1;39m,\n",
      "        \u001b[0;32m\"j\"\u001b[0m\u001b[1;39m,\n",
      "        \u001b[0;32m\"temp\"\u001b[0m\u001b[1;39m,\n",
      "        \u001b[0;32m\"h\"\u001b[0m\u001b[1;39m,\n",
      "        \u001b[0;32m\"g\"\u001b[0m\u001b[1;39m,\n",
      "        \u001b[0;32m\"n\"\u001b[0m\u001b[1;39m,\n",
      "        \u001b[0;32m\"f\"\u001b[0m\u001b[1;39m,\n",
      "        \u001b[0;32m\"max\"\u001b[0m\u001b[1;39m,\n",
      "        \u001b[0;32m\"base\"\u001b[0m\u001b[1;39m,\n",
      "        \u001b[0;32m\"u\"\u001b[0m\u001b[1;39m,\n",
      "        \u001b[0;32m\"v\"\u001b[0m\u001b[1;39m,\n",
      "        \u001b[0;32m\"orig\"\u001b[0m\u001b[1;39m\n",
      "      \u001b[1;39m]\u001b[0m\u001b[1;39m\n",
      "    \u001b[1;39m}\u001b[0m\u001b[1;39m,\n",
      "    \u001b[0m\u001b[1;34m\"width\"\u001b[0m\u001b[1;39m: \u001b[0m\u001b[1;39m{\n",
      "      \u001b[0m\u001b[1;34m\"type\"\u001b[0m\u001b[1;39m: \u001b[0m\u001b[0;32m\"integer\"\u001b[0m\u001b[1;39m,\n",
      "      \u001b[0m\u001b[1;34m\"description\"\u001b[0m\u001b[1;39m: \u001b[0m\u001b[0;32m\"Width in px\"\u001b[0m\u001b[1;39m,\n",
      "      \u001b[0m\u001b[1;34m\"minimum\"\u001b[0m\u001b[1;39m: \u001b[0m\u001b[0;39m0\u001b[0m\u001b[1;39m\n",
      "    \u001b[1;39m}\u001b[0m\u001b[1;39m\n",
      "  \u001b[1;39m}\u001b[0m\u001b[1;39m,\n",
      "  \u001b[0m\u001b[1;34m\"required\"\u001b[0m\u001b[1;39m: \u001b[0m\u001b[1;39m[\n",
      "    \u001b[0;32m\"height\"\u001b[0m\u001b[1;39m,\n",
      "    \u001b[0;32m\"type\"\u001b[0m\u001b[1;39m,\n",
      "    \u001b[0;32m\"width\"\u001b[0m\u001b[1;39m\n",
      "  \u001b[1;39m]\u001b[0m\u001b[1;39m\n",
      "\u001b[1;39m}\u001b[0m\n"
     ]
    }
   ],
   "source": [
    "cat ./schema/photo_sizes.json | jq"
   ]
  },
  {
   "cell_type": "markdown",
   "id": "40c31684-32da-44d4-8f10-c11aa84868c9",
   "metadata": {},
   "source": [
    "### Тесты"
   ]
  },
  {
   "cell_type": "markdown",
   "id": "6f32e4b8-ec4d-44df-b567-fdc85dc6ce84",
   "metadata": {},
   "source": [
    "Минимальный ответ"
   ]
  },
  {
   "cell_type": "code",
   "execution_count": 13,
   "id": "c3676101-1d7e-4be8-83e7-7cafaedf788b",
   "metadata": {},
   "outputs": [
    {
     "name": "stdout",
     "output_type": "stream",
     "text": [
      "\u001b[1;39m{\n",
      "  \u001b[0m\u001b[1;34m\"response\"\u001b[0m\u001b[1;39m: \u001b[0m\u001b[1;39m{\n",
      "    \u001b[0m\u001b[1;34m\"title\"\u001b[0m\u001b[1;39m: \u001b[0m\u001b[0;32m\"My album title\"\u001b[0m\u001b[1;39m,\n",
      "    \u001b[0m\u001b[1;34m\"id\"\u001b[0m\u001b[1;39m: \u001b[0m\u001b[0;39m12345\u001b[0m\u001b[1;39m,\n",
      "    \u001b[0m\u001b[1;34m\"owner_id\"\u001b[0m\u001b[1;39m: \u001b[0m\u001b[0;39m123456\u001b[0m\u001b[1;39m,\n",
      "    \u001b[0m\u001b[1;34m\"size\"\u001b[0m\u001b[1;39m: \u001b[0m\u001b[0;39m1\u001b[0m\u001b[1;39m\n",
      "  \u001b[1;39m}\u001b[0m\u001b[1;39m\n",
      "\u001b[1;39m}\u001b[0m\n"
     ]
    }
   ],
   "source": [
    "cat ./tests/minimal_resp.json | jq"
   ]
  },
  {
   "cell_type": "code",
   "execution_count": 14,
   "id": "40d82f1b-25b4-49a9-b303-8615a2deb38d",
   "metadata": {},
   "outputs": [
    {
     "name": "stdout",
     "output_type": "stream",
     "text": [
      "\u001b[32mok\u001b[0m -- validation done\n"
     ]
    }
   ],
   "source": [
    "check-jsonschema ./tests/minimal_resp.json \\\n",
    "--schemafile ./schema/response.json \\\n",
    "--base-uri \"$(pwd)/schema/\""
   ]
  },
  {
   "cell_type": "markdown",
   "id": "1f21df6e-07de-4f65-8419-70e60a850206",
   "metadata": {},
   "source": [
    "Минимальный плохой ответ"
   ]
  },
  {
   "cell_type": "code",
   "execution_count": 15,
   "id": "b46e7d6b-ec12-4c65-82cc-433d0f2a9142",
   "metadata": {},
   "outputs": [
    {
     "name": "stdout",
     "output_type": "stream",
     "text": [
      "\u001b[1;39m{\n",
      "  \u001b[0m\u001b[1;34m\"response\"\u001b[0m\u001b[1;39m: \u001b[0m\u001b[1;39m{\n",
      "    \u001b[0m\u001b[1;34m\"id\"\u001b[0m\u001b[1;39m: \u001b[0m\u001b[0;39m12345\u001b[0m\u001b[1;39m,\n",
      "    \u001b[0m\u001b[1;34m\"owner_id\"\u001b[0m\u001b[1;39m: \u001b[0m\u001b[0;39m123456\u001b[0m\u001b[1;39m,\n",
      "    \u001b[0m\u001b[1;34m\"size\"\u001b[0m\u001b[1;39m: \u001b[0m\u001b[0;39m1\u001b[0m\u001b[1;39m\n",
      "  \u001b[1;39m}\u001b[0m\u001b[1;39m\n",
      "\u001b[1;39m}\u001b[0m\n"
     ]
    }
   ],
   "source": [
    "cat ./tests/bad_resp.json | jq"
   ]
  },
  {
   "cell_type": "code",
   "execution_count": 16,
   "id": "ae27a3bd-4fff-45b6-9d50-e4ec41a29502",
   "metadata": {},
   "outputs": [
    {
     "name": "stdout",
     "output_type": "stream",
     "text": [
      "Schema validation errors were encountered.\n",
      "  \u001b[33m./tests/bad_resp.json::$.response\u001b[0m: 'title' is a required property\n"
     ]
    },
    {
     "ename": "",
     "evalue": "1",
     "output_type": "error",
     "traceback": []
    }
   ],
   "source": [
    "check-jsonschema ./tests/bad_resp.json \\\n",
    "--schemafile ./schema/response.json \\\n",
    "--base-uri \"$(pwd)/schema/\""
   ]
  },
  {
   "cell_type": "markdown",
   "id": "de395be2-b896-4d00-a04d-d76abe5b8c45",
   "metadata": {},
   "source": [
    "Сложный запрос"
   ]
  },
  {
   "cell_type": "code",
   "execution_count": 17,
   "id": "16a37cc2-72c0-47d4-8aaa-dbe4187933ee",
   "metadata": {},
   "outputs": [
    {
     "name": "stdout",
     "output_type": "stream",
     "text": [
      "\u001b[1;39m{\n",
      "  \u001b[0m\u001b[1;34m\"response\"\u001b[0m\u001b[1;39m: \u001b[0m\u001b[1;39m{\n",
      "    \u001b[0m\u001b[1;34m\"title\"\u001b[0m\u001b[1;39m: \u001b[0m\u001b[0;32m\"My album title\"\u001b[0m\u001b[1;39m,\n",
      "    \u001b[0m\u001b[1;34m\"id\"\u001b[0m\u001b[1;39m: \u001b[0m\u001b[0;39m12345\u001b[0m\u001b[1;39m,\n",
      "    \u001b[0m\u001b[1;34m\"owner_id\"\u001b[0m\u001b[1;39m: \u001b[0m\u001b[0;39m123456\u001b[0m\u001b[1;39m,\n",
      "    \u001b[0m\u001b[1;34m\"size\"\u001b[0m\u001b[1;39m: \u001b[0m\u001b[0;39m1\u001b[0m\u001b[1;39m,\n",
      "    \u001b[0m\u001b[1;34m\"can_upload\"\u001b[0m\u001b[1;39m: \u001b[0m\u001b[0;39mtrue\u001b[0m\u001b[1;39m,\n",
      "    \u001b[0m\u001b[1;34m\"created\"\u001b[0m\u001b[1;39m: \u001b[0m\u001b[0;39m0\u001b[0m\u001b[1;39m,\n",
      "    \u001b[0m\u001b[1;34m\"can_include_to_feed\"\u001b[0m\u001b[1;39m: \u001b[0m\u001b[0;39mfalse\u001b[0m\u001b[1;39m\n",
      "  \u001b[1;39m}\u001b[0m\u001b[1;39m\n",
      "\u001b[1;39m}\u001b[0m\n"
     ]
    }
   ],
   "source": [
    "cat ./tests/complex_resp.json | jq"
   ]
  },
  {
   "cell_type": "code",
   "execution_count": 18,
   "id": "7be0ae02-126e-48c4-b97a-3916dc5f9ba1",
   "metadata": {},
   "outputs": [
    {
     "name": "stdout",
     "output_type": "stream",
     "text": [
      "\u001b[32mok\u001b[0m -- validation done\n"
     ]
    }
   ],
   "source": [
    "check-jsonschema ./tests/complex_resp.json \\\n",
    "--schemafile ./schema/response.json \\\n",
    "--base-uri \"$(pwd)/schema/\""
   ]
  },
  {
   "cell_type": "markdown",
   "id": "5f49c836-f56b-4dc6-ac3e-d1cc81944404",
   "metadata": {},
   "source": [
    "Еще более сложный запрос"
   ]
  },
  {
   "cell_type": "code",
   "execution_count": 19,
   "id": "6ab1eb22-5b1f-45ef-a5ee-53bc31cdbd19",
   "metadata": {},
   "outputs": [
    {
     "name": "stdout",
     "output_type": "stream",
     "text": [
      "\u001b[1;39m{\n",
      "  \u001b[0m\u001b[1;34m\"response\"\u001b[0m\u001b[1;39m: \u001b[0m\u001b[1;39m{\n",
      "    \u001b[0m\u001b[1;34m\"title\"\u001b[0m\u001b[1;39m: \u001b[0m\u001b[0;32m\"My album title\"\u001b[0m\u001b[1;39m,\n",
      "    \u001b[0m\u001b[1;34m\"id\"\u001b[0m\u001b[1;39m: \u001b[0m\u001b[0;39m12345\u001b[0m\u001b[1;39m,\n",
      "    \u001b[0m\u001b[1;34m\"owner_id\"\u001b[0m\u001b[1;39m: \u001b[0m\u001b[0;39m123456\u001b[0m\u001b[1;39m,\n",
      "    \u001b[0m\u001b[1;34m\"size\"\u001b[0m\u001b[1;39m: \u001b[0m\u001b[0;39m1\u001b[0m\u001b[1;39m,\n",
      "    \u001b[0m\u001b[1;34m\"can_upload\"\u001b[0m\u001b[1;39m: \u001b[0m\u001b[0;39mtrue\u001b[0m\u001b[1;39m,\n",
      "    \u001b[0m\u001b[1;34m\"created\"\u001b[0m\u001b[1;39m: \u001b[0m\u001b[0;39m0\u001b[0m\u001b[1;39m,\n",
      "    \u001b[0m\u001b[1;34m\"can_include_to_feed\"\u001b[0m\u001b[1;39m: \u001b[0m\u001b[0;39mfalse\u001b[0m\u001b[1;39m,\n",
      "    \u001b[0m\u001b[1;34m\"sizes\"\u001b[0m\u001b[1;39m: \u001b[0m\u001b[1;39m[\n",
      "      \u001b[1;39m{\n",
      "        \u001b[0m\u001b[1;34m\"height\"\u001b[0m\u001b[1;39m: \u001b[0m\u001b[0;39m512\u001b[0m\u001b[1;39m,\n",
      "        \u001b[0m\u001b[1;34m\"width\"\u001b[0m\u001b[1;39m: \u001b[0m\u001b[0;39m512\u001b[0m\u001b[1;39m,\n",
      "        \u001b[0m\u001b[1;34m\"type\"\u001b[0m\u001b[1;39m: \u001b[0m\u001b[0;32m\"v\"\u001b[0m\u001b[1;39m\n",
      "      \u001b[1;39m}\u001b[0m\u001b[1;39m\n",
      "    \u001b[1;39m]\u001b[0m\u001b[1;39m\n",
      "  \u001b[1;39m}\u001b[0m\u001b[1;39m\n",
      "\u001b[1;39m}\u001b[0m\n"
     ]
    }
   ],
   "source": [
    "cat ./tests/complex_complex_resp.json | jq"
   ]
  },
  {
   "cell_type": "markdown",
   "id": "d82554ed-f28f-4d4e-bfe0-aa4ebfb646ac",
   "metadata": {},
   "source": [
    "Ошибка в сложном запросе"
   ]
  },
  {
   "cell_type": "code",
   "execution_count": 20,
   "id": "0e0b5326-759a-477c-b1e9-2b5ad468ce22",
   "metadata": {},
   "outputs": [
    {
     "name": "stdout",
     "output_type": "stream",
     "text": [
      "\u001b[32mok\u001b[0m -- validation done\n"
     ]
    }
   ],
   "source": [
    "check-jsonschema ./tests/complex_complex_resp.json \\\n",
    "--schemafile ./schema/response.json \\\n",
    "--base-uri \"$(pwd)/schema/\""
   ]
  },
  {
   "cell_type": "code",
   "execution_count": 21,
   "id": "239eef1e-7ef2-474e-90d0-ab5a502ff304",
   "metadata": {},
   "outputs": [
    {
     "name": "stdout",
     "output_type": "stream",
     "text": [
      "\u001b[1;39m{\n",
      "  \u001b[0m\u001b[1;34m\"response\"\u001b[0m\u001b[1;39m: \u001b[0m\u001b[1;39m{\n",
      "    \u001b[0m\u001b[1;34m\"title\"\u001b[0m\u001b[1;39m: \u001b[0m\u001b[0;32m\"My album title\"\u001b[0m\u001b[1;39m,\n",
      "    \u001b[0m\u001b[1;34m\"id\"\u001b[0m\u001b[1;39m: \u001b[0m\u001b[0;39m12345\u001b[0m\u001b[1;39m,\n",
      "    \u001b[0m\u001b[1;34m\"owner_id\"\u001b[0m\u001b[1;39m: \u001b[0m\u001b[0;39m123456\u001b[0m\u001b[1;39m,\n",
      "    \u001b[0m\u001b[1;34m\"size\"\u001b[0m\u001b[1;39m: \u001b[0m\u001b[0;39m1\u001b[0m\u001b[1;39m,\n",
      "    \u001b[0m\u001b[1;34m\"can_upload\"\u001b[0m\u001b[1;39m: \u001b[0m\u001b[0;39mtrue\u001b[0m\u001b[1;39m,\n",
      "    \u001b[0m\u001b[1;34m\"created\"\u001b[0m\u001b[1;39m: \u001b[0m\u001b[0;39m0\u001b[0m\u001b[1;39m,\n",
      "    \u001b[0m\u001b[1;34m\"can_include_to_feed\"\u001b[0m\u001b[1;39m: \u001b[0m\u001b[0;39mfalse\u001b[0m\u001b[1;39m,\n",
      "    \u001b[0m\u001b[1;34m\"sizes\"\u001b[0m\u001b[1;39m: \u001b[0m\u001b[1;39m[\n",
      "      \u001b[1;39m{\n",
      "        \u001b[0m\u001b[1;34m\"height\"\u001b[0m\u001b[1;39m: \u001b[0m\u001b[0;39m512\u001b[0m\u001b[1;39m,\n",
      "        \u001b[0m\u001b[1;34m\"width\"\u001b[0m\u001b[1;39m: \u001b[0m\u001b[0;39m512\u001b[0m\u001b[1;39m,\n",
      "        \u001b[0m\u001b[1;34m\"type\"\u001b[0m\u001b[1;39m: \u001b[0m\u001b[0;32m\"who\"\u001b[0m\u001b[1;39m\n",
      "      \u001b[1;39m}\u001b[0m\u001b[1;39m\n",
      "    \u001b[1;39m]\u001b[0m\u001b[1;39m\n",
      "  \u001b[1;39m}\u001b[0m\u001b[1;39m\n",
      "\u001b[1;39m}\u001b[0m\n"
     ]
    }
   ],
   "source": [
    "cat ./tests/bad_complex_complex_resp.json | jq"
   ]
  },
  {
   "cell_type": "code",
   "execution_count": 22,
   "id": "b7e69b4a-0468-4f8b-bb9c-2c45fa08efa1",
   "metadata": {},
   "outputs": [
    {
     "name": "stdout",
     "output_type": "stream",
     "text": [
      "Schema validation errors were encountered.\n",
      "  \u001b[33m./tests/bad_complex_complex_resp.json::$.response.sizes[0].type\u001b[0m: 'who' is not one of ['t', 's', 'm', 'x', 'o', 'p', 'q', 'r', 'k', 'l', 'y', 'z', 'c', 'w', 'a', 'b', 'e', 'i', 'd', 'j', 'temp', 'h', 'g', 'n', 'f', 'max', 'base', 'u', 'v', 'orig']\n"
     ]
    },
    {
     "ename": "",
     "evalue": "1",
     "output_type": "error",
     "traceback": []
    }
   ],
   "source": [
    "check-jsonschema ./tests/bad_complex_complex_resp.json \\\n",
    "--schemafile ./schema/response.json \\\n",
    "--base-uri \"$(pwd)/schema/\""
   ]
  },
  {
   "cell_type": "code",
   "execution_count": null,
   "id": "4d2d423c-1b12-44ef-8de4-7307ef87a64f",
   "metadata": {},
   "outputs": [],
   "source": []
  }
 ],
 "metadata": {
  "kernelspec": {
   "display_name": "Bash",
   "language": "bash",
   "name": "bash"
  },
  "language_info": {
   "codemirror_mode": "shell",
   "file_extension": ".sh",
   "mimetype": "text/x-sh",
   "name": "bash"
  }
 },
 "nbformat": 4,
 "nbformat_minor": 5
}
