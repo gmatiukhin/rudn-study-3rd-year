{
 "cells": [
  {
   "cell_type": "code",
   "execution_count": 1,
   "id": "e256d6a6-c904-4c24-b587-2dcc7a71a433",
   "metadata": {},
   "outputs": [
    {
     "name": "stdout",
     "output_type": "stream",
     "text": [
      "196620\n"
     ]
    }
   ],
   "source": [
    "scope=0\n",
    "(( scope|=1<<2 )) # photos\n",
    "(( scope|=1<<3 )) # audio\n",
    "(( scope|=1<<16 )) # offline\n",
    "(( scope|=1<<17 )) # docs\n",
    "echo \"$scope\""
   ]
  },
  {
   "cell_type": "code",
   "execution_count": 2,
   "id": "491d638f-11d0-4f61-91f4-8e06d657df77",
   "metadata": {},
   "outputs": [
    {
     "name": "stdout",
     "output_type": "stream",
     "text": [
      "https://oauth.vk.com/authorize?client_id=51915772&response_type=token&scope=196620&revoke=1\n"
     ]
    }
   ],
   "source": [
    "echo \"https://oauth.vk.com/authorize?client_id=51915772&response_type=token&scope=$scope&revoke=1\""
   ]
  },
  {
   "cell_type": "code",
   "execution_count": 3,
   "id": "f06885db-bca2-439e-84e6-373cede54050",
   "metadata": {},
   "outputs": [
    {
     "name": "stdout",
     "output_type": "stream",
     "text": [
      "https://id.vk.com/auth?redirect_uri=https%3A%2F%2Foauth.vk.com%2Fblank.html&app_id=51915772&response_type=token&scope=196620\n"
     ]
    }
   ],
   "source": [
    "echo \"https://id.vk.com/auth?redirect_uri=https%3A%2F%2Foauth.vk.com%2Fblank.html&app_id=51915772&response_type=token&scope=$scope\""
   ]
  },
  {
   "cell_type": "code",
   "execution_count": 4,
   "id": "ed49865e-3ad8-441b-83ef-11fd02fb5009",
   "metadata": {},
   "outputs": [
    {
     "name": "stdout",
     "output_type": "stream",
     "text": [
      "https://oauth.vk.com/authorize?client_id=6733081&redirect_uri=blank.html&scope=196620&response_type=token\n"
     ]
    }
   ],
   "source": [
    "echo \"https://oauth.vk.com/authorize?client_id=6733081&redirect_uri=blank.html&scope=$scope&response_type=token\""
   ]
  },
  {
   "cell_type": "code",
   "execution_count": 5,
   "id": "82c5e423-2f2f-4a35-aded-231536c34af5",
   "metadata": {},
   "outputs": [],
   "source": [
    "TOKEN=$(cat ./token_file)"
   ]
  },
  {
   "cell_type": "markdown",
   "id": "ec1da6cc-9960-4642-a73d-edafb0051d40",
   "metadata": {},
   "source": [
    "## Группа методов `users`"
   ]
  },
  {
   "cell_type": "markdown",
   "id": "d9b024ee-7c3e-4ba8-914e-d4fd0aa3754b",
   "metadata": {},
   "source": [
    "### Поиск по произвольному запросу "
   ]
  },
  {
   "cell_type": "code",
   "execution_count": 6,
   "id": "aef21fe0-7865-4c84-9baa-03712b83cb97",
   "metadata": {
    "scrolled": true
   },
   "outputs": [
    {
     "name": "stdout",
     "output_type": "stream",
     "text": [
      "\u001b[1;39m{\n",
      "  \u001b[0m\u001b[1;34m\"response\"\u001b[0m\u001b[1;39m: \u001b[0m\u001b[1;39m{\n",
      "    \u001b[0m\u001b[1;34m\"count\"\u001b[0m\u001b[1;39m: \u001b[0m\u001b[0;39m11166\u001b[0m\u001b[1;39m,\n",
      "    \u001b[0m\u001b[1;34m\"items\"\u001b[0m\u001b[1;39m: \u001b[0m\u001b[1;39m[\n",
      "      \u001b[1;39m{\n",
      "        \u001b[0m\u001b[1;34m\"id\"\u001b[0m\u001b[1;39m: \u001b[0m\u001b[0;39m517882843\u001b[0m\u001b[1;39m,\n",
      "        \u001b[0m\u001b[1;34m\"track_code\"\u001b[0m\u001b[1;39m: \u001b[0m\u001b[0;32m\"78ec291eodqKp252uYCVAapYYnDuTCahLad2_8g1oK8XhKzX_ArGs8H1MBy50JAKk4D4xipPTq8rpHb_xlPSxg\"\u001b[0m\u001b[1;39m,\n",
      "        \u001b[0m\u001b[1;34m\"first_name\"\u001b[0m\u001b[1;39m: \u001b[0m\u001b[0;32m\"Pavel\"\u001b[0m\u001b[1;39m,\n",
      "        \u001b[0m\u001b[1;34m\"last_name\"\u001b[0m\u001b[1;39m: \u001b[0m\u001b[0;32m\"Matyukhin\"\u001b[0m\u001b[1;39m,\n",
      "        \u001b[0m\u001b[1;34m\"can_access_closed\"\u001b[0m\u001b[1;39m: \u001b[0m\u001b[0;39mtrue\u001b[0m\u001b[1;39m,\n",
      "        \u001b[0m\u001b[1;34m\"is_closed\"\u001b[0m\u001b[1;39m: \u001b[0m\u001b[0;39mfalse\u001b[0m\u001b[1;39m\n",
      "      \u001b[1;39m}\u001b[0m\u001b[1;39m,\n",
      "      \u001b[1;39m{\n",
      "        \u001b[0m\u001b[1;34m\"id\"\u001b[0m\u001b[1;39m: \u001b[0m\u001b[0;39m329361482\u001b[0m\u001b[1;39m,\n",
      "        \u001b[0m\u001b[1;34m\"track_code\"\u001b[0m\u001b[1;39m: \u001b[0m\u001b[0;32m\"579abdfa9ntxZSxr2f680HaE15pp7pWAF3Dtx20RVOpNzNg3xHGREjIwclWMr7DVQl9BIKzt_Y4Rc-3HY3cmgw\"\u001b[0m\u001b[1;39m,\n",
      "        \u001b[0m\u001b[1;34m\"first_name\"\u001b[0m\u001b[1;39m: \u001b[0m\u001b[0;32m\"Grigorii\"\u001b[0m\u001b[1;39m,\n",
      "        \u001b[0m\u001b[1;34m\"last_name\"\u001b[0m\u001b[1;39m: \u001b[0m\u001b[0;32m\"Matiukhin\"\u001b[0m\u001b[1;39m,\n",
      "        \u001b[0m\u001b[1;34m\"can_access_closed\"\u001b[0m\u001b[1;39m: \u001b[0m\u001b[0;39mtrue\u001b[0m\u001b[1;39m,\n",
      "        \u001b[0m\u001b[1;34m\"is_closed\"\u001b[0m\u001b[1;39m: \u001b[0m\u001b[0;39mtrue\u001b[0m\u001b[1;39m\n",
      "      \u001b[1;39m}\u001b[0m\u001b[1;39m\n",
      "    \u001b[1;39m]\u001b[0m\u001b[1;39m\n",
      "  \u001b[1;39m}\u001b[0m\u001b[1;39m\n",
      "\u001b[1;39m}\u001b[0m\n"
     ]
    }
   ],
   "source": [
    "curl -Gs https://api.vk.com/method/users.search \\\n",
    "-d v=5.199 \\\n",
    "-d access_token=$TOKEN \\\n",
    "-d q=\"Матюхин\" \\\n",
    "-d count=2 | jq"
   ]
  },
  {
   "cell_type": "code",
   "execution_count": 7,
   "id": "5682c405-b537-4bb2-b9fc-92cc2dbfb585",
   "metadata": {
    "scrolled": true
   },
   "outputs": [
    {
     "name": "stdout",
     "output_type": "stream",
     "text": [
      "\u001b[1;39m{\n",
      "  \u001b[0m\u001b[1;34m\"response\"\u001b[0m\u001b[1;39m: \u001b[0m\u001b[1;39m{\n",
      "    \u001b[0m\u001b[1;34m\"count\"\u001b[0m\u001b[1;39m: \u001b[0m\u001b[0;39m11166\u001b[0m\u001b[1;39m,\n",
      "    \u001b[0m\u001b[1;34m\"items\"\u001b[0m\u001b[1;39m: \u001b[0m\u001b[1;39m[\n",
      "      \u001b[1;39m{\n",
      "        \u001b[0m\u001b[1;34m\"id\"\u001b[0m\u001b[1;39m: \u001b[0m\u001b[0;39m517882843\u001b[0m\u001b[1;39m,\n",
      "        \u001b[0m\u001b[1;34m\"about\"\u001b[0m\u001b[1;39m: \u001b[0m\u001b[0;32m\"\"\u001b[0m\u001b[1;39m,\n",
      "        \u001b[0m\u001b[1;34m\"activities\"\u001b[0m\u001b[1;39m: \u001b[0m\u001b[0;32m\"\"\u001b[0m\u001b[1;39m,\n",
      "        \u001b[0m\u001b[1;34m\"track_code\"\u001b[0m\u001b[1;39m: \u001b[0m\u001b[0;32m\"a5ba5ef0kun4gaFZzEt-n48a1Og9TNQi6NVAHwS8PWDAtTrGMP_1gLjQ_TGfTivDtqZxE49NvCzu1kAfCtpPCQ\"\u001b[0m\u001b[1;39m,\n",
      "        \u001b[0m\u001b[1;34m\"first_name\"\u001b[0m\u001b[1;39m: \u001b[0m\u001b[0;32m\"Pavel\"\u001b[0m\u001b[1;39m,\n",
      "        \u001b[0m\u001b[1;34m\"last_name\"\u001b[0m\u001b[1;39m: \u001b[0m\u001b[0;32m\"Matyukhin\"\u001b[0m\u001b[1;39m,\n",
      "        \u001b[0m\u001b[1;34m\"can_access_closed\"\u001b[0m\u001b[1;39m: \u001b[0m\u001b[0;39mtrue\u001b[0m\u001b[1;39m,\n",
      "        \u001b[0m\u001b[1;34m\"is_closed\"\u001b[0m\u001b[1;39m: \u001b[0m\u001b[0;39mfalse\u001b[0m\u001b[1;39m\n",
      "      \u001b[1;39m}\u001b[0m\u001b[1;39m,\n",
      "      \u001b[1;39m{\n",
      "        \u001b[0m\u001b[1;34m\"id\"\u001b[0m\u001b[1;39m: \u001b[0m\u001b[0;39m329361482\u001b[0m\u001b[1;39m,\n",
      "        \u001b[0m\u001b[1;34m\"bdate\"\u001b[0m\u001b[1;39m: \u001b[0m\u001b[0;32m\"1.7.2003\"\u001b[0m\u001b[1;39m,\n",
      "        \u001b[0m\u001b[1;34m\"about\"\u001b[0m\u001b[1;39m: \u001b[0m\u001b[0;32m\"\"\u001b[0m\u001b[1;39m,\n",
      "        \u001b[0m\u001b[1;34m\"activities\"\u001b[0m\u001b[1;39m: \u001b[0m\u001b[0;32m\"\"\u001b[0m\u001b[1;39m,\n",
      "        \u001b[0m\u001b[1;34m\"track_code\"\u001b[0m\u001b[1;39m: \u001b[0m\u001b[0;32m\"ad6943aaNOx-K1Iysg-_YU3ycSiwuKgc8hXbWhwewiHut0H1Vr9ThTktX1q0CL8zeU3Y3wO5wBL0FttaEniwSA\"\u001b[0m\u001b[1;39m,\n",
      "        \u001b[0m\u001b[1;34m\"first_name\"\u001b[0m\u001b[1;39m: \u001b[0m\u001b[0;32m\"Grigorii\"\u001b[0m\u001b[1;39m,\n",
      "        \u001b[0m\u001b[1;34m\"last_name\"\u001b[0m\u001b[1;39m: \u001b[0m\u001b[0;32m\"Matiukhin\"\u001b[0m\u001b[1;39m,\n",
      "        \u001b[0m\u001b[1;34m\"can_access_closed\"\u001b[0m\u001b[1;39m: \u001b[0m\u001b[0;39mtrue\u001b[0m\u001b[1;39m,\n",
      "        \u001b[0m\u001b[1;34m\"is_closed\"\u001b[0m\u001b[1;39m: \u001b[0m\u001b[0;39mtrue\u001b[0m\u001b[1;39m\n",
      "      \u001b[1;39m}\u001b[0m\u001b[1;39m\n",
      "    \u001b[1;39m]\u001b[0m\u001b[1;39m\n",
      "  \u001b[1;39m}\u001b[0m\u001b[1;39m\n",
      "\u001b[1;39m}\u001b[0m\n"
     ]
    }
   ],
   "source": [
    "curl -Gs https://api.vk.com/method/users.search \\\n",
    "-d v=5.199 \\\n",
    "-d access_token=$TOKEN \\\n",
    "-d q=\"Матюхин\" \\\n",
    "-d count=2 \\\n",
    "-d fields=about,activities,bdate | jq"
   ]
  },
  {
   "cell_type": "code",
   "execution_count": 8,
   "id": "39826b5f-cd47-43ff-ac16-0fbdeb303ed6",
   "metadata": {
    "scrolled": true
   },
   "outputs": [
    {
     "name": "stdout",
     "output_type": "stream",
     "text": [
      "\u001b[1;39m{\n",
      "  \u001b[0m\u001b[1;34m\"response\"\u001b[0m\u001b[1;39m: \u001b[0m\u001b[1;39m{\n",
      "    \u001b[0m\u001b[1;34m\"count\"\u001b[0m\u001b[1;39m: \u001b[0m\u001b[0;39m5\u001b[0m\u001b[1;39m,\n",
      "    \u001b[0m\u001b[1;34m\"items\"\u001b[0m\u001b[1;39m: \u001b[0m\u001b[1;39m[\n",
      "      \u001b[1;39m{\n",
      "        \u001b[0m\u001b[1;34m\"id\"\u001b[0m\u001b[1;39m: \u001b[0m\u001b[0;39m737822617\u001b[0m\u001b[1;39m,\n",
      "        \u001b[0m\u001b[1;34m\"track_code\"\u001b[0m\u001b[1;39m: \u001b[0m\u001b[0;32m\"2d3ee983Sb39HLCFAwCaIygPYRHXZRXVtKIrupHmLr6E7IZBs7kqx68SjNFTD5YiG-jM0-QNG9O3oiu095RH\"\u001b[0m\u001b[1;39m,\n",
      "        \u001b[0m\u001b[1;34m\"first_name\"\u001b[0m\u001b[1;39m: \u001b[0m\u001b[0;32m\"Romario\"\u001b[0m\u001b[1;39m,\n",
      "        \u001b[0m\u001b[1;34m\"last_name\"\u001b[0m\u001b[1;39m: \u001b[0m\u001b[0;32m\"Matyukhin\"\u001b[0m\u001b[1;39m,\n",
      "        \u001b[0m\u001b[1;34m\"can_access_closed\"\u001b[0m\u001b[1;39m: \u001b[0m\u001b[0;39mtrue\u001b[0m\u001b[1;39m,\n",
      "        \u001b[0m\u001b[1;34m\"is_closed\"\u001b[0m\u001b[1;39m: \u001b[0m\u001b[0;39mfalse\u001b[0m\u001b[1;39m\n",
      "      \u001b[1;39m}\u001b[0m\u001b[1;39m,\n",
      "      \u001b[1;39m{\n",
      "        \u001b[0m\u001b[1;34m\"id\"\u001b[0m\u001b[1;39m: \u001b[0m\u001b[0;39m2273004\u001b[0m\u001b[1;39m,\n",
      "        \u001b[0m\u001b[1;34m\"track_code\"\u001b[0m\u001b[1;39m: \u001b[0m\u001b[0;32m\"4c3987cfgb_IwSDzyejoymoHEoa5ZPqnZcLOu-Y_6fYgQdFWh6XixZ_ME_PPu-rMWOKIHu0T_rZ_p7y1gA\"\u001b[0m\u001b[1;39m,\n",
      "        \u001b[0m\u001b[1;34m\"first_name\"\u001b[0m\u001b[1;39m: \u001b[0m\u001b[0;32m\"Anton\"\u001b[0m\u001b[1;39m,\n",
      "        \u001b[0m\u001b[1;34m\"last_name\"\u001b[0m\u001b[1;39m: \u001b[0m\u001b[0;32m\"Matyukhin\"\u001b[0m\u001b[1;39m,\n",
      "        \u001b[0m\u001b[1;34m\"can_access_closed\"\u001b[0m\u001b[1;39m: \u001b[0m\u001b[0;39mtrue\u001b[0m\u001b[1;39m,\n",
      "        \u001b[0m\u001b[1;34m\"is_closed\"\u001b[0m\u001b[1;39m: \u001b[0m\u001b[0;39mfalse\u001b[0m\u001b[1;39m\n",
      "      \u001b[1;39m}\u001b[0m\u001b[1;39m\n",
      "    \u001b[1;39m]\u001b[0m\u001b[1;39m\n",
      "  \u001b[1;39m}\u001b[0m\u001b[1;39m\n",
      "\u001b[1;39m}\u001b[0m\n"
     ]
    }
   ],
   "source": [
    "user_id=$(\n",
    "    curl -Gs https://api.vk.com/method/users.search \\\n",
    "    -d v=5.199 \\\n",
    "    -d access_token=$TOKEN \\\n",
    "    -d q=\"Матюхин\" \\\n",
    "    -d count=2 \\\n",
    "    -d hometown=Moscow \\\n",
    "    | tee >(jq >&2) \\\n",
    "    | jq '.response.items[0].id'\n",
    ")"
   ]
  },
  {
   "cell_type": "code",
   "execution_count": 9,
   "id": "48158f55-931d-4c86-92e5-a5a520da3d5f",
   "metadata": {},
   "outputs": [
    {
     "name": "stdout",
     "output_type": "stream",
     "text": [
      "737822617\n"
     ]
    }
   ],
   "source": [
    "echo $user_id"
   ]
  },
  {
   "cell_type": "code",
   "execution_count": 10,
   "id": "d7d4b351-ea6e-411d-9cb9-ed0ff7c52ece",
   "metadata": {
    "scrolled": true
   },
   "outputs": [
    {
     "name": "stdout",
     "output_type": "stream",
     "text": [
      "\u001b[1;39m{\n",
      "  \u001b[0m\u001b[1;34m\"response\"\u001b[0m\u001b[1;39m: \u001b[0m\u001b[1;39m{\n",
      "    \u001b[0m\u001b[1;34m\"count\"\u001b[0m\u001b[1;39m: \u001b[0m\u001b[0;39m53\u001b[0m\u001b[1;39m,\n",
      "    \u001b[0m\u001b[1;34m\"items\"\u001b[0m\u001b[1;39m: \u001b[0m\u001b[1;39m[\n",
      "      \u001b[0;39m815091873\u001b[0m\u001b[1;39m,\n",
      "      \u001b[0;39m822181760\u001b[0m\u001b[1;39m,\n",
      "      \u001b[0;39m754106530\u001b[0m\u001b[1;39m,\n",
      "      \u001b[0;39m745694113\u001b[0m\u001b[1;39m,\n",
      "      \u001b[0;39m539075208\u001b[0m\u001b[1;39m,\n",
      "      \u001b[0;39m523236642\u001b[0m\u001b[1;39m,\n",
      "      \u001b[0;39m649006809\u001b[0m\u001b[1;39m,\n",
      "      \u001b[0;39m502260917\u001b[0m\u001b[1;39m,\n",
      "      \u001b[0;39m728506309\u001b[0m\u001b[1;39m,\n",
      "      \u001b[0;39m303910990\u001b[0m\u001b[1;39m,\n",
      "      \u001b[0;39m666814859\u001b[0m\u001b[1;39m,\n",
      "      \u001b[0;39m615886554\u001b[0m\u001b[1;39m,\n",
      "      \u001b[0;39m596120431\u001b[0m\u001b[1;39m,\n",
      "      \u001b[0;39m668126350\u001b[0m\u001b[1;39m,\n",
      "      \u001b[0;39m544358353\u001b[0m\u001b[1;39m,\n",
      "      \u001b[0;39m525547111\u001b[0m\u001b[1;39m,\n",
      "      \u001b[0;39m750344121\u001b[0m\u001b[1;39m,\n",
      "      \u001b[0;39m707008454\u001b[0m\u001b[1;39m,\n",
      "      \u001b[0;39m845983304\u001b[0m\u001b[1;39m,\n",
      "      \u001b[0;39m699889712\u001b[0m\u001b[1;39m,\n",
      "      \u001b[0;39m564451351\u001b[0m\u001b[1;39m,\n",
      "      \u001b[0;39m640235273\u001b[0m\u001b[1;39m,\n",
      "      \u001b[0;39m675933697\u001b[0m\u001b[1;39m,\n",
      "      \u001b[0;39m565035031\u001b[0m\u001b[1;39m,\n",
      "      \u001b[0;39m34657950\u001b[0m\u001b[1;39m,\n",
      "      \u001b[0;39m18054956\u001b[0m\u001b[1;39m,\n",
      "      \u001b[0;39m368076549\u001b[0m\u001b[1;39m,\n",
      "      \u001b[0;39m80735991\u001b[0m\u001b[1;39m,\n",
      "      \u001b[0;39m741238893\u001b[0m\u001b[1;39m,\n",
      "      \u001b[0;39m380952954\u001b[0m\u001b[1;39m,\n",
      "      \u001b[0;39m111102867\u001b[0m\u001b[1;39m,\n",
      "      \u001b[0;39m222911255\u001b[0m\u001b[1;39m,\n",
      "      \u001b[0;39m706907459\u001b[0m\u001b[1;39m,\n",
      "      \u001b[0;39m36948703\u001b[0m\u001b[1;39m,\n",
      "      \u001b[0;39m435164616\u001b[0m\u001b[1;39m,\n",
      "      \u001b[0;39m486948463\u001b[0m\u001b[1;39m,\n",
      "      \u001b[0;39m291509053\u001b[0m\u001b[1;39m,\n",
      "      \u001b[0;39m493342860\u001b[0m\u001b[1;39m,\n",
      "      \u001b[0;39m846004551\u001b[0m\u001b[1;39m,\n",
      "      \u001b[0;39m169611638\u001b[0m\u001b[1;39m,\n",
      "      \u001b[0;39m745215990\u001b[0m\u001b[1;39m,\n",
      "      \u001b[0;39m593718582\u001b[0m\u001b[1;39m,\n",
      "      \u001b[0;39m543511185\u001b[0m\u001b[1;39m,\n",
      "      \u001b[0;39m833518571\u001b[0m\u001b[1;39m,\n",
      "      \u001b[0;39m500275235\u001b[0m\u001b[1;39m,\n",
      "      \u001b[0;39m38443196\u001b[0m\u001b[1;39m,\n",
      "      \u001b[0;39m461649609\u001b[0m\u001b[1;39m,\n",
      "      \u001b[0;39m724147965\u001b[0m\u001b[1;39m,\n",
      "      \u001b[0;39m642032785\u001b[0m\u001b[1;39m,\n",
      "      \u001b[0;39m37670947\u001b[0m\u001b[1;39m,\n",
      "      \u001b[0;39m735008424\u001b[0m\u001b[1;39m,\n",
      "      \u001b[0;39m601572607\u001b[0m\u001b[1;39m,\n",
      "      \u001b[0;39m492845249\u001b[0m\u001b[1;39m\n",
      "    \u001b[1;39m]\u001b[0m\u001b[1;39m\n",
      "  \u001b[1;39m}\u001b[0m\u001b[1;39m\n",
      "\u001b[1;39m}\u001b[0m\n"
     ]
    }
   ],
   "source": [
    "curl -Gs https://api.vk.com/method/users.getFollowers \\\n",
    "-d v=5.199 \\\n",
    "-d access_token=$TOKEN \\\n",
    "-d user_id=$user_id | jq"
   ]
  },
  {
   "cell_type": "markdown",
   "id": "f94dbfc2-37eb-42df-998c-b9e989e7c136",
   "metadata": {},
   "source": [
    "## Группа методов `database`"
   ]
  },
  {
   "cell_type": "code",
   "execution_count": 11,
   "id": "7c1d50ca-ef7f-40d2-8e6a-987e37084341",
   "metadata": {
    "scrolled": true
   },
   "outputs": [
    {
     "name": "stdout",
     "output_type": "stream",
     "text": [
      "\u001b[1;39m{\n",
      "  \u001b[0m\u001b[1;34m\"response\"\u001b[0m\u001b[1;39m: \u001b[0m\u001b[1;39m{\n",
      "    \u001b[0m\u001b[1;34m\"count\"\u001b[0m\u001b[1;39m: \u001b[0m\u001b[0;39m1\u001b[0m\u001b[1;39m,\n",
      "    \u001b[0m\u001b[1;34m\"items\"\u001b[0m\u001b[1;39m: \u001b[0m\u001b[1;39m[\n",
      "      \u001b[1;39m{\n",
      "        \u001b[0m\u001b[1;34m\"id\"\u001b[0m\u001b[1;39m: \u001b[0m\u001b[0;39m1\u001b[0m\u001b[1;39m,\n",
      "        \u001b[0m\u001b[1;34m\"title\"\u001b[0m\u001b[1;39m: \u001b[0m\u001b[0;32m\"Russia\"\u001b[0m\u001b[1;39m\n",
      "      \u001b[1;39m}\u001b[0m\u001b[1;39m\n",
      "    \u001b[1;39m]\u001b[0m\u001b[1;39m\n",
      "  \u001b[1;39m}\u001b[0m\u001b[1;39m\n",
      "\u001b[1;39m}\u001b[0m\n"
     ]
    }
   ],
   "source": [
    "ru_id=$(\n",
    "    curl -Gs https://api.vk.com/method/database.getCountries \\\n",
    "    -d v=5.199 \\\n",
    "    -d access_token=$TOKEN \\\n",
    "    -d code=RU \\\n",
    "    | tee >(jq >&2) \\\n",
    "    | jq '.response.items[0].id'\n",
    ")"
   ]
  },
  {
   "cell_type": "code",
   "execution_count": 12,
   "id": "ce44c436-ea6e-4677-8f58-52ded6713697",
   "metadata": {},
   "outputs": [
    {
     "name": "stdout",
     "output_type": "stream",
     "text": [
      "1\n"
     ]
    }
   ],
   "source": [
    "echo \"$ru_id\""
   ]
  },
  {
   "cell_type": "code",
   "execution_count": 13,
   "id": "8c0f4543-5a04-44c8-be1a-59782c7df169",
   "metadata": {
    "scrolled": true
   },
   "outputs": [
    {
     "name": "stdout",
     "output_type": "stream",
     "text": [
      "\u001b[1;39m{\n",
      "  \u001b[0m\u001b[1;34m\"response\"\u001b[0m\u001b[1;39m: \u001b[0m\u001b[1;39m{\n",
      "    \u001b[0m\u001b[1;34m\"count\"\u001b[0m\u001b[1;39m: \u001b[0m\u001b[0;39m88\u001b[0m\u001b[1;39m,\n",
      "    \u001b[0m\u001b[1;34m\"items\"\u001b[0m\u001b[1;39m: \u001b[0m\u001b[1;39m[\n",
      "      \u001b[1;39m{\n",
      "        \u001b[0m\u001b[1;34m\"id\"\u001b[0m\u001b[1;39m: \u001b[0m\u001b[0;39m1\u001b[0m\u001b[1;39m,\n",
      "        \u001b[0m\u001b[1;34m\"title\"\u001b[0m\u001b[1;39m: \u001b[0m\u001b[0;32m\"Moscow\"\u001b[0m\u001b[1;39m\n",
      "      \u001b[1;39m}\u001b[0m\u001b[1;39m,\n",
      "      \u001b[1;39m{\n",
      "        \u001b[0m\u001b[1;34m\"id\"\u001b[0m\u001b[1;39m: \u001b[0m\u001b[0;39m1904692\u001b[0m\u001b[1;39m,\n",
      "        \u001b[0m\u001b[1;34m\"title\"\u001b[0m\u001b[1;39m: \u001b[0m\u001b[0;32m\"Moscow\"\u001b[0m\u001b[1;39m,\n",
      "        \u001b[0m\u001b[1;34m\"area\"\u001b[0m\u001b[1;39m: \u001b[0m\u001b[0;32m\"Latah County\"\u001b[0m\u001b[1;39m,\n",
      "        \u001b[0m\u001b[1;34m\"region\"\u001b[0m\u001b[1;39m: \u001b[0m\u001b[0;32m\"Idaho\"\u001b[0m\u001b[1;39m\n",
      "      \u001b[1;39m}\u001b[0m\u001b[1;39m\n",
      "    \u001b[1;39m]\u001b[0m\u001b[1;39m\n",
      "  \u001b[1;39m}\u001b[0m\u001b[1;39m\n",
      "\u001b[1;39m}\u001b[0m\n"
     ]
    }
   ],
   "source": [
    "curl -Gs https://api.vk.com/method/database.getCities \\\n",
    "-d v=5.199 \\\n",
    "-d access_token=$TOKEN \\\n",
    "-d region_id=$ru_id \\\n",
    "-d count=2 \\\n",
    "-d q==Moscow | jq"
   ]
  },
  {
   "cell_type": "code",
   "execution_count": 14,
   "id": "61a4722c-f3ab-4e23-94a9-484acefc3cf6",
   "metadata": {
    "scrolled": true
   },
   "outputs": [
    {
     "name": "stdout",
     "output_type": "stream",
     "text": [
      "\u001b[1;39m[\n",
      "  \u001b[1;39m{\n",
      "    \u001b[0m\u001b[1;34m\"id\"\u001b[0m\u001b[1;39m: \u001b[0m\u001b[0;39m1\u001b[0m\u001b[1;39m,\n",
      "    \u001b[0m\u001b[1;34m\"title\"\u001b[0m\u001b[1;39m: \u001b[0m\u001b[0;32m\"Moscow\"\u001b[0m\u001b[1;39m\n",
      "  \u001b[1;39m}\u001b[0m\u001b[1;39m\n",
      "\u001b[1;39m]\u001b[0m\n"
     ]
    }
   ],
   "source": [
    "city_id=$(\n",
    "    curl -Gs https://api.vk.com/method/database.getCities \\\n",
    "    -d v=5.199 \\\n",
    "    -d access_token=$TOKEN \\\n",
    "    -d q=Moscow | jq \".response.items | map(select(.id == $ru_id))\" \\\n",
    "    | tee >(jq >&2) \\\n",
    "    | jq '.[0].id'\n",
    ")"
   ]
  },
  {
   "cell_type": "code",
   "execution_count": 15,
   "id": "174f9edb-3d1e-4e0e-8d1c-fe986a10336f",
   "metadata": {},
   "outputs": [
    {
     "name": "stdout",
     "output_type": "stream",
     "text": [
      "1\n"
     ]
    }
   ],
   "source": [
    "echo $city_id"
   ]
  },
  {
   "cell_type": "code",
   "execution_count": 16,
   "id": "8816d073-7d16-4199-8a60-3ce43398e2fa",
   "metadata": {
    "scrolled": true
   },
   "outputs": [],
   "source": [
    "curl -Gs https://api.vk.com/method/database.getSchools \\\n",
    "-d v=5.199 \\\n",
    "-d access_token=$TOKEN \\\n",
    "-d city_id=1 \\\n",
    "-d q==\"Школа № 1\" | jq '.response.items[0]'"
   ]
  },
  {
   "cell_type": "code",
   "execution_count": 17,
   "id": "400d8165-0e38-4cda-9d09-fbfd1a3150db",
   "metadata": {
    "scrolled": true
   },
   "outputs": [
    {
     "name": "stdout",
     "output_type": "stream",
     "text": [
      "\u001b[1;39m{\n",
      "  \u001b[0m\u001b[1;34m\"response\"\u001b[0m\u001b[1;39m: \u001b[0m\u001b[1;39m{\n",
      "    \u001b[0m\u001b[1;34m\"count\"\u001b[0m\u001b[1;39m: \u001b[0m\u001b[0;39m1\u001b[0m\u001b[1;39m,\n",
      "    \u001b[0m\u001b[1;34m\"items\"\u001b[0m\u001b[1;39m: \u001b[0m\u001b[1;39m[\n",
      "      \u001b[1;39m{\n",
      "        \u001b[0m\u001b[1;34m\"id\"\u001b[0m\u001b[1;39m: \u001b[0m\u001b[0;39m338\u001b[0m\u001b[1;39m,\n",
      "        \u001b[0m\u001b[1;34m\"title\"\u001b[0m\u001b[1;39m: \u001b[0m\u001b[0;32m\"РУДН\"\u001b[0m\u001b[1;39m\n",
      "      \u001b[1;39m}\u001b[0m\u001b[1;39m\n",
      "    \u001b[1;39m]\u001b[0m\u001b[1;39m\n",
      "  \u001b[1;39m}\u001b[0m\u001b[1;39m\n",
      "\u001b[1;39m}\u001b[0m\n"
     ]
    }
   ],
   "source": [
    "curl -Gs https://api.vk.com/method/database.getUniversities \\\n",
    "-d v=5.199 \\\n",
    "-d access_token=$TOKEN \\\n",
    "-d city_id=1 \\\n",
    "-d q=\"RUDN\" | jq"
   ]
  },
  {
   "cell_type": "markdown",
   "id": "09a60a56-1fda-49f7-9ce0-60527c36e896",
   "metadata": {},
   "source": [
    "## Группа методов `audio`???"
   ]
  },
  {
   "cell_type": "markdown",
   "id": "e6738fc9-d34a-4554-af61-982eddeb57a9",
   "metadata": {},
   "source": [
    "## Группа методов `docs`"
   ]
  },
  {
   "cell_type": "code",
   "execution_count": 18,
   "id": "c94f877f-bbb5-4782-a637-312ed0221da1",
   "metadata": {
    "scrolled": true
   },
   "outputs": [
    {
     "name": "stdout",
     "output_type": "stream",
     "text": [
      "\u001b[1;39m{\n",
      "  \u001b[0m\u001b[1;34m\"response\"\u001b[0m\u001b[1;39m: \u001b[0m\u001b[1;39m{\n",
      "    \u001b[0m\u001b[1;34m\"count\"\u001b[0m\u001b[1;39m: \u001b[0m\u001b[0;39m7\u001b[0m\u001b[1;39m,\n",
      "    \u001b[0m\u001b[1;34m\"items\"\u001b[0m\u001b[1;39m: \u001b[0m\u001b[1;39m[\n",
      "      \u001b[1;39m{\n",
      "        \u001b[0m\u001b[1;34m\"id\"\u001b[0m\u001b[1;39m: \u001b[0m\u001b[0;39m608960774\u001b[0m\u001b[1;39m,\n",
      "        \u001b[0m\u001b[1;34m\"owner_id\"\u001b[0m\u001b[1;39m: \u001b[0m\u001b[0;39m329361482\u001b[0m\u001b[1;39m,\n",
      "        \u001b[0m\u001b[1;34m\"title\"\u001b[0m\u001b[1;39m: \u001b[0m\u001b[0;32m\"THE SOLUTION.png\"\u001b[0m\u001b[1;39m,\n",
      "        \u001b[0m\u001b[1;34m\"size\"\u001b[0m\u001b[1;39m: \u001b[0m\u001b[0;39m11465\u001b[0m\u001b[1;39m,\n",
      "        \u001b[0m\u001b[1;34m\"ext\"\u001b[0m\u001b[1;39m: \u001b[0m\u001b[0;32m\"png\"\u001b[0m\u001b[1;39m,\n",
      "        \u001b[0m\u001b[1;34m\"date\"\u001b[0m\u001b[1;39m: \u001b[0m\u001b[0;39m1631211540\u001b[0m\u001b[1;39m,\n",
      "        \u001b[0m\u001b[1;34m\"type\"\u001b[0m\u001b[1;39m: \u001b[0m\u001b[0;39m4\u001b[0m\u001b[1;39m,\n",
      "        \u001b[0m\u001b[1;34m\"url\"\u001b[0m\u001b[1;39m: \u001b[0m\u001b[0;32m\"https://vk.com/doc329361482_608960774?hash=RlAyEkkJrZxvRh29KvYGkCZQM9yiyenpp0PXqK4ZPMH&dl=rPjWzydH04kMoZZzRChWG292VFyRYzCbeU4u87PvxtP&api=1&no_preview=1\"\u001b[0m\u001b[1;39m,\n",
      "        \u001b[0m\u001b[1;34m\"preview\"\u001b[0m\u001b[1;39m: \u001b[0m\u001b[1;39m{\n",
      "          \u001b[0m\u001b[1;34m\"photo\"\u001b[0m\u001b[1;39m: \u001b[0m\u001b[1;39m{\n",
      "            \u001b[0m\u001b[1;34m\"sizes\"\u001b[0m\u001b[1;39m: \u001b[0m\u001b[1;39m[\n",
      "              \u001b[1;39m{\n",
      "                \u001b[0m\u001b[1;34m\"src\"\u001b[0m\u001b[1;39m: \u001b[0m\u001b[0;32m\"https://sun9-62.userapi.com/c520036/u329361482/d34/-3/m_8f8c8839e5.jpg\"\u001b[0m\u001b[1;39m,\n",
      "                \u001b[0m\u001b[1;34m\"width\"\u001b[0m\u001b[1;39m: \u001b[0m\u001b[0;39m130\u001b[0m\u001b[1;39m,\n",
      "                \u001b[0m\u001b[1;34m\"height\"\u001b[0m\u001b[1;39m: \u001b[0m\u001b[0;39m24\u001b[0m\u001b[1;39m,\n",
      "                \u001b[0m\u001b[1;34m\"type\"\u001b[0m\u001b[1;39m: \u001b[0m\u001b[0;32m\"m\"\u001b[0m\u001b[1;39m\n",
      "              \u001b[1;39m}\u001b[0m\u001b[1;39m,\n",
      "              \u001b[1;39m{\n",
      "                \u001b[0m\u001b[1;34m\"src\"\u001b[0m\u001b[1;39m: \u001b[0m\u001b[0;32m\"https://sun9-9.userapi.com/c520036/u329361482/d34/-3/s_8f8c8839e5.jpg\"\u001b[0m\u001b[1;39m,\n",
      "                \u001b[0m\u001b[1;34m\"width\"\u001b[0m\u001b[1;39m: \u001b[0m\u001b[0;39m100\u001b[0m\u001b[1;39m,\n",
      "                \u001b[0m\u001b[1;34m\"height\"\u001b[0m\u001b[1;39m: \u001b[0m\u001b[0;39m19\u001b[0m\u001b[1;39m,\n",
      "                \u001b[0m\u001b[1;34m\"type\"\u001b[0m\u001b[1;39m: \u001b[0m\u001b[0;32m\"s\"\u001b[0m\u001b[1;39m\n",
      "              \u001b[1;39m}\u001b[0m\u001b[1;39m,\n",
      "              \u001b[1;39m{\n",
      "                \u001b[0m\u001b[1;34m\"src\"\u001b[0m\u001b[1;39m: \u001b[0m\u001b[0;32m\"https://sun9-62.userapi.com/c520036/u329361482/d34/-3/x_8f8c8839e5.jpg\"\u001b[0m\u001b[1;39m,\n",
      "                \u001b[0m\u001b[1;34m\"width\"\u001b[0m\u001b[1;39m: \u001b[0m\u001b[0;39m604\u001b[0m\u001b[1;39m,\n",
      "                \u001b[0m\u001b[1;34m\"height\"\u001b[0m\u001b[1;39m: \u001b[0m\u001b[0;39m110\u001b[0m\u001b[1;39m,\n",
      "                \u001b[0m\u001b[1;34m\"type\"\u001b[0m\u001b[1;39m: \u001b[0m\u001b[0;32m\"x\"\u001b[0m\u001b[1;39m\n",
      "              \u001b[1;39m}\u001b[0m\u001b[1;39m,\n",
      "              \u001b[1;39m{\n",
      "                \u001b[0m\u001b[1;34m\"src\"\u001b[0m\u001b[1;39m: \u001b[0m\u001b[0;32m\"https://sun9-74.userapi.com/c520036/u329361482/d34/-3/y_8f8c8839e5.jpg\"\u001b[0m\u001b[1;39m,\n",
      "                \u001b[0m\u001b[1;34m\"width\"\u001b[0m\u001b[1;39m: \u001b[0m\u001b[0;39m807\u001b[0m\u001b[1;39m,\n",
      "                \u001b[0m\u001b[1;34m\"height\"\u001b[0m\u001b[1;39m: \u001b[0m\u001b[0;39m148\u001b[0m\u001b[1;39m,\n",
      "                \u001b[0m\u001b[1;34m\"type\"\u001b[0m\u001b[1;39m: \u001b[0m\u001b[0;32m\"y\"\u001b[0m\u001b[1;39m\n",
      "              \u001b[1;39m}\u001b[0m\u001b[1;39m,\n",
      "              \u001b[1;39m{\n",
      "                \u001b[0m\u001b[1;34m\"src\"\u001b[0m\u001b[1;39m: \u001b[0m\u001b[0;32m\"https://sun9-37.userapi.com/c520036/u329361482/d34/-3/o_8f8c8839e5.jpg\"\u001b[0m\u001b[1;39m,\n",
      "                \u001b[0m\u001b[1;34m\"width\"\u001b[0m\u001b[1;39m: \u001b[0m\u001b[0;39m662\u001b[0m\u001b[1;39m,\n",
      "                \u001b[0m\u001b[1;34m\"height\"\u001b[0m\u001b[1;39m: \u001b[0m\u001b[0;39m121\u001b[0m\u001b[1;39m,\n",
      "                \u001b[0m\u001b[1;34m\"type\"\u001b[0m\u001b[1;39m: \u001b[0m\u001b[0;32m\"o\"\u001b[0m\u001b[1;39m\n",
      "              \u001b[1;39m}\u001b[0m\u001b[1;39m\n",
      "            \u001b[1;39m]\u001b[0m\u001b[1;39m\n",
      "          \u001b[1;39m}\u001b[0m\u001b[1;39m\n",
      "        \u001b[1;39m}\u001b[0m\u001b[1;39m,\n",
      "        \u001b[0m\u001b[1;34m\"is_unsafe\"\u001b[0m\u001b[1;39m: \u001b[0m\u001b[0;39m0\u001b[0m\u001b[1;39m,\n",
      "        \u001b[0m\u001b[1;34m\"can_manage\"\u001b[0m\u001b[1;39m: \u001b[0m\u001b[0;39mtrue\u001b[0m\u001b[1;39m\n",
      "      \u001b[1;39m}\u001b[0m\u001b[1;39m,\n",
      "      \u001b[1;39m{\n",
      "        \u001b[0m\u001b[1;34m\"id\"\u001b[0m\u001b[1;39m: \u001b[0m\u001b[0;39m600464596\u001b[0m\u001b[1;39m,\n",
      "        \u001b[0m\u001b[1;34m\"owner_id\"\u001b[0m\u001b[1;39m: \u001b[0m\u001b[0;39m329361482\u001b[0m\u001b[1;39m,\n",
      "        \u001b[0m\u001b[1;34m\"title\"\u001b[0m\u001b[1;39m: \u001b[0m\u001b[0;32m\"Num26.png\"\u001b[0m\u001b[1;39m,\n",
      "        \u001b[0m\u001b[1;34m\"size\"\u001b[0m\u001b[1;39m: \u001b[0m\u001b[0;39m23784\u001b[0m\u001b[1;39m,\n",
      "        \u001b[0m\u001b[1;34m\"ext\"\u001b[0m\u001b[1;39m: \u001b[0m\u001b[0;32m\"png\"\u001b[0m\u001b[1;39m,\n",
      "        \u001b[0m\u001b[1;34m\"date\"\u001b[0m\u001b[1;39m: \u001b[0m\u001b[0;39m1624127512\u001b[0m\u001b[1;39m,\n",
      "        \u001b[0m\u001b[1;34m\"type\"\u001b[0m\u001b[1;39m: \u001b[0m\u001b[0;39m4\u001b[0m\u001b[1;39m,\n",
      "        \u001b[0m\u001b[1;34m\"url\"\u001b[0m\u001b[1;39m: \u001b[0m\u001b[0;32m\"https://vk.com/doc329361482_600464596?hash=y0cemZRhB3WP0FViK7PWXkz3CtHcTRvU2ja5YUW8ehX&dl=qzJDWLsw2ldAcggyUFcGGW3bZzqXljdeKwJZuHwwxqc&api=1&no_preview=1\"\u001b[0m\u001b[1;39m,\n",
      "        \u001b[0m\u001b[1;34m\"preview\"\u001b[0m\u001b[1;39m: \u001b[0m\u001b[1;39m{\n",
      "          \u001b[0m\u001b[1;34m\"photo\"\u001b[0m\u001b[1;39m: \u001b[0m\u001b[1;39m{\n",
      "            \u001b[0m\u001b[1;34m\"sizes\"\u001b[0m\u001b[1;39m: \u001b[0m\u001b[1;39m[\n",
      "              \u001b[1;39m{\n",
      "                \u001b[0m\u001b[1;34m\"src\"\u001b[0m\u001b[1;39m: \u001b[0m\u001b[0;32m\"https://sun9-23.userapi.com/c505536/u329361482/d28/-3/m_91c6a4717a.jpg\"\u001b[0m\u001b[1;39m,\n",
      "                \u001b[0m\u001b[1;34m\"width\"\u001b[0m\u001b[1;39m: \u001b[0m\u001b[0;39m130\u001b[0m\u001b[1;39m,\n",
      "                \u001b[0m\u001b[1;34m\"height\"\u001b[0m\u001b[1;39m: \u001b[0m\u001b[0;39m93\u001b[0m\u001b[1;39m,\n",
      "                \u001b[0m\u001b[1;34m\"type\"\u001b[0m\u001b[1;39m: \u001b[0m\u001b[0;32m\"m\"\u001b[0m\u001b[1;39m\n",
      "              \u001b[1;39m}\u001b[0m\u001b[1;39m,\n",
      "              \u001b[1;39m{\n",
      "                \u001b[0m\u001b[1;34m\"src\"\u001b[0m\u001b[1;39m: \u001b[0m\u001b[0;32m\"https://sun9-6.userapi.com/c505536/u329361482/d28/-3/s_91c6a4717a.jpg\"\u001b[0m\u001b[1;39m,\n",
      "                \u001b[0m\u001b[1;34m\"width\"\u001b[0m\u001b[1;39m: \u001b[0m\u001b[0;39m100\u001b[0m\u001b[1;39m,\n",
      "                \u001b[0m\u001b[1;34m\"height\"\u001b[0m\u001b[1;39m: \u001b[0m\u001b[0;39m72\u001b[0m\u001b[1;39m,\n",
      "                \u001b[0m\u001b[1;34m\"type\"\u001b[0m\u001b[1;39m: \u001b[0m\u001b[0;32m\"s\"\u001b[0m\u001b[1;39m\n",
      "              \u001b[1;39m}\u001b[0m\u001b[1;39m,\n",
      "              \u001b[1;39m{\n",
      "                \u001b[0m\u001b[1;34m\"src\"\u001b[0m\u001b[1;39m: \u001b[0m\u001b[0;32m\"https://sun9-79.userapi.com/c505536/u329361482/d28/-3/x_91c6a4717a.jpg\"\u001b[0m\u001b[1;39m,\n",
      "                \u001b[0m\u001b[1;34m\"width\"\u001b[0m\u001b[1;39m: \u001b[0m\u001b[0;39m604\u001b[0m\u001b[1;39m,\n",
      "                \u001b[0m\u001b[1;34m\"height\"\u001b[0m\u001b[1;39m: \u001b[0m\u001b[0;39m432\u001b[0m\u001b[1;39m,\n",
      "                \u001b[0m\u001b[1;34m\"type\"\u001b[0m\u001b[1;39m: \u001b[0m\u001b[0;32m\"x\"\u001b[0m\u001b[1;39m\n",
      "              \u001b[1;39m}\u001b[0m\u001b[1;39m,\n",
      "              \u001b[1;39m{\n",
      "                \u001b[0m\u001b[1;34m\"src\"\u001b[0m\u001b[1;39m: \u001b[0m\u001b[0;32m\"https://sun9-45.userapi.com/c505536/u329361482/d28/-3/y_91c6a4717a.jpg\"\u001b[0m\u001b[1;39m,\n",
      "                \u001b[0m\u001b[1;34m\"width\"\u001b[0m\u001b[1;39m: \u001b[0m\u001b[0;39m807\u001b[0m\u001b[1;39m,\n",
      "                \u001b[0m\u001b[1;34m\"height\"\u001b[0m\u001b[1;39m: \u001b[0m\u001b[0;39m577\u001b[0m\u001b[1;39m,\n",
      "                \u001b[0m\u001b[1;34m\"type\"\u001b[0m\u001b[1;39m: \u001b[0m\u001b[0;32m\"y\"\u001b[0m\u001b[1;39m\n",
      "              \u001b[1;39m}\u001b[0m\u001b[1;39m,\n",
      "              \u001b[1;39m{\n",
      "                \u001b[0m\u001b[1;34m\"src\"\u001b[0m\u001b[1;39m: \u001b[0m\u001b[0;32m\"https://sun9-80.userapi.com/c505536/u329361482/d28/-3/o_91c6a4717a.jpg\"\u001b[0m\u001b[1;39m,\n",
      "                \u001b[0m\u001b[1;34m\"width\"\u001b[0m\u001b[1;39m: \u001b[0m\u001b[0;39m877\u001b[0m\u001b[1;39m,\n",
      "                \u001b[0m\u001b[1;34m\"height\"\u001b[0m\u001b[1;39m: \u001b[0m\u001b[0;39m627\u001b[0m\u001b[1;39m,\n",
      "                \u001b[0m\u001b[1;34m\"type\"\u001b[0m\u001b[1;39m: \u001b[0m\u001b[0;32m\"o\"\u001b[0m\u001b[1;39m\n",
      "              \u001b[1;39m}\u001b[0m\u001b[1;39m\n",
      "            \u001b[1;39m]\u001b[0m\u001b[1;39m\n",
      "          \u001b[1;39m}\u001b[0m\u001b[1;39m\n",
      "        \u001b[1;39m}\u001b[0m\u001b[1;39m,\n",
      "        \u001b[0m\u001b[1;34m\"is_unsafe\"\u001b[0m\u001b[1;39m: \u001b[0m\u001b[0;39m0\u001b[0m\u001b[1;39m,\n",
      "        \u001b[0m\u001b[1;34m\"can_manage\"\u001b[0m\u001b[1;39m: \u001b[0m\u001b[0;39mtrue\u001b[0m\u001b[1;39m\n",
      "      \u001b[1;39m}\u001b[0m\u001b[1;39m\n",
      "    \u001b[1;39m]\u001b[0m\u001b[1;39m\n",
      "  \u001b[1;39m}\u001b[0m\u001b[1;39m\n",
      "\u001b[1;39m}\u001b[0m\n"
     ]
    }
   ],
   "source": [
    "curl -Gs https://api.vk.com/method/docs.get \\\n",
    "-d v=5.199 \\\n",
    "-d access_token=$TOKEN \\\n",
    "-d owner_id=329361482 \\\n",
    "-d type=4 \\\n",
    "-d count=2 | jq"
   ]
  },
  {
   "cell_type": "code",
   "execution_count": 19,
   "id": "8ab926ce-c0ed-426c-ae5b-f49d2d971f16",
   "metadata": {
    "scrolled": true
   },
   "outputs": [
    {
     "name": "stdout",
     "output_type": "stream",
     "text": [
      "\u001b[1;39m{\n",
      "  \u001b[0m\u001b[1;34m\"response\"\u001b[0m\u001b[1;39m: \u001b[0m\u001b[1;39m{\n",
      "    \u001b[0m\u001b[1;34m\"upload_url\"\u001b[0m\u001b[1;39m: \u001b[0m\u001b[0;32m\"https://pu.vk.com/c909228/upload_doc.php?act=add_doc&mid=329361482&aid=0&gid=0&type=0&hash=7a3e38e7ed3d94bcef7312e129139049&rhash=f2a1d2e5ba009275c82e39bee8e6530c&api=1\"\u001b[0m\u001b[1;39m\n",
      "  \u001b[1;39m}\u001b[0m\u001b[1;39m\n",
      "\u001b[1;39m}\u001b[0m\n"
     ]
    }
   ],
   "source": [
    "upload_url=$(\n",
    "    curl -Gs https://api.vk.com/method/docs.getUploadServer \\\n",
    "    -d v=5.199 \\\n",
    "    -d access_token=$TOKEN \\\n",
    "    | tee >(jq >&2) \\\n",
    "    | jq '.response.upload_url'\n",
    ")"
   ]
  },
  {
   "cell_type": "code",
   "execution_count": 20,
   "id": "2857e9e4-bf09-453e-af83-3d5d06b126be",
   "metadata": {},
   "outputs": [
    {
     "name": "stdout",
     "output_type": "stream",
     "text": [
      "\"https://pu.vk.com/c909228/upload_doc.php?act=add_doc&mid=329361482&aid=0&gid=0&type=0&hash=7a3e38e7ed3d94bcef7312e129139049&rhash=f2a1d2e5ba009275c82e39bee8e6530c&api=1\"\n"
     ]
    }
   ],
   "source": [
    "echo \"$upload_url\""
   ]
  },
  {
   "cell_type": "code",
   "execution_count": 21,
   "id": "392e14c0-d637-400c-873e-57b2579e2886",
   "metadata": {},
   "outputs": [
    {
     "name": "stdout",
     "output_type": "stream",
     "text": [
      "\u001b[1;39m{\n",
      "  \u001b[0m\u001b[1;34m\"file\"\u001b[0m\u001b[1;39m: \u001b[0m\u001b[0;32m\"329361482|0|0|909228|f38d2eede7|ipynb|49476|lab3.ipynb|66a13565577351c9b00939c6085bd4fc|102314a0289f9599b7f16335c30a608d||||eyJkaXNrIjoiNTEifQ==\"\u001b[0m\u001b[1;39m\n",
      "\u001b[1;39m}\u001b[0m\n"
     ]
    }
   ],
   "source": [
    "file_info=$(\n",
    "    curl -s -X POST ${upload_url:1:-1} -F file=@./lab3.ipynb \\\n",
    "    | tee >(jq >&2) \\\n",
    "    | jq '.file'\n",
    ")"
   ]
  },
  {
   "cell_type": "code",
   "execution_count": 22,
   "id": "acaec98a-0093-4e1f-8415-60842dab012f",
   "metadata": {},
   "outputs": [
    {
     "name": "stdout",
     "output_type": "stream",
     "text": [
      "\"329361482|0|0|909228|f38d2eede7|ipynb|49476|lab3.ipynb|66a13565577351c9b00939c6085bd4fc|102314a0289f9599b7f16335c30a608d||||eyJkaXNrIjoiNTEifQ==\"\n"
     ]
    }
   ],
   "source": [
    "echo \"$file_info\""
   ]
  },
  {
   "cell_type": "code",
   "execution_count": 23,
   "id": "e64b6e10-16c0-4fde-8c3e-679439a06d81",
   "metadata": {
    "scrolled": true
   },
   "outputs": [
    {
     "name": "stdout",
     "output_type": "stream",
     "text": [
      "\u001b[1;39m{\n",
      "  \u001b[0m\u001b[1;34m\"response\"\u001b[0m\u001b[1;39m: \u001b[0m\u001b[1;39m{\n",
      "    \u001b[0m\u001b[1;34m\"type\"\u001b[0m\u001b[1;39m: \u001b[0m\u001b[0;32m\"doc\"\u001b[0m\u001b[1;39m,\n",
      "    \u001b[0m\u001b[1;34m\"doc\"\u001b[0m\u001b[1;39m: \u001b[0m\u001b[1;39m{\n",
      "      \u001b[0m\u001b[1;34m\"id\"\u001b[0m\u001b[1;39m: \u001b[0m\u001b[0;39m671963638\u001b[0m\u001b[1;39m,\n",
      "      \u001b[0m\u001b[1;34m\"owner_id\"\u001b[0m\u001b[1;39m: \u001b[0m\u001b[0;39m329361482\u001b[0m\u001b[1;39m,\n",
      "      \u001b[0m\u001b[1;34m\"title\"\u001b[0m\u001b[1;39m: \u001b[0m\u001b[0;32m\"/DKkdhrmRWh0iUs1-lab3.ipynb\"\u001b[0m\u001b[1;39m,\n",
      "      \u001b[0m\u001b[1;34m\"size\"\u001b[0m\u001b[1;39m: \u001b[0m\u001b[0;39m49476\u001b[0m\u001b[1;39m,\n",
      "      \u001b[0m\u001b[1;34m\"ext\"\u001b[0m\u001b[1;39m: \u001b[0m\u001b[0;32m\"ipynb\"\u001b[0m\u001b[1;39m,\n",
      "      \u001b[0m\u001b[1;34m\"date\"\u001b[0m\u001b[1;39m: \u001b[0m\u001b[0;39m1714610492\u001b[0m\u001b[1;39m,\n",
      "      \u001b[0m\u001b[1;34m\"type\"\u001b[0m\u001b[1;39m: \u001b[0m\u001b[0;39m8\u001b[0m\u001b[1;39m,\n",
      "      \u001b[0m\u001b[1;34m\"url\"\u001b[0m\u001b[1;39m: \u001b[0m\u001b[0;32m\"https://vk.com/doc329361482_671963638?hash=aIG8jvoHQqjK7utC5GSsfi3lbLnWfnuOy1tzqdJ2gzk&dl=2Th5O1hUo7M34sgcLIKb3gXYxHPLjEikMZlbAIVYOQo&api=1&no_preview=1\"\u001b[0m\u001b[1;39m,\n",
      "      \u001b[0m\u001b[1;34m\"is_unsafe\"\u001b[0m\u001b[1;39m: \u001b[0m\u001b[0;39m0\u001b[0m\u001b[1;39m,\n",
      "      \u001b[0m\u001b[1;34m\"can_manage\"\u001b[0m\u001b[1;39m: \u001b[0m\u001b[0;39mtrue\u001b[0m\u001b[1;39m\n",
      "    \u001b[1;39m}\u001b[0m\u001b[1;39m\n",
      "  \u001b[1;39m}\u001b[0m\u001b[1;39m\n",
      "\u001b[1;39m}\u001b[0m\n"
     ]
    }
   ],
   "source": [
    "curl -Gs https://api.vk.com/method/docs.save \\\n",
    "-d v=5.199 \\\n",
    "-d access_token=$TOKEN \\\n",
    "-d file=${file_info:1:-1} \\\n",
    "-d title=$(openssl rand -base64 12)-lab3.ipynb | jq"
   ]
  },
  {
   "cell_type": "markdown",
   "id": "d82177ab-33f1-4547-a8fe-05bbdf3b4897",
   "metadata": {},
   "source": [
    "## Группа методов `photos`"
   ]
  },
  {
   "cell_type": "code",
   "execution_count": 24,
   "id": "34cec3f9-57a5-466c-8837-48b8c86509f6",
   "metadata": {
    "scrolled": true
   },
   "outputs": [
    {
     "name": "stdout",
     "output_type": "stream",
     "text": [
      "\u001b[1;39m{\n",
      "  \u001b[0m\u001b[1;34m\"response\"\u001b[0m\u001b[1;39m: \u001b[0m\u001b[1;39m{\n",
      "    \u001b[0m\u001b[1;34m\"count\"\u001b[0m\u001b[1;39m: \u001b[0m\u001b[0;39m10\u001b[0m\u001b[1;39m,\n",
      "    \u001b[0m\u001b[1;34m\"items\"\u001b[0m\u001b[1;39m: \u001b[0m\u001b[1;39m[\n",
      "      \u001b[1;39m{\n",
      "        \u001b[0m\u001b[1;34m\"album_id\"\u001b[0m\u001b[1;39m: \u001b[0m\u001b[0;39m302557033\u001b[0m\u001b[1;39m,\n",
      "        \u001b[0m\u001b[1;34m\"date\"\u001b[0m\u001b[1;39m: \u001b[0m\u001b[0;39m1714610457\u001b[0m\u001b[1;39m,\n",
      "        \u001b[0m\u001b[1;34m\"id\"\u001b[0m\u001b[1;39m: \u001b[0m\u001b[0;39m457241795\u001b[0m\u001b[1;39m,\n",
      "        \u001b[0m\u001b[1;34m\"owner_id\"\u001b[0m\u001b[1;39m: \u001b[0m\u001b[0;39m329361482\u001b[0m\u001b[1;39m,\n",
      "        \u001b[0m\u001b[1;34m\"sizes\"\u001b[0m\u001b[1;39m: \u001b[0m\u001b[1;39m[\n",
      "          \u001b[1;39m{\n",
      "            \u001b[0m\u001b[1;34m\"height\"\u001b[0m\u001b[1;39m: \u001b[0m\u001b[0;39m510\u001b[0m\u001b[1;39m,\n",
      "            \u001b[0m\u001b[1;34m\"type\"\u001b[0m\u001b[1;39m: \u001b[0m\u001b[0;32m\"r\"\u001b[0m\u001b[1;39m,\n",
      "            \u001b[0m\u001b[1;34m\"width\"\u001b[0m\u001b[1;39m: \u001b[0m\u001b[0;39m510\u001b[0m\u001b[1;39m,\n",
      "            \u001b[0m\u001b[1;34m\"url\"\u001b[0m\u001b[1;39m: \u001b[0m\u001b[0;32m\"https://sun9-29.userapi.com/impg/42-Ka8J-nCeAv38QraDQD7ebij3m9ilUM-J5-g/PSOUFIwFSyQ.jpg?size=510x510&quality=96&sign=afd8b538b7c0e73775260afbad520d3f&c_uniq_tag=PG3ZIdXDXywEy5oJbq9q98NZ7lu0gXkBMKs64QBh7wA&type=album\"\u001b[0m\u001b[1;39m\n",
      "          \u001b[1;39m}\u001b[0m\u001b[1;39m\n",
      "        \u001b[1;39m]\u001b[0m\u001b[1;39m,\n",
      "        \u001b[0m\u001b[1;34m\"text\"\u001b[0m\u001b[1;39m: \u001b[0m\u001b[0;32m\"3U/fuA0HG AuA3 R-418.jpg\"\u001b[0m\u001b[1;39m,\n",
      "        \u001b[0m\u001b[1;34m\"web_view_token\"\u001b[0m\u001b[1;39m: \u001b[0m\u001b[0;32m\"67bfc84dbca3943538\"\u001b[0m\u001b[1;39m,\n",
      "        \u001b[0m\u001b[1;34m\"has_tags\"\u001b[0m\u001b[1;39m: \u001b[0m\u001b[0;39mfalse\u001b[0m\u001b[1;39m,\n",
      "        \u001b[0m\u001b[1;34m\"hidden\"\u001b[0m\u001b[1;39m: \u001b[0m\u001b[0;39m1\u001b[0m\u001b[1;39m\n",
      "      \u001b[1;39m}\u001b[0m\u001b[1;39m,\n",
      "      \u001b[1;39m{\n",
      "        \u001b[0m\u001b[1;34m\"album_id\"\u001b[0m\u001b[1;39m: \u001b[0m\u001b[0;39m302557033\u001b[0m\u001b[1;39m,\n",
      "        \u001b[0m\u001b[1;34m\"date\"\u001b[0m\u001b[1;39m: \u001b[0m\u001b[0;39m1714610364\u001b[0m\u001b[1;39m,\n",
      "        \u001b[0m\u001b[1;34m\"id\"\u001b[0m\u001b[1;39m: \u001b[0m\u001b[0;39m457241794\u001b[0m\u001b[1;39m,\n",
      "        \u001b[0m\u001b[1;34m\"owner_id\"\u001b[0m\u001b[1;39m: \u001b[0m\u001b[0;39m329361482\u001b[0m\u001b[1;39m,\n",
      "        \u001b[0m\u001b[1;34m\"sizes\"\u001b[0m\u001b[1;39m: \u001b[0m\u001b[1;39m[\n",
      "          \u001b[1;39m{\n",
      "            \u001b[0m\u001b[1;34m\"height\"\u001b[0m\u001b[1;39m: \u001b[0m\u001b[0;39m510\u001b[0m\u001b[1;39m,\n",
      "            \u001b[0m\u001b[1;34m\"type\"\u001b[0m\u001b[1;39m: \u001b[0m\u001b[0;32m\"r\"\u001b[0m\u001b[1;39m,\n",
      "            \u001b[0m\u001b[1;34m\"width\"\u001b[0m\u001b[1;39m: \u001b[0m\u001b[0;39m510\u001b[0m\u001b[1;39m,\n",
      "            \u001b[0m\u001b[1;34m\"url\"\u001b[0m\u001b[1;39m: \u001b[0m\u001b[0;32m\"https://sun9-29.userapi.com/impg/42-Ka8J-nCeAv38QraDQD7ebij3m9ilUM-J5-g/gWd8ekyMmLA.jpg?size=510x510&quality=96&sign=5e251815e11aa48ad27790f962d1607d&c_uniq_tag=5WsKIB6rv1thUGmqEMpGJnr4vOCO1EeJM2VwymRx_Rk&type=album\"\u001b[0m\u001b[1;39m\n",
      "          \u001b[1;39m}\u001b[0m\u001b[1;39m\n",
      "        \u001b[1;39m]\u001b[0m\u001b[1;39m,\n",
      "        \u001b[0m\u001b[1;34m\"text\"\u001b[0m\u001b[1;39m: \u001b[0m\u001b[0;32m\"S1/V7gbWgCnm5 Qr-418.jpg\"\u001b[0m\u001b[1;39m,\n",
      "        \u001b[0m\u001b[1;34m\"web_view_token\"\u001b[0m\u001b[1;39m: \u001b[0m\u001b[0;32m\"7574e4349755f36695\"\u001b[0m\u001b[1;39m,\n",
      "        \u001b[0m\u001b[1;34m\"has_tags\"\u001b[0m\u001b[1;39m: \u001b[0m\u001b[0;39mfalse\u001b[0m\u001b[1;39m,\n",
      "        \u001b[0m\u001b[1;34m\"hidden\"\u001b[0m\u001b[1;39m: \u001b[0m\u001b[0;39m1\u001b[0m\u001b[1;39m\n",
      "      \u001b[1;39m}\u001b[0m\u001b[1;39m\n",
      "    \u001b[1;39m]\u001b[0m\u001b[1;39m\n",
      "  \u001b[1;39m}\u001b[0m\u001b[1;39m\n",
      "\u001b[1;39m}\u001b[0m\n"
     ]
    }
   ],
   "source": [
    "photo_id=$(\n",
    "    curl -Gs https://api.vk.com/method/photos.getAll \\\n",
    "    -d v=5.199 \\\n",
    "    -d access_token=$TOKEN \\\n",
    "    -d owner_id=329361482 \\\n",
    "    -d need_hidden=1 \\\n",
    "    -d photo_sizes=1 \\\n",
    "    -d count=2 \\\n",
    "    | tee >(jq 'del(.response.items.[].sizes[0:-1])' >&2) \\\n",
    "    | jq '.response.items[0].id'\n",
    ")"
   ]
  },
  {
   "cell_type": "code",
   "execution_count": 25,
   "id": "9e4d6e6b-d792-434f-9701-09e8c815b9ca",
   "metadata": {
    "scrolled": true
   },
   "outputs": [
    {
     "name": "stdout",
     "output_type": "stream",
     "text": [
      "457241795\n"
     ]
    }
   ],
   "source": [
    "echo \"$photo_id\""
   ]
  },
  {
   "cell_type": "code",
   "execution_count": 26,
   "id": "b33be9e8-038a-4ea8-bd2e-a246beafa9d8",
   "metadata": {
    "scrolled": true
   },
   "outputs": [
    {
     "name": "stdout",
     "output_type": "stream",
     "text": [
      "\u001b[1;39m{\n",
      "  \u001b[0m\u001b[1;34m\"response\"\u001b[0m\u001b[1;39m: \u001b[0m\u001b[1;39m{\n",
      "    \u001b[0m\u001b[1;34m\"count\"\u001b[0m\u001b[1;39m: \u001b[0m\u001b[0;39m0\u001b[0m\u001b[1;39m,\n",
      "    \u001b[0m\u001b[1;34m\"items\"\u001b[0m\u001b[1;39m: \u001b[0m\u001b[1;39m[]\u001b[0m\u001b[1;39m\n",
      "  \u001b[1;39m}\u001b[0m\u001b[1;39m\n",
      "\u001b[1;39m}\u001b[0m\n"
     ]
    }
   ],
   "source": [
    "curl -Gs https://api.vk.com/method/photos.getComments \\\n",
    "-d v=5.199 \\\n",
    "-d access_token=$TOKEN \\\n",
    "-d owner_id=329361482 \\\n",
    "-d photo_id=$photo_id | jq"
   ]
  },
  {
   "cell_type": "code",
   "execution_count": 27,
   "id": "2c502a48-e6e8-474e-beb0-fc582a9d04d0",
   "metadata": {},
   "outputs": [
    {
     "name": "stdout",
     "output_type": "stream",
     "text": [
      "  % Total    % Received % Xferd  Average Speed   Time    Time     Time  Current\n",
      "                                 Dload  Upload   Total   Spent    Left  Speed\n",
      "100    80  100    80    0     0      9      0  0:00:08  0:00:08 --:--:--    20\n",
      "100   207  100   207    0     0     23      0  0:00:09  0:00:08  0:00:01     0\n",
      "100 19251  100 19251    0     0   2118      0  0:00:09  0:00:09 --:--:--  2118\n"
     ]
    }
   ],
   "source": [
    "curl https://random.imagecdn.app/512/512 -L -o /tmp/img.png"
   ]
  },
  {
   "cell_type": "code",
   "execution_count": 28,
   "id": "fa335dbe-7a03-4f70-86b1-17c294b06324",
   "metadata": {
    "scrolled": true
   },
   "outputs": [
    {
     "name": "stdout",
     "output_type": "stream",
     "text": [
      "\u001b[1;39m{\n",
      "  \u001b[0m\u001b[1;34m\"response\"\u001b[0m\u001b[1;39m: \u001b[0m\u001b[1;39m{\n",
      "    \u001b[0m\u001b[1;34m\"count\"\u001b[0m\u001b[1;39m: \u001b[0m\u001b[0;39m1\u001b[0m\u001b[1;39m,\n",
      "    \u001b[0m\u001b[1;34m\"items\"\u001b[0m\u001b[1;39m: \u001b[0m\u001b[1;39m[\n",
      "      \u001b[1;39m{\n",
      "        \u001b[0m\u001b[1;34m\"id\"\u001b[0m\u001b[1;39m: \u001b[0m\u001b[0;39m302557033\u001b[0m\u001b[1;39m,\n",
      "        \u001b[0m\u001b[1;34m\"owner_id\"\u001b[0m\u001b[1;39m: \u001b[0m\u001b[0;39m329361482\u001b[0m\u001b[1;39m,\n",
      "        \u001b[0m\u001b[1;34m\"size\"\u001b[0m\u001b[1;39m: \u001b[0m\u001b[0;39m6\u001b[0m\u001b[1;39m,\n",
      "        \u001b[0m\u001b[1;34m\"title\"\u001b[0m\u001b[1;39m: \u001b[0m\u001b[0;32m\"photos\"\u001b[0m\u001b[1;39m,\n",
      "        \u001b[0m\u001b[1;34m\"feed_disabled\"\u001b[0m\u001b[1;39m: \u001b[0m\u001b[0;39m0\u001b[0m\u001b[1;39m,\n",
      "        \u001b[0m\u001b[1;34m\"feed_has_pinned\"\u001b[0m\u001b[1;39m: \u001b[0m\u001b[0;39m0\u001b[0m\u001b[1;39m,\n",
      "        \u001b[0m\u001b[1;34m\"created\"\u001b[0m\u001b[1;39m: \u001b[0m\u001b[0;39m1714605876\u001b[0m\u001b[1;39m,\n",
      "        \u001b[0m\u001b[1;34m\"description\"\u001b[0m\u001b[1;39m: \u001b[0m\u001b[0;32m\"\"\u001b[0m\u001b[1;39m,\n",
      "        \u001b[0m\u001b[1;34m\"can_delete\"\u001b[0m\u001b[1;39m: \u001b[0m\u001b[0;39mtrue\u001b[0m\u001b[1;39m,\n",
      "        \u001b[0m\u001b[1;34m\"can_include_to_feed\"\u001b[0m\u001b[1;39m: \u001b[0m\u001b[0;39mfalse\u001b[0m\u001b[1;39m,\n",
      "        \u001b[0m\u001b[1;34m\"is_locked\"\u001b[0m\u001b[1;39m: \u001b[0m\u001b[0;39mtrue\u001b[0m\u001b[1;39m,\n",
      "        \u001b[0m\u001b[1;34m\"privacy_comment\"\u001b[0m\u001b[1;39m: \u001b[0m\u001b[1;39m{\n",
      "          \u001b[0m\u001b[1;34m\"category\"\u001b[0m\u001b[1;39m: \u001b[0m\u001b[0;32m\"friends\"\u001b[0m\u001b[1;39m,\n",
      "          \u001b[0m\u001b[1;34m\"lists\"\u001b[0m\u001b[1;39m: \u001b[0m\u001b[1;39m{\n",
      "            \u001b[0m\u001b[1;34m\"allowed\"\u001b[0m\u001b[1;39m: \u001b[0m\u001b[1;39m[]\u001b[0m\u001b[1;39m,\n",
      "            \u001b[0m\u001b[1;34m\"excluded\"\u001b[0m\u001b[1;39m: \u001b[0m\u001b[1;39m[]\u001b[0m\u001b[1;39m\n",
      "          \u001b[1;39m}\u001b[0m\u001b[1;39m,\n",
      "          \u001b[0m\u001b[1;34m\"owners\"\u001b[0m\u001b[1;39m: \u001b[0m\u001b[1;39m{\n",
      "            \u001b[0m\u001b[1;34m\"allowed\"\u001b[0m\u001b[1;39m: \u001b[0m\u001b[1;39m[]\u001b[0m\u001b[1;39m,\n",
      "            \u001b[0m\u001b[1;34m\"excluded\"\u001b[0m\u001b[1;39m: \u001b[0m\u001b[1;39m[]\u001b[0m\u001b[1;39m\n",
      "          \u001b[1;39m}\u001b[0m\u001b[1;39m\n",
      "        \u001b[1;39m}\u001b[0m\u001b[1;39m,\n",
      "        \u001b[0m\u001b[1;34m\"privacy_view\"\u001b[0m\u001b[1;39m: \u001b[0m\u001b[1;39m{\n",
      "          \u001b[0m\u001b[1;34m\"category\"\u001b[0m\u001b[1;39m: \u001b[0m\u001b[0;32m\"only_me\"\u001b[0m\u001b[1;39m,\n",
      "          \u001b[0m\u001b[1;34m\"lists\"\u001b[0m\u001b[1;39m: \u001b[0m\u001b[1;39m{\n",
      "            \u001b[0m\u001b[1;34m\"allowed\"\u001b[0m\u001b[1;39m: \u001b[0m\u001b[1;39m[]\u001b[0m\u001b[1;39m,\n",
      "            \u001b[0m\u001b[1;34m\"excluded\"\u001b[0m\u001b[1;39m: \u001b[0m\u001b[1;39m[]\u001b[0m\u001b[1;39m\n",
      "          \u001b[1;39m}\u001b[0m\u001b[1;39m,\n",
      "          \u001b[0m\u001b[1;34m\"owners\"\u001b[0m\u001b[1;39m: \u001b[0m\u001b[1;39m{\n",
      "            \u001b[0m\u001b[1;34m\"allowed\"\u001b[0m\u001b[1;39m: \u001b[0m\u001b[1;39m[]\u001b[0m\u001b[1;39m,\n",
      "            \u001b[0m\u001b[1;34m\"excluded\"\u001b[0m\u001b[1;39m: \u001b[0m\u001b[1;39m[]\u001b[0m\u001b[1;39m\n",
      "          \u001b[1;39m}\u001b[0m\u001b[1;39m\n",
      "        \u001b[1;39m}\u001b[0m\u001b[1;39m,\n",
      "        \u001b[0m\u001b[1;34m\"thumb_id\"\u001b[0m\u001b[1;39m: \u001b[0m\u001b[0;39m457241795\u001b[0m\u001b[1;39m,\n",
      "        \u001b[0m\u001b[1;34m\"thumb_is_last\"\u001b[0m\u001b[1;39m: \u001b[0m\u001b[0;39m1\u001b[0m\u001b[1;39m,\n",
      "        \u001b[0m\u001b[1;34m\"updated\"\u001b[0m\u001b[1;39m: \u001b[0m\u001b[0;39m1714610457\u001b[0m\u001b[1;39m\n",
      "      \u001b[1;39m}\u001b[0m\u001b[1;39m\n",
      "    \u001b[1;39m]\u001b[0m\u001b[1;39m\n",
      "  \u001b[1;39m}\u001b[0m\u001b[1;39m\n",
      "\u001b[1;39m}\u001b[0m\n"
     ]
    }
   ],
   "source": [
    "album_id=$(\n",
    "    curl -Gs https://api.vk.com/method/photos.getAlbums \\\n",
    "    -d v=5.199 \\\n",
    "    -d access_token=$TOKEN \\\n",
    "    | tee >(jq >&2) \\\n",
    "    | jq '.response.items | map(select(.title == \"photos\")).[0].id'\n",
    ")"
   ]
  },
  {
   "cell_type": "code",
   "execution_count": 29,
   "id": "92fac41e-794a-479e-af9f-a5cafbdc550a",
   "metadata": {},
   "outputs": [
    {
     "name": "stdout",
     "output_type": "stream",
     "text": [
      "302557033\n"
     ]
    }
   ],
   "source": [
    "echo \"$album_id\""
   ]
  },
  {
   "cell_type": "code",
   "execution_count": 30,
   "id": "7705fd72-c775-45ee-acae-4b23eb7a7157",
   "metadata": {
    "scrolled": true
   },
   "outputs": [],
   "source": [
    "if [ \"$album_id\" = \"null\" ]; then\n",
    "    album_id=$(\n",
    "        curl -Gs https://api.vk.com/method/photos.createAlbum \\\n",
    "        -d v=5.199 \\\n",
    "        -d access_token=$TOKEN \\\n",
    "        -d title=\"photos\" \\\n",
    "        -d privacy_view=only_me \\\n",
    "        | tee >(jq >&2) \\\n",
    "        | jq '.response.id'\n",
    "    )\n",
    "fi"
   ]
  },
  {
   "cell_type": "code",
   "execution_count": 31,
   "id": "b994c681-0cd6-42b0-89fe-6cc6cdaafc18",
   "metadata": {},
   "outputs": [
    {
     "name": "stdout",
     "output_type": "stream",
     "text": [
      "302557033\n"
     ]
    }
   ],
   "source": [
    "echo \"$album_id\""
   ]
  },
  {
   "cell_type": "code",
   "execution_count": 32,
   "id": "464a7404-a424-4075-a124-b7aefa85ec92",
   "metadata": {
    "scrolled": true
   },
   "outputs": [
    {
     "name": "stdout",
     "output_type": "stream",
     "text": [
      "\u001b[1;39m{\n",
      "  \u001b[0m\u001b[1;34m\"response\"\u001b[0m\u001b[1;39m: \u001b[0m\u001b[1;39m{\n",
      "    \u001b[0m\u001b[1;34m\"album_id\"\u001b[0m\u001b[1;39m: \u001b[0m\u001b[0;39m302557033\u001b[0m\u001b[1;39m,\n",
      "    \u001b[0m\u001b[1;34m\"upload_url\"\u001b[0m\u001b[1;39m: \u001b[0m\u001b[0;32m\"https://pu.vk.com/c907728/ss2307/upload.php?act=do_add&mid=329361482&aid=302557033&gid=0&hash=6a0038b54286ab5a4c842a552cc5a3ec&rhash=ebd7e113fb4e0b774a09c1bc2ee946bf&swfupload=1&api=1\"\u001b[0m\u001b[1;39m,\n",
      "    \u001b[0m\u001b[1;34m\"user_id\"\u001b[0m\u001b[1;39m: \u001b[0m\u001b[0;39m329361482\u001b[0m\u001b[1;39m\n",
      "  \u001b[1;39m}\u001b[0m\u001b[1;39m\n",
      "\u001b[1;39m}\u001b[0m\n"
     ]
    }
   ],
   "source": [
    "upload_url=$(\n",
    "    curl -Gs https://api.vk.com/method/photos.getUploadServer \\\n",
    "    -d v=5.199 \\\n",
    "    -d access_token=$TOKEN \\\n",
    "    -d album_id=$album_id \\\n",
    "    | tee >(jq >&2) \\\n",
    "    | jq '.response.upload_url'\n",
    ")"
   ]
  },
  {
   "cell_type": "code",
   "execution_count": 33,
   "id": "12647a97-ad79-45c3-838e-dc0276342c69",
   "metadata": {},
   "outputs": [
    {
     "name": "stdout",
     "output_type": "stream",
     "text": [
      "\"https://pu.vk.com/c907728/ss2307/upload.php?act=do_add&mid=329361482&aid=302557033&gid=0&hash=6a0038b54286ab5a4c842a552cc5a3ec&rhash=ebd7e113fb4e0b774a09c1bc2ee946bf&swfupload=1&api=1\"\n"
     ]
    }
   ],
   "source": [
    "echo \"$upload_url\""
   ]
  },
  {
   "cell_type": "code",
   "execution_count": 34,
   "id": "3f258918-5d51-48e5-b5c0-d6aaf9309bdd",
   "metadata": {},
   "outputs": [
    {
     "name": "stdout",
     "output_type": "stream",
     "text": [
      "\u001b[1;39m{\n",
      "  \u001b[0m\u001b[1;34m\"server\"\u001b[0m\u001b[1;39m: \u001b[0m\u001b[0;39m907728\u001b[0m\u001b[1;39m,\n",
      "  \u001b[0m\u001b[1;34m\"photos_list\"\u001b[0m\u001b[1;39m: \u001b[0m\u001b[0;32m\"[{\\\"markers_restarted\\\":true,\\\"photo\\\":\\\"d647a70507:x\\\",\\\"sizes\\\":[],\\\"latitude\\\":0,\\\"longitude\\\":0,\\\"kid\\\":\\\"87b933148318e860f8e000e4ec16c363\\\",\\\"sizes2\\\":[[\\\"s\\\",\\\"c2db0559dcd95414018b096115a1e2bfbf6ef30bad98d88074f6df3a\\\",\\\"-6507193693994561670\\\",75,75],[\\\"m\\\",\\\"8d25966056b68a844b8ec72534ca7756a1995e6754c532d41eb90c18\\\",\\\"-1791684572540499739\\\",130,130],[\\\"x\\\",\\\"bc1e103eae52f106d5a649b1c87c09db7bf493537cd41923f09f6c91\\\",\\\"8007909409160257993\\\",512,512],[\\\"o\\\",\\\"8d25966056b68a844b8ec72534ca7756a1995e6754c532d41eb90c18\\\",\\\"-6568658320281976842\\\",130,130],[\\\"p\\\",\\\"e876c39ce45567a13b427c53f2287c5127b08ad599ab7b8e11e1f70d\\\",\\\"-1325080263667691904\\\",200,200],[\\\"q\\\",\\\"ea3f95974bc5aee2d1aca0ea27f85278d2b0dad7513a9ac652968daf\\\",\\\"8716540838231597853\\\",320,320],[\\\"r\\\",\\\"1c0a1e73d3713434fdff0ddda451d61a7105b196a22aecf61199ef3f\\\",\\\"1501554123802914052\\\",510,510]],\\\"urls\\\":[],\\\"urls2\\\":[\\\"wtsFWdzZVBQBiwlhFaHiv79u8wutmNiAdPbfOg/es_K2M_NsaU.jpg\\\",\\\"jSWWYFa2ioRLjsclNMp3VqGZXmdUxTLUHrkMGA/5QgtwF-oIuc.jpg\\\",\\\"vB4QPq5S8QbVpkmxyHwJ23v0k1N81Bkj8J9skQ/yWGBDi7PIW8.jpg\\\",\\\"jSWWYFa2ioRLjsclNMp3VqGZXmdUxTLUHrkMGA/9r-tWA9w16Q.jpg\\\",\\\"6HbDnORVZ6E7QnxT8ih8USewitWZq3uOEeH3DQ/gM40UYVenO0.jpg\\\",\\\"6j-Vl0vFruLRrKDqJ_hSeNKw2tdROprGUpaNrw/HeP6zLVf93g.jpg\\\",\\\"HAoec9NxNDT9_w3dpFHWGnEFsZaiKuz2EZnvPw/BK1LIIWX1hQ.jpg\\\"]}]\"\u001b[0m\u001b[1;39m,\n",
      "  \u001b[0m\u001b[1;34m\"aid\"\u001b[0m\u001b[1;39m: \u001b[0m\u001b[0;39m302557033\u001b[0m\u001b[1;39m,\n",
      "  \u001b[0m\u001b[1;34m\"hash\"\u001b[0m\u001b[1;39m: \u001b[0m\u001b[0;32m\"038c2724941ebe35d2139fe7fe3a1dad\"\u001b[0m\u001b[1;39m\n",
      "\u001b[1;39m}\u001b[0m\n"
     ]
    }
   ],
   "source": [
    "photo_info=$(\n",
    "    curl -s -X POST ${upload_url:1:-1} -F file=@/tmp/img.png \\\n",
    "    | tee >(jq >&2)\n",
    ")"
   ]
  },
  {
   "cell_type": "code",
   "execution_count": 35,
   "id": "a8674439-7792-44d2-bb08-852769c69d34",
   "metadata": {},
   "outputs": [
    {
     "name": "stdout",
     "output_type": "stream",
     "text": [
      "038c2724941ebe35d2139fe7fe3a1dad\n"
     ]
    }
   ],
   "source": [
    "server=$(echo \"$photo_info\" | jq '.server')\n",
    "photos_list=$(echo \"$photo_info\" | jq '.photos_list' | sed 's/\\\\\\\"/\"/g')\n",
    "hash=$(echo \"$photo_info\" | jq '.hash')\n",
    "echo \"${hash:1:-1}\""
   ]
  },
  {
   "cell_type": "code",
   "execution_count": 36,
   "id": "18fa778d-8ab4-47b0-bf23-e96595377900",
   "metadata": {
    "scrolled": true
   },
   "outputs": [
    {
     "name": "stdout",
     "output_type": "stream",
     "text": [
      "\u001b[1;39m{\n",
      "  \u001b[0m\u001b[1;34m\"response\"\u001b[0m\u001b[1;39m: \u001b[0m\u001b[1;39m[\n",
      "    \u001b[1;39m{\n",
      "      \u001b[0m\u001b[1;34m\"album_id\"\u001b[0m\u001b[1;39m: \u001b[0m\u001b[0;39m302557033\u001b[0m\u001b[1;39m,\n",
      "      \u001b[0m\u001b[1;34m\"date\"\u001b[0m\u001b[1;39m: \u001b[0m\u001b[0;39m1714610506\u001b[0m\u001b[1;39m,\n",
      "      \u001b[0m\u001b[1;34m\"id\"\u001b[0m\u001b[1;39m: \u001b[0m\u001b[0;39m457241796\u001b[0m\u001b[1;39m,\n",
      "      \u001b[0m\u001b[1;34m\"owner_id\"\u001b[0m\u001b[1;39m: \u001b[0m\u001b[0;39m329361482\u001b[0m\u001b[1;39m,\n",
      "      \u001b[0m\u001b[1;34m\"sizes\"\u001b[0m\u001b[1;39m: \u001b[0m\u001b[1;39m[\n",
      "        \u001b[1;39m{\n",
      "          \u001b[0m\u001b[1;34m\"height\"\u001b[0m\u001b[1;39m: \u001b[0m\u001b[0;39m75\u001b[0m\u001b[1;39m,\n",
      "          \u001b[0m\u001b[1;34m\"type\"\u001b[0m\u001b[1;39m: \u001b[0m\u001b[0;32m\"s\"\u001b[0m\u001b[1;39m,\n",
      "          \u001b[0m\u001b[1;34m\"width\"\u001b[0m\u001b[1;39m: \u001b[0m\u001b[0;39m75\u001b[0m\u001b[1;39m,\n",
      "          \u001b[0m\u001b[1;34m\"url\"\u001b[0m\u001b[1;39m: \u001b[0m\u001b[0;32m\"https://sun9-7.userapi.com/impg/vB4QPq5S8QbVpkmxyHwJ23v0k1N81Bkj8J9skQ/yWGBDi7PIW8.jpg?size=75x75&quality=96&sign=e79c0cf4be2c0add1ddb574977eefae0&c_uniq_tag=dZmeC6pMP89S5Ac7tspdaM49aL5Je_iD_gWUQpS4LUQ&type=album\"\u001b[0m\u001b[1;39m\n",
      "        \u001b[1;39m}\u001b[0m\u001b[1;39m,\n",
      "        \u001b[1;39m{\n",
      "          \u001b[0m\u001b[1;34m\"height\"\u001b[0m\u001b[1;39m: \u001b[0m\u001b[0;39m130\u001b[0m\u001b[1;39m,\n",
      "          \u001b[0m\u001b[1;34m\"type\"\u001b[0m\u001b[1;39m: \u001b[0m\u001b[0;32m\"m\"\u001b[0m\u001b[1;39m,\n",
      "          \u001b[0m\u001b[1;34m\"width\"\u001b[0m\u001b[1;39m: \u001b[0m\u001b[0;39m130\u001b[0m\u001b[1;39m,\n",
      "          \u001b[0m\u001b[1;34m\"url\"\u001b[0m\u001b[1;39m: \u001b[0m\u001b[0;32m\"https://sun9-7.userapi.com/impg/vB4QPq5S8QbVpkmxyHwJ23v0k1N81Bkj8J9skQ/yWGBDi7PIW8.jpg?size=130x130&quality=96&sign=2d57385d3b579ff4ffec261b3eea7bbc&c_uniq_tag=eLuaZOE8OXS2LmotoKq4Gb7qkO_H7-zJ1A9F2wA2jXc&type=album\"\u001b[0m\u001b[1;39m\n",
      "        \u001b[1;39m}\u001b[0m\u001b[1;39m,\n",
      "        \u001b[1;39m{\n",
      "          \u001b[0m\u001b[1;34m\"height\"\u001b[0m\u001b[1;39m: \u001b[0m\u001b[0;39m512\u001b[0m\u001b[1;39m,\n",
      "          \u001b[0m\u001b[1;34m\"type\"\u001b[0m\u001b[1;39m: \u001b[0m\u001b[0;32m\"x\"\u001b[0m\u001b[1;39m,\n",
      "          \u001b[0m\u001b[1;34m\"width\"\u001b[0m\u001b[1;39m: \u001b[0m\u001b[0;39m512\u001b[0m\u001b[1;39m,\n",
      "          \u001b[0m\u001b[1;34m\"url\"\u001b[0m\u001b[1;39m: \u001b[0m\u001b[0;32m\"https://sun9-7.userapi.com/impg/vB4QPq5S8QbVpkmxyHwJ23v0k1N81Bkj8J9skQ/yWGBDi7PIW8.jpg?size=512x512&quality=96&sign=8dc31bf21ba59252bf77c99f7f07c69f&c_uniq_tag=Xmn1Hcp_IKdOfNRLesKDyXW5TqmOLucpuiJzXok8aoY&type=album\"\u001b[0m\u001b[1;39m\n",
      "        \u001b[1;39m}\u001b[0m\u001b[1;39m,\n",
      "        \u001b[1;39m{\n",
      "          \u001b[0m\u001b[1;34m\"height\"\u001b[0m\u001b[1;39m: \u001b[0m\u001b[0;39m130\u001b[0m\u001b[1;39m,\n",
      "          \u001b[0m\u001b[1;34m\"type\"\u001b[0m\u001b[1;39m: \u001b[0m\u001b[0;32m\"o\"\u001b[0m\u001b[1;39m,\n",
      "          \u001b[0m\u001b[1;34m\"width\"\u001b[0m\u001b[1;39m: \u001b[0m\u001b[0;39m130\u001b[0m\u001b[1;39m,\n",
      "          \u001b[0m\u001b[1;34m\"url\"\u001b[0m\u001b[1;39m: \u001b[0m\u001b[0;32m\"https://sun9-7.userapi.com/impg/vB4QPq5S8QbVpkmxyHwJ23v0k1N81Bkj8J9skQ/yWGBDi7PIW8.jpg?size=130x130&quality=96&sign=2d57385d3b579ff4ffec261b3eea7bbc&c_uniq_tag=eLuaZOE8OXS2LmotoKq4Gb7qkO_H7-zJ1A9F2wA2jXc&type=album\"\u001b[0m\u001b[1;39m\n",
      "        \u001b[1;39m}\u001b[0m\u001b[1;39m,\n",
      "        \u001b[1;39m{\n",
      "          \u001b[0m\u001b[1;34m\"height\"\u001b[0m\u001b[1;39m: \u001b[0m\u001b[0;39m200\u001b[0m\u001b[1;39m,\n",
      "          \u001b[0m\u001b[1;34m\"type\"\u001b[0m\u001b[1;39m: \u001b[0m\u001b[0;32m\"p\"\u001b[0m\u001b[1;39m,\n",
      "          \u001b[0m\u001b[1;34m\"width\"\u001b[0m\u001b[1;39m: \u001b[0m\u001b[0;39m200\u001b[0m\u001b[1;39m,\n",
      "          \u001b[0m\u001b[1;34m\"url\"\u001b[0m\u001b[1;39m: \u001b[0m\u001b[0;32m\"https://sun9-7.userapi.com/impg/vB4QPq5S8QbVpkmxyHwJ23v0k1N81Bkj8J9skQ/yWGBDi7PIW8.jpg?size=200x200&quality=96&sign=296ddb5401feb6e7155124f0dbb4f59a&c_uniq_tag=NKOP9hrvBZU_RpBiKhNH5pCVoW8jZ_IwFKkXj5DhymI&type=album\"\u001b[0m\u001b[1;39m\n",
      "        \u001b[1;39m}\u001b[0m\u001b[1;39m,\n",
      "        \u001b[1;39m{\n",
      "          \u001b[0m\u001b[1;34m\"height\"\u001b[0m\u001b[1;39m: \u001b[0m\u001b[0;39m320\u001b[0m\u001b[1;39m,\n",
      "          \u001b[0m\u001b[1;34m\"type\"\u001b[0m\u001b[1;39m: \u001b[0m\u001b[0;32m\"q\"\u001b[0m\u001b[1;39m,\n",
      "          \u001b[0m\u001b[1;34m\"width\"\u001b[0m\u001b[1;39m: \u001b[0m\u001b[0;39m320\u001b[0m\u001b[1;39m,\n",
      "          \u001b[0m\u001b[1;34m\"url\"\u001b[0m\u001b[1;39m: \u001b[0m\u001b[0;32m\"https://sun9-7.userapi.com/impg/vB4QPq5S8QbVpkmxyHwJ23v0k1N81Bkj8J9skQ/yWGBDi7PIW8.jpg?size=320x320&quality=96&sign=2e1d117ddb7775e130dc7262d95a774d&c_uniq_tag=k5nqPb8jvGcHbHNhSwUEbOWpfJREDjXd-ppZzEsYL8g&type=album\"\u001b[0m\u001b[1;39m\n",
      "        \u001b[1;39m}\u001b[0m\u001b[1;39m,\n",
      "        \u001b[1;39m{\n",
      "          \u001b[0m\u001b[1;34m\"height\"\u001b[0m\u001b[1;39m: \u001b[0m\u001b[0;39m510\u001b[0m\u001b[1;39m,\n",
      "          \u001b[0m\u001b[1;34m\"type\"\u001b[0m\u001b[1;39m: \u001b[0m\u001b[0;32m\"r\"\u001b[0m\u001b[1;39m,\n",
      "          \u001b[0m\u001b[1;34m\"width\"\u001b[0m\u001b[1;39m: \u001b[0m\u001b[0;39m510\u001b[0m\u001b[1;39m,\n",
      "          \u001b[0m\u001b[1;34m\"url\"\u001b[0m\u001b[1;39m: \u001b[0m\u001b[0;32m\"https://sun9-7.userapi.com/impg/vB4QPq5S8QbVpkmxyHwJ23v0k1N81Bkj8J9skQ/yWGBDi7PIW8.jpg?size=510x510&quality=96&sign=e62bd9316b919c6c35fd784b1b9d2eb8&c_uniq_tag=wFHV0eliNe_QaHsFtMf4BJ4LoRDqpUAy5ExP0JrzGpw&type=album\"\u001b[0m\u001b[1;39m\n",
      "        \u001b[1;39m}\u001b[0m\u001b[1;39m\n",
      "      \u001b[1;39m]\u001b[0m\u001b[1;39m,\n",
      "      \u001b[0m\u001b[1;34m\"text\"\u001b[0m\u001b[1;39m: \u001b[0m\u001b[0;32m\"pFaG/aUyy48ml6xP-418.jpg\"\u001b[0m\u001b[1;39m,\n",
      "      \u001b[0m\u001b[1;34m\"web_view_token\"\u001b[0m\u001b[1;39m: \u001b[0m\u001b[0;32m\"c7c6a4b8a513fe5dd4\"\u001b[0m\u001b[1;39m,\n",
      "      \u001b[0m\u001b[1;34m\"has_tags\"\u001b[0m\u001b[1;39m: \u001b[0m\u001b[0;39mfalse\u001b[0m\u001b[1;39m\n",
      "    \u001b[1;39m}\u001b[0m\u001b[1;39m\n",
      "  \u001b[1;39m]\u001b[0m\u001b[1;39m\n",
      "\u001b[1;39m}\u001b[0m\n"
     ]
    }
   ],
   "source": [
    "curl -Gs https://api.vk.com/method/photos.save \\\n",
    "-d v=5.199 \\\n",
    "-d access_token=$TOKEN \\\n",
    "-d album_id=$album_id \\\n",
    "-d server=$server \\\n",
    "-d photos_list=${photos_list:1:-1} \\\n",
    "-d hash=${hash:1:-1} \\\n",
    "-d caption=$(openssl rand -base64 12)-418.jpg | jq"
   ]
  },
  {
   "cell_type": "code",
   "execution_count": null,
   "id": "4eec7a2d-782f-4291-b94e-5831e6bdd2ee",
   "metadata": {},
   "outputs": [],
   "source": []
  }
 ],
 "metadata": {
  "kernelspec": {
   "display_name": "Bash",
   "language": "bash",
   "name": "bash"
  },
  "language_info": {
   "codemirror_mode": "shell",
   "file_extension": ".sh",
   "mimetype": "text/x-sh",
   "name": "bash"
  }
 },
 "nbformat": 4,
 "nbformat_minor": 5
}
