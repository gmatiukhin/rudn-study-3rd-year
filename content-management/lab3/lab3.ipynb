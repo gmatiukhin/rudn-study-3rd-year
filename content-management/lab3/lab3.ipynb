{
 "cells": [
  {
   "cell_type": "markdown",
   "id": "b551cfb9-9ca8-4d86-839a-f5a28531cfa3",
   "metadata": {},
   "source": [
    "### РОССИЙСКИЙ УНИВЕРСИТЕТ ДРУЖБЫ НАРОДОВ\n",
    "\n",
    "#### Факультет физико-математических и естественных наук  "
   ]
  },
  {
   "cell_type": "markdown",
   "id": "bf8b6012-820a-4417-a25e-23747fc45f1f",
   "metadata": {},
   "source": [
    "## ОТЧЕТ ПО ЛАБОРАТОРНОЙ РАБОТЕ № 3\n",
    "\n",
    "\n",
    "### Дисциплина: Управление ИТ-сервисами и контентом"
   ]
  },
  {
   "cell_type": "markdown",
   "id": "6cee79f6-15da-4839-b83f-ab104109ccb7",
   "metadata": {},
   "source": [
    "##### Студент:  Матюхин Григорий Васильевич\n",
    "##### Группа:   НПИбд-01-21"
   ]
  },
  {
   "cell_type": "markdown",
   "id": "f31dc7eb-f7a0-423b-9284-4d7ed0082a0e",
   "metadata": {},
   "source": [
    "## Москва 2024\n",
    "***"
   ]
  },
  {
   "cell_type": "markdown",
   "id": "d3838587-8891-497b-9741-20a205344ebe",
   "metadata": {},
   "source": [
    "# Введение"
   ]
  },
  {
   "cell_type": "markdown",
   "id": "74394214-84b2-4473-a19a-1d955736240c",
   "metadata": {},
   "source": [
    "В данное лабораторной работе рассматривается Web API социальной сети Вконтакте. В отличие от API сервисов, рассмотренных в предыдущих лабораторноых работах, API VK включает в себя несколько сотен методов, разные варианты авторизации, набор SDK под различные платформы, а также обширную документацию, некоторые части котороЙ оформлены в виде пособий для новичков."
   ]
  },
  {
   "cell_type": "markdown",
   "id": "de432faf-5d6f-4ef2-81b1-42eba23220a8",
   "metadata": {},
   "source": [
    "Сайт Вконтакте использует псевдо-RPC API, где методы находятся на отдельных URL, а параметры передаются через query-строку. В результате этого любые операции, которые требуют контента (например, загрузка картинок) создают URL, на который следует отправить этот контент другим способом."
   ]
  },
  {
   "cell_type": "markdown",
   "id": "61a6390d-53d0-484b-9eb0-5e4c09b4b666",
   "metadata": {},
   "source": [
    "# Выполнение"
   ]
  },
  {
   "cell_type": "markdown",
   "id": "76725207-666c-4c1d-a835-0488e85b72af",
   "metadata": {},
   "source": [
    "## Авторизация"
   ]
  },
  {
   "cell_type": "markdown",
   "id": "900b4a95-0303-47a7-a406-16684b160aeb",
   "metadata": {},
   "source": [
    "Чтобы получить доступ к данным пользователя, нужно получить токен от него. По умолчанию очень малло данных доступно, создадим `scope` запршивающий все, что нужно в ходе лабораторной работы."
   ]
  },
  {
   "cell_type": "code",
   "execution_count": 1,
   "id": "e256d6a6-c904-4c24-b587-2dcc7a71a433",
   "metadata": {},
   "outputs": [
    {
     "name": "stdout",
     "output_type": "stream",
     "text": [
      "196620\n"
     ]
    }
   ],
   "source": [
    "scope=0\n",
    "(( scope|=1<<2 )) # photos\n",
    "(( scope|=1<<3 )) # audio\n",
    "(( scope|=1<<16 )) # offline\n",
    "(( scope|=1<<17 )) # docs\n",
    "echo \"$scope\""
   ]
  },
  {
   "cell_type": "markdown",
   "id": "78a45595-c108-4f31-99f1-fcbd4a6d0a99",
   "metadata": {},
   "source": [
    "Попоробуем с самым простым процессоом авторизации -- Implicit Flow, по сути тот же OAuth."
   ]
  },
  {
   "cell_type": "code",
   "execution_count": 2,
   "id": "491d638f-11d0-4f61-91f4-8e06d657df77",
   "metadata": {},
   "outputs": [
    {
     "name": "stdout",
     "output_type": "stream",
     "text": [
      "https://oauth.vk.com/authorize?client_id=51915772&response_type=token&scope=196620&revoke=1\n"
     ]
    }
   ],
   "source": [
    "echo \"https://oauth.vk.com/authorize?client_id=51915772&response_type=token&scope=$scope&revoke=1\""
   ]
  },
  {
   "cell_type": "markdown",
   "id": "1fd69cfa-5b0b-4b59-86a4-889b404fe752",
   "metadata": {},
   "source": [
    "Это не сработает, максимум что мы можем получить -- это вечный \"offline\" токен."
   ]
  },
  {
   "cell_type": "code",
   "execution_count": 3,
   "id": "f06885db-bca2-439e-84e6-373cede54050",
   "metadata": {},
   "outputs": [
    {
     "name": "stdout",
     "output_type": "stream",
     "text": [
      "https://id.vk.com/auth?redirect_uri=https%3A%2F%2Foauth.vk.com%2Fblank.html&app_id=51915772&response_type=token&scope=196620\n"
     ]
    }
   ],
   "source": [
    "echo \"https://id.vk.com/auth?redirect_uri=https%3A%2F%2Foauth.vk.com%2Fblank.html&app_id=51915772&response_type=token&scope=$scope\""
   ]
  },
  {
   "cell_type": "markdown",
   "id": "d135af8f-1718-41ae-94f0-d33b675df612",
   "metadata": {},
   "source": [
    "Более сложный способ это используя VK ID. Здесь надо получить `silent_token` и обменять его на `access_token`. Это работает, но для доступа ко всем интересным данным пользователя (типо фото, видео и файлов) необходимо подтвердить свой аккаунт разработчика. А для этого нужно подать в ВК свои паспортные данные..."
   ]
  },
  {
   "cell_type": "code",
   "execution_count": 4,
   "id": "ed49865e-3ad8-441b-83ef-11fd02fb5009",
   "metadata": {},
   "outputs": [
    {
     "name": "stdout",
     "output_type": "stream",
     "text": [
      "https://oauth.vk.com/authorize?client_id=6733081&redirect_uri=blank.html&scope=196620&response_type=token\n"
     ]
    }
   ],
   "source": [
    "echo \"https://oauth.vk.com/authorize?client_id=6733081&redirect_uri=blank.html&scope=$scope&response_type=token\""
   ]
  },
  {
   "cell_type": "markdown",
   "id": "d36bd9d8-5093-4c45-83f9-cd91b103d735",
   "metadata": {},
   "source": [
    "Если этого не хотим делать, то надо найти друга, у которого уже есть приложение созданное до новвоведения, требующего паспорта. К счастью, у меня есть такой друг. Теперь мы можем использовать ссылку выше, чтобы получить `access_token` для всего, что нам нужно.\n",
    "\n",
    "Сохраним его в файл и прочтем в переменную."
   ]
  },
  {
   "cell_type": "code",
   "execution_count": 5,
   "id": "82c5e423-2f2f-4a35-aded-231536c34af5",
   "metadata": {},
   "outputs": [],
   "source": [
    "TOKEN=$(cat ./token_file)"
   ]
  },
  {
   "cell_type": "markdown",
   "id": "ec1da6cc-9960-4642-a73d-edafb0051d40",
   "metadata": {},
   "source": [
    "## Группа методов `users`"
   ]
  },
  {
   "cell_type": "markdown",
   "id": "d9b024ee-7c3e-4ba8-914e-d4fd0aa3754b",
   "metadata": {},
   "source": [
    "### Поиск по произвольному запросу "
   ]
  },
  {
   "cell_type": "code",
   "execution_count": 6,
   "id": "aef21fe0-7865-4c84-9baa-03712b83cb97",
   "metadata": {
    "scrolled": true
   },
   "outputs": [
    {
     "name": "stdout",
     "output_type": "stream",
     "text": [
      "\u001b[1;39m{\n",
      "  \u001b[0m\u001b[1;34m\"response\"\u001b[0m\u001b[1;39m: \u001b[0m\u001b[1;39m{\n",
      "    \u001b[0m\u001b[1;34m\"count\"\u001b[0m\u001b[1;39m: \u001b[0m\u001b[0;39m11166\u001b[0m\u001b[1;39m,\n",
      "    \u001b[0m\u001b[1;34m\"items\"\u001b[0m\u001b[1;39m: \u001b[0m\u001b[1;39m[\n",
      "      \u001b[1;39m{\n",
      "        \u001b[0m\u001b[1;34m\"id\"\u001b[0m\u001b[1;39m: \u001b[0m\u001b[0;39m517882843\u001b[0m\u001b[1;39m,\n",
      "        \u001b[0m\u001b[1;34m\"track_code\"\u001b[0m\u001b[1;39m: \u001b[0m\u001b[0;32m\"5b74709dRvkCXrT65yLCUJmQwFuoxAnSQ13K_a2gIx8Etj3EcekhkBEJ5MHjK8AMoFVNp2PEYdxFXsr9o8ZRdg\"\u001b[0m\u001b[1;39m,\n",
      "        \u001b[0m\u001b[1;34m\"first_name\"\u001b[0m\u001b[1;39m: \u001b[0m\u001b[0;32m\"Pavel\"\u001b[0m\u001b[1;39m,\n",
      "        \u001b[0m\u001b[1;34m\"last_name\"\u001b[0m\u001b[1;39m: \u001b[0m\u001b[0;32m\"Matyukhin\"\u001b[0m\u001b[1;39m,\n",
      "        \u001b[0m\u001b[1;34m\"can_access_closed\"\u001b[0m\u001b[1;39m: \u001b[0m\u001b[0;39mtrue\u001b[0m\u001b[1;39m,\n",
      "        \u001b[0m\u001b[1;34m\"is_closed\"\u001b[0m\u001b[1;39m: \u001b[0m\u001b[0;39mfalse\u001b[0m\u001b[1;39m\n",
      "      \u001b[1;39m}\u001b[0m\u001b[1;39m,\n",
      "      \u001b[1;39m{\n",
      "        \u001b[0m\u001b[1;34m\"id\"\u001b[0m\u001b[1;39m: \u001b[0m\u001b[0;39m329361482\u001b[0m\u001b[1;39m,\n",
      "        \u001b[0m\u001b[1;34m\"track_code\"\u001b[0m\u001b[1;39m: \u001b[0m\u001b[0;32m\"8b1a78c5aZnkkozm9aNwfcyFdflATQ86xc6EzMqyzlWWsATwOqQO8PKVgdny9Coo-EP0CYpNZzTDzYTMxNS8PA\"\u001b[0m\u001b[1;39m,\n",
      "        \u001b[0m\u001b[1;34m\"first_name\"\u001b[0m\u001b[1;39m: \u001b[0m\u001b[0;32m\"Grigorii\"\u001b[0m\u001b[1;39m,\n",
      "        \u001b[0m\u001b[1;34m\"last_name\"\u001b[0m\u001b[1;39m: \u001b[0m\u001b[0;32m\"Matiukhin\"\u001b[0m\u001b[1;39m,\n",
      "        \u001b[0m\u001b[1;34m\"can_access_closed\"\u001b[0m\u001b[1;39m: \u001b[0m\u001b[0;39mtrue\u001b[0m\u001b[1;39m,\n",
      "        \u001b[0m\u001b[1;34m\"is_closed\"\u001b[0m\u001b[1;39m: \u001b[0m\u001b[0;39mtrue\u001b[0m\u001b[1;39m\n",
      "      \u001b[1;39m}\u001b[0m\u001b[1;39m\n",
      "    \u001b[1;39m]\u001b[0m\u001b[1;39m\n",
      "  \u001b[1;39m}\u001b[0m\u001b[1;39m\n",
      "\u001b[1;39m}\u001b[0m\n"
     ]
    }
   ],
   "source": [
    "curl -Gs https://api.vk.com/method/users.search \\\n",
    "-d v=5.199 \\\n",
    "-d access_token=$TOKEN \\\n",
    "-d q=\"Матюхин\" \\\n",
    "-d count=2 | jq"
   ]
  },
  {
   "cell_type": "markdown",
   "id": "5706d1cf-daf0-4c74-bbc9-2e563ae21a46",
   "metadata": {},
   "source": [
    "### Дополнительные данные"
   ]
  },
  {
   "cell_type": "code",
   "execution_count": 7,
   "id": "5682c405-b537-4bb2-b9fc-92cc2dbfb585",
   "metadata": {
    "scrolled": true
   },
   "outputs": [
    {
     "name": "stdout",
     "output_type": "stream",
     "text": [
      "\u001b[1;39m{\n",
      "  \u001b[0m\u001b[1;34m\"response\"\u001b[0m\u001b[1;39m: \u001b[0m\u001b[1;39m{\n",
      "    \u001b[0m\u001b[1;34m\"count\"\u001b[0m\u001b[1;39m: \u001b[0m\u001b[0;39m11166\u001b[0m\u001b[1;39m,\n",
      "    \u001b[0m\u001b[1;34m\"items\"\u001b[0m\u001b[1;39m: \u001b[0m\u001b[1;39m[\n",
      "      \u001b[1;39m{\n",
      "        \u001b[0m\u001b[1;34m\"id\"\u001b[0m\u001b[1;39m: \u001b[0m\u001b[0;39m517882843\u001b[0m\u001b[1;39m,\n",
      "        \u001b[0m\u001b[1;34m\"about\"\u001b[0m\u001b[1;39m: \u001b[0m\u001b[0;32m\"\"\u001b[0m\u001b[1;39m,\n",
      "        \u001b[0m\u001b[1;34m\"activities\"\u001b[0m\u001b[1;39m: \u001b[0m\u001b[0;32m\"\"\u001b[0m\u001b[1;39m,\n",
      "        \u001b[0m\u001b[1;34m\"track_code\"\u001b[0m\u001b[1;39m: \u001b[0m\u001b[0;32m\"73f93207VeCRuu4iVxLxhj2A5S2W2cXbOlx3vIAfy3DA1aEwN7A2msHq1XZeEP3bDiRdlLGxy905XHey5m2i\"\u001b[0m\u001b[1;39m,\n",
      "        \u001b[0m\u001b[1;34m\"first_name\"\u001b[0m\u001b[1;39m: \u001b[0m\u001b[0;32m\"Pavel\"\u001b[0m\u001b[1;39m,\n",
      "        \u001b[0m\u001b[1;34m\"last_name\"\u001b[0m\u001b[1;39m: \u001b[0m\u001b[0;32m\"Matyukhin\"\u001b[0m\u001b[1;39m,\n",
      "        \u001b[0m\u001b[1;34m\"can_access_closed\"\u001b[0m\u001b[1;39m: \u001b[0m\u001b[0;39mtrue\u001b[0m\u001b[1;39m,\n",
      "        \u001b[0m\u001b[1;34m\"is_closed\"\u001b[0m\u001b[1;39m: \u001b[0m\u001b[0;39mfalse\u001b[0m\u001b[1;39m\n",
      "      \u001b[1;39m}\u001b[0m\u001b[1;39m,\n",
      "      \u001b[1;39m{\n",
      "        \u001b[0m\u001b[1;34m\"id\"\u001b[0m\u001b[1;39m: \u001b[0m\u001b[0;39m329361482\u001b[0m\u001b[1;39m,\n",
      "        \u001b[0m\u001b[1;34m\"bdate\"\u001b[0m\u001b[1;39m: \u001b[0m\u001b[0;32m\"1.7.2003\"\u001b[0m\u001b[1;39m,\n",
      "        \u001b[0m\u001b[1;34m\"about\"\u001b[0m\u001b[1;39m: \u001b[0m\u001b[0;32m\"\"\u001b[0m\u001b[1;39m,\n",
      "        \u001b[0m\u001b[1;34m\"activities\"\u001b[0m\u001b[1;39m: \u001b[0m\u001b[0;32m\"\"\u001b[0m\u001b[1;39m,\n",
      "        \u001b[0m\u001b[1;34m\"track_code\"\u001b[0m\u001b[1;39m: \u001b[0m\u001b[0;32m\"6ca003afeR4cLxe50QXulmugEiYhatJunLWu6VK8JjaujemaHjMaZEh-L73RCeTGWAimngYC3Gifta7nNM5P\"\u001b[0m\u001b[1;39m,\n",
      "        \u001b[0m\u001b[1;34m\"first_name\"\u001b[0m\u001b[1;39m: \u001b[0m\u001b[0;32m\"Grigorii\"\u001b[0m\u001b[1;39m,\n",
      "        \u001b[0m\u001b[1;34m\"last_name\"\u001b[0m\u001b[1;39m: \u001b[0m\u001b[0;32m\"Matiukhin\"\u001b[0m\u001b[1;39m,\n",
      "        \u001b[0m\u001b[1;34m\"can_access_closed\"\u001b[0m\u001b[1;39m: \u001b[0m\u001b[0;39mtrue\u001b[0m\u001b[1;39m,\n",
      "        \u001b[0m\u001b[1;34m\"is_closed\"\u001b[0m\u001b[1;39m: \u001b[0m\u001b[0;39mtrue\u001b[0m\u001b[1;39m\n",
      "      \u001b[1;39m}\u001b[0m\u001b[1;39m\n",
      "    \u001b[1;39m]\u001b[0m\u001b[1;39m\n",
      "  \u001b[1;39m}\u001b[0m\u001b[1;39m\n",
      "\u001b[1;39m}\u001b[0m\n"
     ]
    }
   ],
   "source": [
    "curl -Gs https://api.vk.com/method/users.search \\\n",
    "-d v=5.199 \\\n",
    "-d access_token=$TOKEN \\\n",
    "-d q=\"Матюхин\" \\\n",
    "-d count=2 \\\n",
    "-d fields=about,activities,bdate | jq"
   ]
  },
  {
   "cell_type": "markdown",
   "id": "3fa4afcb-47e4-4945-82a3-c416a5a343cc",
   "metadata": {},
   "source": [
    "### Поиск по родному городу"
   ]
  },
  {
   "cell_type": "code",
   "execution_count": 8,
   "id": "39826b5f-cd47-43ff-ac16-0fbdeb303ed6",
   "metadata": {
    "scrolled": true
   },
   "outputs": [
    {
     "name": "stdout",
     "output_type": "stream",
     "text": [
      "\u001b[1;39m{\n",
      "  \u001b[0m\u001b[1;34m\"response\"\u001b[0m\u001b[1;39m: \u001b[0m\u001b[1;39m{\n",
      "    \u001b[0m\u001b[1;34m\"count\"\u001b[0m\u001b[1;39m: \u001b[0m\u001b[0;39m5\u001b[0m\u001b[1;39m,\n",
      "    \u001b[0m\u001b[1;34m\"items\"\u001b[0m\u001b[1;39m: \u001b[0m\u001b[1;39m[\n",
      "      \u001b[1;39m{\n",
      "        \u001b[0m\u001b[1;34m\"id\"\u001b[0m\u001b[1;39m: \u001b[0m\u001b[0;39m737822617\u001b[0m\u001b[1;39m,\n",
      "        \u001b[0m\u001b[1;34m\"track_code\"\u001b[0m\u001b[1;39m: \u001b[0m\u001b[0;32m\"00c39848sNMQbMpzIc9ADHtvVDYJad1IrlvbFAWX1uH4IUkwbavXulRux0wvxE8GSKy4-btotUaoWNsUC_GkiA\"\u001b[0m\u001b[1;39m,\n",
      "        \u001b[0m\u001b[1;34m\"first_name\"\u001b[0m\u001b[1;39m: \u001b[0m\u001b[0;32m\"Romario\"\u001b[0m\u001b[1;39m,\n",
      "        \u001b[0m\u001b[1;34m\"last_name\"\u001b[0m\u001b[1;39m: \u001b[0m\u001b[0;32m\"Matyukhin\"\u001b[0m\u001b[1;39m,\n",
      "        \u001b[0m\u001b[1;34m\"can_access_closed\"\u001b[0m\u001b[1;39m: \u001b[0m\u001b[0;39mtrue\u001b[0m\u001b[1;39m,\n",
      "        \u001b[0m\u001b[1;34m\"is_closed\"\u001b[0m\u001b[1;39m: \u001b[0m\u001b[0;39mfalse\u001b[0m\u001b[1;39m\n",
      "      \u001b[1;39m}\u001b[0m\u001b[1;39m,\n",
      "      \u001b[1;39m{\n",
      "        \u001b[0m\u001b[1;34m\"id\"\u001b[0m\u001b[1;39m: \u001b[0m\u001b[0;39m2273004\u001b[0m\u001b[1;39m,\n",
      "        \u001b[0m\u001b[1;34m\"track_code\"\u001b[0m\u001b[1;39m: \u001b[0m\u001b[0;32m\"343be69eQ6TWLiE7drKLf57m7sBptQkLB6h3DSIJNKGW2DlqPCUkzcYrelom4dp6rCcAOIHTfg8WshJ_LG8\"\u001b[0m\u001b[1;39m,\n",
      "        \u001b[0m\u001b[1;34m\"first_name\"\u001b[0m\u001b[1;39m: \u001b[0m\u001b[0;32m\"Anton\"\u001b[0m\u001b[1;39m,\n",
      "        \u001b[0m\u001b[1;34m\"last_name\"\u001b[0m\u001b[1;39m: \u001b[0m\u001b[0;32m\"Matyukhin\"\u001b[0m\u001b[1;39m,\n",
      "        \u001b[0m\u001b[1;34m\"can_access_closed\"\u001b[0m\u001b[1;39m: \u001b[0m\u001b[0;39mtrue\u001b[0m\u001b[1;39m,\n",
      "        \u001b[0m\u001b[1;34m\"is_closed\"\u001b[0m\u001b[1;39m: \u001b[0m\u001b[0;39mfalse\u001b[0m\u001b[1;39m\n",
      "      \u001b[1;39m}\u001b[0m\u001b[1;39m\n",
      "    \u001b[1;39m]\u001b[0m\u001b[1;39m\n",
      "  \u001b[1;39m}\u001b[0m\u001b[1;39m\n",
      "\u001b[1;39m}\u001b[0m\n"
     ]
    }
   ],
   "source": [
    "user_id=$(\n",
    "    curl -Gs https://api.vk.com/method/users.search \\\n",
    "    -d v=5.199 \\\n",
    "    -d access_token=$TOKEN \\\n",
    "    -d q=\"Матюхин\" \\\n",
    "    -d count=2 \\\n",
    "    -d hometown=Moscow \\\n",
    "    | tee >(jq >&2) \\\n",
    "    | jq '.response.items[0].id'\n",
    ")"
   ]
  },
  {
   "cell_type": "code",
   "execution_count": 9,
   "id": "64ea82f6-527b-4983-97a7-50fdc9857fba",
   "metadata": {},
   "outputs": [
    {
     "name": "stdout",
     "output_type": "stream",
     "text": [
      "737822617\n"
     ]
    }
   ],
   "source": [
    "echo \"$user_id\""
   ]
  },
  {
   "cell_type": "markdown",
   "id": "c8bfadd9-7e8e-4514-b8bc-132c03cda1fc",
   "metadata": {},
   "source": [
    "### Найдем подписчиков пользователя"
   ]
  },
  {
   "cell_type": "code",
   "execution_count": 10,
   "id": "d7d4b351-ea6e-411d-9cb9-ed0ff7c52ece",
   "metadata": {
    "scrolled": true
   },
   "outputs": [
    {
     "name": "stdout",
     "output_type": "stream",
     "text": [
      "\u001b[1;39m{\n",
      "  \u001b[0m\u001b[1;34m\"response\"\u001b[0m\u001b[1;39m: \u001b[0m\u001b[1;39m{\n",
      "    \u001b[0m\u001b[1;34m\"count\"\u001b[0m\u001b[1;39m: \u001b[0m\u001b[0;39m53\u001b[0m\u001b[1;39m,\n",
      "    \u001b[0m\u001b[1;34m\"items\"\u001b[0m\u001b[1;39m: \u001b[0m\u001b[1;39m[\n",
      "      \u001b[0;39m707008454\u001b[0m\u001b[1;39m,\n",
      "      \u001b[0;39m649006809\u001b[0m\u001b[1;39m,\n",
      "      \u001b[0;39m750344121\u001b[0m\u001b[1;39m,\n",
      "      \u001b[0;39m754106530\u001b[0m\u001b[1;39m,\n",
      "      \u001b[0;39m502260917\u001b[0m\u001b[1;39m,\n",
      "      \u001b[0;39m596120431\u001b[0m\u001b[1;39m,\n",
      "      \u001b[0;39m675933697\u001b[0m\u001b[1;39m,\n",
      "      \u001b[0;39m845983304\u001b[0m\u001b[1;39m,\n",
      "      \u001b[0;39m615886554\u001b[0m\u001b[1;39m,\n",
      "      \u001b[0;39m666814859\u001b[0m\u001b[1;39m,\n",
      "      \u001b[0;39m525547111\u001b[0m\u001b[1;39m,\n",
      "      \u001b[0;39m745694113\u001b[0m\u001b[1;39m,\n",
      "      \u001b[0;39m822181760\u001b[0m\u001b[1;39m,\n",
      "      \u001b[0;39m523236642\u001b[0m\u001b[1;39m,\n",
      "      \u001b[0;39m640235273\u001b[0m\u001b[1;39m,\n",
      "      \u001b[0;39m544358353\u001b[0m\u001b[1;39m,\n",
      "      \u001b[0;39m668126350\u001b[0m\u001b[1;39m,\n",
      "      \u001b[0;39m728506309\u001b[0m\u001b[1;39m,\n",
      "      \u001b[0;39m564451351\u001b[0m\u001b[1;39m,\n",
      "      \u001b[0;39m539075208\u001b[0m\u001b[1;39m,\n",
      "      \u001b[0;39m303910990\u001b[0m\u001b[1;39m,\n",
      "      \u001b[0;39m815091873\u001b[0m\u001b[1;39m,\n",
      "      \u001b[0;39m699889712\u001b[0m\u001b[1;39m,\n",
      "      \u001b[0;39m593718582\u001b[0m\u001b[1;39m,\n",
      "      \u001b[0;39m741238893\u001b[0m\u001b[1;39m,\n",
      "      \u001b[0;39m745215990\u001b[0m\u001b[1;39m,\n",
      "      \u001b[0;39m486948463\u001b[0m\u001b[1;39m,\n",
      "      \u001b[0;39m291509053\u001b[0m\u001b[1;39m,\n",
      "      \u001b[0;39m492845249\u001b[0m\u001b[1;39m,\n",
      "      \u001b[0;39m601572607\u001b[0m\u001b[1;39m,\n",
      "      \u001b[0;39m80735991\u001b[0m\u001b[1;39m,\n",
      "      \u001b[0;39m706907459\u001b[0m\u001b[1;39m,\n",
      "      \u001b[0;39m36948703\u001b[0m\u001b[1;39m,\n",
      "      \u001b[0;39m735008424\u001b[0m\u001b[1;39m,\n",
      "      \u001b[0;39m565035031\u001b[0m\u001b[1;39m,\n",
      "      \u001b[0;39m34657950\u001b[0m\u001b[1;39m,\n",
      "      \u001b[0;39m38443196\u001b[0m\u001b[1;39m,\n",
      "      \u001b[0;39m169611638\u001b[0m\u001b[1;39m,\n",
      "      \u001b[0;39m380952954\u001b[0m\u001b[1;39m,\n",
      "      \u001b[0;39m642032785\u001b[0m\u001b[1;39m,\n",
      "      \u001b[0;39m222911255\u001b[0m\u001b[1;39m,\n",
      "      \u001b[0;39m111102867\u001b[0m\u001b[1;39m,\n",
      "      \u001b[0;39m461649609\u001b[0m\u001b[1;39m,\n",
      "      \u001b[0;39m435164616\u001b[0m\u001b[1;39m,\n",
      "      \u001b[0;39m543511185\u001b[0m\u001b[1;39m,\n",
      "      \u001b[0;39m493342860\u001b[0m\u001b[1;39m,\n",
      "      \u001b[0;39m833518571\u001b[0m\u001b[1;39m,\n",
      "      \u001b[0;39m368076549\u001b[0m\u001b[1;39m,\n",
      "      \u001b[0;39m846004551\u001b[0m\u001b[1;39m,\n",
      "      \u001b[0;39m724147965\u001b[0m\u001b[1;39m,\n",
      "      \u001b[0;39m500275235\u001b[0m\u001b[1;39m,\n",
      "      \u001b[0;39m18054956\u001b[0m\u001b[1;39m,\n",
      "      \u001b[0;39m37670947\u001b[0m\u001b[1;39m\n",
      "    \u001b[1;39m]\u001b[0m\u001b[1;39m\n",
      "  \u001b[1;39m}\u001b[0m\u001b[1;39m\n",
      "\u001b[1;39m}\u001b[0m\n"
     ]
    }
   ],
   "source": [
    "curl -Gs https://api.vk.com/method/users.getFollowers \\\n",
    "-d v=5.199 \\\n",
    "-d access_token=$TOKEN \\\n",
    "-d user_id=$user_id | jq"
   ]
  },
  {
   "cell_type": "markdown",
   "id": "f94dbfc2-37eb-42df-998c-b9e989e7c136",
   "metadata": {},
   "source": [
    "## Группа методов `database`"
   ]
  },
  {
   "cell_type": "markdown",
   "id": "6d208210-7be3-403f-b8b4-70553fbd8799",
   "metadata": {},
   "source": [
    "### Найдем страну по коду"
   ]
  },
  {
   "cell_type": "code",
   "execution_count": 11,
   "id": "7c1d50ca-ef7f-40d2-8e6a-987e37084341",
   "metadata": {
    "scrolled": true
   },
   "outputs": [
    {
     "name": "stdout",
     "output_type": "stream",
     "text": [
      "\u001b[1;39m{\n",
      "  \u001b[0m\u001b[1;34m\"response\"\u001b[0m\u001b[1;39m: \u001b[0m\u001b[1;39m{\n",
      "    \u001b[0m\u001b[1;34m\"count\"\u001b[0m\u001b[1;39m: \u001b[0m\u001b[0;39m1\u001b[0m\u001b[1;39m,\n",
      "    \u001b[0m\u001b[1;34m\"items\"\u001b[0m\u001b[1;39m: \u001b[0m\u001b[1;39m[\n",
      "      \u001b[1;39m{\n",
      "        \u001b[0m\u001b[1;34m\"id\"\u001b[0m\u001b[1;39m: \u001b[0m\u001b[0;39m1\u001b[0m\u001b[1;39m,\n",
      "        \u001b[0m\u001b[1;34m\"title\"\u001b[0m\u001b[1;39m: \u001b[0m\u001b[0;32m\"Russia\"\u001b[0m\u001b[1;39m\n",
      "      \u001b[1;39m}\u001b[0m\u001b[1;39m\n",
      "    \u001b[1;39m]\u001b[0m\u001b[1;39m\n",
      "  \u001b[1;39m}\u001b[0m\u001b[1;39m\n",
      "\u001b[1;39m}\u001b[0m\n"
     ]
    }
   ],
   "source": [
    "ru_id=$(\n",
    "    curl -Gs https://api.vk.com/method/database.getCountries \\\n",
    "    -d v=5.199 \\\n",
    "    -d access_token=$TOKEN \\\n",
    "    -d code=RU \\\n",
    "    | tee >(jq >&2) \\\n",
    "    | jq '.response.items[0].id'\n",
    ")"
   ]
  },
  {
   "cell_type": "code",
   "execution_count": 12,
   "id": "ce44c436-ea6e-4677-8f58-52ded6713697",
   "metadata": {},
   "outputs": [
    {
     "name": "stdout",
     "output_type": "stream",
     "text": [
      "1\n"
     ]
    }
   ],
   "source": [
    "echo \"$ru_id\""
   ]
  },
  {
   "cell_type": "markdown",
   "id": "1cefa6a8-d0f6-4eda-9dea-7ba9bbbd502e",
   "metadata": {},
   "source": [
    "### Найдем город по названию"
   ]
  },
  {
   "cell_type": "code",
   "execution_count": 13,
   "id": "61a4722c-f3ab-4e23-94a9-484acefc3cf6",
   "metadata": {
    "scrolled": true
   },
   "outputs": [
    {
     "name": "stdout",
     "output_type": "stream",
     "text": [
      "\u001b[1;39m{\n",
      "  \u001b[0m\u001b[1;34m\"response\"\u001b[0m\u001b[1;39m: \u001b[0m\u001b[1;39m{\n",
      "    \u001b[0m\u001b[1;34m\"count\"\u001b[0m\u001b[1;39m: \u001b[0m\u001b[0;39m88\u001b[0m\u001b[1;39m,\n",
      "    \u001b[0m\u001b[1;34m\"items\"\u001b[0m\u001b[1;39m: \u001b[0m\u001b[1;39m[\n",
      "      \u001b[1;39m{\n",
      "        \u001b[0m\u001b[1;34m\"id\"\u001b[0m\u001b[1;39m: \u001b[0m\u001b[0;39m1\u001b[0m\u001b[1;39m,\n",
      "        \u001b[0m\u001b[1;34m\"title\"\u001b[0m\u001b[1;39m: \u001b[0m\u001b[0;32m\"Moscow\"\u001b[0m\u001b[1;39m\n",
      "      \u001b[1;39m}\u001b[0m\u001b[1;39m,\n",
      "      \u001b[1;39m{\n",
      "        \u001b[0m\u001b[1;34m\"id\"\u001b[0m\u001b[1;39m: \u001b[0m\u001b[0;39m1904692\u001b[0m\u001b[1;39m,\n",
      "        \u001b[0m\u001b[1;34m\"title\"\u001b[0m\u001b[1;39m: \u001b[0m\u001b[0;32m\"Moscow\"\u001b[0m\u001b[1;39m,\n",
      "        \u001b[0m\u001b[1;34m\"area\"\u001b[0m\u001b[1;39m: \u001b[0m\u001b[0;32m\"Latah County\"\u001b[0m\u001b[1;39m,\n",
      "        \u001b[0m\u001b[1;34m\"region\"\u001b[0m\u001b[1;39m: \u001b[0m\u001b[0;32m\"Idaho\"\u001b[0m\u001b[1;39m\n",
      "      \u001b[1;39m}\u001b[0m\u001b[1;39m\n",
      "    \u001b[1;39m]\u001b[0m\u001b[1;39m\n",
      "  \u001b[1;39m}\u001b[0m\u001b[1;39m\n",
      "\u001b[1;39m}\u001b[0m\n"
     ]
    }
   ],
   "source": [
    "city_id=$(\n",
    "    curl -Gs https://api.vk.com/method/database.getCities \\\n",
    "    -d v=5.199 \\\n",
    "    -d access_token=$TOKEN \\\n",
    "    -d count=2 \\\n",
    "    -d q=Moscow \\\n",
    "    | tee >(jq >&2) \\\n",
    "    | jq \".response.items | map(select(.id == $ru_id)) | .[0].id\"\n",
    ")"
   ]
  },
  {
   "cell_type": "code",
   "execution_count": 14,
   "id": "174f9edb-3d1e-4e0e-8d1c-fe986a10336f",
   "metadata": {},
   "outputs": [
    {
     "name": "stdout",
     "output_type": "stream",
     "text": [
      "1\n"
     ]
    }
   ],
   "source": [
    "echo $city_id"
   ]
  },
  {
   "cell_type": "markdown",
   "id": "6af6e544-731e-4b92-b8d7-692d17aeda25",
   "metadata": {},
   "source": [
    "### Найдем школу по названию"
   ]
  },
  {
   "cell_type": "code",
   "execution_count": 15,
   "id": "8816d073-7d16-4199-8a60-3ce43398e2fa",
   "metadata": {
    "scrolled": true
   },
   "outputs": [],
   "source": [
    "curl -Gs https://api.vk.com/method/database.getSchools \\\n",
    "-d v=5.199 \\\n",
    "-d access_token=$TOKEN \\\n",
    "-d city_id=1 \\\n",
    "-d q==\"Школа № 1\" | jq '.response.items[0]'"
   ]
  },
  {
   "cell_type": "markdown",
   "id": "697aac0e-a82a-4abe-822f-8126f1ddc10c",
   "metadata": {},
   "source": [
    "### Найдем университет по названию"
   ]
  },
  {
   "cell_type": "code",
   "execution_count": 16,
   "id": "400d8165-0e38-4cda-9d09-fbfd1a3150db",
   "metadata": {
    "scrolled": true
   },
   "outputs": [
    {
     "name": "stdout",
     "output_type": "stream",
     "text": [
      "\u001b[1;39m{\n",
      "  \u001b[0m\u001b[1;34m\"response\"\u001b[0m\u001b[1;39m: \u001b[0m\u001b[1;39m{\n",
      "    \u001b[0m\u001b[1;34m\"count\"\u001b[0m\u001b[1;39m: \u001b[0m\u001b[0;39m1\u001b[0m\u001b[1;39m,\n",
      "    \u001b[0m\u001b[1;34m\"items\"\u001b[0m\u001b[1;39m: \u001b[0m\u001b[1;39m[\n",
      "      \u001b[1;39m{\n",
      "        \u001b[0m\u001b[1;34m\"id\"\u001b[0m\u001b[1;39m: \u001b[0m\u001b[0;39m338\u001b[0m\u001b[1;39m,\n",
      "        \u001b[0m\u001b[1;34m\"title\"\u001b[0m\u001b[1;39m: \u001b[0m\u001b[0;32m\"РУДН\"\u001b[0m\u001b[1;39m\n",
      "      \u001b[1;39m}\u001b[0m\u001b[1;39m\n",
      "    \u001b[1;39m]\u001b[0m\u001b[1;39m\n",
      "  \u001b[1;39m}\u001b[0m\u001b[1;39m\n",
      "\u001b[1;39m}\u001b[0m\n"
     ]
    }
   ],
   "source": [
    "curl -Gs https://api.vk.com/method/database.getUniversities \\\n",
    "-d v=5.199 \\\n",
    "-d access_token=$TOKEN \\\n",
    "-d city_id=1 \\\n",
    "-d q=\"RUDN\" | jq"
   ]
  },
  {
   "cell_type": "markdown",
   "id": "09a60a56-1fda-49f7-9ce0-60527c36e896",
   "metadata": {},
   "source": [
    "## Группа методов `audio`???"
   ]
  },
  {
   "cell_type": "markdown",
   "id": "a5c0b864-c9f9-4b87-9328-83c672e848e5",
   "metadata": {},
   "source": [
    "Группы методов по работе с аудио и музыкой не существует!"
   ]
  },
  {
   "cell_type": "markdown",
   "id": "e6738fc9-d34a-4554-af61-982eddeb57a9",
   "metadata": {},
   "source": [
    "## Группа методов `docs`"
   ]
  },
  {
   "cell_type": "markdown",
   "id": "fc619bb6-1733-4ae1-b4e5-d69dd46d0a7a",
   "metadata": {},
   "source": [
    "### Получим все документы ползователя"
   ]
  },
  {
   "cell_type": "code",
   "execution_count": 17,
   "id": "c94f877f-bbb5-4782-a637-312ed0221da1",
   "metadata": {
    "scrolled": true
   },
   "outputs": [
    {
     "name": "stdout",
     "output_type": "stream",
     "text": [
      "\u001b[1;39m{\n",
      "  \u001b[0m\u001b[1;34m\"response\"\u001b[0m\u001b[1;39m: \u001b[0m\u001b[1;39m{\n",
      "    \u001b[0m\u001b[1;34m\"count\"\u001b[0m\u001b[1;39m: \u001b[0m\u001b[0;39m7\u001b[0m\u001b[1;39m,\n",
      "    \u001b[0m\u001b[1;34m\"items\"\u001b[0m\u001b[1;39m: \u001b[0m\u001b[1;39m[\n",
      "      \u001b[1;39m{\n",
      "        \u001b[0m\u001b[1;34m\"id\"\u001b[0m\u001b[1;39m: \u001b[0m\u001b[0;39m608960774\u001b[0m\u001b[1;39m,\n",
      "        \u001b[0m\u001b[1;34m\"owner_id\"\u001b[0m\u001b[1;39m: \u001b[0m\u001b[0;39m329361482\u001b[0m\u001b[1;39m,\n",
      "        \u001b[0m\u001b[1;34m\"title\"\u001b[0m\u001b[1;39m: \u001b[0m\u001b[0;32m\"THE SOLUTION.png\"\u001b[0m\u001b[1;39m,\n",
      "        \u001b[0m\u001b[1;34m\"size\"\u001b[0m\u001b[1;39m: \u001b[0m\u001b[0;39m11465\u001b[0m\u001b[1;39m,\n",
      "        \u001b[0m\u001b[1;34m\"ext\"\u001b[0m\u001b[1;39m: \u001b[0m\u001b[0;32m\"png\"\u001b[0m\u001b[1;39m,\n",
      "        \u001b[0m\u001b[1;34m\"date\"\u001b[0m\u001b[1;39m: \u001b[0m\u001b[0;39m1631211540\u001b[0m\u001b[1;39m,\n",
      "        \u001b[0m\u001b[1;34m\"type\"\u001b[0m\u001b[1;39m: \u001b[0m\u001b[0;39m4\u001b[0m\u001b[1;39m,\n",
      "        \u001b[0m\u001b[1;34m\"url\"\u001b[0m\u001b[1;39m: \u001b[0m\u001b[0;32m\"https://vk.com/doc329361482_608960774?hash=HszBDYNjqFQZHOoVTMhY5D6fr3l9xJxvV7ZPdsunHK0&dl=lKo4qKLhizZO7OEjeR4XDjdAeStt9GCBiaZGu79lsCw&api=1&no_preview=1\"\u001b[0m\u001b[1;39m,\n",
      "        \u001b[0m\u001b[1;34m\"preview\"\u001b[0m\u001b[1;39m: \u001b[0m\u001b[1;39m{\n",
      "          \u001b[0m\u001b[1;34m\"photo\"\u001b[0m\u001b[1;39m: \u001b[0m\u001b[1;39m{\n",
      "            \u001b[0m\u001b[1;34m\"sizes\"\u001b[0m\u001b[1;39m: \u001b[0m\u001b[1;39m[\n",
      "              \u001b[1;39m{\n",
      "                \u001b[0m\u001b[1;34m\"src\"\u001b[0m\u001b[1;39m: \u001b[0m\u001b[0;32m\"https://sun9-62.userapi.com/c520036/u329361482/d34/-3/m_8f8c8839e5.jpg\"\u001b[0m\u001b[1;39m,\n",
      "                \u001b[0m\u001b[1;34m\"width\"\u001b[0m\u001b[1;39m: \u001b[0m\u001b[0;39m130\u001b[0m\u001b[1;39m,\n",
      "                \u001b[0m\u001b[1;34m\"height\"\u001b[0m\u001b[1;39m: \u001b[0m\u001b[0;39m24\u001b[0m\u001b[1;39m,\n",
      "                \u001b[0m\u001b[1;34m\"type\"\u001b[0m\u001b[1;39m: \u001b[0m\u001b[0;32m\"m\"\u001b[0m\u001b[1;39m\n",
      "              \u001b[1;39m}\u001b[0m\u001b[1;39m,\n",
      "              \u001b[1;39m{\n",
      "                \u001b[0m\u001b[1;34m\"src\"\u001b[0m\u001b[1;39m: \u001b[0m\u001b[0;32m\"https://sun9-9.userapi.com/c520036/u329361482/d34/-3/s_8f8c8839e5.jpg\"\u001b[0m\u001b[1;39m,\n",
      "                \u001b[0m\u001b[1;34m\"width\"\u001b[0m\u001b[1;39m: \u001b[0m\u001b[0;39m100\u001b[0m\u001b[1;39m,\n",
      "                \u001b[0m\u001b[1;34m\"height\"\u001b[0m\u001b[1;39m: \u001b[0m\u001b[0;39m19\u001b[0m\u001b[1;39m,\n",
      "                \u001b[0m\u001b[1;34m\"type\"\u001b[0m\u001b[1;39m: \u001b[0m\u001b[0;32m\"s\"\u001b[0m\u001b[1;39m\n",
      "              \u001b[1;39m}\u001b[0m\u001b[1;39m,\n",
      "              \u001b[1;39m{\n",
      "                \u001b[0m\u001b[1;34m\"src\"\u001b[0m\u001b[1;39m: \u001b[0m\u001b[0;32m\"https://sun9-62.userapi.com/c520036/u329361482/d34/-3/x_8f8c8839e5.jpg\"\u001b[0m\u001b[1;39m,\n",
      "                \u001b[0m\u001b[1;34m\"width\"\u001b[0m\u001b[1;39m: \u001b[0m\u001b[0;39m604\u001b[0m\u001b[1;39m,\n",
      "                \u001b[0m\u001b[1;34m\"height\"\u001b[0m\u001b[1;39m: \u001b[0m\u001b[0;39m110\u001b[0m\u001b[1;39m,\n",
      "                \u001b[0m\u001b[1;34m\"type\"\u001b[0m\u001b[1;39m: \u001b[0m\u001b[0;32m\"x\"\u001b[0m\u001b[1;39m\n",
      "              \u001b[1;39m}\u001b[0m\u001b[1;39m,\n",
      "              \u001b[1;39m{\n",
      "                \u001b[0m\u001b[1;34m\"src\"\u001b[0m\u001b[1;39m: \u001b[0m\u001b[0;32m\"https://sun9-74.userapi.com/c520036/u329361482/d34/-3/y_8f8c8839e5.jpg\"\u001b[0m\u001b[1;39m,\n",
      "                \u001b[0m\u001b[1;34m\"width\"\u001b[0m\u001b[1;39m: \u001b[0m\u001b[0;39m807\u001b[0m\u001b[1;39m,\n",
      "                \u001b[0m\u001b[1;34m\"height\"\u001b[0m\u001b[1;39m: \u001b[0m\u001b[0;39m148\u001b[0m\u001b[1;39m,\n",
      "                \u001b[0m\u001b[1;34m\"type\"\u001b[0m\u001b[1;39m: \u001b[0m\u001b[0;32m\"y\"\u001b[0m\u001b[1;39m\n",
      "              \u001b[1;39m}\u001b[0m\u001b[1;39m,\n",
      "              \u001b[1;39m{\n",
      "                \u001b[0m\u001b[1;34m\"src\"\u001b[0m\u001b[1;39m: \u001b[0m\u001b[0;32m\"https://sun9-37.userapi.com/c520036/u329361482/d34/-3/o_8f8c8839e5.jpg\"\u001b[0m\u001b[1;39m,\n",
      "                \u001b[0m\u001b[1;34m\"width\"\u001b[0m\u001b[1;39m: \u001b[0m\u001b[0;39m662\u001b[0m\u001b[1;39m,\n",
      "                \u001b[0m\u001b[1;34m\"height\"\u001b[0m\u001b[1;39m: \u001b[0m\u001b[0;39m121\u001b[0m\u001b[1;39m,\n",
      "                \u001b[0m\u001b[1;34m\"type\"\u001b[0m\u001b[1;39m: \u001b[0m\u001b[0;32m\"o\"\u001b[0m\u001b[1;39m\n",
      "              \u001b[1;39m}\u001b[0m\u001b[1;39m\n",
      "            \u001b[1;39m]\u001b[0m\u001b[1;39m\n",
      "          \u001b[1;39m}\u001b[0m\u001b[1;39m\n",
      "        \u001b[1;39m}\u001b[0m\u001b[1;39m,\n",
      "        \u001b[0m\u001b[1;34m\"is_unsafe\"\u001b[0m\u001b[1;39m: \u001b[0m\u001b[0;39m0\u001b[0m\u001b[1;39m,\n",
      "        \u001b[0m\u001b[1;34m\"can_manage\"\u001b[0m\u001b[1;39m: \u001b[0m\u001b[0;39mtrue\u001b[0m\u001b[1;39m\n",
      "      \u001b[1;39m}\u001b[0m\u001b[1;39m,\n",
      "      \u001b[1;39m{\n",
      "        \u001b[0m\u001b[1;34m\"id\"\u001b[0m\u001b[1;39m: \u001b[0m\u001b[0;39m600464596\u001b[0m\u001b[1;39m,\n",
      "        \u001b[0m\u001b[1;34m\"owner_id\"\u001b[0m\u001b[1;39m: \u001b[0m\u001b[0;39m329361482\u001b[0m\u001b[1;39m,\n",
      "        \u001b[0m\u001b[1;34m\"title\"\u001b[0m\u001b[1;39m: \u001b[0m\u001b[0;32m\"Num26.png\"\u001b[0m\u001b[1;39m,\n",
      "        \u001b[0m\u001b[1;34m\"size\"\u001b[0m\u001b[1;39m: \u001b[0m\u001b[0;39m23784\u001b[0m\u001b[1;39m,\n",
      "        \u001b[0m\u001b[1;34m\"ext\"\u001b[0m\u001b[1;39m: \u001b[0m\u001b[0;32m\"png\"\u001b[0m\u001b[1;39m,\n",
      "        \u001b[0m\u001b[1;34m\"date\"\u001b[0m\u001b[1;39m: \u001b[0m\u001b[0;39m1624127512\u001b[0m\u001b[1;39m,\n",
      "        \u001b[0m\u001b[1;34m\"type\"\u001b[0m\u001b[1;39m: \u001b[0m\u001b[0;39m4\u001b[0m\u001b[1;39m,\n",
      "        \u001b[0m\u001b[1;34m\"url\"\u001b[0m\u001b[1;39m: \u001b[0m\u001b[0;32m\"https://vk.com/doc329361482_600464596?hash=tjg8ZGng6KS88X1I8C9OQYrv18dzPYsmGXdpZQaA9QT&dl=C9pz4QvNoTvxUoQQOb2Zs70KIDSJCi4xX1TtUU47Fa8&api=1&no_preview=1\"\u001b[0m\u001b[1;39m,\n",
      "        \u001b[0m\u001b[1;34m\"preview\"\u001b[0m\u001b[1;39m: \u001b[0m\u001b[1;39m{\n",
      "          \u001b[0m\u001b[1;34m\"photo\"\u001b[0m\u001b[1;39m: \u001b[0m\u001b[1;39m{\n",
      "            \u001b[0m\u001b[1;34m\"sizes\"\u001b[0m\u001b[1;39m: \u001b[0m\u001b[1;39m[\n",
      "              \u001b[1;39m{\n",
      "                \u001b[0m\u001b[1;34m\"src\"\u001b[0m\u001b[1;39m: \u001b[0m\u001b[0;32m\"https://sun9-23.userapi.com/c505536/u329361482/d28/-3/m_91c6a4717a.jpg\"\u001b[0m\u001b[1;39m,\n",
      "                \u001b[0m\u001b[1;34m\"width\"\u001b[0m\u001b[1;39m: \u001b[0m\u001b[0;39m130\u001b[0m\u001b[1;39m,\n",
      "                \u001b[0m\u001b[1;34m\"height\"\u001b[0m\u001b[1;39m: \u001b[0m\u001b[0;39m93\u001b[0m\u001b[1;39m,\n",
      "                \u001b[0m\u001b[1;34m\"type\"\u001b[0m\u001b[1;39m: \u001b[0m\u001b[0;32m\"m\"\u001b[0m\u001b[1;39m\n",
      "              \u001b[1;39m}\u001b[0m\u001b[1;39m,\n",
      "              \u001b[1;39m{\n",
      "                \u001b[0m\u001b[1;34m\"src\"\u001b[0m\u001b[1;39m: \u001b[0m\u001b[0;32m\"https://sun9-6.userapi.com/c505536/u329361482/d28/-3/s_91c6a4717a.jpg\"\u001b[0m\u001b[1;39m,\n",
      "                \u001b[0m\u001b[1;34m\"width\"\u001b[0m\u001b[1;39m: \u001b[0m\u001b[0;39m100\u001b[0m\u001b[1;39m,\n",
      "                \u001b[0m\u001b[1;34m\"height\"\u001b[0m\u001b[1;39m: \u001b[0m\u001b[0;39m72\u001b[0m\u001b[1;39m,\n",
      "                \u001b[0m\u001b[1;34m\"type\"\u001b[0m\u001b[1;39m: \u001b[0m\u001b[0;32m\"s\"\u001b[0m\u001b[1;39m\n",
      "              \u001b[1;39m}\u001b[0m\u001b[1;39m,\n",
      "              \u001b[1;39m{\n",
      "                \u001b[0m\u001b[1;34m\"src\"\u001b[0m\u001b[1;39m: \u001b[0m\u001b[0;32m\"https://sun9-79.userapi.com/c505536/u329361482/d28/-3/x_91c6a4717a.jpg\"\u001b[0m\u001b[1;39m,\n",
      "                \u001b[0m\u001b[1;34m\"width\"\u001b[0m\u001b[1;39m: \u001b[0m\u001b[0;39m604\u001b[0m\u001b[1;39m,\n",
      "                \u001b[0m\u001b[1;34m\"height\"\u001b[0m\u001b[1;39m: \u001b[0m\u001b[0;39m432\u001b[0m\u001b[1;39m,\n",
      "                \u001b[0m\u001b[1;34m\"type\"\u001b[0m\u001b[1;39m: \u001b[0m\u001b[0;32m\"x\"\u001b[0m\u001b[1;39m\n",
      "              \u001b[1;39m}\u001b[0m\u001b[1;39m,\n",
      "              \u001b[1;39m{\n",
      "                \u001b[0m\u001b[1;34m\"src\"\u001b[0m\u001b[1;39m: \u001b[0m\u001b[0;32m\"https://sun9-45.userapi.com/c505536/u329361482/d28/-3/y_91c6a4717a.jpg\"\u001b[0m\u001b[1;39m,\n",
      "                \u001b[0m\u001b[1;34m\"width\"\u001b[0m\u001b[1;39m: \u001b[0m\u001b[0;39m807\u001b[0m\u001b[1;39m,\n",
      "                \u001b[0m\u001b[1;34m\"height\"\u001b[0m\u001b[1;39m: \u001b[0m\u001b[0;39m577\u001b[0m\u001b[1;39m,\n",
      "                \u001b[0m\u001b[1;34m\"type\"\u001b[0m\u001b[1;39m: \u001b[0m\u001b[0;32m\"y\"\u001b[0m\u001b[1;39m\n",
      "              \u001b[1;39m}\u001b[0m\u001b[1;39m,\n",
      "              \u001b[1;39m{\n",
      "                \u001b[0m\u001b[1;34m\"src\"\u001b[0m\u001b[1;39m: \u001b[0m\u001b[0;32m\"https://sun9-80.userapi.com/c505536/u329361482/d28/-3/o_91c6a4717a.jpg\"\u001b[0m\u001b[1;39m,\n",
      "                \u001b[0m\u001b[1;34m\"width\"\u001b[0m\u001b[1;39m: \u001b[0m\u001b[0;39m877\u001b[0m\u001b[1;39m,\n",
      "                \u001b[0m\u001b[1;34m\"height\"\u001b[0m\u001b[1;39m: \u001b[0m\u001b[0;39m627\u001b[0m\u001b[1;39m,\n",
      "                \u001b[0m\u001b[1;34m\"type\"\u001b[0m\u001b[1;39m: \u001b[0m\u001b[0;32m\"o\"\u001b[0m\u001b[1;39m\n",
      "              \u001b[1;39m}\u001b[0m\u001b[1;39m\n",
      "            \u001b[1;39m]\u001b[0m\u001b[1;39m\n",
      "          \u001b[1;39m}\u001b[0m\u001b[1;39m\n",
      "        \u001b[1;39m}\u001b[0m\u001b[1;39m,\n",
      "        \u001b[0m\u001b[1;34m\"is_unsafe\"\u001b[0m\u001b[1;39m: \u001b[0m\u001b[0;39m0\u001b[0m\u001b[1;39m,\n",
      "        \u001b[0m\u001b[1;34m\"can_manage\"\u001b[0m\u001b[1;39m: \u001b[0m\u001b[0;39mtrue\u001b[0m\u001b[1;39m\n",
      "      \u001b[1;39m}\u001b[0m\u001b[1;39m\n",
      "    \u001b[1;39m]\u001b[0m\u001b[1;39m\n",
      "  \u001b[1;39m}\u001b[0m\u001b[1;39m\n",
      "\u001b[1;39m}\u001b[0m\n"
     ]
    }
   ],
   "source": [
    "curl -Gs https://api.vk.com/method/docs.get \\\n",
    "-d v=5.199 \\\n",
    "-d access_token=$TOKEN \\\n",
    "-d owner_id=329361482 \\\n",
    "-d type=4 \\\n",
    "-d count=2 | jq"
   ]
  },
  {
   "cell_type": "markdown",
   "id": "7d6a83db-9217-4a3f-9c4d-b23a693f65a0",
   "metadata": {},
   "source": [
    "### Загрузка документов"
   ]
  },
  {
   "cell_type": "markdown",
   "id": "e5fb10a8-6045-4d0f-a1d2-00f21d8da562",
   "metadata": {},
   "source": [
    "Сначала надо получить URL, куда загрузить файл, потом загрузить туда файл используя POST, и в конце \"привязать\" документ к пользователю."
   ]
  },
  {
   "cell_type": "code",
   "execution_count": 18,
   "id": "8ab926ce-c0ed-426c-ae5b-f49d2d971f16",
   "metadata": {
    "scrolled": true
   },
   "outputs": [
    {
     "name": "stdout",
     "output_type": "stream",
     "text": [
      "\u001b[1;39m{\n",
      "  \u001b[0m\u001b[1;34m\"response\"\u001b[0m\u001b[1;39m: \u001b[0m\u001b[1;39m{\n",
      "    \u001b[0m\u001b[1;34m\"upload_url\"\u001b[0m\u001b[1;39m: \u001b[0m\u001b[0;32m\"https://pu.vk.com/c909618/upload_doc.php?act=add_doc&mid=329361482&aid=0&gid=0&type=0&hash=907a7c32a34e65d46252e34a749d1fc2&rhash=ebc8504b1dea2ed80e8387a58776d3f6&api=1\"\u001b[0m\u001b[1;39m\n",
      "  \u001b[1;39m}\u001b[0m\u001b[1;39m\n",
      "\u001b[1;39m}\u001b[0m\n"
     ]
    }
   ],
   "source": [
    "upload_url=$(\n",
    "    curl -Gs https://api.vk.com/method/docs.getUploadServer \\\n",
    "    -d v=5.199 \\\n",
    "    -d access_token=$TOKEN \\\n",
    "    | tee >(jq >&2) \\\n",
    "    | jq '.response.upload_url'\n",
    ")"
   ]
  },
  {
   "cell_type": "code",
   "execution_count": 19,
   "id": "2857e9e4-bf09-453e-af83-3d5d06b126be",
   "metadata": {},
   "outputs": [
    {
     "name": "stdout",
     "output_type": "stream",
     "text": [
      "\"https://pu.vk.com/c909618/upload_doc.php?act=add_doc&mid=329361482&aid=0&gid=0&type=0&hash=907a7c32a34e65d46252e34a749d1fc2&rhash=ebc8504b1dea2ed80e8387a58776d3f6&api=1\"\n"
     ]
    }
   ],
   "source": [
    "echo \"$upload_url\""
   ]
  },
  {
   "cell_type": "code",
   "execution_count": 20,
   "id": "392e14c0-d637-400c-873e-57b2579e2886",
   "metadata": {},
   "outputs": [
    {
     "name": "stdout",
     "output_type": "stream",
     "text": [
      "\u001b[1;39m{\n",
      "  \u001b[0m\u001b[1;34m\"file\"\u001b[0m\u001b[1;39m: \u001b[0m\u001b[0;32m\"329361482|0|0|909618|37cd7d427e|ipynb|73295|lab3.ipynb|c2c516118fbcefdf02dc13528af9c675|4406a5e620e50aac148805474b8816c6||||eyJkaXNrIjoiNTcifQ==\"\u001b[0m\u001b[1;39m\n",
      "\u001b[1;39m}\u001b[0m\n"
     ]
    }
   ],
   "source": [
    "file_info=$(\n",
    "    curl -s -X POST ${upload_url:1:-1} -F file=@./lab3.ipynb \\\n",
    "    | tee >(jq >&2) \\\n",
    "    | jq '.file'\n",
    ")"
   ]
  },
  {
   "cell_type": "code",
   "execution_count": 21,
   "id": "acaec98a-0093-4e1f-8415-60842dab012f",
   "metadata": {},
   "outputs": [
    {
     "name": "stdout",
     "output_type": "stream",
     "text": [
      "\"329361482|0|0|909618|37cd7d427e|ipynb|73295|lab3.ipynb|c2c516118fbcefdf02dc13528af9c675|4406a5e620e50aac148805474b8816c6||||eyJkaXNrIjoiNTcifQ==\"\n"
     ]
    }
   ],
   "source": [
    "echo \"$file_info\""
   ]
  },
  {
   "cell_type": "code",
   "execution_count": 22,
   "id": "e64b6e10-16c0-4fde-8c3e-679439a06d81",
   "metadata": {
    "scrolled": true
   },
   "outputs": [
    {
     "name": "stdout",
     "output_type": "stream",
     "text": [
      "\u001b[1;39m{\n",
      "  \u001b[0m\u001b[1;34m\"response\"\u001b[0m\u001b[1;39m: \u001b[0m\u001b[1;39m{\n",
      "    \u001b[0m\u001b[1;34m\"type\"\u001b[0m\u001b[1;39m: \u001b[0m\u001b[0;32m\"doc\"\u001b[0m\u001b[1;39m,\n",
      "    \u001b[0m\u001b[1;34m\"doc\"\u001b[0m\u001b[1;39m: \u001b[0m\u001b[1;39m{\n",
      "      \u001b[0m\u001b[1;34m\"id\"\u001b[0m\u001b[1;39m: \u001b[0m\u001b[0;39m671974040\u001b[0m\u001b[1;39m,\n",
      "      \u001b[0m\u001b[1;34m\"owner_id\"\u001b[0m\u001b[1;39m: \u001b[0m\u001b[0;39m329361482\u001b[0m\u001b[1;39m,\n",
      "      \u001b[0m\u001b[1;34m\"title\"\u001b[0m\u001b[1;39m: \u001b[0m\u001b[0;32m\"hhGNbPGL5tnyV0be-lab3.ipynb\"\u001b[0m\u001b[1;39m,\n",
      "      \u001b[0m\u001b[1;34m\"size\"\u001b[0m\u001b[1;39m: \u001b[0m\u001b[0;39m73295\u001b[0m\u001b[1;39m,\n",
      "      \u001b[0m\u001b[1;34m\"ext\"\u001b[0m\u001b[1;39m: \u001b[0m\u001b[0;32m\"ipynb\"\u001b[0m\u001b[1;39m,\n",
      "      \u001b[0m\u001b[1;34m\"date\"\u001b[0m\u001b[1;39m: \u001b[0m\u001b[0;39m1714644188\u001b[0m\u001b[1;39m,\n",
      "      \u001b[0m\u001b[1;34m\"type\"\u001b[0m\u001b[1;39m: \u001b[0m\u001b[0;39m8\u001b[0m\u001b[1;39m,\n",
      "      \u001b[0m\u001b[1;34m\"url\"\u001b[0m\u001b[1;39m: \u001b[0m\u001b[0;32m\"https://vk.com/doc329361482_671974040?hash=i2NseU84jNwVMNYzcg8YuZvatVJokLY2xkoZAMJv12k&dl=DcrGIAeMzLaaRgqv9nUgdzRZx8OI9aHt5MlojHUIqbE&api=1&no_preview=1\"\u001b[0m\u001b[1;39m,\n",
      "      \u001b[0m\u001b[1;34m\"is_unsafe\"\u001b[0m\u001b[1;39m: \u001b[0m\u001b[0;39m0\u001b[0m\u001b[1;39m,\n",
      "      \u001b[0m\u001b[1;34m\"can_manage\"\u001b[0m\u001b[1;39m: \u001b[0m\u001b[0;39mtrue\u001b[0m\u001b[1;39m\n",
      "    \u001b[1;39m}\u001b[0m\u001b[1;39m\n",
      "  \u001b[1;39m}\u001b[0m\u001b[1;39m\n",
      "\u001b[1;39m}\u001b[0m\n"
     ]
    }
   ],
   "source": [
    "curl -Gs https://api.vk.com/method/docs.save \\\n",
    "-d v=5.199 \\\n",
    "-d access_token=$TOKEN \\\n",
    "-d file=${file_info:1:-1} \\\n",
    "-d title=$(openssl rand -base64 12)-lab3.ipynb | jq"
   ]
  },
  {
   "cell_type": "markdown",
   "id": "d82177ab-33f1-4547-a8fe-05bbdf3b4897",
   "metadata": {},
   "source": [
    "## Группа методов `photos`"
   ]
  },
  {
   "cell_type": "markdown",
   "id": "182ff52a-c94f-42e5-8398-9a2c5456b890",
   "metadata": {},
   "source": [
    "### Получим список всех фотографий с их размерами, а также скрытые (если они есть)"
   ]
  },
  {
   "cell_type": "code",
   "execution_count": 23,
   "id": "34cec3f9-57a5-466c-8837-48b8c86509f6",
   "metadata": {
    "scrolled": true
   },
   "outputs": [
    {
     "name": "stdout",
     "output_type": "stream",
     "text": [
      "\u001b[1;39m{\n",
      "  \u001b[0m\u001b[1;34m\"response\"\u001b[0m\u001b[1;39m: \u001b[0m\u001b[1;39m{\n",
      "    \u001b[0m\u001b[1;34m\"count\"\u001b[0m\u001b[1;39m: \u001b[0m\u001b[0;39m11\u001b[0m\u001b[1;39m,\n",
      "    \u001b[0m\u001b[1;34m\"items\"\u001b[0m\u001b[1;39m: \u001b[0m\u001b[1;39m[\n",
      "      \u001b[1;39m{\n",
      "        \u001b[0m\u001b[1;34m\"album_id\"\u001b[0m\u001b[1;39m: \u001b[0m\u001b[0;39m302557033\u001b[0m\u001b[1;39m,\n",
      "        \u001b[0m\u001b[1;34m\"date\"\u001b[0m\u001b[1;39m: \u001b[0m\u001b[0;39m1714610506\u001b[0m\u001b[1;39m,\n",
      "        \u001b[0m\u001b[1;34m\"id\"\u001b[0m\u001b[1;39m: \u001b[0m\u001b[0;39m457241796\u001b[0m\u001b[1;39m,\n",
      "        \u001b[0m\u001b[1;34m\"owner_id\"\u001b[0m\u001b[1;39m: \u001b[0m\u001b[0;39m329361482\u001b[0m\u001b[1;39m,\n",
      "        \u001b[0m\u001b[1;34m\"sizes\"\u001b[0m\u001b[1;39m: \u001b[0m\u001b[1;39m[\n",
      "          \u001b[1;39m{\n",
      "            \u001b[0m\u001b[1;34m\"height\"\u001b[0m\u001b[1;39m: \u001b[0m\u001b[0;39m510\u001b[0m\u001b[1;39m,\n",
      "            \u001b[0m\u001b[1;34m\"type\"\u001b[0m\u001b[1;39m: \u001b[0m\u001b[0;32m\"r\"\u001b[0m\u001b[1;39m,\n",
      "            \u001b[0m\u001b[1;34m\"width\"\u001b[0m\u001b[1;39m: \u001b[0m\u001b[0;39m510\u001b[0m\u001b[1;39m,\n",
      "            \u001b[0m\u001b[1;34m\"url\"\u001b[0m\u001b[1;39m: \u001b[0m\u001b[0;32m\"https://sun9-7.userapi.com/impg/vB4QPq5S8QbVpkmxyHwJ23v0k1N81Bkj8J9skQ/yWGBDi7PIW8.jpg?size=510x510&quality=96&sign=e62bd9316b919c6c35fd784b1b9d2eb8&c_uniq_tag=wFHV0eliNe_QaHsFtMf4BJ4LoRDqpUAy5ExP0JrzGpw&type=album\"\u001b[0m\u001b[1;39m\n",
      "          \u001b[1;39m}\u001b[0m\u001b[1;39m\n",
      "        \u001b[1;39m]\u001b[0m\u001b[1;39m,\n",
      "        \u001b[0m\u001b[1;34m\"text\"\u001b[0m\u001b[1;39m: \u001b[0m\u001b[0;32m\"pFaG/aUyy48ml6xP-418.jpg\"\u001b[0m\u001b[1;39m,\n",
      "        \u001b[0m\u001b[1;34m\"web_view_token\"\u001b[0m\u001b[1;39m: \u001b[0m\u001b[0;32m\"4d0147ac538f09bc72\"\u001b[0m\u001b[1;39m,\n",
      "        \u001b[0m\u001b[1;34m\"has_tags\"\u001b[0m\u001b[1;39m: \u001b[0m\u001b[0;39mfalse\u001b[0m\u001b[1;39m,\n",
      "        \u001b[0m\u001b[1;34m\"hidden\"\u001b[0m\u001b[1;39m: \u001b[0m\u001b[0;39m1\u001b[0m\u001b[1;39m\n",
      "      \u001b[1;39m}\u001b[0m\u001b[1;39m,\n",
      "      \u001b[1;39m{\n",
      "        \u001b[0m\u001b[1;34m\"album_id\"\u001b[0m\u001b[1;39m: \u001b[0m\u001b[0;39m302557033\u001b[0m\u001b[1;39m,\n",
      "        \u001b[0m\u001b[1;34m\"date\"\u001b[0m\u001b[1;39m: \u001b[0m\u001b[0;39m1714610457\u001b[0m\u001b[1;39m,\n",
      "        \u001b[0m\u001b[1;34m\"id\"\u001b[0m\u001b[1;39m: \u001b[0m\u001b[0;39m457241795\u001b[0m\u001b[1;39m,\n",
      "        \u001b[0m\u001b[1;34m\"owner_id\"\u001b[0m\u001b[1;39m: \u001b[0m\u001b[0;39m329361482\u001b[0m\u001b[1;39m,\n",
      "        \u001b[0m\u001b[1;34m\"sizes\"\u001b[0m\u001b[1;39m: \u001b[0m\u001b[1;39m[\n",
      "          \u001b[1;39m{\n",
      "            \u001b[0m\u001b[1;34m\"height\"\u001b[0m\u001b[1;39m: \u001b[0m\u001b[0;39m510\u001b[0m\u001b[1;39m,\n",
      "            \u001b[0m\u001b[1;34m\"type\"\u001b[0m\u001b[1;39m: \u001b[0m\u001b[0;32m\"r\"\u001b[0m\u001b[1;39m,\n",
      "            \u001b[0m\u001b[1;34m\"width\"\u001b[0m\u001b[1;39m: \u001b[0m\u001b[0;39m510\u001b[0m\u001b[1;39m,\n",
      "            \u001b[0m\u001b[1;34m\"url\"\u001b[0m\u001b[1;39m: \u001b[0m\u001b[0;32m\"https://sun9-29.userapi.com/impg/42-Ka8J-nCeAv38QraDQD7ebij3m9ilUM-J5-g/PSOUFIwFSyQ.jpg?size=510x510&quality=96&sign=afd8b538b7c0e73775260afbad520d3f&c_uniq_tag=PG3ZIdXDXywEy5oJbq9q98NZ7lu0gXkBMKs64QBh7wA&type=album\"\u001b[0m\u001b[1;39m\n",
      "          \u001b[1;39m}\u001b[0m\u001b[1;39m\n",
      "        \u001b[1;39m]\u001b[0m\u001b[1;39m,\n",
      "        \u001b[0m\u001b[1;34m\"text\"\u001b[0m\u001b[1;39m: \u001b[0m\u001b[0;32m\"3U/fuA0HG AuA3 R-418.jpg\"\u001b[0m\u001b[1;39m,\n",
      "        \u001b[0m\u001b[1;34m\"web_view_token\"\u001b[0m\u001b[1;39m: \u001b[0m\u001b[0;32m\"d875968396f8e7e0d1\"\u001b[0m\u001b[1;39m,\n",
      "        \u001b[0m\u001b[1;34m\"has_tags\"\u001b[0m\u001b[1;39m: \u001b[0m\u001b[0;39mfalse\u001b[0m\u001b[1;39m,\n",
      "        \u001b[0m\u001b[1;34m\"hidden\"\u001b[0m\u001b[1;39m: \u001b[0m\u001b[0;39m1\u001b[0m\u001b[1;39m\n",
      "      \u001b[1;39m}\u001b[0m\u001b[1;39m\n",
      "    \u001b[1;39m]\u001b[0m\u001b[1;39m\n",
      "  \u001b[1;39m}\u001b[0m\u001b[1;39m\n",
      "\u001b[1;39m}\u001b[0m\n"
     ]
    }
   ],
   "source": [
    "photo_id=$(\n",
    "    curl -Gs https://api.vk.com/method/photos.getAll \\\n",
    "    -d v=5.199 \\\n",
    "    -d access_token=$TOKEN \\\n",
    "    -d owner_id=329361482 \\\n",
    "    -d need_hidden=1 \\\n",
    "    -d photo_sizes=1 \\\n",
    "    -d count=2 \\\n",
    "    | tee >(jq 'del(.response.items.[].sizes[0:-1])' >&2) \\\n",
    "    | jq '.response.items[0].id'\n",
    ")"
   ]
  },
  {
   "cell_type": "code",
   "execution_count": 24,
   "id": "9e4d6e6b-d792-434f-9701-09e8c815b9ca",
   "metadata": {
    "scrolled": true
   },
   "outputs": [
    {
     "name": "stdout",
     "output_type": "stream",
     "text": [
      "457241796\n"
     ]
    }
   ],
   "source": [
    "echo \"$photo_id\""
   ]
  },
  {
   "cell_type": "markdown",
   "id": "994ca332-6d1e-4243-8e2d-40d526a257df",
   "metadata": {},
   "source": [
    "### Комментарии к фото"
   ]
  },
  {
   "cell_type": "code",
   "execution_count": 25,
   "id": "b33be9e8-038a-4ea8-bd2e-a246beafa9d8",
   "metadata": {
    "scrolled": true
   },
   "outputs": [
    {
     "name": "stdout",
     "output_type": "stream",
     "text": [
      "\u001b[1;39m{\n",
      "  \u001b[0m\u001b[1;34m\"response\"\u001b[0m\u001b[1;39m: \u001b[0m\u001b[1;39m{\n",
      "    \u001b[0m\u001b[1;34m\"count\"\u001b[0m\u001b[1;39m: \u001b[0m\u001b[0;39m0\u001b[0m\u001b[1;39m,\n",
      "    \u001b[0m\u001b[1;34m\"items\"\u001b[0m\u001b[1;39m: \u001b[0m\u001b[1;39m[]\u001b[0m\u001b[1;39m\n",
      "  \u001b[1;39m}\u001b[0m\u001b[1;39m\n",
      "\u001b[1;39m}\u001b[0m\n"
     ]
    }
   ],
   "source": [
    "curl -Gs https://api.vk.com/method/photos.getComments \\\n",
    "-d v=5.199 \\\n",
    "-d access_token=$TOKEN \\\n",
    "-d owner_id=329361482 \\\n",
    "-d photo_id=$photo_id | jq"
   ]
  },
  {
   "cell_type": "markdown",
   "id": "fc7dc224-0775-4717-81af-4a37625fc003",
   "metadata": {},
   "source": [
    "### Загрузка фото в альбом"
   ]
  },
  {
   "cell_type": "markdown",
   "id": "e6a3c765-5887-4c17-986e-04991e823454",
   "metadata": {},
   "source": [
    "Процесс точно такой же, как с загрузкой файлов. Разьве что больше мест куда можно загрузить фото: на стену, в альбом, в сообщение и так далее."
   ]
  },
  {
   "cell_type": "code",
   "execution_count": 26,
   "id": "2c502a48-e6e8-474e-beb0-fc582a9d04d0",
   "metadata": {},
   "outputs": [
    {
     "name": "stdout",
     "output_type": "stream",
     "text": [
      "  % Total    % Received % Xferd  Average Speed   Time    Time     Time  Current\n",
      "                                 Dload  Upload   Total   Spent    Left  Speed\n",
      "100    80  100    80    0     0     13      0  0:00:06  0:00:05  0:00:01    25\n",
      "100   207  100   207    0     0     34      0  0:00:06  0:00:06 --:--:--    34\n",
      "100 47188  100 47188    0     0   5771      0  0:00:08  0:00:08 --:--:-- 35293\n"
     ]
    }
   ],
   "source": [
    "curl https://random.imagecdn.app/512/512 -L -o /tmp/img.png"
   ]
  },
  {
   "cell_type": "code",
   "execution_count": 27,
   "id": "fa335dbe-7a03-4f70-86b1-17c294b06324",
   "metadata": {
    "scrolled": true
   },
   "outputs": [
    {
     "name": "stdout",
     "output_type": "stream",
     "text": [
      "\u001b[1;39m{\n",
      "  \u001b[0m\u001b[1;34m\"response\"\u001b[0m\u001b[1;39m: \u001b[0m\u001b[1;39m{\n",
      "    \u001b[0m\u001b[1;34m\"count\"\u001b[0m\u001b[1;39m: \u001b[0m\u001b[0;39m1\u001b[0m\u001b[1;39m,\n",
      "    \u001b[0m\u001b[1;34m\"items\"\u001b[0m\u001b[1;39m: \u001b[0m\u001b[1;39m[\n",
      "      \u001b[1;39m{\n",
      "        \u001b[0m\u001b[1;34m\"id\"\u001b[0m\u001b[1;39m: \u001b[0m\u001b[0;39m302557033\u001b[0m\u001b[1;39m,\n",
      "        \u001b[0m\u001b[1;34m\"owner_id\"\u001b[0m\u001b[1;39m: \u001b[0m\u001b[0;39m329361482\u001b[0m\u001b[1;39m,\n",
      "        \u001b[0m\u001b[1;34m\"size\"\u001b[0m\u001b[1;39m: \u001b[0m\u001b[0;39m7\u001b[0m\u001b[1;39m,\n",
      "        \u001b[0m\u001b[1;34m\"title\"\u001b[0m\u001b[1;39m: \u001b[0m\u001b[0;32m\"photos\"\u001b[0m\u001b[1;39m,\n",
      "        \u001b[0m\u001b[1;34m\"feed_disabled\"\u001b[0m\u001b[1;39m: \u001b[0m\u001b[0;39m0\u001b[0m\u001b[1;39m,\n",
      "        \u001b[0m\u001b[1;34m\"feed_has_pinned\"\u001b[0m\u001b[1;39m: \u001b[0m\u001b[0;39m0\u001b[0m\u001b[1;39m,\n",
      "        \u001b[0m\u001b[1;34m\"created\"\u001b[0m\u001b[1;39m: \u001b[0m\u001b[0;39m1714605876\u001b[0m\u001b[1;39m,\n",
      "        \u001b[0m\u001b[1;34m\"description\"\u001b[0m\u001b[1;39m: \u001b[0m\u001b[0;32m\"\"\u001b[0m\u001b[1;39m,\n",
      "        \u001b[0m\u001b[1;34m\"can_delete\"\u001b[0m\u001b[1;39m: \u001b[0m\u001b[0;39mtrue\u001b[0m\u001b[1;39m,\n",
      "        \u001b[0m\u001b[1;34m\"can_include_to_feed\"\u001b[0m\u001b[1;39m: \u001b[0m\u001b[0;39mfalse\u001b[0m\u001b[1;39m,\n",
      "        \u001b[0m\u001b[1;34m\"is_locked\"\u001b[0m\u001b[1;39m: \u001b[0m\u001b[0;39mtrue\u001b[0m\u001b[1;39m,\n",
      "        \u001b[0m\u001b[1;34m\"privacy_comment\"\u001b[0m\u001b[1;39m: \u001b[0m\u001b[1;39m{\n",
      "          \u001b[0m\u001b[1;34m\"category\"\u001b[0m\u001b[1;39m: \u001b[0m\u001b[0;32m\"friends\"\u001b[0m\u001b[1;39m,\n",
      "          \u001b[0m\u001b[1;34m\"lists\"\u001b[0m\u001b[1;39m: \u001b[0m\u001b[1;39m{\n",
      "            \u001b[0m\u001b[1;34m\"allowed\"\u001b[0m\u001b[1;39m: \u001b[0m\u001b[1;39m[]\u001b[0m\u001b[1;39m,\n",
      "            \u001b[0m\u001b[1;34m\"excluded\"\u001b[0m\u001b[1;39m: \u001b[0m\u001b[1;39m[]\u001b[0m\u001b[1;39m\n",
      "          \u001b[1;39m}\u001b[0m\u001b[1;39m,\n",
      "          \u001b[0m\u001b[1;34m\"owners\"\u001b[0m\u001b[1;39m: \u001b[0m\u001b[1;39m{\n",
      "            \u001b[0m\u001b[1;34m\"allowed\"\u001b[0m\u001b[1;39m: \u001b[0m\u001b[1;39m[]\u001b[0m\u001b[1;39m,\n",
      "            \u001b[0m\u001b[1;34m\"excluded\"\u001b[0m\u001b[1;39m: \u001b[0m\u001b[1;39m[]\u001b[0m\u001b[1;39m\n",
      "          \u001b[1;39m}\u001b[0m\u001b[1;39m\n",
      "        \u001b[1;39m}\u001b[0m\u001b[1;39m,\n",
      "        \u001b[0m\u001b[1;34m\"privacy_view\"\u001b[0m\u001b[1;39m: \u001b[0m\u001b[1;39m{\n",
      "          \u001b[0m\u001b[1;34m\"category\"\u001b[0m\u001b[1;39m: \u001b[0m\u001b[0;32m\"only_me\"\u001b[0m\u001b[1;39m,\n",
      "          \u001b[0m\u001b[1;34m\"lists\"\u001b[0m\u001b[1;39m: \u001b[0m\u001b[1;39m{\n",
      "            \u001b[0m\u001b[1;34m\"allowed\"\u001b[0m\u001b[1;39m: \u001b[0m\u001b[1;39m[]\u001b[0m\u001b[1;39m,\n",
      "            \u001b[0m\u001b[1;34m\"excluded\"\u001b[0m\u001b[1;39m: \u001b[0m\u001b[1;39m[]\u001b[0m\u001b[1;39m\n",
      "          \u001b[1;39m}\u001b[0m\u001b[1;39m,\n",
      "          \u001b[0m\u001b[1;34m\"owners\"\u001b[0m\u001b[1;39m: \u001b[0m\u001b[1;39m{\n",
      "            \u001b[0m\u001b[1;34m\"allowed\"\u001b[0m\u001b[1;39m: \u001b[0m\u001b[1;39m[]\u001b[0m\u001b[1;39m,\n",
      "            \u001b[0m\u001b[1;34m\"excluded\"\u001b[0m\u001b[1;39m: \u001b[0m\u001b[1;39m[]\u001b[0m\u001b[1;39m\n",
      "          \u001b[1;39m}\u001b[0m\u001b[1;39m\n",
      "        \u001b[1;39m}\u001b[0m\u001b[1;39m,\n",
      "        \u001b[0m\u001b[1;34m\"thumb_id\"\u001b[0m\u001b[1;39m: \u001b[0m\u001b[0;39m457241796\u001b[0m\u001b[1;39m,\n",
      "        \u001b[0m\u001b[1;34m\"thumb_is_last\"\u001b[0m\u001b[1;39m: \u001b[0m\u001b[0;39m1\u001b[0m\u001b[1;39m,\n",
      "        \u001b[0m\u001b[1;34m\"updated\"\u001b[0m\u001b[1;39m: \u001b[0m\u001b[0;39m1714610506\u001b[0m\u001b[1;39m\n",
      "      \u001b[1;39m}\u001b[0m\u001b[1;39m\n",
      "    \u001b[1;39m]\u001b[0m\u001b[1;39m\n",
      "  \u001b[1;39m}\u001b[0m\u001b[1;39m\n",
      "\u001b[1;39m}\u001b[0m\n"
     ]
    }
   ],
   "source": [
    "album_id=$(\n",
    "    curl -Gs https://api.vk.com/method/photos.getAlbums \\\n",
    "    -d v=5.199 \\\n",
    "    -d access_token=$TOKEN \\\n",
    "    | tee >(jq >&2) \\\n",
    "    | jq '.response.items | map(select(.title == \"photos\")).[0].id'\n",
    ")"
   ]
  },
  {
   "cell_type": "code",
   "execution_count": 28,
   "id": "92fac41e-794a-479e-af9f-a5cafbdc550a",
   "metadata": {},
   "outputs": [
    {
     "name": "stdout",
     "output_type": "stream",
     "text": [
      "302557033\n"
     ]
    }
   ],
   "source": [
    "echo \"$album_id\""
   ]
  },
  {
   "cell_type": "code",
   "execution_count": 29,
   "id": "7705fd72-c775-45ee-acae-4b23eb7a7157",
   "metadata": {
    "scrolled": true
   },
   "outputs": [],
   "source": [
    "if [ \"$album_id\" = \"null\" ]; then\n",
    "    album_id=$(\n",
    "        curl -Gs https://api.vk.com/method/photos.createAlbum \\\n",
    "        -d v=5.199 \\\n",
    "        -d access_token=$TOKEN \\\n",
    "        -d title=\"photos\" \\\n",
    "        -d privacy_view=only_me \\\n",
    "        | tee >(jq >&2) \\\n",
    "        | jq '.response.id'\n",
    "    )\n",
    "fi"
   ]
  },
  {
   "cell_type": "code",
   "execution_count": 30,
   "id": "b994c681-0cd6-42b0-89fe-6cc6cdaafc18",
   "metadata": {},
   "outputs": [
    {
     "name": "stdout",
     "output_type": "stream",
     "text": [
      "302557033\n"
     ]
    }
   ],
   "source": [
    "echo \"$album_id\""
   ]
  },
  {
   "cell_type": "code",
   "execution_count": 31,
   "id": "464a7404-a424-4075-a124-b7aefa85ec92",
   "metadata": {
    "scrolled": true
   },
   "outputs": [
    {
     "name": "stdout",
     "output_type": "stream",
     "text": [
      "\u001b[1;39m{\n",
      "  \u001b[0m\u001b[1;34m\"response\"\u001b[0m\u001b[1;39m: \u001b[0m\u001b[1;39m{\n",
      "    \u001b[0m\u001b[1;34m\"album_id\"\u001b[0m\u001b[1;39m: \u001b[0m\u001b[0;39m302557033\u001b[0m\u001b[1;39m,\n",
      "    \u001b[0m\u001b[1;34m\"upload_url\"\u001b[0m\u001b[1;39m: \u001b[0m\u001b[0;32m\"https://pu.vk.com/c844030/ss2071/upload.php?act=do_add&mid=329361482&aid=302557033&gid=0&hash=587c40245a4012ba67dba813ec446f31&rhash=d0ca5263e00e2bee50f9b00368054afa&swfupload=1&api=1\"\u001b[0m\u001b[1;39m,\n",
      "    \u001b[0m\u001b[1;34m\"user_id\"\u001b[0m\u001b[1;39m: \u001b[0m\u001b[0;39m329361482\u001b[0m\u001b[1;39m\n",
      "  \u001b[1;39m}\u001b[0m\u001b[1;39m\n",
      "\u001b[1;39m}\u001b[0m\n"
     ]
    }
   ],
   "source": [
    "upload_url=$(\n",
    "    curl -Gs https://api.vk.com/method/photos.getUploadServer \\\n",
    "    -d v=5.199 \\\n",
    "    -d access_token=$TOKEN \\\n",
    "    -d album_id=$album_id \\\n",
    "    | tee >(jq >&2) \\\n",
    "    | jq '.response.upload_url'\n",
    ")"
   ]
  },
  {
   "cell_type": "code",
   "execution_count": 32,
   "id": "12647a97-ad79-45c3-838e-dc0276342c69",
   "metadata": {},
   "outputs": [
    {
     "name": "stdout",
     "output_type": "stream",
     "text": [
      "\"https://pu.vk.com/c844030/ss2071/upload.php?act=do_add&mid=329361482&aid=302557033&gid=0&hash=587c40245a4012ba67dba813ec446f31&rhash=d0ca5263e00e2bee50f9b00368054afa&swfupload=1&api=1\"\n"
     ]
    }
   ],
   "source": [
    "echo \"$upload_url\""
   ]
  },
  {
   "cell_type": "code",
   "execution_count": 33,
   "id": "3f258918-5d51-48e5-b5c0-d6aaf9309bdd",
   "metadata": {},
   "outputs": [
    {
     "name": "stdout",
     "output_type": "stream",
     "text": [
      "\u001b[1;39m{\n",
      "  \u001b[0m\u001b[1;34m\"server\"\u001b[0m\u001b[1;39m: \u001b[0m\u001b[0;39m844030\u001b[0m\u001b[1;39m,\n",
      "  \u001b[0m\u001b[1;34m\"photos_list\"\u001b[0m\u001b[1;39m: \u001b[0m\u001b[0;32m\"[{\\\"markers_restarted\\\":true,\\\"photo\\\":\\\"8867633661:x\\\",\\\"sizes\\\":[],\\\"latitude\\\":0,\\\"longitude\\\":0,\\\"kid\\\":\\\"86082fe7db7fe7f73f01f82770700490\\\",\\\"sizes2\\\":[[\\\"s\\\",\\\"4cb0c548a2a811e60c535cf510553a159898bafcec85eb33be17e4b6\\\",\\\"6885674012536534566\\\",75,75],[\\\"m\\\",\\\"004063aee3ca05592c9b2fafd62041d96869892fb58b8f4d9e79480b\\\",\\\"-639396101755076902\\\",130,130],[\\\"x\\\",\\\"4dbb680b47f360a9a4663904631936f6a82269241ee9b206b06261d3\\\",\\\"2011052438627191579\\\",512,512],[\\\"o\\\",\\\"004063aee3ca05592c9b2fafd62041d96869892fb58b8f4d9e79480b\\\",\\\"-9150484754182156995\\\",130,130],[\\\"p\\\",\\\"3566b2de12c3c4591a429f8cf25ad7444709f97a316d47350c93c238\\\",\\\"-7898201955223191673\\\",200,200],[\\\"q\\\",\\\"cfe8af9c4894f65954ebbfcd1abec5cca95bfd7a2eabbcd28e1d7b6d\\\",\\\"715291089221660895\\\",320,320],[\\\"r\\\",\\\"9ebbf8c6aabbb346661bf2cb6cbcc8b9ef8cb1ff056999ffbf2a824b\\\",\\\"1115762380967512657\\\",510,510]],\\\"urls\\\":[],\\\"urls2\\\":[\\\"TLDFSKKoEeYMU1z1EFU6FZiYuvzsheszvhfktg/JvZgVAjUjl8.jpg\\\",\\\"AEBjruPKBVksmy-v1iBB2WhpiS-1i49NnnlICw/2n4eFKJoIPc.jpg\\\",\\\"TbtoC0fzYKmkZjkEYxk29qgiaSQe6bIGsGJh0w/G4sOtYmx6Bs.jpg\\\",\\\"AEBjruPKBVksmy-v1iBB2WhpiS-1i49NnnlICw/PU1Y8JjyAoE.jpg\\\",\\\"NWay3hLDxFkaQp-M8lrXREcJ-XoxbUc1DJPCOA/hz-gDivzY5I.jpg\\\",\\\"z-ivnEiU9llU67_NGr7FzKlb_Xouq7zSjh17bQ/3zAPtHQ57Qk.jpg\\\",\\\"nrv4xqq7s0ZmG_LLbLzIue-Msf8FaZn_vyqCSw/UQpQU_n7ew8.jpg\\\"]}]\"\u001b[0m\u001b[1;39m,\n",
      "  \u001b[0m\u001b[1;34m\"aid\"\u001b[0m\u001b[1;39m: \u001b[0m\u001b[0;39m302557033\u001b[0m\u001b[1;39m,\n",
      "  \u001b[0m\u001b[1;34m\"hash\"\u001b[0m\u001b[1;39m: \u001b[0m\u001b[0;32m\"11cd956f03a1962d07f934e9e981c0ad\"\u001b[0m\u001b[1;39m\n",
      "\u001b[1;39m}\u001b[0m\n"
     ]
    }
   ],
   "source": [
    "photo_info=$(\n",
    "    curl -s -X POST ${upload_url:1:-1} -F file=@/tmp/img.png \\\n",
    "    | tee >(jq >&2)\n",
    ")"
   ]
  },
  {
   "cell_type": "code",
   "execution_count": 34,
   "id": "a8674439-7792-44d2-bb08-852769c69d34",
   "metadata": {},
   "outputs": [
    {
     "name": "stdout",
     "output_type": "stream",
     "text": [
      "11cd956f03a1962d07f934e9e981c0ad\n"
     ]
    }
   ],
   "source": [
    "server=$(echo \"$photo_info\" | jq '.server')\n",
    "photos_list=$(echo \"$photo_info\" | jq '.photos_list' | sed 's/\\\\\\\"/\"/g')\n",
    "hash=$(echo \"$photo_info\" | jq '.hash')\n",
    "echo \"${hash:1:-1}\""
   ]
  },
  {
   "cell_type": "code",
   "execution_count": 35,
   "id": "18fa778d-8ab4-47b0-bf23-e96595377900",
   "metadata": {
    "scrolled": true
   },
   "outputs": [
    {
     "name": "stdout",
     "output_type": "stream",
     "text": [
      "\u001b[1;39m{\n",
      "  \u001b[0m\u001b[1;34m\"response\"\u001b[0m\u001b[1;39m: \u001b[0m\u001b[1;39m[\n",
      "    \u001b[1;39m{\n",
      "      \u001b[0m\u001b[1;34m\"album_id\"\u001b[0m\u001b[1;39m: \u001b[0m\u001b[0;39m302557033\u001b[0m\u001b[1;39m,\n",
      "      \u001b[0m\u001b[1;34m\"date\"\u001b[0m\u001b[1;39m: \u001b[0m\u001b[0;39m1714644202\u001b[0m\u001b[1;39m,\n",
      "      \u001b[0m\u001b[1;34m\"id\"\u001b[0m\u001b[1;39m: \u001b[0m\u001b[0;39m457241797\u001b[0m\u001b[1;39m,\n",
      "      \u001b[0m\u001b[1;34m\"owner_id\"\u001b[0m\u001b[1;39m: \u001b[0m\u001b[0;39m329361482\u001b[0m\u001b[1;39m,\n",
      "      \u001b[0m\u001b[1;34m\"sizes\"\u001b[0m\u001b[1;39m: \u001b[0m\u001b[1;39m[\n",
      "        \u001b[1;39m{\n",
      "          \u001b[0m\u001b[1;34m\"height\"\u001b[0m\u001b[1;39m: \u001b[0m\u001b[0;39m75\u001b[0m\u001b[1;39m,\n",
      "          \u001b[0m\u001b[1;34m\"type\"\u001b[0m\u001b[1;39m: \u001b[0m\u001b[0;32m\"s\"\u001b[0m\u001b[1;39m,\n",
      "          \u001b[0m\u001b[1;34m\"width\"\u001b[0m\u001b[1;39m: \u001b[0m\u001b[0;39m75\u001b[0m\u001b[1;39m,\n",
      "          \u001b[0m\u001b[1;34m\"url\"\u001b[0m\u001b[1;39m: \u001b[0m\u001b[0;32m\"https://sun9-67.userapi.com/impg/TbtoC0fzYKmkZjkEYxk29qgiaSQe6bIGsGJh0w/G4sOtYmx6Bs.jpg?size=75x75&quality=96&sign=3d0369c1d4a66005b4ac20556cc70ec8&c_uniq_tag=E4nATb161oyNJY07FCwCEvQDIitUv1Bbh0TspTRYjr0&type=album\"\u001b[0m\u001b[1;39m\n",
      "        \u001b[1;39m}\u001b[0m\u001b[1;39m,\n",
      "        \u001b[1;39m{\n",
      "          \u001b[0m\u001b[1;34m\"height\"\u001b[0m\u001b[1;39m: \u001b[0m\u001b[0;39m130\u001b[0m\u001b[1;39m,\n",
      "          \u001b[0m\u001b[1;34m\"type\"\u001b[0m\u001b[1;39m: \u001b[0m\u001b[0;32m\"m\"\u001b[0m\u001b[1;39m,\n",
      "          \u001b[0m\u001b[1;34m\"width\"\u001b[0m\u001b[1;39m: \u001b[0m\u001b[0;39m130\u001b[0m\u001b[1;39m,\n",
      "          \u001b[0m\u001b[1;34m\"url\"\u001b[0m\u001b[1;39m: \u001b[0m\u001b[0;32m\"https://sun9-67.userapi.com/impg/TbtoC0fzYKmkZjkEYxk29qgiaSQe6bIGsGJh0w/G4sOtYmx6Bs.jpg?size=130x130&quality=96&sign=6f4bcf6f06ebba10e1149354e88cd4e1&c_uniq_tag=_J0cHAHtO16sviG5f6yvdQphO7me554SrLKjo_6gDq8&type=album\"\u001b[0m\u001b[1;39m\n",
      "        \u001b[1;39m}\u001b[0m\u001b[1;39m,\n",
      "        \u001b[1;39m{\n",
      "          \u001b[0m\u001b[1;34m\"height\"\u001b[0m\u001b[1;39m: \u001b[0m\u001b[0;39m512\u001b[0m\u001b[1;39m,\n",
      "          \u001b[0m\u001b[1;34m\"type\"\u001b[0m\u001b[1;39m: \u001b[0m\u001b[0;32m\"x\"\u001b[0m\u001b[1;39m,\n",
      "          \u001b[0m\u001b[1;34m\"width\"\u001b[0m\u001b[1;39m: \u001b[0m\u001b[0;39m512\u001b[0m\u001b[1;39m,\n",
      "          \u001b[0m\u001b[1;34m\"url\"\u001b[0m\u001b[1;39m: \u001b[0m\u001b[0;32m\"https://sun9-67.userapi.com/impg/TbtoC0fzYKmkZjkEYxk29qgiaSQe6bIGsGJh0w/G4sOtYmx6Bs.jpg?size=512x512&quality=96&sign=c36a8e01ddf4a0aa5932225ad0c4c553&c_uniq_tag=13efO4ptwzp9XR0-wdzC5FWoTra6OvyHCJxQ--ZZQbI&type=album\"\u001b[0m\u001b[1;39m\n",
      "        \u001b[1;39m}\u001b[0m\u001b[1;39m,\n",
      "        \u001b[1;39m{\n",
      "          \u001b[0m\u001b[1;34m\"height\"\u001b[0m\u001b[1;39m: \u001b[0m\u001b[0;39m130\u001b[0m\u001b[1;39m,\n",
      "          \u001b[0m\u001b[1;34m\"type\"\u001b[0m\u001b[1;39m: \u001b[0m\u001b[0;32m\"o\"\u001b[0m\u001b[1;39m,\n",
      "          \u001b[0m\u001b[1;34m\"width\"\u001b[0m\u001b[1;39m: \u001b[0m\u001b[0;39m130\u001b[0m\u001b[1;39m,\n",
      "          \u001b[0m\u001b[1;34m\"url\"\u001b[0m\u001b[1;39m: \u001b[0m\u001b[0;32m\"https://sun9-67.userapi.com/impg/TbtoC0fzYKmkZjkEYxk29qgiaSQe6bIGsGJh0w/G4sOtYmx6Bs.jpg?size=130x130&quality=96&sign=6f4bcf6f06ebba10e1149354e88cd4e1&c_uniq_tag=_J0cHAHtO16sviG5f6yvdQphO7me554SrLKjo_6gDq8&type=album\"\u001b[0m\u001b[1;39m\n",
      "        \u001b[1;39m}\u001b[0m\u001b[1;39m,\n",
      "        \u001b[1;39m{\n",
      "          \u001b[0m\u001b[1;34m\"height\"\u001b[0m\u001b[1;39m: \u001b[0m\u001b[0;39m200\u001b[0m\u001b[1;39m,\n",
      "          \u001b[0m\u001b[1;34m\"type\"\u001b[0m\u001b[1;39m: \u001b[0m\u001b[0;32m\"p\"\u001b[0m\u001b[1;39m,\n",
      "          \u001b[0m\u001b[1;34m\"width\"\u001b[0m\u001b[1;39m: \u001b[0m\u001b[0;39m200\u001b[0m\u001b[1;39m,\n",
      "          \u001b[0m\u001b[1;34m\"url\"\u001b[0m\u001b[1;39m: \u001b[0m\u001b[0;32m\"https://sun9-67.userapi.com/impg/TbtoC0fzYKmkZjkEYxk29qgiaSQe6bIGsGJh0w/G4sOtYmx6Bs.jpg?size=200x200&quality=96&sign=7bd66a5384d94022454e05aae64597ff&c_uniq_tag=1N8NL8WIE8Pie5skRtxFhb29PKRtGoaeJ01JPbRrDCE&type=album\"\u001b[0m\u001b[1;39m\n",
      "        \u001b[1;39m}\u001b[0m\u001b[1;39m,\n",
      "        \u001b[1;39m{\n",
      "          \u001b[0m\u001b[1;34m\"height\"\u001b[0m\u001b[1;39m: \u001b[0m\u001b[0;39m320\u001b[0m\u001b[1;39m,\n",
      "          \u001b[0m\u001b[1;34m\"type\"\u001b[0m\u001b[1;39m: \u001b[0m\u001b[0;32m\"q\"\u001b[0m\u001b[1;39m,\n",
      "          \u001b[0m\u001b[1;34m\"width\"\u001b[0m\u001b[1;39m: \u001b[0m\u001b[0;39m320\u001b[0m\u001b[1;39m,\n",
      "          \u001b[0m\u001b[1;34m\"url\"\u001b[0m\u001b[1;39m: \u001b[0m\u001b[0;32m\"https://sun9-67.userapi.com/impg/TbtoC0fzYKmkZjkEYxk29qgiaSQe6bIGsGJh0w/G4sOtYmx6Bs.jpg?size=320x320&quality=96&sign=fa741ec0d3cbb2b3c3a7246b6c422131&c_uniq_tag=UcxSBtEBZmx1YX3l1z5RxZKLzz873ejS5yBV1ZXRDuo&type=album\"\u001b[0m\u001b[1;39m\n",
      "        \u001b[1;39m}\u001b[0m\u001b[1;39m,\n",
      "        \u001b[1;39m{\n",
      "          \u001b[0m\u001b[1;34m\"height\"\u001b[0m\u001b[1;39m: \u001b[0m\u001b[0;39m510\u001b[0m\u001b[1;39m,\n",
      "          \u001b[0m\u001b[1;34m\"type\"\u001b[0m\u001b[1;39m: \u001b[0m\u001b[0;32m\"r\"\u001b[0m\u001b[1;39m,\n",
      "          \u001b[0m\u001b[1;34m\"width\"\u001b[0m\u001b[1;39m: \u001b[0m\u001b[0;39m510\u001b[0m\u001b[1;39m,\n",
      "          \u001b[0m\u001b[1;34m\"url\"\u001b[0m\u001b[1;39m: \u001b[0m\u001b[0;32m\"https://sun9-67.userapi.com/impg/TbtoC0fzYKmkZjkEYxk29qgiaSQe6bIGsGJh0w/G4sOtYmx6Bs.jpg?size=510x510&quality=96&sign=19704ba135cdf951ae2f260db50f24e4&c_uniq_tag=0sEBAx3rPSLWtME4x5qZ3AkF6eP0g_Ae4V_ZloP2KcI&type=album\"\u001b[0m\u001b[1;39m\n",
      "        \u001b[1;39m}\u001b[0m\u001b[1;39m\n",
      "      \u001b[1;39m]\u001b[0m\u001b[1;39m,\n",
      "      \u001b[0m\u001b[1;34m\"text\"\u001b[0m\u001b[1;39m: \u001b[0m\u001b[0;32m\"3xVGp4udNaLCE5UM-418.jpg\"\u001b[0m\u001b[1;39m,\n",
      "      \u001b[0m\u001b[1;34m\"web_view_token\"\u001b[0m\u001b[1;39m: \u001b[0m\u001b[0;32m\"379ccbec3c15fd74eb\"\u001b[0m\u001b[1;39m,\n",
      "      \u001b[0m\u001b[1;34m\"has_tags\"\u001b[0m\u001b[1;39m: \u001b[0m\u001b[0;39mfalse\u001b[0m\u001b[1;39m\n",
      "    \u001b[1;39m}\u001b[0m\u001b[1;39m\n",
      "  \u001b[1;39m]\u001b[0m\u001b[1;39m\n",
      "\u001b[1;39m}\u001b[0m\n"
     ]
    }
   ],
   "source": [
    "curl -Gs https://api.vk.com/method/photos.save \\\n",
    "-d v=5.199 \\\n",
    "-d access_token=$TOKEN \\\n",
    "-d album_id=$album_id \\\n",
    "-d server=$server \\\n",
    "-d photos_list=${photos_list:1:-1} \\\n",
    "-d hash=${hash:1:-1} \\\n",
    "-d caption=$(openssl rand -base64 12)-418.jpg | jq"
   ]
  },
  {
   "cell_type": "markdown",
   "id": "e140847b-9378-4add-9c75-1854cdc949a4",
   "metadata": {},
   "source": [
    "# Вывод"
   ]
  },
  {
   "cell_type": "markdown",
   "id": "76383b86-b52f-48b5-ad4c-1a60f635a9cd",
   "metadata": {},
   "source": [
    "В данной лабораторной работе мы познакомилось с API VK."
   ]
  }
 ],
 "metadata": {
  "kernelspec": {
   "display_name": "Bash",
   "language": "bash",
   "name": "bash"
  },
  "language_info": {
   "codemirror_mode": "shell",
   "file_extension": ".sh",
   "mimetype": "text/x-sh",
   "name": "bash"
  }
 },
 "nbformat": 4,
 "nbformat_minor": 5
}
