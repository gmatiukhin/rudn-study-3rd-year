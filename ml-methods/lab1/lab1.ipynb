{
 "cells": [
  {
   "cell_type": "markdown",
   "id": "65a7d46c-864a-4209-bfc4-de3230b54c3b",
   "metadata": {
    "jp-MarkdownHeadingCollapsed": true
   },
   "source": [
    "### РОССИЙСКИЙ УНИВЕРСИТЕТ ДРУЖБЫ НАРОДОВ\n",
    "\n",
    "#### Факультет физико-математических и естественных наук  \n",
    "#### Кафедра математического моделирования и искусственного интеллекта "
   ]
  },
  {
   "cell_type": "markdown",
   "id": "65bb23d7-5405-45ea-9d76-067200a15ff7",
   "metadata": {},
   "source": [
    "## ОТЧЕТ ПО КОНТРОЛЬНОЙ РАБОТЕ № 1\n",
    "\n",
    "\n",
    "### Дисциплина: Методы машинного обучения"
   ]
  },
  {
   "cell_type": "markdown",
   "id": "51f7dc57-65a9-4f28-b1e9-0ae6f29b5905",
   "metadata": {},
   "source": [
    "##### Студент:  Матюхин Григорий Васильевич\n",
    "##### Группа:   НПИбд-01-21"
   ]
  },
  {
   "cell_type": "markdown",
   "id": "a70bdc30-5025-4e09-b7c1-251e4e2b1aa0",
   "metadata": {},
   "source": [
    "## Москва 2024\n",
    "***"
   ]
  },
  {
   "cell_type": "markdown",
   "id": "040b722b-6efa-4e65-a8a3-1a683d81b982",
   "metadata": {},
   "source": [
    "### Вариант №7\n",
    "\n",
    "1. Набор данных: efron_morris75 \n",
    "2. Независимая переменная: RemainingAverage \n",
    "3. Зависимая переменная: SeasonAverage \n",
    "4. Визуализация для независимой переменной – диаграмма размаха \n",
    "5. Визуализация для зависимой переменной – эмпирическая функция распределения \n",
    "6. Показатель качества регрессии – R^2 (коэффициент детерминации) \n"
   ]
  },
  {
   "cell_type": "markdown",
   "id": "67f2fdf9-e814-4ee3-b220-8e6479ded99d",
   "metadata": {},
   "source": [
    "# Выполнение"
   ]
  },
  {
   "cell_type": "markdown",
   "id": "1082fe1f-bd11-4ed1-9902-c2a1af7139c2",
   "metadata": {},
   "source": [
    "# Step 1: Загружаем датасет"
   ]
  },
  {
   "cell_type": "code",
   "execution_count": 1,
   "id": "5aa4e17d-5583-469d-b037-882cc139a998",
   "metadata": {},
   "outputs": [
    {
     "name": "stderr",
     "output_type": "stream",
     "text": [
      "2024-04-17 12:47:26.608378: I external/local_tsl/tsl/cuda/cudart_stub.cc:32] Could not find cuda drivers on your machine, GPU will not be used.\n",
      "2024-04-17 12:47:26.811957: I external/local_tsl/tsl/cuda/cudart_stub.cc:32] Could not find cuda drivers on your machine, GPU will not be used.\n",
      "2024-04-17 12:47:27.538847: I tensorflow/core/platform/cpu_feature_guard.cc:210] This TensorFlow binary is optimized to use available CPU instructions in performance-critical operations.\n",
      "To enable the following instructions: AVX2 FMA, in other operations, rebuild TensorFlow with the appropriate compiler flags.\n",
      "2024-04-17 12:47:29.118328: W tensorflow/compiler/tf2tensorrt/utils/py_utils.cc:38] TF-TRT Warning: Could not find TensorRT\n"
     ]
    }
   ],
   "source": [
    "import tensorflow as tf\n",
    "import tensorflow_datasets as tfds"
   ]
  },
  {
   "cell_type": "code",
   "execution_count": 2,
   "id": "bcc4d46c-55bb-41f5-b459-5c257092c000",
   "metadata": {},
   "outputs": [
    {
     "name": "stderr",
     "output_type": "stream",
     "text": [
      "WARNING:absl:You use TensorFlow DType <dtype: 'string'> in tfds.features This will soon be deprecated in favor of NumPy DTypes. In the meantime it was converted to object.\n",
      "WARNING:absl:You use TensorFlow DType <dtype: 'int32'> in tfds.features This will soon be deprecated in favor of NumPy DTypes. In the meantime it was converted to int32.\n",
      "WARNING:absl:You use TensorFlow DType <dtype: 'float32'> in tfds.features This will soon be deprecated in favor of NumPy DTypes. In the meantime it was converted to float32.\n",
      "2024-04-17 12:48:02.988139: W external/local_tsl/tsl/platform/cloud/google_auth_provider.cc:184] All attempts to get a Google authentication bearer token failed, returning an empty token. Retrieving token from files failed with \"NOT_FOUND: Could not locate the credentials file.\". Retrieving token from GCE failed with \"FAILED_PRECONDITION: Error executing an HTTP request: libcurl code 6 meaning 'Couldn't resolve host name', error details: Could not resolve host: metadata.google.internal\".\n"
     ]
    },
    {
     "name": "stdout",
     "output_type": "stream",
     "text": [
      "\u001b[1mDownloading and preparing dataset 1008 bytes (download: 1008 bytes, generated: 4.29 KiB, total: 5.27 KiB) to /home/gmatiukhin/tensorflow_datasets/efron_morris75/1.0.0...\u001b[0m\n"
     ]
    },
    {
     "data": {
      "application/vnd.jupyter.widget-view+json": {
       "model_id": "4ce17596928e43a6baef7c921be52108",
       "version_major": 2,
       "version_minor": 0
      },
      "text/plain": [
       "Dl Completed...: 0 url [00:00, ? url/s]"
      ]
     },
     "metadata": {},
     "output_type": "display_data"
    },
    {
     "data": {
      "application/vnd.jupyter.widget-view+json": {
       "model_id": "386c083821304d45ac22e6e274049911",
       "version_major": 2,
       "version_minor": 0
      },
      "text/plain": [
       "Dl Size...: 0 MiB [00:00, ? MiB/s]"
      ]
     },
     "metadata": {},
     "output_type": "display_data"
    },
    {
     "data": {
      "application/vnd.jupyter.widget-view+json": {
       "model_id": "1fd655938a4c4669910f5f0df987117b",
       "version_major": 2,
       "version_minor": 0
      },
      "text/plain": [
       "Extraction completed...: 0 file [00:00, ? file/s]"
      ]
     },
     "metadata": {},
     "output_type": "display_data"
    },
    {
     "data": {
      "application/vnd.jupyter.widget-view+json": {
       "model_id": "",
       "version_major": 2,
       "version_minor": 0
      },
      "text/plain": [
       "Generating splits...:   0%|          | 0/1 [00:00<?, ? splits/s]"
      ]
     },
     "metadata": {},
     "output_type": "display_data"
    },
    {
     "data": {
      "application/vnd.jupyter.widget-view+json": {
       "model_id": "",
       "version_major": 2,
       "version_minor": 0
      },
      "text/plain": [
       "Generating train examples...:   0%|          | 0/18 [00:00<?, ? examples/s]"
      ]
     },
     "metadata": {},
     "output_type": "display_data"
    },
    {
     "data": {
      "application/vnd.jupyter.widget-view+json": {
       "model_id": "",
       "version_major": 2,
       "version_minor": 0
      },
      "text/plain": [
       "Shuffling /home/gmatiukhin/tensorflow_datasets/efron_morris75/incomplete.PDR4LM_1.0.0/efron_morris75-train.tfr…"
      ]
     },
     "metadata": {},
     "output_type": "display_data"
    },
    {
     "name": "stdout",
     "output_type": "stream",
     "text": [
      "\u001b[1mDataset efron_morris75 downloaded and prepared to /home/gmatiukhin/tensorflow_datasets/efron_morris75/1.0.0. Subsequent calls will reuse this data.\u001b[0m\n"
     ]
    },
    {
     "name": "stderr",
     "output_type": "stream",
     "text": [
      "2024-04-17 12:48:06.799926: W tensorflow/core/framework/local_rendezvous.cc:404] Local rendezvous is aborting with status: OUT_OF_RANGE: End of sequence\n"
     ]
    },
    {
     "data": {
      "text/plain": [
       "18"
      ]
     },
     "execution_count": 2,
     "metadata": {},
     "output_type": "execute_result"
    }
   ],
   "source": [
    "ds = tfds.load(\"efron_morris75\", split=\"train\")\n",
    "df = tfds.as_dataframe(ds)\n",
    "len(df)"
   ]
  },
  {
   "cell_type": "code",
   "execution_count": 3,
   "id": "70cf1986-add2-4fa4-bd8e-62deec539c83",
   "metadata": {},
   "outputs": [
    {
     "data": {
      "text/html": [
       "<div>\n",
       "<style scoped>\n",
       "    .dataframe tbody tr th:only-of-type {\n",
       "        vertical-align: middle;\n",
       "    }\n",
       "\n",
       "    .dataframe tbody tr th {\n",
       "        vertical-align: top;\n",
       "    }\n",
       "\n",
       "    .dataframe thead th {\n",
       "        text-align: right;\n",
       "    }\n",
       "</style>\n",
       "<table border=\"1\" class=\"dataframe\">\n",
       "  <thead>\n",
       "    <tr style=\"text-align: right;\">\n",
       "      <th></th>\n",
       "      <th>At-Bats</th>\n",
       "      <th>BattingAverage</th>\n",
       "      <th>FirstName</th>\n",
       "      <th>Hits</th>\n",
       "      <th>LastName</th>\n",
       "      <th>RemainingAt-Bats</th>\n",
       "      <th>RemainingAverage</th>\n",
       "      <th>SeasonAt-Bats</th>\n",
       "      <th>SeasonAverage</th>\n",
       "      <th>SeasonHits</th>\n",
       "    </tr>\n",
       "  </thead>\n",
       "  <tbody>\n",
       "    <tr>\n",
       "      <th>0</th>\n",
       "      <td>45</td>\n",
       "      <td>0.289</td>\n",
       "      <td>b'Don'</td>\n",
       "      <td>13</td>\n",
       "      <td>b'Kessinger'</td>\n",
       "      <td>586</td>\n",
       "      <td>0.2645</td>\n",
       "      <td>631</td>\n",
       "      <td>0.266</td>\n",
       "      <td>168</td>\n",
       "    </tr>\n",
       "    <tr>\n",
       "      <th>1</th>\n",
       "      <td>45</td>\n",
       "      <td>0.178</td>\n",
       "      <td>b'Thurman'</td>\n",
       "      <td>8</td>\n",
       "      <td>b'Munson'</td>\n",
       "      <td>408</td>\n",
       "      <td>0.3162</td>\n",
       "      <td>453</td>\n",
       "      <td>0.302</td>\n",
       "      <td>137</td>\n",
       "    </tr>\n",
       "    <tr>\n",
       "      <th>2</th>\n",
       "      <td>45</td>\n",
       "      <td>0.222</td>\n",
       "      <td>b'George'</td>\n",
       "      <td>10</td>\n",
       "      <td>b'Scott'</td>\n",
       "      <td>435</td>\n",
       "      <td>0.3034</td>\n",
       "      <td>480</td>\n",
       "      <td>0.296</td>\n",
       "      <td>142</td>\n",
       "    </tr>\n",
       "    <tr>\n",
       "      <th>3</th>\n",
       "      <td>45</td>\n",
       "      <td>0.222</td>\n",
       "      <td>b'Billy'</td>\n",
       "      <td>10</td>\n",
       "      <td>b'Williams'</td>\n",
       "      <td>591</td>\n",
       "      <td>0.3299</td>\n",
       "      <td>636</td>\n",
       "      <td>0.251</td>\n",
       "      <td>205</td>\n",
       "    </tr>\n",
       "    <tr>\n",
       "      <th>4</th>\n",
       "      <td>45</td>\n",
       "      <td>0.311</td>\n",
       "      <td>b'Jim'</td>\n",
       "      <td>14</td>\n",
       "      <td>b'Spencer'</td>\n",
       "      <td>466</td>\n",
       "      <td>0.2704</td>\n",
       "      <td>511</td>\n",
       "      <td>0.274</td>\n",
       "      <td>140</td>\n",
       "    </tr>\n",
       "  </tbody>\n",
       "</table>\n",
       "</div>"
      ],
      "text/plain": [
       "   At-Bats  BattingAverage   FirstName  Hits      LastName  RemainingAt-Bats  \\\n",
       "0       45           0.289      b'Don'    13  b'Kessinger'               586   \n",
       "1       45           0.178  b'Thurman'     8     b'Munson'               408   \n",
       "2       45           0.222   b'George'    10      b'Scott'               435   \n",
       "3       45           0.222    b'Billy'    10   b'Williams'               591   \n",
       "4       45           0.311      b'Jim'    14    b'Spencer'               466   \n",
       "\n",
       "   RemainingAverage  SeasonAt-Bats  SeasonAverage  SeasonHits  \n",
       "0            0.2645            631          0.266         168  \n",
       "1            0.3162            453          0.302         137  \n",
       "2            0.3034            480          0.296         142  \n",
       "3            0.3299            636          0.251         205  \n",
       "4            0.2704            511          0.274         140  "
      ]
     },
     "execution_count": 3,
     "metadata": {},
     "output_type": "execute_result"
    }
   ],
   "source": [
    "df.head()"
   ]
  },
  {
   "cell_type": "code",
   "execution_count": 4,
   "id": "ccd1d603-3950-4f3f-ae7e-ccadd3af04ac",
   "metadata": {},
   "outputs": [
    {
     "data": {
      "text/html": [
       "<div>\n",
       "<style scoped>\n",
       "    .dataframe tbody tr th:only-of-type {\n",
       "        vertical-align: middle;\n",
       "    }\n",
       "\n",
       "    .dataframe tbody tr th {\n",
       "        vertical-align: top;\n",
       "    }\n",
       "\n",
       "    .dataframe thead th {\n",
       "        text-align: right;\n",
       "    }\n",
       "</style>\n",
       "<table border=\"1\" class=\"dataframe\">\n",
       "  <thead>\n",
       "    <tr style=\"text-align: right;\">\n",
       "      <th></th>\n",
       "      <th>BattingAverage</th>\n",
       "      <th>RemainingAverage</th>\n",
       "      <th>SeasonAverage</th>\n",
       "    </tr>\n",
       "  </thead>\n",
       "  <tbody>\n",
       "    <tr>\n",
       "      <th>0</th>\n",
       "      <td>0.289</td>\n",
       "      <td>0.2645</td>\n",
       "      <td>0.266</td>\n",
       "    </tr>\n",
       "    <tr>\n",
       "      <th>1</th>\n",
       "      <td>0.178</td>\n",
       "      <td>0.3162</td>\n",
       "      <td>0.302</td>\n",
       "    </tr>\n",
       "    <tr>\n",
       "      <th>2</th>\n",
       "      <td>0.222</td>\n",
       "      <td>0.3034</td>\n",
       "      <td>0.296</td>\n",
       "    </tr>\n",
       "    <tr>\n",
       "      <th>3</th>\n",
       "      <td>0.222</td>\n",
       "      <td>0.3299</td>\n",
       "      <td>0.251</td>\n",
       "    </tr>\n",
       "    <tr>\n",
       "      <th>4</th>\n",
       "      <td>0.311</td>\n",
       "      <td>0.2704</td>\n",
       "      <td>0.274</td>\n",
       "    </tr>\n",
       "  </tbody>\n",
       "</table>\n",
       "</div>"
      ],
      "text/plain": [
       "   BattingAverage  RemainingAverage  SeasonAverage\n",
       "0           0.289            0.2645          0.266\n",
       "1           0.178            0.3162          0.302\n",
       "2           0.222            0.3034          0.296\n",
       "3           0.222            0.3299          0.251\n",
       "4           0.311            0.2704          0.274"
      ]
     },
     "execution_count": 4,
     "metadata": {},
     "output_type": "execute_result"
    }
   ],
   "source": [
    "df.drop(columns=[\"FirstName\", \"LastName\", \"At-Bats\", \"Hits\", \"SeasonAt-Bats\", \"SeasonHits\", \"RemainingAt-Bats\"], inplace=True)\n",
    "df.head()"
   ]
  },
  {
   "cell_type": "markdown",
   "id": "34516022-5cee-44b2-9b9c-03fa5400a645",
   "metadata": {},
   "source": [
    "### Анализ датасета"
   ]
  },
  {
   "cell_type": "code",
   "execution_count": 6,
   "id": "9d5c0939-8284-45a5-95d2-958fe7dbe55c",
   "metadata": {},
   "outputs": [],
   "source": [
    "import pandas as pd"
   ]
  },
  {
   "cell_type": "code",
   "execution_count": 96,
   "id": "e0a04693-2e3a-493b-be67-42ba4fc57e65",
   "metadata": {},
   "outputs": [
    {
     "data": {
      "text/html": [
       "<div>\n",
       "<style scoped>\n",
       "    .dataframe tbody tr th:only-of-type {\n",
       "        vertical-align: middle;\n",
       "    }\n",
       "\n",
       "    .dataframe tbody tr th {\n",
       "        vertical-align: top;\n",
       "    }\n",
       "\n",
       "    .dataframe thead th {\n",
       "        text-align: right;\n",
       "    }\n",
       "</style>\n",
       "<table border=\"1\" class=\"dataframe\">\n",
       "  <thead>\n",
       "    <tr style=\"text-align: right;\">\n",
       "      <th></th>\n",
       "      <th>BattingAverage</th>\n",
       "      <th>RemainingAverage</th>\n",
       "      <th>SeasonAverage</th>\n",
       "    </tr>\n",
       "  </thead>\n",
       "  <tbody>\n",
       "    <tr>\n",
       "      <th>BattingAverage</th>\n",
       "      <td>1.000000</td>\n",
       "      <td>0.261038</td>\n",
       "      <td>0.534403</td>\n",
       "    </tr>\n",
       "    <tr>\n",
       "      <th>RemainingAverage</th>\n",
       "      <td>0.261038</td>\n",
       "      <td>1.000000</td>\n",
       "      <td>0.865239</td>\n",
       "    </tr>\n",
       "    <tr>\n",
       "      <th>SeasonAverage</th>\n",
       "      <td>0.534403</td>\n",
       "      <td>0.865239</td>\n",
       "      <td>1.000000</td>\n",
       "    </tr>\n",
       "  </tbody>\n",
       "</table>\n",
       "</div>"
      ],
      "text/plain": [
       "                  BattingAverage  RemainingAverage  SeasonAverage\n",
       "BattingAverage          1.000000          0.261038       0.534403\n",
       "RemainingAverage        0.261038          1.000000       0.865239\n",
       "SeasonAverage           0.534403          0.865239       1.000000"
      ]
     },
     "execution_count": 96,
     "metadata": {},
     "output_type": "execute_result"
    }
   ],
   "source": [
    "corr=df.corr()\n",
    "corr"
   ]
  },
  {
   "cell_type": "code",
   "execution_count": 8,
   "id": "4e3750eb-770a-490f-ace2-9a115805a175",
   "metadata": {},
   "outputs": [
    {
     "name": "stdout",
     "output_type": "stream",
     "text": [
      "Min correlation:\n",
      "                 RemainingAverage\n",
      "BattingAverage          0.253028\n"
     ]
    }
   ],
   "source": [
    "a, b = corr.stack().idxmin()\n",
    "print(\"Min correlation:\\n\", corr.loc[[a], [b]])"
   ]
  },
  {
   "cell_type": "code",
   "execution_count": 9,
   "id": "5627701f-4bbb-408a-ae1d-ec291eb42860",
   "metadata": {},
   "outputs": [
    {
     "name": "stdout",
     "output_type": "stream",
     "text": [
      "Max correlation:\n",
      " RemainingAverage  SeasonAverage    0.830656\n",
      "dtype: float64\n"
     ]
    }
   ],
   "source": [
    "corr = corr.stack()\n",
    "corr = corr[corr != 1.0]\n",
    "a, b = corr.idxmax()\n",
    "print(\"Max correlation:\\n\", corr.loc[[a], [b]])"
   ]
  },
  {
   "cell_type": "markdown",
   "id": "4d9cd45d-b327-4c7d-aa28-6ada5331a0f2",
   "metadata": {},
   "source": [
    "## Step 2: Visualisation"
   ]
  },
  {
   "cell_type": "code",
   "execution_count": 97,
   "id": "7dd42273-e08f-4025-b51d-c9799a57e627",
   "metadata": {},
   "outputs": [
    {
     "data": {
      "text/plain": [
       "<Axes: title={'center': \"Box plot for 'RemainingAverage'\"}>"
      ]
     },
     "execution_count": 97,
     "metadata": {},
     "output_type": "execute_result"
    },
    {
     "data": {
      "image/png": "[encoded data removed]",
      "text/plain": [
       "<Figure size 640x480 with 1 Axes>"
      ]
     },
     "metadata": {},
     "output_type": "display_data"
    }
   ],
   "source": [
    "# Todo: not sure if a box with legent is needed here as there's only one value\n",
    "df[\"RemainingAverage\"].plot.box(title=\"Box plot for 'RemainingAverage'\")"
   ]
  },
  {
   "cell_type": "code",
   "execution_count": 28,
   "id": "a8a10f8d-793a-4e98-9aa5-ac555112cc2a",
   "metadata": {},
   "outputs": [],
   "source": [
    "import numpy as np"
   ]
  },
  {
   "cell_type": "code",
   "execution_count": 98,
   "id": "a9b53e0c-1465-4c34-84df-540377c80e10",
   "metadata": {},
   "outputs": [
    {
     "data": {
      "text/plain": [
       "<Axes: title={'center': 'ECDF'}>"
      ]
     },
     "execution_count": 98,
     "metadata": {},
     "output_type": "execute_result"
    },
    {
     "data": {
      "image/png": "[encoded data removed]",
      "text/plain": [
       "<Figure size 640x480 with 1 Axes>"
      ]
     },
     "metadata": {},
     "output_type": "display_data"
    }
   ],
   "source": [
    "tx = np.sort(df[\"SeasonAverage\"])\n",
    "ty = np.arange(len(tx))/float(len(tx))\n",
    "ecdf = pd.DataFrame(ty, index=tx, columns=[\"SeasonAverage\"])\n",
    "ecdf.plot.line(title=\"ECDF\")"
   ]
  },
  {
   "cell_type": "markdown",
   "id": "d5c4b746-1b82-4521-a8a6-33c9742043a2",
   "metadata": {},
   "source": [
    "## Step 3: Scatter plot"
   ]
  },
  {
   "cell_type": "code",
   "execution_count": 99,
   "id": "b8b20d87-8e15-45be-a5e8-830867771917",
   "metadata": {},
   "outputs": [
    {
     "data": {
      "text/plain": [
       "<Axes: title={'center': \"Scatter plot for 'RemainingAverage' and 'SeasonAverage\"}, xlabel='RemainingAverage', ylabel='SeasonAverage'>"
      ]
     },
     "execution_count": 99,
     "metadata": {},
     "output_type": "execute_result"
    },
    {
     "data": {
      "image/png": "[encoded data removed]",
      "text/plain": [
       "<Figure size 640x480 with 1 Axes>"
      ]
     },
     "metadata": {},
     "output_type": "display_data"
    }
   ],
   "source": [
    "df.plot.scatter(\"RemainingAverage\", \"SeasonAverage\", title=\"Scatter plot for 'RemainingAverage' and 'SeasonAverage\")"
   ]
  },
  {
   "cell_type": "markdown",
   "id": "ba781b4d-a0bd-433d-97ec-9d0a09d88d32",
   "metadata": {},
   "source": [
    "## Step 4: Linear regression"
   ]
  },
  {
   "cell_type": "markdown",
   "id": "369149ac-7dca-43bb-a4c9-0925c34e48f3",
   "metadata": {},
   "source": [
    "### Using numerical methods (Todo: name?)"
   ]
  },
  {
   "cell_type": "code",
   "execution_count": 39,
   "id": "32db2287-9855-40f3-a577-12b598c0d11e",
   "metadata": {},
   "outputs": [],
   "source": [
    "class SimpleLinReg:\n",
    "    def __init__(self):\n",
    "        self._a = None\n",
    "        self._b = None\n",
    "    def fit(self, x, y):\n",
    "        x_mean = np.mean(x)\n",
    "        y_mean = np.mean(y)\n",
    "        tx = x - x_mean\n",
    "        ty = y - y_mean\n",
    "        self._a = tx.dot(ty) / tx.dot(tx)\n",
    "        self._b = y_mean - self._a * x_mean\n",
    "        return self\n",
    "    def predict(self, x_predict):\n",
    "        return np.array([self._predict(x) for x in x_predict])\n",
    "    def _predict(self, x_single):\n",
    "        return self._a * x_single + self._b\n",
    "    def __repr__(self):\n",
    "        return \"SimpleLinReg()\""
   ]
  },
  {
   "cell_type": "code",
   "execution_count": 95,
   "id": "beb1cd8f-d934-4c23-a69d-f516d8b66307",
   "metadata": {},
   "outputs": [],
   "source": [
    "x = df[\"RemainingAverage\"]\n",
    "y = df[\"SeasonAverage\"]"
   ]
  },
  {
   "cell_type": "code",
   "execution_count": 100,
   "id": "2734757a-9e52-4579-b878-2db18d6961fc",
   "metadata": {},
   "outputs": [
    {
     "data": {
      "text/plain": [
       "array([0.26041675, 0.302406  , 0.29201025, 0.31353277, 0.26520854,\n",
       "       0.25960457, 0.27698505, 0.26707655, 0.25992945, 0.20803167,\n",
       "       0.32660872, 0.26374662, 0.225737  , 0.28770572], dtype=float32)"
      ]
     },
     "execution_count": 100,
     "metadata": {},
     "output_type": "execute_result"
    }
   ],
   "source": [
    "reg = SimpleLinReg()\n",
    "reg.fit(x, y)\n",
    "pred = reg.predict(np.array(x))\n",
    "pred"
   ]
  },
  {
   "cell_type": "code",
   "execution_count": 46,
   "id": "c6667b5d-9f85-467b-a070-c8c5515678ee",
   "metadata": {},
   "outputs": [],
   "source": [
    "import matplotlib.pyplot as plt"
   ]
  },
  {
   "cell_type": "code",
   "execution_count": 101,
   "id": "d98c4459-7ec5-40a2-9b86-8f6a65f865d9",
   "metadata": {},
   "outputs": [
    {
     "data": {
      "text/plain": [
       "[<matplotlib.lines.Line2D at 0x7fd61bb2dbd0>]"
      ]
     },
     "execution_count": 101,
     "metadata": {},
     "output_type": "execute_result"
    },
    {
     "data": {
      "image/png": "[encoded data removed]",
      "text/plain": [
       "<Figure size 640x480 with 1 Axes>"
      ]
     },
     "metadata": {},
     "output_type": "display_data"
    }
   ],
   "source": [
    "plt = df.plot.scatter(\"RemainingAverage\", \"SeasonAverage\", title=\"Scatter plot for 'RemainingAverage' and 'SeasonAverage'\")\n",
    "plt.plot(x, pred, color=\"r\")"
   ]
  },
  {
   "cell_type": "code",
   "execution_count": 102,
   "id": "d022b05a-feda-436e-9f85-66cc50a28c89",
   "metadata": {},
   "outputs": [
    {
     "data": {
      "text/plain": [
       "0.00042066071182489395"
      ]
     },
     "execution_count": 102,
     "metadata": {},
     "output_type": "execute_result"
    }
   ],
   "source": [
    "mse = np.sum((pred - y) ** 2) / len(y)\n",
    "mse"
   ]
  },
  {
   "cell_type": "code",
   "execution_count": 103,
   "id": "bc28125a-0ef2-426a-ba5e-6f5aeab2ef22",
   "metadata": {},
   "outputs": [
    {
     "data": {
      "text/plain": [
       "0.6899893650279979"
      ]
     },
     "execution_count": 103,
     "metadata": {},
     "output_type": "execute_result"
    }
   ],
   "source": [
    "r2 = 1 - mse/np.var(y)\n",
    "r2"
   ]
  },
  {
   "cell_type": "markdown",
   "id": "81efc19e-5f34-4c8a-b2d8-fd5a7dd3f9e2",
   "metadata": {},
   "source": [
    "### Using a neuron"
   ]
  },
  {
   "cell_type": "code",
   "execution_count": 104,
   "id": "636a4358-7027-4627-8dbf-6c31a6653484",
   "metadata": {},
   "outputs": [
    {
     "data": {
      "text/plain": [
       "'2.16.1'"
      ]
     },
     "execution_count": 104,
     "metadata": {},
     "output_type": "execute_result"
    }
   ],
   "source": [
    "tf.__version__"
   ]
  },
  {
   "cell_type": "code",
   "execution_count": 105,
   "id": "9f61d4cf-9742-42b7-aca7-76cb0aad1700",
   "metadata": {},
   "outputs": [
    {
     "name": "stderr",
     "output_type": "stream",
     "text": [
      "/home/gmatiukhin/Study/ml-methods/.venv/lib/python3.11/site-packages/keras/src/layers/core/dense.py:86: UserWarning: Do not pass an `input_shape`/`input_dim` argument to a layer. When using Sequential models, prefer using an `Input(shape)` object as the first layer in the model instead.\n",
      "  super().__init__(activity_regularizer=activity_regularizer, **kwargs)\n"
     ]
    },
    {
     "data": {
      "text/html": [
       "<pre style=\"white-space:pre;overflow-x:auto;line-height:normal;font-family:Menlo,'DejaVu Sans Mono',consolas,'Courier New',monospace\"><span style=\"font-weight: bold\">Model: \"sequential_1\"</span>\n",
       "</pre>\n"
      ],
      "text/plain": [
       "\u001b[1mModel: \"sequential_1\"\u001b[0m\n"
      ]
     },
     "metadata": {},
     "output_type": "display_data"
    },
    {
     "data": {
      "text/html": [
       "<pre style=\"white-space:pre;overflow-x:auto;line-height:normal;font-family:Menlo,'DejaVu Sans Mono',consolas,'Courier New',monospace\">┏━━━━━━━━━━━━━━━━━━━━━━━━━━━━━━━━━┳━━━━━━━━━━━━━━━━━━━━━━━━┳━━━━━━━━━━━━━━━┓\n",
       "┃<span style=\"font-weight: bold\"> Layer (type)                    </span>┃<span style=\"font-weight: bold\"> Output Shape           </span>┃<span style=\"font-weight: bold\">       Param # </span>┃\n",
       "┡━━━━━━━━━━━━━━━━━━━━━━━━━━━━━━━━━╇━━━━━━━━━━━━━━━━━━━━━━━━╇━━━━━━━━━━━━━━━┩\n",
       "│ dense_1 (<span style=\"color: #0087ff; text-decoration-color: #0087ff\">Dense</span>)                 │ (<span style=\"color: #00d7ff; text-decoration-color: #00d7ff\">None</span>, <span style=\"color: #00af00; text-decoration-color: #00af00\">1</span>)              │             <span style=\"color: #00af00; text-decoration-color: #00af00\">2</span> │\n",
       "└─────────────────────────────────┴────────────────────────┴───────────────┘\n",
       "</pre>\n"
      ],
      "text/plain": [
       "┏━━━━━━━━━━━━━━━━━━━━━━━━━━━━━━━━━┳━━━━━━━━━━━━━━━━━━━━━━━━┳━━━━━━━━━━━━━━━┓\n",
       "┃\u001b[1m \u001b[0m\u001b[1mLayer (type)                   \u001b[0m\u001b[1m \u001b[0m┃\u001b[1m \u001b[0m\u001b[1mOutput Shape          \u001b[0m\u001b[1m \u001b[0m┃\u001b[1m \u001b[0m\u001b[1m      Param #\u001b[0m\u001b[1m \u001b[0m┃\n",
       "┡━━━━━━━━━━━━━━━━━━━━━━━━━━━━━━━━━╇━━━━━━━━━━━━━━━━━━━━━━━━╇━━━━━━━━━━━━━━━┩\n",
       "│ dense_1 (\u001b[38;5;33mDense\u001b[0m)                 │ (\u001b[38;5;45mNone\u001b[0m, \u001b[38;5;34m1\u001b[0m)              │             \u001b[38;5;34m2\u001b[0m │\n",
       "└─────────────────────────────────┴────────────────────────┴───────────────┘\n"
      ]
     },
     "metadata": {},
     "output_type": "display_data"
    },
    {
     "data": {
      "text/html": [
       "<pre style=\"white-space:pre;overflow-x:auto;line-height:normal;font-family:Menlo,'DejaVu Sans Mono',consolas,'Courier New',monospace\"><span style=\"font-weight: bold\"> Total params: </span><span style=\"color: #00af00; text-decoration-color: #00af00\">2</span> (8.00 B)\n",
       "</pre>\n"
      ],
      "text/plain": [
       "\u001b[1m Total params: \u001b[0m\u001b[38;5;34m2\u001b[0m (8.00 B)\n"
      ]
     },
     "metadata": {},
     "output_type": "display_data"
    },
    {
     "data": {
      "text/html": [
       "<pre style=\"white-space:pre;overflow-x:auto;line-height:normal;font-family:Menlo,'DejaVu Sans Mono',consolas,'Courier New',monospace\"><span style=\"font-weight: bold\"> Trainable params: </span><span style=\"color: #00af00; text-decoration-color: #00af00\">2</span> (8.00 B)\n",
       "</pre>\n"
      ],
      "text/plain": [
       "\u001b[1m Trainable params: \u001b[0m\u001b[38;5;34m2\u001b[0m (8.00 B)\n"
      ]
     },
     "metadata": {},
     "output_type": "display_data"
    },
    {
     "data": {
      "text/html": [
       "<pre style=\"white-space:pre;overflow-x:auto;line-height:normal;font-family:Menlo,'DejaVu Sans Mono',consolas,'Courier New',monospace\"><span style=\"font-weight: bold\"> Non-trainable params: </span><span style=\"color: #00af00; text-decoration-color: #00af00\">0</span> (0.00 B)\n",
       "</pre>\n"
      ],
      "text/plain": [
       "\u001b[1m Non-trainable params: \u001b[0m\u001b[38;5;34m0\u001b[0m (0.00 B)\n"
      ]
     },
     "metadata": {},
     "output_type": "display_data"
    }
   ],
   "source": [
    "model = tf.keras.Sequential( [tf.keras.layers.Dense(1, input_shape=(1,))])\n",
    "model.summary()"
   ]
  },
  {
   "cell_type": "code",
   "execution_count": 106,
   "id": "7f8782a7-af65-48a1-955e-a7a3e333163d",
   "metadata": {},
   "outputs": [],
   "source": [
    "model.compile(\n",
    "    loss=tf.keras.losses.MAE,\n",
    "    optimizer=tf.keras.optimizers.Adam(learning_rate=0.2),\n",
    "    metrics=[\"r2_score\"]\n",
    ")"
   ]
  },
  {
   "cell_type": "code",
   "execution_count": 111,
   "id": "84be4cc4-72a6-4894-8b6a-03440dc8a3d0",
   "metadata": {},
   "outputs": [
    {
     "data": {
      "text/plain": [
       "<keras.src.callbacks.history.History at 0x7fd61a795990>"
      ]
     },
     "execution_count": 111,
     "metadata": {},
     "output_type": "execute_result"
    }
   ],
   "source": [
    "model.fit(x, y, epochs=300, verbose=0)"
   ]
  },
  {
   "cell_type": "code",
   "execution_count": 112,
   "id": "ed17a561-125d-4ec8-a4e7-a715360a3291",
   "metadata": {},
   "outputs": [
    {
     "name": "stdout",
     "output_type": "stream",
     "text": [
      "\u001b[1m1/1\u001b[0m \u001b[32m━━━━━━━━━━━━━━━━━━━━\u001b[0m\u001b[37m\u001b[0m \u001b[1m0s\u001b[0m 21ms/step\n"
     ]
    },
    {
     "data": {
      "text/plain": [
       "array([[0.25656223],\n",
       "       [0.30412364],\n",
       "       [0.2923483 ],\n",
       "       [0.31672695],\n",
       "       [0.26198995],\n",
       "       [0.2556423 ],\n",
       "       [0.27532923],\n",
       "       [0.26410583],\n",
       "       [0.2560103 ],\n",
       "       [0.19722548],\n",
       "       [0.33153814],\n",
       "       [0.260334  ],\n",
       "       [0.21728039],\n",
       "       [0.28747255]], dtype=float32)"
      ]
     },
     "execution_count": 112,
     "metadata": {},
     "output_type": "execute_result"
    }
   ],
   "source": [
    "model_predict = model.predict(x)\n",
    "model_predict"
   ]
  },
  {
   "cell_type": "code",
   "execution_count": 113,
   "id": "b198a293-e570-4fe9-a717-179777d61737",
   "metadata": {},
   "outputs": [
    {
     "name": "stdout",
     "output_type": "stream",
     "text": [
      "\u001b[1m1/1\u001b[0m \u001b[32m━━━━━━━━━━━━━━━━━━━━\u001b[0m\u001b[37m\u001b[0m \u001b[1m0s\u001b[0m 186ms/step - loss: 0.0113 - r2_score: 0.7350\n"
     ]
    },
    {
     "data": {
      "text/plain": [
       "0.735000491142273"
      ]
     },
     "execution_count": 113,
     "metadata": {},
     "output_type": "execute_result"
    }
   ],
   "source": [
    "loss, r2_model = model.evaluate(x_test, y_test)\n",
    "r2_model"
   ]
  },
  {
   "cell_type": "code",
   "execution_count": 114,
   "id": "2e819908-e29e-4496-868b-e408cf42e16c",
   "metadata": {},
   "outputs": [
    {
     "data": {
      "text/plain": [
       "(0.6899893650279979, 0.735000491142273)"
      ]
     },
     "execution_count": 114,
     "metadata": {},
     "output_type": "execute_result"
    }
   ],
   "source": [
    "r2, r2_model"
   ]
  },
  {
   "cell_type": "markdown",
   "id": "e9f947a1-81b4-4884-9c49-d175a5ace49e",
   "metadata": {},
   "source": [
    "## Step 5: Comparison on a scatter plot"
   ]
  },
  {
   "cell_type": "code",
   "execution_count": 115,
   "id": "62cc2297-fc74-43ad-ac2a-6303c61ad419",
   "metadata": {},
   "outputs": [
    {
     "data": {
      "text/plain": [
       "<matplotlib.legend.Legend at 0x7fd61a7df5d0>"
      ]
     },
     "execution_count": 115,
     "metadata": {},
     "output_type": "execute_result"
    },
    {
     "data": {
      "image/png": "[encoded data removed]",
      "text/plain": [
       "<Figure size 640x480 with 1 Axes>"
      ]
     },
     "metadata": {},
     "output_type": "display_data"
    }
   ],
   "source": [
    "plt = df.plot.scatter(\"RemainingAverage\", \"SeasonAverage\", title=\"Scatter plot for 'RemainingAverage' and 'SeasonAverage\")\n",
    "plt.plot(x, y_hat, color=\"r\", label=\"Accurate lr line\")\n",
    "plt.plot(x, model_predict, color=\"m\", label=\"lr line from the model\")\n",
    "plt.legend()"
   ]
  },
  {
   "cell_type": "markdown",
   "id": "33f7ee67-2726-40da-871e-2d1e6d62d547",
   "metadata": {},
   "source": [
    "## Step 6: Splitting on 'train' and 'test'; normalizing stuff"
   ]
  },
  {
   "cell_type": "markdown",
   "id": "2cc20cf8-6efe-4987-9e6d-cf574830f77c",
   "metadata": {},
   "source": [
    "### Splitting the dataset"
   ]
  },
  {
   "cell_type": "code",
   "execution_count": 118,
   "id": "4ceb2eb2-1b10-4177-880e-5197646b6ff3",
   "metadata": {},
   "outputs": [
    {
     "data": {
      "text/plain": [
       "(14, 4)"
      ]
     },
     "execution_count": 118,
     "metadata": {},
     "output_type": "execute_result"
    }
   ],
   "source": [
    "split = 0.8\n",
    "idx = int(len(df) * split)\n",
    "train, test = df[:idx], df[idx:]\n",
    "len(train), len(test)"
   ]
  },
  {
   "cell_type": "markdown",
   "id": "d5e53292-97df-467d-bf23-79ebbda7820a",
   "metadata": {},
   "source": [
    "### \"Normalize this, normalize that\", how about you normalize your database!?"
   ]
  },
  {
   "cell_type": "code",
   "execution_count": 145,
   "id": "cff26975-79b1-49f5-b0d6-844b9e274012",
   "metadata": {},
   "outputs": [
    {
     "data": {
      "text/html": [
       "<div>\n",
       "<style scoped>\n",
       "    .dataframe tbody tr th:only-of-type {\n",
       "        vertical-align: middle;\n",
       "    }\n",
       "\n",
       "    .dataframe tbody tr th {\n",
       "        vertical-align: top;\n",
       "    }\n",
       "\n",
       "    .dataframe thead th {\n",
       "        text-align: right;\n",
       "    }\n",
       "</style>\n",
       "<table border=\"1\" class=\"dataframe\">\n",
       "  <thead>\n",
       "    <tr style=\"text-align: right;\">\n",
       "      <th></th>\n",
       "      <th>BattingAverage</th>\n",
       "      <th>RemainingAverage</th>\n",
       "    </tr>\n",
       "  </thead>\n",
       "  <tbody>\n",
       "    <tr>\n",
       "      <th>0</th>\n",
       "      <td>0.289</td>\n",
       "      <td>0.2645</td>\n",
       "    </tr>\n",
       "    <tr>\n",
       "      <th>1</th>\n",
       "      <td>0.178</td>\n",
       "      <td>0.3162</td>\n",
       "    </tr>\n",
       "    <tr>\n",
       "      <th>2</th>\n",
       "      <td>0.222</td>\n",
       "      <td>0.3034</td>\n",
       "    </tr>\n",
       "    <tr>\n",
       "      <th>3</th>\n",
       "      <td>0.222</td>\n",
       "      <td>0.3299</td>\n",
       "    </tr>\n",
       "    <tr>\n",
       "      <th>4</th>\n",
       "      <td>0.311</td>\n",
       "      <td>0.2704</td>\n",
       "    </tr>\n",
       "    <tr>\n",
       "      <th>5</th>\n",
       "      <td>0.222</td>\n",
       "      <td>0.2635</td>\n",
       "    </tr>\n",
       "    <tr>\n",
       "      <th>6</th>\n",
       "      <td>0.200</td>\n",
       "      <td>0.2849</td>\n",
       "    </tr>\n",
       "    <tr>\n",
       "      <th>7</th>\n",
       "      <td>0.311</td>\n",
       "      <td>0.2727</td>\n",
       "    </tr>\n",
       "    <tr>\n",
       "      <th>8</th>\n",
       "      <td>0.222</td>\n",
       "      <td>0.2639</td>\n",
       "    </tr>\n",
       "    <tr>\n",
       "      <th>9</th>\n",
       "      <td>0.156</td>\n",
       "      <td>0.2000</td>\n",
       "    </tr>\n",
       "    <tr>\n",
       "      <th>10</th>\n",
       "      <td>0.400</td>\n",
       "      <td>0.3460</td>\n",
       "    </tr>\n",
       "    <tr>\n",
       "      <th>11</th>\n",
       "      <td>0.244</td>\n",
       "      <td>0.2686</td>\n",
       "    </tr>\n",
       "    <tr>\n",
       "      <th>12</th>\n",
       "      <td>0.333</td>\n",
       "      <td>0.2218</td>\n",
       "    </tr>\n",
       "    <tr>\n",
       "      <th>13</th>\n",
       "      <td>0.378</td>\n",
       "      <td>0.2981</td>\n",
       "    </tr>\n",
       "  </tbody>\n",
       "</table>\n",
       "</div>"
      ],
      "text/plain": [
       "    BattingAverage  RemainingAverage\n",
       "0            0.289            0.2645\n",
       "1            0.178            0.3162\n",
       "2            0.222            0.3034\n",
       "3            0.222            0.3299\n",
       "4            0.311            0.2704\n",
       "5            0.222            0.2635\n",
       "6            0.200            0.2849\n",
       "7            0.311            0.2727\n",
       "8            0.222            0.2639\n",
       "9            0.156            0.2000\n",
       "10           0.400            0.3460\n",
       "11           0.244            0.2686\n",
       "12           0.333            0.2218\n",
       "13           0.378            0.2981"
      ]
     },
     "execution_count": 145,
     "metadata": {},
     "output_type": "execute_result"
    }
   ],
   "source": [
    "n = np.array([x for x in train if x != \"SeasonAverage\"])\n",
    "features = train[n]\n",
    "features"
   ]
  },
  {
   "cell_type": "code",
   "execution_count": 146,
   "id": "832eb0a6-3159-442c-a7b3-ce7a2733fcff",
   "metadata": {},
   "outputs": [
    {
     "name": "stderr",
     "output_type": "stream",
     "text": [
      "/home/gmatiukhin/Study/ml-methods/.venv/lib/python3.11/site-packages/keras/src/layers/preprocessing/normalization.py:99: UserWarning: Do not pass an `input_shape`/`input_dim` argument to a layer. When using Sequential models, prefer using an `Input(shape)` object as the first layer in the model instead.\n",
      "  super().__init__(**kwargs)\n"
     ]
    },
    {
     "ename": "UnboundLocalError",
     "evalue": "cannot access local variable 'input_shape' where it is not associated with a value",
     "output_type": "error",
     "traceback": [
      "\u001b[0;31m---------------------------------------------------------------------------\u001b[0m",
      "\u001b[0;31mUnboundLocalError\u001b[0m                         Traceback (most recent call last)",
      "Cell \u001b[0;32mIn[146], line 2\u001b[0m\n\u001b[1;32m      1\u001b[0m normalizer \u001b[38;5;241m=\u001b[39m tf\u001b[38;5;241m.\u001b[39mkeras\u001b[38;5;241m.\u001b[39mlayers\u001b[38;5;241m.\u001b[39mNormalization(input_shape\u001b[38;5;241m=\u001b[39mfeatures\u001b[38;5;241m.\u001b[39mshape, axis\u001b[38;5;241m=\u001b[39m\u001b[38;5;28;01mNone\u001b[39;00m)\n\u001b[0;32m----> 2\u001b[0m \u001b[43mnormalizer\u001b[49m\u001b[38;5;241;43m.\u001b[39;49m\u001b[43madapt\u001b[49m\u001b[43m(\u001b[49m\u001b[43mfeatures\u001b[49m\u001b[43m)\u001b[49m\n",
      "File \u001b[0;32m~/Study/ml-methods/.venv/lib/python3.11/site-packages/keras/src/layers/preprocessing/normalization.py:228\u001b[0m, in \u001b[0;36mNormalization.adapt\u001b[0;34m(self, data)\u001b[0m\n\u001b[1;32m    225\u001b[0m     input_shape \u001b[38;5;241m=\u001b[39m \u001b[38;5;28mtuple\u001b[39m(data\u001b[38;5;241m.\u001b[39melement_spec\u001b[38;5;241m.\u001b[39mshape)\n\u001b[1;32m    227\u001b[0m \u001b[38;5;28;01mif\u001b[39;00m \u001b[38;5;129;01mnot\u001b[39;00m \u001b[38;5;28mself\u001b[39m\u001b[38;5;241m.\u001b[39mbuilt:\n\u001b[0;32m--> 228\u001b[0m     \u001b[38;5;28mself\u001b[39m\u001b[38;5;241m.\u001b[39mbuild(\u001b[43minput_shape\u001b[49m)\n\u001b[1;32m    229\u001b[0m \u001b[38;5;28;01melse\u001b[39;00m:\n\u001b[1;32m    230\u001b[0m     \u001b[38;5;28;01mfor\u001b[39;00m d \u001b[38;5;129;01min\u001b[39;00m \u001b[38;5;28mself\u001b[39m\u001b[38;5;241m.\u001b[39m_keep_axis:\n",
      "\u001b[0;31mUnboundLocalError\u001b[0m: cannot access local variable 'input_shape' where it is not associated with a value"
     ]
    }
   ],
   "source": [
    "normalizer = tf.keras.layers.Normalization(input_shape=features.shape, axis=None)\n",
    "normalizer.adapt(features)"
   ]
  },
  {
   "cell_type": "code",
   "execution_count": null,
   "id": "95c71c6c-2544-45ee-ae6b-c73707d79ad0",
   "metadata": {},
   "outputs": [],
   "source": [
    "print(normalizer.mean.numpy())\n",
    "print(normalizer.variance.numpy())"
   ]
  },
  {
   "cell_type": "code",
   "execution_count": null,
   "id": "19c71061-e4b0-47cf-b83b-75760d7eb0f7",
   "metadata": {},
   "outputs": [],
   "source": [
    "norm_model = tf.keras.Sequential([\n",
    "    normalizer,\n",
    "    tf.keras.layers.Dense(units=1)\n",
    "])\n",
    "norm_model.summary()"
   ]
  },
  {
   "cell_type": "code",
   "execution_count": null,
   "id": "2e4460c6-7de2-4ad0-b6ed-00e8d8ebbeef",
   "metadata": {},
   "outputs": [],
   "source": []
  }
 ],
 "metadata": {
  "kernelspec": {
   "display_name": "ml-methods",
   "language": "python",
   "name": "ml-methods"
  },
  "language_info": {
   "codemirror_mode": {
    "name": "ipython",
    "version": 3
   },
   "file_extension": ".py",
   "mimetype": "text/x-python",
   "name": "python",
   "nbconvert_exporter": "python",
   "pygments_lexer": "ipython3",
   "version": "3.11.6"
  }
 },
 "nbformat": 4,
 "nbformat_minor": 5
}
