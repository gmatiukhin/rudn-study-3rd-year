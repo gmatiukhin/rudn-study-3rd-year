{
 "cells": [
  {
   "cell_type": "markdown",
   "id": "7762b537",
   "metadata": {
    "id": "7762b537"
   },
   "source": [
    "# Методы машинного обучения – Контрольная работа №8\n",
    "\n",
    "# Трансформеры 🚀"
   ]
  },
  {
   "cell_type": "markdown",
   "id": "9c453c1a",
   "metadata": {
    "id": "9c453c1a"
   },
   "source": [
    "#### Модель GPT\n",
    "\n",
    "Компания OpenAI представила модель GPT в июне 2018 года в статье “Improving Language Understanding by Generative Pre-Training” («Улучшение понимания языка посредством генеративного предварительного обучения») почти ровно через год после появления оригинальной статьи о Transformer.\n",
    "\n",
    "В этой статье авторы показывают, как архитектуру Transformer можно обучить на огромном объеме текстовых данных, чтобы предсказывать следующее слово в последовательности, а затем затем точно настроить для конкретных последующих задач.\n",
    "\n",
    "Процесс предварительного обучения модели GPT включает обучение модели на большом корпусе текста под названием BookCorpus (4,5 ГБ текста из 7000 неопубликованных книг разных жанров). Во время предварительного обучения модель обучается предсказывать следующее слово в последовательности с учетом предыдущих слов. Этот процесс известен как языковое моделирование и используется для обучения модели пониманию структуры и закономерностей естественного языка."
   ]
  },
  {
   "cell_type": "markdown",
   "id": "0fdd5d31",
   "metadata": {
    "id": "0fdd5d31"
   },
   "source": [
    "После предварительного обучения модель GPT можно точно настроить для конкретной задачи, предоставив ей меньший набор данных для конкретной задачи. Точная настройка включает в себя корректировку параметров модели для лучшего соответствия поставленной задаче. Например, модель можно точно настроить для таких задач, как классификация, оценка сходства или ответы на вопросы.\n",
    "\n",
    "Архитектура GPT с тех пор была улучшена и расширена компанией OpenAI с выпуском последующих моделей, таких как GPT-2, GPT-3, GPT-3.5 и GPT-4. Эти модели обучаются на больших наборах данных и имеют большую емкость, поэтому могут генерировать более сложный и связный текст. Модели GPT получили широкое распространение среди исследователей и отраслевых практиков и способствовали значительному прогрессу в задачах обработки естественного языка.\n",
    "\n",
    "Попробуем создать собственную версию исходной модели GPT, обученную на меньшем количестве данных, но по-прежнему использующую те же компоненты и основные принципы."
   ]
  },
  {
   "cell_type": "markdown",
   "id": "b076bd1a-b236-4fbc-953d-8295b25122ae",
   "metadata": {
    "id": "b076bd1a-b236-4fbc-953d-8295b25122ae"
   },
   "source": [
    "### Набор данных винных обзоров (Wine Reviews Dataset)\n",
    "\n",
    "Мы будем использовать набор данных Wine Reviews, доступный через Kaggle (https://www.kaggle.com/datasets/zynicide/wine-reviews). Это набор из более чем 130 000 обзоров вин с сопутствующими метаданными, такими как описание и цена."
   ]
  },
  {
   "cell_type": "code",
   "execution_count": 1,
   "id": "ZYnEnnrBGE9M",
   "metadata": {
    "colab": {
     "base_uri": "https://localhost:8080/"
    },
    "id": "ZYnEnnrBGE9M",
    "outputId": "266b19e7-865a-48fb-8393-4b4d976254a1"
   },
   "outputs": [
    {
     "name": "stdout",
     "output_type": "stream",
     "text": [
      "Name: keras\n",
      "Version: 3.3.3\n",
      "Summary: Multi-backend Keras.\n",
      "Home-page: https://github.com/keras-team/keras\n",
      "Author: Keras team\n",
      "Author-email: keras-users@googlegroups.com\n",
      "License: Apache License 2.0\n",
      "Location: /usr/local/lib/python3.10/dist-packages\n",
      "Requires: absl-py, h5py, ml-dtypes, namex, numpy, optree, rich\n",
      "Required-by: tensorflow\n"
     ]
    }
   ],
   "source": [
    "# требуется keras версии 3\n",
    "!pip show keras"
   ]
  },
  {
   "cell_type": "code",
   "execution_count": 2,
   "id": "KIYJGBQAXh4p",
   "metadata": {
    "colab": {
     "base_uri": "https://localhost:8080/"
    },
    "id": "KIYJGBQAXh4p",
    "outputId": "41c82296-27dd-4e83-ba46-49ffa56c2b5f"
   },
   "outputs": [
    {
     "name": "stdout",
     "output_type": "stream",
     "text": [
      "Requirement already satisfied: tensorflow in /usr/local/lib/python3.10/dist-packages (2.16.1)\n",
      "Requirement already satisfied: keras in /usr/local/lib/python3.10/dist-packages (3.3.3)\n",
      "Requirement already satisfied: absl-py>=1.0.0 in /usr/local/lib/python3.10/dist-packages (from tensorflow) (1.4.0)\n",
      "Requirement already satisfied: astunparse>=1.6.0 in /usr/local/lib/python3.10/dist-packages (from tensorflow) (1.6.3)\n",
      "Requirement already satisfied: flatbuffers>=23.5.26 in /usr/local/lib/python3.10/dist-packages (from tensorflow) (24.3.25)\n",
      "Requirement already satisfied: gast!=0.5.0,!=0.5.1,!=0.5.2,>=0.2.1 in /usr/local/lib/python3.10/dist-packages (from tensorflow) (0.5.4)\n",
      "Requirement already satisfied: google-pasta>=0.1.1 in /usr/local/lib/python3.10/dist-packages (from tensorflow) (0.2.0)\n",
      "Requirement already satisfied: h5py>=3.10.0 in /usr/local/lib/python3.10/dist-packages (from tensorflow) (3.11.0)\n",
      "Requirement already satisfied: libclang>=13.0.0 in /usr/local/lib/python3.10/dist-packages (from tensorflow) (18.1.1)\n",
      "Requirement already satisfied: ml-dtypes~=0.3.1 in /usr/local/lib/python3.10/dist-packages (from tensorflow) (0.3.2)\n",
      "Requirement already satisfied: opt-einsum>=2.3.2 in /usr/local/lib/python3.10/dist-packages (from tensorflow) (3.3.0)\n",
      "Requirement already satisfied: packaging in /usr/local/lib/python3.10/dist-packages (from tensorflow) (24.0)\n",
      "Requirement already satisfied: protobuf!=4.21.0,!=4.21.1,!=4.21.2,!=4.21.3,!=4.21.4,!=4.21.5,<5.0.0dev,>=3.20.3 in /usr/local/lib/python3.10/dist-packages (from tensorflow) (3.20.3)\n",
      "Requirement already satisfied: requests<3,>=2.21.0 in /usr/local/lib/python3.10/dist-packages (from tensorflow) (2.31.0)\n",
      "Requirement already satisfied: setuptools in /usr/local/lib/python3.10/dist-packages (from tensorflow) (67.7.2)\n",
      "Requirement already satisfied: six>=1.12.0 in /usr/local/lib/python3.10/dist-packages (from tensorflow) (1.16.0)\n",
      "Requirement already satisfied: termcolor>=1.1.0 in /usr/local/lib/python3.10/dist-packages (from tensorflow) (2.4.0)\n",
      "Requirement already satisfied: typing-extensions>=3.6.6 in /usr/local/lib/python3.10/dist-packages (from tensorflow) (4.11.0)\n",
      "Requirement already satisfied: wrapt>=1.11.0 in /usr/local/lib/python3.10/dist-packages (from tensorflow) (1.14.1)\n",
      "Requirement already satisfied: grpcio<2.0,>=1.24.3 in /usr/local/lib/python3.10/dist-packages (from tensorflow) (1.64.0)\n",
      "Requirement already satisfied: tensorboard<2.17,>=2.16 in /usr/local/lib/python3.10/dist-packages (from tensorflow) (2.16.2)\n",
      "Requirement already satisfied: tensorflow-io-gcs-filesystem>=0.23.1 in /usr/local/lib/python3.10/dist-packages (from tensorflow) (0.37.0)\n",
      "Requirement already satisfied: numpy<2.0.0,>=1.23.5 in /usr/local/lib/python3.10/dist-packages (from tensorflow) (1.25.2)\n",
      "Requirement already satisfied: rich in /usr/local/lib/python3.10/dist-packages (from keras) (13.7.1)\n",
      "Requirement already satisfied: namex in /usr/local/lib/python3.10/dist-packages (from keras) (0.0.8)\n",
      "Requirement already satisfied: optree in /usr/local/lib/python3.10/dist-packages (from keras) (0.11.0)\n",
      "Requirement already satisfied: wheel<1.0,>=0.23.0 in /usr/local/lib/python3.10/dist-packages (from astunparse>=1.6.0->tensorflow) (0.43.0)\n",
      "Requirement already satisfied: charset-normalizer<4,>=2 in /usr/local/lib/python3.10/dist-packages (from requests<3,>=2.21.0->tensorflow) (3.3.2)\n",
      "Requirement already satisfied: idna<4,>=2.5 in /usr/local/lib/python3.10/dist-packages (from requests<3,>=2.21.0->tensorflow) (3.7)\n",
      "Requirement already satisfied: urllib3<3,>=1.21.1 in /usr/local/lib/python3.10/dist-packages (from requests<3,>=2.21.0->tensorflow) (2.0.7)\n",
      "Requirement already satisfied: certifi>=2017.4.17 in /usr/local/lib/python3.10/dist-packages (from requests<3,>=2.21.0->tensorflow) (2024.2.2)\n",
      "Requirement already satisfied: markdown>=2.6.8 in /usr/local/lib/python3.10/dist-packages (from tensorboard<2.17,>=2.16->tensorflow) (3.6)\n",
      "Requirement already satisfied: tensorboard-data-server<0.8.0,>=0.7.0 in /usr/local/lib/python3.10/dist-packages (from tensorboard<2.17,>=2.16->tensorflow) (0.7.2)\n",
      "Requirement already satisfied: werkzeug>=1.0.1 in /usr/local/lib/python3.10/dist-packages (from tensorboard<2.17,>=2.16->tensorflow) (3.0.3)\n",
      "Requirement already satisfied: markdown-it-py>=2.2.0 in /usr/local/lib/python3.10/dist-packages (from rich->keras) (3.0.0)\n",
      "Requirement already satisfied: pygments<3.0.0,>=2.13.0 in /usr/local/lib/python3.10/dist-packages (from rich->keras) (2.16.1)\n",
      "Requirement already satisfied: mdurl~=0.1 in /usr/local/lib/python3.10/dist-packages (from markdown-it-py>=2.2.0->rich->keras) (0.1.2)\n",
      "Requirement already satisfied: MarkupSafe>=2.1.1 in /usr/local/lib/python3.10/dist-packages (from werkzeug>=1.0.1->tensorboard<2.17,>=2.16->tensorflow) (2.1.5)\n"
     ]
    }
   ],
   "source": [
    "!pip install --upgrade tensorflow keras"
   ]
  },
  {
   "cell_type": "code",
   "execution_count": 3,
   "id": "0fb28372-7557-4650-94e7-5be2acfe7f65",
   "metadata": {
    "id": "0fb28372-7557-4650-94e7-5be2acfe7f65"
   },
   "outputs": [],
   "source": [
    "import os\n",
    "os.environ[\"KERAS_BACKEND\"] = \"tensorflow\"  # Keras v.3 !"
   ]
  },
  {
   "cell_type": "code",
   "execution_count": 4,
   "id": "73350761-bef2-4e96-b3ac-a158eabd2b65",
   "metadata": {
    "id": "73350761-bef2-4e96-b3ac-a158eabd2b65",
    "tags": []
   },
   "outputs": [],
   "source": [
    "%load_ext autoreload\n",
    "%autoreload 2\n",
    "import keras\n",
    "from keras import layers, models, losses, callbacks\n",
    "from keras import ops\n",
    "\n",
    "import numpy as np\n",
    "import matplotlib.pyplot as plt\n",
    "import json\n",
    "import re\n",
    "import string\n",
    "from IPython.display import display, HTML\n",
    "\n",
    "import tensorflow as tf"
   ]
  },
  {
   "cell_type": "markdown",
   "id": "339e6268-ebd7-4feb-86db-1fe7abccdbe5",
   "metadata": {
    "id": "339e6268-ebd7-4feb-86db-1fe7abccdbe5"
   },
   "source": [
    "## Параметры"
   ]
  },
  {
   "cell_type": "code",
   "execution_count": 5,
   "id": "2d8352af-343e-4c2e-8c91-95f8bac1c8a1",
   "metadata": {
    "id": "2d8352af-343e-4c2e-8c91-95f8bac1c8a1"
   },
   "outputs": [],
   "source": [
    "VOCAB_SIZE = 10000\n",
    "MAX_LEN = 80\n",
    "EMBEDDING_DIM = 256\n",
    "KEY_DIM = 256\n",
    "N_HEADS = 2\n",
    "FEED_FORWARD_DIM = 256\n",
    "VALIDATION_SPLIT = 0.2\n",
    "SEED = 42\n",
    "BATCH_SIZE = 32\n",
    "EPOCHS = 5"
   ]
  },
  {
   "cell_type": "markdown",
   "id": "b7716fac-0010-49b0-b98e-53be2259edde",
   "metadata": {
    "id": "b7716fac-0010-49b0-b98e-53be2259edde"
   },
   "source": [
    "## Загрузка данных\n",
    "\n",
    "Подготовка данных идентична подготовке данных для сети LSTM. Загружаем данные с Google диска (https://drive.google.com):"
   ]
  },
  {
   "cell_type": "code",
   "execution_count": 6,
   "id": "O2jHYA0mZVtW",
   "metadata": {
    "colab": {
     "base_uri": "https://localhost:8080/"
    },
    "id": "O2jHYA0mZVtW",
    "outputId": "52880426-8ac2-41c9-86ba-4a9f379e1cab"
   },
   "outputs": [
    {
     "name": "stdout",
     "output_type": "stream",
     "text": [
      "Drive already mounted at /content/drive; to attempt to forcibly remount, call drive.mount(\"/content/drive\", force_remount=True).\n"
     ]
    }
   ],
   "source": [
    "from google.colab import drive\n",
    "drive.mount('/content/drive')\n"
   ]
  },
  {
   "cell_type": "code",
   "execution_count": 7,
   "id": "93cf6b0f-9667-4146-8911-763a8a2925d3",
   "metadata": {
    "id": "93cf6b0f-9667-4146-8911-763a8a2925d3",
    "tags": []
   },
   "outputs": [],
   "source": [
    "# Load the full dataset\n",
    "with open(\"/content/drive/MyDrive/winemag-data-130k-v2.json\") as json_data:\n",
    "    wine_data = json.load(json_data)"
   ]
  },
  {
   "cell_type": "code",
   "execution_count": 8,
   "id": "2db5c0fc-0d5f-42ab-ade1-57e594c416ec",
   "metadata": {
    "colab": {
     "base_uri": "https://localhost:8080/"
    },
    "id": "2db5c0fc-0d5f-42ab-ade1-57e594c416ec",
    "outputId": "e8b13637-6da7-4ba3-aa8d-f576285b4bd8",
    "tags": []
   },
   "outputs": [
    {
     "data": {
      "text/plain": [
       "{'points': '87',\n",
       " 'title': 'Kirkland Signature 2011 Mountain Cuvée Cabernet Sauvignon (Napa Valley)',\n",
       " 'description': 'Soft, supple plum envelopes an oaky structure in this Cabernet, supported by 15% Merlot. Coffee and chocolate complete the picture, finishing strong at the end, resulting in a value-priced wine of attractive flavor and immediate accessibility.',\n",
       " 'taster_name': 'Virginie Boone',\n",
       " 'taster_twitter_handle': '@vboone',\n",
       " 'price': 19,\n",
       " 'designation': 'Mountain Cuvée',\n",
       " 'variety': 'Cabernet Sauvignon',\n",
       " 'region_1': 'Napa Valley',\n",
       " 'region_2': 'Napa',\n",
       " 'province': 'California',\n",
       " 'country': 'US',\n",
       " 'winery': 'Kirkland Signature'}"
      ]
     },
     "execution_count": 8,
     "metadata": {},
     "output_type": "execute_result"
    }
   ],
   "source": [
    "wine_data[10]"
   ]
  },
  {
   "cell_type": "markdown",
   "id": "f8f442e6",
   "metadata": {
    "id": "f8f442e6"
   },
   "source": [
    "Создаем список текстовых описаний для каждого вина:"
   ]
  },
  {
   "cell_type": "code",
   "execution_count": 9,
   "id": "23a74eca-f1b7-4a46-9a1f-b5806a4ed361",
   "metadata": {
    "id": "23a74eca-f1b7-4a46-9a1f-b5806a4ed361",
    "tags": []
   },
   "outputs": [],
   "source": [
    "# Filter the dataset\n",
    "filtered_data = [\n",
    "    \"wine review : \"\n",
    "    + x[\"country\"]\n",
    "    + \" : \"\n",
    "    + x[\"province\"]\n",
    "    + \" : \"\n",
    "    + x[\"variety\"]\n",
    "    + \" : \"\n",
    "    + x[\"description\"]\n",
    "    for x in wine_data\n",
    "    if x[\"country\"] is not None\n",
    "    and x[\"province\"] is not None\n",
    "    and x[\"variety\"] is not None\n",
    "    and x[\"description\"] is not None\n",
    "]"
   ]
  },
  {
   "cell_type": "code",
   "execution_count": 10,
   "id": "389c20de-0422-4c48-a7b4-6ee12a7bf0e2",
   "metadata": {
    "colab": {
     "base_uri": "https://localhost:8080/"
    },
    "id": "389c20de-0422-4c48-a7b4-6ee12a7bf0e2",
    "outputId": "16d09f79-0f39-4e85-cee4-9c86f7d93993",
    "tags": []
   },
   "outputs": [
    {
     "name": "stdout",
     "output_type": "stream",
     "text": [
      "129907 reviews loaded\n"
     ]
    }
   ],
   "source": [
    "# Count the reviews\n",
    "n_wines = len(filtered_data)\n",
    "print(f\"{n_wines} reviews loaded\")"
   ]
  },
  {
   "cell_type": "code",
   "execution_count": 11,
   "id": "1b2e3cf7-e416-460e-874a-0dd9637bca36",
   "metadata": {
    "colab": {
     "base_uri": "https://localhost:8080/"
    },
    "id": "1b2e3cf7-e416-460e-874a-0dd9637bca36",
    "outputId": "f9df74c1-1246-44ce-b74e-cb11fea735bb"
   },
   "outputs": [
    {
     "name": "stdout",
     "output_type": "stream",
     "text": [
      "wine review : US : California : Pinot Noir : Oak and earth intermingle around robust aromas of wet forest floor in this vineyard-designated Pinot that hails from a high-elevation site. Small in production, it offers intense, full-bodied raspberry and blackberry steeped in smoky spice and smooth texture.\n"
     ]
    }
   ],
   "source": [
    "example = filtered_data[25]\n",
    "print(example)"
   ]
  },
  {
   "cell_type": "markdown",
   "id": "3f871aaf-d873-41c7-8946-e4eef7ac17c1",
   "metadata": {
    "id": "3f871aaf-d873-41c7-8946-e4eef7ac17c1"
   },
   "source": [
    "## Токенизируем данные\n",
    "\n",
    "Дополним пунктуацию пробелами, чтобы каждый знак препинания воспринимался как отдельное слово."
   ]
  },
  {
   "cell_type": "code",
   "execution_count": 12,
   "id": "5b2064fb-5dcc-4657-b470-0928d10e2ddc",
   "metadata": {
    "id": "5b2064fb-5dcc-4657-b470-0928d10e2ddc",
    "tags": []
   },
   "outputs": [],
   "source": [
    "# Pad the punctuation, to treat them as separate 'words'\n",
    "def pad_punctuation(s):\n",
    "    s = re.sub(f\"([{string.punctuation}, '\\n'])\", r\" \\1 \", s)\n",
    "    s = re.sub(\" +\", \" \", s)\n",
    "    return s\n",
    "\n",
    "\n",
    "text_data = [pad_punctuation(x) for x in filtered_data]"
   ]
  },
  {
   "cell_type": "code",
   "execution_count": 13,
   "id": "b87d7c65-9a46-492a-a5c0-a043b0d252f3",
   "metadata": {
    "colab": {
     "base_uri": "https://localhost:8080/",
     "height": 90
    },
    "id": "b87d7c65-9a46-492a-a5c0-a043b0d252f3",
    "outputId": "12e92b9b-ca52-4453-81be-69309ff95863"
   },
   "outputs": [
    {
     "data": {
      "application/vnd.google.colaboratory.intrinsic+json": {
       "type": "string"
      },
      "text/plain": [
       "'wine review : US : California : Pinot Noir : Oak and earth intermingle around robust aromas of wet forest floor in this vineyard - designated Pinot that hails from a high - elevation site . Small in production , it offers intense , full - bodied raspberry and blackberry steeped in smoky spice and smooth texture . '"
      ]
     },
     "execution_count": 13,
     "metadata": {},
     "output_type": "execute_result"
    }
   ],
   "source": [
    "# Display an example of a review\n",
    "example_data = text_data[25]\n",
    "example_data"
   ]
  },
  {
   "cell_type": "markdown",
   "id": "80f5a95e",
   "metadata": {
    "id": "80f5a95e"
   },
   "source": [
    "Конвертируем список в датасет Tensorflow и пропустим текст через слой `TextVectorization`, который маркирует данные и дополняет/обрезает каждую строку до фиксированной длины."
   ]
  },
  {
   "cell_type": "code",
   "execution_count": 14,
   "id": "9834f916-b21a-4104-acc9-f28d3bd7a8c1",
   "metadata": {
    "id": "9834f916-b21a-4104-acc9-f28d3bd7a8c1",
    "tags": []
   },
   "outputs": [],
   "source": [
    "# Convert to a Tensorflow Dataset\n",
    "text_ds = (\n",
    "    tf.data.Dataset.from_tensor_slices(text_data)\n",
    "    .batch(BATCH_SIZE)\n",
    "    .shuffle(1000)\n",
    ")"
   ]
  },
  {
   "cell_type": "code",
   "execution_count": 15,
   "id": "884c0bcb-0807-45a1-8f7e-a32f2c6fa4de",
   "metadata": {
    "id": "884c0bcb-0807-45a1-8f7e-a32f2c6fa4de"
   },
   "outputs": [],
   "source": [
    "# Create a vectorisation layer\n",
    "vectorize_layer = layers.TextVectorization(\n",
    "    standardize=\"lower\",\n",
    "    max_tokens=VOCAB_SIZE,\n",
    "    output_mode=\"int\",\n",
    "    output_sequence_length=MAX_LEN + 1,\n",
    ")"
   ]
  },
  {
   "cell_type": "code",
   "execution_count": 16,
   "id": "4d6dd34a-d905-497b-926a-405380ebcf98",
   "metadata": {
    "id": "4d6dd34a-d905-497b-926a-405380ebcf98"
   },
   "outputs": [],
   "source": [
    "# Adapt the layer to the training set\n",
    "vectorize_layer.adapt(text_ds)\n",
    "vocab = vectorize_layer.get_vocabulary()"
   ]
  },
  {
   "cell_type": "code",
   "execution_count": 17,
   "id": "f6c1c7ce-3cf0-40d4-a3dc-ab7090f69f2f",
   "metadata": {
    "colab": {
     "base_uri": "https://localhost:8080/"
    },
    "id": "f6c1c7ce-3cf0-40d4-a3dc-ab7090f69f2f",
    "outputId": "eb07afc4-0836-492a-95a6-6f2b4bb735c1"
   },
   "outputs": [
    {
     "name": "stdout",
     "output_type": "stream",
     "text": [
      "0: \n",
      "1: [UNK]\n",
      "2: :\n",
      "3: ,\n",
      "4: .\n",
      "5: and\n",
      "6: the\n",
      "7: wine\n",
      "8: a\n",
      "9: of\n"
     ]
    }
   ],
   "source": [
    "# Display some token:word mappings\n",
    "for i, word in enumerate(vocab[:10]):\n",
    "    print(f\"{i}: {word}\")"
   ]
  },
  {
   "cell_type": "code",
   "execution_count": 18,
   "id": "1cc30186-7ec6-4eb6-b29a-65df6714d321",
   "metadata": {
    "colab": {
     "base_uri": "https://localhost:8080/"
    },
    "id": "1cc30186-7ec6-4eb6-b29a-65df6714d321",
    "outputId": "9643fe6e-842d-4213-e979-8e9de7d09423"
   },
   "outputs": [
    {
     "name": "stdout",
     "output_type": "stream",
     "text": [
      "[   7   10    2   20    2   29    2   43   62    2   55    5  243 4145\n",
      "  453  634   26    9  497  499  667   17   12  142   14 2214   43   25\n",
      " 2484   32    8  223   14 2213  948    4  594   17  987    3   15   75\n",
      "  237    3   64   14   82   97    5   74 2633   17  198   49    5  125\n",
      "   77    4    0    0    0    0    0    0    0    0    0    0    0    0\n",
      "    0    0    0    0    0    0    0    0    0    0    0]\n"
     ]
    }
   ],
   "source": [
    "# Display the same example converted to ints\n",
    "example_tokenised = vectorize_layer(example_data)\n",
    "print(example_tokenised.numpy())"
   ]
  },
  {
   "cell_type": "markdown",
   "id": "8c195efb-84c6-4be0-a989-a7542188ad35",
   "metadata": {
    "id": "8c195efb-84c6-4be0-a989-a7542188ad35"
   },
   "source": [
    "## Создание обучающего набора данных\n",
    "\n",
    "Создадим обучающий набор данных, в котором входными данными являются векторы с токенами текста, а прогнозируемыми выходными данными являются те же векторы, смещенные на один токен влево и дополненные справа нулевым значением."
   ]
  },
  {
   "cell_type": "code",
   "execution_count": 19,
   "id": "740294a1-1a6b-4c89-92f2-036d7d1b788b",
   "metadata": {
    "id": "740294a1-1a6b-4c89-92f2-036d7d1b788b"
   },
   "outputs": [],
   "source": [
    "# Create the training set of recipes and the same text\n",
    "# shifted by one word\n",
    "def prepare_inputs(text):\n",
    "    text = tf.expand_dims(text, -1)\n",
    "    tokenized_sentences = vectorize_layer(text)\n",
    "    x = tokenized_sentences[:, :-1]\n",
    "    y = tokenized_sentences[:, 1:]\n",
    "    return x, y\n",
    "\n",
    "\n",
    "train_ds = text_ds.map(prepare_inputs)"
   ]
  },
  {
   "cell_type": "code",
   "execution_count": 20,
   "id": "cad80ffb-4298-4249-86b4-9918d62534c5",
   "metadata": {
    "id": "cad80ffb-4298-4249-86b4-9918d62534c5"
   },
   "outputs": [],
   "source": [
    "example_input_output = train_ds.take(1).get_single_element()"
   ]
  },
  {
   "cell_type": "code",
   "execution_count": 21,
   "id": "67ff7263-f62d-44c1-997b-1aa99a393521",
   "metadata": {
    "colab": {
     "base_uri": "https://localhost:8080/"
    },
    "id": "67ff7263-f62d-44c1-997b-1aa99a393521",
    "outputId": "11bd575a-6ea1-49b6-e2f9-b139f48bee2d"
   },
   "outputs": [
    {
     "data": {
      "text/plain": [
       "<tf.Tensor: shape=(80,), dtype=int64, numpy=\n",
       "array([   7,   10,    2,   20,    2,   29,    2,   65,   14,   63,   24,\n",
       "         27,    2,  622, 8711,    1,   13,    8,    1,    1,    3,    5,\n",
       "         12,    7,   13,  128,   19, 5532,  267,    1,    9,    1,    1,\n",
       "          4,   68,    3,  246,    5,  593,   23,    6,   28,    3,   15,\n",
       "         18,   21,  128,   32,    8, 1878,    9,  100,    3,   11, 1871,\n",
       "       3384,    9,   45,   44,    3,   45,  200,    5,  374,  394,    4,\n",
       "        293,    3,  132,    5,    8,  358,    9,   86, 4647,  116,   23,\n",
       "          6,   28,    4])>"
      ]
     },
     "execution_count": 21,
     "metadata": {},
     "output_type": "execute_result"
    }
   ],
   "source": [
    "# Example Input\n",
    "example_input_output[0][0]"
   ]
  },
  {
   "cell_type": "code",
   "execution_count": 22,
   "id": "ef2e2cad-414c-4e6d-a2ac-6b9598f9dd01",
   "metadata": {
    "colab": {
     "base_uri": "https://localhost:8080/"
    },
    "id": "ef2e2cad-414c-4e6d-a2ac-6b9598f9dd01",
    "outputId": "038a8ef5-6ebc-4742-c9dd-1768856203f8"
   },
   "outputs": [
    {
     "data": {
      "text/plain": [
       "<tf.Tensor: shape=(80,), dtype=int64, numpy=\n",
       "array([  10,    2,   20,    2,   29,    2,   65,   14,   63,   24,   27,\n",
       "          2,  622, 8711,    1,   13,    8,    1,    1,    3,    5,   12,\n",
       "          7,   13,  128,   19, 5532,  267,    1,    9,    1,    1,    4,\n",
       "         68,    3,  246,    5,  593,   23,    6,   28,    3,   15,   18,\n",
       "         21,  128,   32,    8, 1878,    9,  100,    3,   11, 1871, 3384,\n",
       "          9,   45,   44,    3,   45,  200,    5,  374,  394,    4,  293,\n",
       "          3,  132,    5,    8,  358,    9,   86, 4647,  116,   23,    6,\n",
       "         28,    4,    0])>"
      ]
     },
     "execution_count": 22,
     "metadata": {},
     "output_type": "execute_result"
    }
   ],
   "source": [
    "# Example Output (shifted by one token)\n",
    "example_input_output[1][0]"
   ]
  },
  {
   "cell_type": "markdown",
   "id": "526a8430",
   "metadata": {
    "id": "526a8430"
   },
   "source": [
    "### Причинное маскирование\n",
    "\n",
    "Без маскирования модель GPT смогла бы идеально угадать следующее слово в предложении, поскольку в качестве функции она использовала бы ключ самого слова. Код для создания причинной маски и полученный массив маски показаны ниже:"
   ]
  },
  {
   "cell_type": "code",
   "execution_count": 23,
   "id": "554a4184-61c2-4eb7-a063-d965586a8188",
   "metadata": {
    "colab": {
     "base_uri": "https://localhost:8080/"
    },
    "id": "554a4184-61c2-4eb7-a063-d965586a8188",
    "outputId": "3a29929f-3edc-4fa8-9f93-845339f3795f"
   },
   "outputs": [
    {
     "data": {
      "text/plain": [
       "array([[1, 1, 1, 1, 1, 1, 1, 1, 1, 1],\n",
       "       [0, 1, 1, 1, 1, 1, 1, 1, 1, 1],\n",
       "       [0, 0, 1, 1, 1, 1, 1, 1, 1, 1],\n",
       "       [0, 0, 0, 1, 1, 1, 1, 1, 1, 1],\n",
       "       [0, 0, 0, 0, 1, 1, 1, 1, 1, 1],\n",
       "       [0, 0, 0, 0, 0, 1, 1, 1, 1, 1],\n",
       "       [0, 0, 0, 0, 0, 0, 1, 1, 1, 1],\n",
       "       [0, 0, 0, 0, 0, 0, 0, 1, 1, 1],\n",
       "       [0, 0, 0, 0, 0, 0, 0, 0, 1, 1],\n",
       "       [0, 0, 0, 0, 0, 0, 0, 0, 0, 1]], dtype=int32)"
      ]
     },
     "execution_count": 23,
     "metadata": {},
     "output_type": "execute_result"
    }
   ],
   "source": [
    "def causal_attention_mask(batch_size, n_dest, n_src, dtype):\n",
    "    i = tf.range(n_dest)[:, None]\n",
    "    j = tf.range(n_src)\n",
    "    m = i >= j - n_src + n_dest\n",
    "    mask = tf.cast(m, dtype)\n",
    "    mask = tf.reshape(mask, [1, n_dest, n_src])\n",
    "    mult = tf.concat(\n",
    "        [tf.expand_dims(batch_size, -1),\n",
    "         tf.constant([1, 1], dtype=tf.int32)], 0\n",
    "    )\n",
    "    return tf.tile(mask, mult)\n",
    "\n",
    "\n",
    "np.transpose(causal_attention_mask(1, 10, 10, dtype=tf.int32)[0])"
   ]
  },
  {
   "cell_type": "markdown",
   "id": "3501dbad-0860-40ad-b7d6-47950e37858f",
   "metadata": {
    "id": "3501dbad-0860-40ad-b7d6-47950e37858f"
   },
   "source": [
    "## Блок трансформера\n",
    "\n",
    "__Блок трансформера__ — это отдельный компонент внутри трансформера, который применяет некоторые сквозные связи  (skip connections), полносвязные (плотные) слои и нормализацию слоя многомерного внимания."
   ]
  },
  {
   "cell_type": "markdown",
   "id": "4a110690",
   "metadata": {
    "id": "4a110690"
   },
   "source": [
    "Входные данные передаются через  слой многомерного внимания и добавляются к выходным данным — это сквозные связи (skip connections), часто встречающиеся в современных архитектурах глубокого обучения. Это означает, что можно построить очень глубокие нейронные сети, которые не так сильно страдают от проблемы исчезающего градиента, поскольку сквозные связи обеспечивают магистраль (highway) без градиента, что позволяет нейронной сети беспрепятственно передавать информацию вперед неискаженной.\n",
    "\n",
    "В блоке трансформера используются слои нормализации  (`keras.layers.LayerNormalization`), чтобы обеспечить стабильность процесса обучения. Слой нормализации выполняет стандартизацию каждого экземпляра входных данных так, что его матожидание становится равным нулю, а дисперсия равной единице. Статистика нормализации рассчитывается для каждого экземпляра входных данных по всем каналам (признакам).\n",
    "\n",
    "В глубоком обучении также применяются слои пакетной нормализации (`keras.layers.BatchNormalization`), где выходные данные каждого канала (нейрона) стандартизуются так, чтобы среднее значение по пакету было равно нулю, а дисперсия равна единице. Статистика нормализации рассчитывается для каждого канала (признака) по всему пакету входных данных.\n",
    "\n"
   ]
  },
  {
   "cell_type": "code",
   "execution_count": 24,
   "id": "5285a1cb-fce1-46b1-b088-b596002fa9ae",
   "metadata": {
    "id": "5285a1cb-fce1-46b1-b088-b596002fa9ae"
   },
   "outputs": [],
   "source": [
    "class TransformerBlock(layers.Layer):\n",
    "    def __init__(self, num_heads, key_dim, embed_dim, ff_dim,\n",
    "                 dropout_rate=0.1):\n",
    "        super(TransformerBlock, self).__init__()\n",
    "        self.num_heads = num_heads\n",
    "        self.key_dim = key_dim\n",
    "        self.embed_dim = embed_dim\n",
    "        self.ff_dim = ff_dim\n",
    "        self.dropout_rate = dropout_rate\n",
    "        self.attn = layers.MultiHeadAttention(\n",
    "            num_heads, key_dim, output_shape=embed_dim\n",
    "        )\n",
    "        self.dropout_1 = layers.Dropout(self.dropout_rate)\n",
    "        self.ln_1 = layers.LayerNormalization(epsilon=1e-6)\n",
    "        self.ffn_1 = layers.Dense(self.ff_dim, activation=\"relu\")\n",
    "        self.ffn_2 = layers.Dense(self.embed_dim)\n",
    "        self.dropout_2 = layers.Dropout(self.dropout_rate)\n",
    "        self.ln_2 = layers.LayerNormalization(epsilon=1e-6)\n",
    "\n",
    "    def call(self, inputs):\n",
    "        input_shape = tf.shape(inputs)\n",
    "        batch_size = input_shape[0]\n",
    "        seq_len = input_shape[1]\n",
    "        causal_mask = causal_attention_mask(\n",
    "            batch_size, seq_len, seq_len, tf.bool\n",
    "        )\n",
    "        attention_output, attention_scores = self.attn(\n",
    "            inputs,\n",
    "            inputs,\n",
    "            attention_mask=causal_mask,\n",
    "            return_attention_scores=True,\n",
    "        )\n",
    "        attention_output = self.dropout_1(attention_output)\n",
    "        out1 = self.ln_1(inputs + attention_output)\n",
    "        ffn_1 = self.ffn_1(out1)\n",
    "        ffn_2 = self.ffn_2(ffn_1)\n",
    "        ffn_output = self.dropout_2(ffn_2)\n",
    "        return (self.ln_2(out1 + ffn_output), attention_scores)\n",
    "\n",
    "    def get_config(self):\n",
    "        config = super().get_config()\n",
    "        config.update(\n",
    "            {\n",
    "                \"key_dim\": self.key_dim,\n",
    "                \"embed_dim\": self.embed_dim,\n",
    "                \"num_heads\": self.num_heads,\n",
    "                \"ff_dim\": self.ff_dim,\n",
    "                \"dropout_rate\": self.dropout_rate,\n",
    "            }\n",
    "        )\n",
    "        return config"
   ]
  },
  {
   "cell_type": "markdown",
   "id": "076a6be0-9796-4974-9bcd-6ebbcfe7514e",
   "metadata": {
    "id": "076a6be0-9796-4974-9bcd-6ebbcfe7514e",
    "tags": []
   },
   "source": [
    "### Позиционное кодирование\n",
    "\n",
    "На уровне многомерного внимания нет ничего, что заботилось бы о порядке ключей. Скалярное произведение между каждым ключом и запросом вычисляется параллельно, а не последовательно, как в рекуррентной нейронной сети. Это сильная сторона (из-за повышения эффективности распараллеливания), но также и проблема, поскольку нам нужно, чтобы слой внимания имел возможность прогнозировать разные выходные данные для следующих двух предложений:\n",
    "* The dog looked at the boy and ... (barked?)\n",
    "* The boy looked at the dog and ... (smiled?)\n",
    "\n",
    "Чтобы решить эту проблему, при создании входных данных для блока трансформера используется метод, называемый __позиционным кодированием__. Вместо того, чтобы кодировать каждый токен только с помощью эмбединга токена, мы также кодируем позицию токена, используя эмбединг позиции.\n",
    "\n",
    "Эмбединг токена создается с использованием стандартного слоя эмбединга для преобразования каждого токена в вектор. Можно создать позиционный эмбединг таким же образом, используя стандартный слой эмбединга для преобразования каждой целочисленной позиции в вектор.\n"
   ]
  },
  {
   "cell_type": "code",
   "execution_count": 25,
   "id": "fdf5cb25-88ae-4026-9e21-c1e6b5094a2c",
   "metadata": {
    "id": "fdf5cb25-88ae-4026-9e21-c1e6b5094a2c"
   },
   "outputs": [],
   "source": [
    "class TokenAndPositionEmbedding(layers.Layer):\n",
    "    def __init__(self, max_len, vocab_size, embed_dim):\n",
    "        super(TokenAndPositionEmbedding, self).__init__()\n",
    "        self.max_len = max_len\n",
    "        self.vocab_size = vocab_size\n",
    "        self.embed_dim = embed_dim\n",
    "        self.token_emb = layers.Embedding(\n",
    "            input_dim=vocab_size, output_dim=embed_dim\n",
    "        )\n",
    "        self.pos_emb = layers.Embedding(input_dim=max_len,\n",
    "                                        output_dim=embed_dim)\n",
    "\n",
    "    def call(self, x):\n",
    "        maxlen = tf.shape(x)[-1]\n",
    "        positions = tf.range(start=0, limit=maxlen, delta=1)\n",
    "        positions = self.pos_emb(positions)\n",
    "        x = self.token_emb(x)\n",
    "        return x + positions\n",
    "\n",
    "    def get_config(self):\n",
    "        config = super().get_config()\n",
    "        config.update(\n",
    "            {\n",
    "                \"max_len\": self.max_len,\n",
    "                \"vocab_size\": self.vocab_size,\n",
    "                \"embed_dim\": self.embed_dim,\n",
    "            }\n",
    "        )\n",
    "        return config"
   ]
  },
  {
   "cell_type": "markdown",
   "id": "aac2e2d4-5980-47e3-b5b0-6c41c0c2d152",
   "metadata": {
    "id": "aac2e2d4-5980-47e3-b5b0-6c41c0c2d152"
   },
   "source": [
    "## Построение модели трансформера\n",
    "\n",
    "Чтобы собрать все в модель, нам нужно передать входной текст через слой эмбединга токена и позиции, а затем через блок трансформера. Конечным результатом работы сети является простой плотный слой с активацией `softmax` по количеству слов в словаре."
   ]
  },
  {
   "cell_type": "code",
   "execution_count": 26,
   "id": "8c57596e-e17d-4959-b6e8-7581b0bace3a",
   "metadata": {
    "id": "8c57596e-e17d-4959-b6e8-7581b0bace3a"
   },
   "outputs": [],
   "source": [
    "inputs = layers.Input(shape=(None,), dtype=tf.int32)\n",
    "x = TokenAndPositionEmbedding(\n",
    "    MAX_LEN, VOCAB_SIZE, EMBEDDING_DIM\n",
    ")(inputs)\n",
    "x, attention_scores = TransformerBlock(\n",
    "    N_HEADS, KEY_DIM, EMBEDDING_DIM, FEED_FORWARD_DIM\n",
    ")(x)\n",
    "outputs = layers.Dense(VOCAB_SIZE, activation=\"softmax\")(x)\n",
    "gpt = models.Model(inputs=inputs, outputs=[outputs, attention_scores])\n",
    "gpt.compile(\"adam\", loss=[losses.SparseCategoricalCrossentropy(), None])"
   ]
  },
  {
   "cell_type": "code",
   "execution_count": 27,
   "id": "1a1c3b0f-3382-444d-bb04-bae143ae5d61",
   "metadata": {
    "colab": {
     "base_uri": "https://localhost:8080/",
     "height": 310
    },
    "id": "1a1c3b0f-3382-444d-bb04-bae143ae5d61",
    "outputId": "90d421c0-66fa-482f-89d2-d7fea41bc765"
   },
   "outputs": [
    {
     "data": {
      "text/html": [
       "<pre style=\"white-space:pre;overflow-x:auto;line-height:normal;font-family:Menlo,'DejaVu Sans Mono',consolas,'Courier New',monospace\"><span style=\"font-weight: bold\">Model: \"functional_1\"</span>\n",
       "</pre>\n"
      ],
      "text/plain": [
       "\u001b[1mModel: \"functional_1\"\u001b[0m\n"
      ]
     },
     "metadata": {},
     "output_type": "display_data"
    },
    {
     "data": {
      "text/html": [
       "<pre style=\"white-space:pre;overflow-x:auto;line-height:normal;font-family:Menlo,'DejaVu Sans Mono',consolas,'Courier New',monospace\">┏━━━━━━━━━━━━━━━━━━━━━━━━━━━━━━━━━━━━━━┳━━━━━━━━━━━━━━━━━━━━━━━━━━━━━┳━━━━━━━━━━━━━━━━━┓\n",
       "┃<span style=\"font-weight: bold\"> Layer (type)                         </span>┃<span style=\"font-weight: bold\"> Output Shape                </span>┃<span style=\"font-weight: bold\">         Param # </span>┃\n",
       "┡━━━━━━━━━━━━━━━━━━━━━━━━━━━━━━━━━━━━━━╇━━━━━━━━━━━━━━━━━━━━━━━━━━━━━╇━━━━━━━━━━━━━━━━━┩\n",
       "│ input_layer (<span style=\"color: #0087ff; text-decoration-color: #0087ff\">InputLayer</span>)             │ (<span style=\"color: #00d7ff; text-decoration-color: #00d7ff\">None</span>, <span style=\"color: #00d7ff; text-decoration-color: #00d7ff\">None</span>)                │               <span style=\"color: #00af00; text-decoration-color: #00af00\">0</span> │\n",
       "├──────────────────────────────────────┼─────────────────────────────┼─────────────────┤\n",
       "│ token_and_position_embedding         │ (<span style=\"color: #00d7ff; text-decoration-color: #00d7ff\">None</span>, <span style=\"color: #00d7ff; text-decoration-color: #00d7ff\">None</span>, <span style=\"color: #00af00; text-decoration-color: #00af00\">256</span>)           │       <span style=\"color: #00af00; text-decoration-color: #00af00\">2,580,480</span> │\n",
       "│ (<span style=\"color: #0087ff; text-decoration-color: #0087ff\">TokenAndPositionEmbedding</span>)          │                             │                 │\n",
       "├──────────────────────────────────────┼─────────────────────────────┼─────────────────┤\n",
       "│ transformer_block (<span style=\"color: #0087ff; text-decoration-color: #0087ff\">TransformerBlock</span>) │ [(<span style=\"color: #00d7ff; text-decoration-color: #00d7ff\">None</span>, <span style=\"color: #00d7ff; text-decoration-color: #00d7ff\">None</span>, <span style=\"color: #00af00; text-decoration-color: #00af00\">256</span>), (<span style=\"color: #00d7ff; text-decoration-color: #00d7ff\">None</span>,  │         <span style=\"color: #00af00; text-decoration-color: #00af00\">658,688</span> │\n",
       "│                                      │ <span style=\"color: #00af00; text-decoration-color: #00af00\">2</span>, <span style=\"color: #00d7ff; text-decoration-color: #00d7ff\">None</span>, <span style=\"color: #00d7ff; text-decoration-color: #00d7ff\">None</span>)]             │                 │\n",
       "├──────────────────────────────────────┼─────────────────────────────┼─────────────────┤\n",
       "│ dense_2 (<span style=\"color: #0087ff; text-decoration-color: #0087ff\">Dense</span>)                      │ (<span style=\"color: #00d7ff; text-decoration-color: #00d7ff\">None</span>, <span style=\"color: #00d7ff; text-decoration-color: #00d7ff\">None</span>, <span style=\"color: #00af00; text-decoration-color: #00af00\">10000</span>)         │       <span style=\"color: #00af00; text-decoration-color: #00af00\">2,570,000</span> │\n",
       "└──────────────────────────────────────┴─────────────────────────────┴─────────────────┘\n",
       "</pre>\n"
      ],
      "text/plain": [
       "┏━━━━━━━━━━━━━━━━━━━━━━━━━━━━━━━━━━━━━━┳━━━━━━━━━━━━━━━━━━━━━━━━━━━━━┳━━━━━━━━━━━━━━━━━┓\n",
       "┃\u001b[1m \u001b[0m\u001b[1mLayer (type)                        \u001b[0m\u001b[1m \u001b[0m┃\u001b[1m \u001b[0m\u001b[1mOutput Shape               \u001b[0m\u001b[1m \u001b[0m┃\u001b[1m \u001b[0m\u001b[1m        Param #\u001b[0m\u001b[1m \u001b[0m┃\n",
       "┡━━━━━━━━━━━━━━━━━━━━━━━━━━━━━━━━━━━━━━╇━━━━━━━━━━━━━━━━━━━━━━━━━━━━━╇━━━━━━━━━━━━━━━━━┩\n",
       "│ input_layer (\u001b[38;5;33mInputLayer\u001b[0m)             │ (\u001b[38;5;45mNone\u001b[0m, \u001b[38;5;45mNone\u001b[0m)                │               \u001b[38;5;34m0\u001b[0m │\n",
       "├──────────────────────────────────────┼─────────────────────────────┼─────────────────┤\n",
       "│ token_and_position_embedding         │ (\u001b[38;5;45mNone\u001b[0m, \u001b[38;5;45mNone\u001b[0m, \u001b[38;5;34m256\u001b[0m)           │       \u001b[38;5;34m2,580,480\u001b[0m │\n",
       "│ (\u001b[38;5;33mTokenAndPositionEmbedding\u001b[0m)          │                             │                 │\n",
       "├──────────────────────────────────────┼─────────────────────────────┼─────────────────┤\n",
       "│ transformer_block (\u001b[38;5;33mTransformerBlock\u001b[0m) │ [(\u001b[38;5;45mNone\u001b[0m, \u001b[38;5;45mNone\u001b[0m, \u001b[38;5;34m256\u001b[0m), (\u001b[38;5;45mNone\u001b[0m,  │         \u001b[38;5;34m658,688\u001b[0m │\n",
       "│                                      │ \u001b[38;5;34m2\u001b[0m, \u001b[38;5;45mNone\u001b[0m, \u001b[38;5;45mNone\u001b[0m)]             │                 │\n",
       "├──────────────────────────────────────┼─────────────────────────────┼─────────────────┤\n",
       "│ dense_2 (\u001b[38;5;33mDense\u001b[0m)                      │ (\u001b[38;5;45mNone\u001b[0m, \u001b[38;5;45mNone\u001b[0m, \u001b[38;5;34m10000\u001b[0m)         │       \u001b[38;5;34m2,570,000\u001b[0m │\n",
       "└──────────────────────────────────────┴─────────────────────────────┴─────────────────┘\n"
      ]
     },
     "metadata": {},
     "output_type": "display_data"
    },
    {
     "data": {
      "text/html": [
       "<pre style=\"white-space:pre;overflow-x:auto;line-height:normal;font-family:Menlo,'DejaVu Sans Mono',consolas,'Courier New',monospace\"><span style=\"font-weight: bold\"> Total params: </span><span style=\"color: #00af00; text-decoration-color: #00af00\">5,809,168</span> (22.16 MB)\n",
       "</pre>\n"
      ],
      "text/plain": [
       "\u001b[1m Total params: \u001b[0m\u001b[38;5;34m5,809,168\u001b[0m (22.16 MB)\n"
      ]
     },
     "metadata": {},
     "output_type": "display_data"
    },
    {
     "data": {
      "text/html": [
       "<pre style=\"white-space:pre;overflow-x:auto;line-height:normal;font-family:Menlo,'DejaVu Sans Mono',consolas,'Courier New',monospace\"><span style=\"font-weight: bold\"> Trainable params: </span><span style=\"color: #00af00; text-decoration-color: #00af00\">5,809,168</span> (22.16 MB)\n",
       "</pre>\n"
      ],
      "text/plain": [
       "\u001b[1m Trainable params: \u001b[0m\u001b[38;5;34m5,809,168\u001b[0m (22.16 MB)\n"
      ]
     },
     "metadata": {},
     "output_type": "display_data"
    },
    {
     "data": {
      "text/html": [
       "<pre style=\"white-space:pre;overflow-x:auto;line-height:normal;font-family:Menlo,'DejaVu Sans Mono',consolas,'Courier New',monospace\"><span style=\"font-weight: bold\"> Non-trainable params: </span><span style=\"color: #00af00; text-decoration-color: #00af00\">0</span> (0.00 B)\n",
       "</pre>\n"
      ],
      "text/plain": [
       "\u001b[1m Non-trainable params: \u001b[0m\u001b[38;5;34m0\u001b[0m (0.00 B)\n"
      ]
     },
     "metadata": {},
     "output_type": "display_data"
    }
   ],
   "source": [
    "gpt.summary()"
   ]
  },
  {
   "cell_type": "markdown",
   "id": "35b14665-4359-447b-be58-3fd58ba69084",
   "metadata": {
    "id": "35b14665-4359-447b-be58-3fd58ba69084"
   },
   "source": [
    "## Обучение трансформера"
   ]
  },
  {
   "cell_type": "code",
   "execution_count": 28,
   "id": "3ddcff5f-829d-4449-99d2-9a3cb68f7d72",
   "metadata": {
    "id": "3ddcff5f-829d-4449-99d2-9a3cb68f7d72"
   },
   "outputs": [],
   "source": [
    "# Create a TextGenerator checkpoint\n",
    "class TextGenerator(callbacks.Callback):\n",
    "    def __init__(self, index_to_word, top_k=10):\n",
    "        self.index_to_word = index_to_word\n",
    "        self.word_to_index = {\n",
    "            word: index for index, word in enumerate(index_to_word)\n",
    "        }\n",
    "\n",
    "    def sample_from(self, probs, temperature):\n",
    "        probs = probs ** (1 / temperature)\n",
    "        probs = probs / np.sum(probs)\n",
    "        return np.random.choice(len(probs), p=probs), probs\n",
    "\n",
    "    def generate(self, start_prompt, max_tokens, temperature):\n",
    "        start_tokens = [\n",
    "            self.word_to_index.get(x, 1) for x in start_prompt.split()\n",
    "        ]\n",
    "        sample_token = None\n",
    "        info = []\n",
    "        while len(start_tokens) < max_tokens and sample_token != 0:\n",
    "            x = np.array([start_tokens])\n",
    "            y, att = self.model.predict(x, verbose=0)\n",
    "            sample_token, probs = self.sample_from(y[0][-1],\n",
    "                                                   temperature)\n",
    "            info.append(\n",
    "                {\n",
    "                    \"prompt\": start_prompt,\n",
    "                    \"word_probs\": probs,\n",
    "                    \"atts\": att[0, :, -1, :],\n",
    "                }\n",
    "            )\n",
    "            start_tokens.append(sample_token)\n",
    "            start_prompt = start_prompt + \" \" + \\\n",
    "                           self.index_to_word[sample_token]\n",
    "        print(f\"\\ngenerated text:\\n{start_prompt}\\n\")\n",
    "        return info\n",
    "\n",
    "    def on_epoch_end(self, epoch, logs=None):\n",
    "        self.generate(\"wine review\", max_tokens=80, temperature=1.0)"
   ]
  },
  {
   "cell_type": "code",
   "execution_count": 29,
   "id": "349865fe-ffbe-450e-97be-043ae1740e78",
   "metadata": {
    "id": "349865fe-ffbe-450e-97be-043ae1740e78"
   },
   "outputs": [],
   "source": [
    "# Create a model save checkpoint\n",
    "model_checkpoint_callback = callbacks.ModelCheckpoint(\n",
    "    filepath=\"/content/drive/MyDrive/gpt.weights.h5\",\n",
    "    save_weights_only=True,\n",
    "    save_freq=\"epoch\",\n",
    "    verbose=0,\n",
    ")\n",
    "\n",
    "tensorboard_callback = callbacks.TensorBoard(log_dir=\"/content/drive/MyDrive/logs\")\n",
    "\n",
    "# Tokenize starting prompt\n",
    "text_generator = TextGenerator(vocab)"
   ]
  },
  {
   "cell_type": "code",
   "execution_count": 30,
   "id": "461c2b3e-b5ae-4def-8bd9-e7bab8c63d8e",
   "metadata": {
    "colab": {
     "base_uri": "https://localhost:8080/"
    },
    "id": "461c2b3e-b5ae-4def-8bd9-e7bab8c63d8e",
    "outputId": "9a1e22bf-79ce-4e34-9bf4-98c5d61c47b1",
    "tags": []
   },
   "outputs": [
    {
     "name": "stdout",
     "output_type": "stream",
     "text": [
      "Epoch 1/5\n",
      "\u001b[1m4060/4060\u001b[0m \u001b[32m━━━━━━━━━━━━━━━━━━━━\u001b[0m\u001b[37m\u001b[0m \u001b[1m0s\u001b[0m 27ms/step - loss: 2.5966\n",
      "generated text:\n",
      "wine review : france : loire valley : merlot : this firmly structured and tannic , dense wine is the hallmark of ripe black fruits to balance out of white fruits . the wood aging has plenty of wood lifted the fruit and great fruit . it ' s going to age over the next few years . drink from 2019 . \n",
      "\n",
      "\u001b[1m4060/4060\u001b[0m \u001b[32m━━━━━━━━━━━━━━━━━━━━\u001b[0m\u001b[37m\u001b[0m \u001b[1m538s\u001b[0m 124ms/step - loss: 2.5965\n",
      "Epoch 2/5\n",
      "\u001b[1m4060/4060\u001b[0m \u001b[32m━━━━━━━━━━━━━━━━━━━━\u001b[0m\u001b[37m\u001b[0m \u001b[1m0s\u001b[0m 20ms/step - loss: 1.9748\n",
      "generated text:\n",
      "wine review : italy : piedmont : nebbiolo : aromas of tilled earth , new leather and tobacco lead the nose . the powerful palate offers black cherry , blackberry and cinnamon while baking spice notes add depth to the juicy palate , framed by youthfully assertive tannins that lend balancing acidity . drink 2023–2033 . \n",
      "\n",
      "\u001b[1m4060/4060\u001b[0m \u001b[32m━━━━━━━━━━━━━━━━━━━━\u001b[0m\u001b[37m\u001b[0m \u001b[1m86s\u001b[0m 21ms/step - loss: 1.9748\n",
      "Epoch 3/5\n",
      "\u001b[1m4059/4060\u001b[0m \u001b[32m━━━━━━━━━━━━━━━━━━━\u001b[0m\u001b[37m━\u001b[0m \u001b[1m0s\u001b[0m 20ms/step - loss: 1.9007\n",
      "generated text:\n",
      "wine review : us : california : cabernet sauvignon : just a thick cabernet that should improve through 2015 in the cellar . this wine impresses in ripe and round and smooth on the palate , it ' s tannic and savory around a core of blackberry , warm toasty oak . a gravelly minerality , it ' s also substantial , full - bodied and harmonious . \n",
      "\n",
      "\u001b[1m4060/4060\u001b[0m \u001b[32m━━━━━━━━━━━━━━━━━━━━\u001b[0m\u001b[37m\u001b[0m \u001b[1m139s\u001b[0m 34ms/step - loss: 1.9007\n",
      "Epoch 4/5\n",
      "\u001b[1m4060/4060\u001b[0m \u001b[32m━━━━━━━━━━━━━━━━━━━━\u001b[0m\u001b[37m\u001b[0m \u001b[1m0s\u001b[0m 20ms/step - loss: 1.8480\n",
      "generated text:\n",
      "wine review : us : california : chardonnay : mondavi reserve is made from 80 % purchased by the [UNK] family , this wine presents the producer ' s prestige cuvée , one third in all the parts of mediterranean - tank - fermented white meant to last . the result of two stainless and aged , it sees 9 % malolactic fermentation . drink now . \n",
      "\n",
      "\u001b[1m4060/4060\u001b[0m \u001b[32m━━━━━━━━━━━━━━━━━━━━\u001b[0m\u001b[37m\u001b[0m \u001b[1m86s\u001b[0m 21ms/step - loss: 1.8480\n",
      "Epoch 5/5\n",
      "\u001b[1m4060/4060\u001b[0m \u001b[32m━━━━━━━━━━━━━━━━━━━━\u001b[0m\u001b[37m\u001b[0m \u001b[1m0s\u001b[0m 20ms/step - loss: 1.8136\n",
      "generated text:\n",
      "wine review : us : california : red blend : small additions of 46 % syrah and 37 % tannat , this blends all other varieties , merlot and petit verdot , malbec and syrah , the kind that makes it like a first tannic foremost . rather than vivid black cherry fruit . the ruby red currant and pepper notes are featured on its listed , but a peppery , slightly bitter edge distracts . \n",
      "\n",
      "\u001b[1m4060/4060\u001b[0m \u001b[32m━━━━━━━━━━━━━━━━━━━━\u001b[0m\u001b[37m\u001b[0m \u001b[1m222s\u001b[0m 41ms/step - loss: 1.8136\n"
     ]
    },
    {
     "data": {
      "text/plain": [
       "<keras.src.callbacks.history.History at 0x78f8a7ac3f40>"
      ]
     },
     "execution_count": 30,
     "metadata": {},
     "output_type": "execute_result"
    }
   ],
   "source": [
    "gpt.fit(\n",
    "    train_ds,\n",
    "    epochs=EPOCHS,\n",
    "    callbacks=[model_checkpoint_callback,\n",
    "               tensorboard_callback,\n",
    "               text_generator],\n",
    ")"
   ]
  },
  {
   "cell_type": "code",
   "execution_count": 31,
   "id": "369bde44-2e39-4bc6-8549-a3a27ecce55c",
   "metadata": {
    "id": "369bde44-2e39-4bc6-8549-a3a27ecce55c",
    "tags": []
   },
   "outputs": [],
   "source": [
    "# Save the final model\n",
    "gpt.save(\"/content/drive/MyDrive/gpt.keras\")"
   ]
  },
  {
   "cell_type": "code",
   "execution_count": 32,
   "id": "yEPssc7KCKA1",
   "metadata": {
    "id": "yEPssc7KCKA1"
   },
   "outputs": [],
   "source": [
    "# Load the model\n",
    "# gpt = models.load_model(\"/content/drive/MyDrive/gpt.keras\", compile=True)"
   ]
  },
  {
   "cell_type": "markdown",
   "id": "d64e02d2-84dc-40c8-8446-40c09adf1e20",
   "metadata": {
    "id": "d64e02d2-84dc-40c8-8446-40c09adf1e20"
   },
   "source": [
    "# Генерация текста при помощи трансформера\n",
    "\n",
    "Будем использовать тот же класс `TextGenerator`, который использовался для генерации текста сетью LSTM, включая параметр температуры, который определяет, насколько детерминированным должен быть процесс выборки.\n"
   ]
  },
  {
   "cell_type": "code",
   "execution_count": 33,
   "id": "4ad23adb-3ec9-4e9a-9a59-b9f9bafca649",
   "metadata": {
    "id": "4ad23adb-3ec9-4e9a-9a59-b9f9bafca649"
   },
   "outputs": [],
   "source": [
    "def print_probs(info, vocab, top_k=5):\n",
    "    for i in info:\n",
    "        highlighted_text = []\n",
    "        for word, att_score in zip(\n",
    "            i[\"prompt\"].split(), np.mean(i[\"atts\"], axis=0)\n",
    "        ):\n",
    "            highlighted_text.append(\n",
    "                '<span style=\"background-color:rgba(135,206,250,'\n",
    "                + str(att_score / max(np.mean(i[\"atts\"], axis=0)))\n",
    "                + ');\">'\n",
    "                + word\n",
    "                + \"</span>\"\n",
    "            )\n",
    "        highlighted_text = \" \".join(highlighted_text)\n",
    "        display(HTML(highlighted_text))\n",
    "\n",
    "        word_probs = i[\"word_probs\"]\n",
    "        p_sorted = np.sort(word_probs)[::-1][:top_k]\n",
    "        i_sorted = np.argsort(word_probs)[::-1][:top_k]\n",
    "        for p, i in zip(p_sorted, i_sorted):\n",
    "            print(f\"{vocab[i]}:   \\t{np.round(100*p,2)}%\")\n",
    "        print(\"--------\\n\")"
   ]
  },
  {
   "cell_type": "code",
   "execution_count": 34,
   "id": "3cf25578-d47c-4b26-8252-fcdf2316a4ac",
   "metadata": {
    "colab": {
     "base_uri": "https://localhost:8080/"
    },
    "id": "3cf25578-d47c-4b26-8252-fcdf2316a4ac",
    "outputId": "783bed7f-841c-4713-9ba1-7651f3d72779"
   },
   "outputs": [
    {
     "name": "stdout",
     "output_type": "stream",
     "text": [
      "\n",
      "generated text:\n",
      "wine review : us : california : grenache : crisp and sharp aromas of ripe strawberries greet the nose followed by the palate of this medium - bodied , california grenache - made red . bright cherry flavors faintly up by the barrel heat of the finish . \n",
      "\n"
     ]
    }
   ],
   "source": [
    "info = text_generator.generate(\n",
    "    \"wine review : us\", max_tokens=80, temperature=1.0\n",
    ")"
   ]
  },
  {
   "cell_type": "code",
   "execution_count": 35,
   "id": "4ae2da8e-9b7c-4b71-b37b-021115b3d7ea",
   "metadata": {
    "colab": {
     "base_uri": "https://localhost:8080/"
    },
    "id": "4ae2da8e-9b7c-4b71-b37b-021115b3d7ea",
    "outputId": "62f98cbb-f8ca-4da5-eb2c-be81c884610d"
   },
   "outputs": [
    {
     "name": "stdout",
     "output_type": "stream",
     "text": [
      "\n",
      "generated text:\n",
      "wine review : italy : tuscany : red blend : this is a blend of sangiovese ( 70 % cabernet sauvignon and 30 % merlot with 10 % cabernet franc and 10 % cabernet sauvignon . the palate offers black cherry , coffee and black pepper alongside astringent tannins that give it a few years to soften . drink soon . \n",
      "\n"
     ]
    }
   ],
   "source": [
    "info = text_generator.generate(\n",
    "    \"wine review : italy\", max_tokens=80, temperature=0.5\n",
    ")"
   ]
  },
  {
   "cell_type": "markdown",
   "id": "e9e9061f",
   "metadata": {
    "id": "e9e9061f"
   },
   "source": [
    "#### Просмотр оценок внимания\n",
    "\n",
    "Мы также можем попросить модель сообщить нам, сколько внимания уделяется каждому слову при выборе следующего слова в предложении. Блок трансформера выводит веса внимания для каждого блока внимания, которые представляют собой распределение `softmax` по предыдущим словам в предложении.\n",
    "\n",
    "Чтобы продемонстрировать это, на рис. ниже показаны пять главных токенов с наибольшей вероятностью трех разных входных подсказок, а также среднее внимание обеих блоков внимания по отношению к каждому предыдущему слову. Предыдущие слова окрашены в соответствии с их показателем внимания, усредненным по двум блокам внимания. Более темный синий означает, что слову уделяется больше внимания."
   ]
  },
  {
   "cell_type": "code",
   "execution_count": 36,
   "id": "5cae6d5d-263d-4455-b96c-f315cbe284ee",
   "metadata": {
    "colab": {
     "base_uri": "https://localhost:8080/",
     "height": 1000
    },
    "id": "5cae6d5d-263d-4455-b96c-f315cbe284ee",
    "outputId": "392b48ab-8f4d-4a78-91c7-743eeb954d86"
   },
   "outputs": [
    {
     "name": "stdout",
     "output_type": "stream",
     "text": [
      "\n",
      "generated text:\n",
      "wine review : germany : rheingau : riesling : whiffs of crushed stones and crushed stone lend a savory tone to this dry , light - bodied spätlese . it ' s expansive on the palate , with a crush of mineral and lemon rind on the finish . \n",
      "\n"
     ]
    },
    {
     "data": {
      "text/html": [
       "<span style=\"background-color:rgba(135,206,250,1.0);\">wine</span> <span style=\"background-color:rgba(135,206,250,0.79681396);\">review</span> <span style=\"background-color:rgba(135,206,250,0.23706535);\">:</span> <span style=\"background-color:rgba(135,206,250,0.25932747);\">germany</span>"
      ],
      "text/plain": [
       "<IPython.core.display.HTML object>"
      ]
     },
     "metadata": {},
     "output_type": "display_data"
    },
    {
     "name": "stdout",
     "output_type": "stream",
     "text": [
      "::   \t100.0%\n",
      "-:   \t0.0%\n",
      "blend:   \t0.0%\n",
      "grosso:   \t0.0%\n",
      "blanc:   \t0.0%\n",
      "--------\n",
      "\n"
     ]
    },
    {
     "data": {
      "text/html": [
       "<span style=\"background-color:rgba(135,206,250,0.3825999);\">wine</span> <span style=\"background-color:rgba(135,206,250,0.45219705);\">review</span> <span style=\"background-color:rgba(135,206,250,0.23543306);\">:</span> <span style=\"background-color:rgba(135,206,250,1.0);\">germany</span> <span style=\"background-color:rgba(135,206,250,0.17430635);\">:</span>"
      ],
      "text/plain": [
       "<IPython.core.display.HTML object>"
      ]
     },
     "metadata": {},
     "output_type": "display_data"
    },
    {
     "name": "stdout",
     "output_type": "stream",
     "text": [
      "mosel:   \t93.25%\n",
      "rheingau:   \t5.73%\n",
      "pfalz:   \t0.57%\n",
      "rheinhessen:   \t0.23%\n",
      "franken:   \t0.09%\n",
      "--------\n",
      "\n"
     ]
    },
    {
     "data": {
      "text/html": [
       "<span style=\"background-color:rgba(135,206,250,0.81609046);\">wine</span> <span style=\"background-color:rgba(135,206,250,1.0);\">review</span> <span style=\"background-color:rgba(135,206,250,0.3373095);\">:</span> <span style=\"background-color:rgba(135,206,250,0.2927796);\">germany</span> <span style=\"background-color:rgba(135,206,250,0.45876315);\">:</span> <span style=\"background-color:rgba(135,206,250,0.28857106);\">rheingau</span>"
      ],
      "text/plain": [
       "<IPython.core.display.HTML object>"
      ]
     },
     "metadata": {},
     "output_type": "display_data"
    },
    {
     "name": "stdout",
     "output_type": "stream",
     "text": [
      "::   \t100.0%\n",
      "-:   \t0.0%\n",
      "blanc:   \t0.0%\n",
      ",:   \t0.0%\n",
      "grosso:   \t0.0%\n",
      "--------\n",
      "\n"
     ]
    },
    {
     "data": {
      "text/html": [
       "<span style=\"background-color:rgba(135,206,250,0.5693913);\">wine</span> <span style=\"background-color:rgba(135,206,250,0.5302513);\">review</span> <span style=\"background-color:rgba(135,206,250,0.2420302);\">:</span> <span style=\"background-color:rgba(135,206,250,1.0);\">germany</span> <span style=\"background-color:rgba(135,206,250,0.17477486);\">:</span> <span style=\"background-color:rgba(135,206,250,0.84498686);\">rheingau</span> <span style=\"background-color:rgba(135,206,250,0.23623732);\">:</span>"
      ],
      "text/plain": [
       "<IPython.core.display.HTML object>"
      ]
     },
     "metadata": {},
     "output_type": "display_data"
    },
    {
     "name": "stdout",
     "output_type": "stream",
     "text": [
      "riesling:   \t99.97%\n",
      "spätburgunder:   \t0.02%\n",
      "pinot:   \t0.0%\n",
      "gewürztraminer:   \t0.0%\n",
      "white:   \t0.0%\n",
      "--------\n",
      "\n"
     ]
    },
    {
     "data": {
      "text/html": [
       "<span style=\"background-color:rgba(135,206,250,0.9761885);\">wine</span> <span style=\"background-color:rgba(135,206,250,1.0);\">review</span> <span style=\"background-color:rgba(135,206,250,0.17445575);\">:</span> <span style=\"background-color:rgba(135,206,250,0.21205722);\">germany</span> <span style=\"background-color:rgba(135,206,250,0.2258808);\">:</span> <span style=\"background-color:rgba(135,206,250,0.19830708);\">rheingau</span> <span style=\"background-color:rgba(135,206,250,0.30753562);\">:</span> <span style=\"background-color:rgba(135,206,250,0.10703492);\">riesling</span>"
      ],
      "text/plain": [
       "<IPython.core.display.HTML object>"
      ]
     },
     "metadata": {},
     "output_type": "display_data"
    },
    {
     "name": "stdout",
     "output_type": "stream",
     "text": [
      "::   \t100.0%\n",
      "blanc:   \t0.0%\n",
      "-:   \t0.0%\n",
      "grosso:   \t0.0%\n",
      "blend:   \t0.0%\n",
      "--------\n",
      "\n"
     ]
    },
    {
     "data": {
      "text/html": [
       "<span style=\"background-color:rgba(135,206,250,0.85016304);\">wine</span> <span style=\"background-color:rgba(135,206,250,0.7260664);\">review</span> <span style=\"background-color:rgba(135,206,250,0.23959807);\">:</span> <span style=\"background-color:rgba(135,206,250,1.0);\">germany</span> <span style=\"background-color:rgba(135,206,250,0.31388336);\">:</span> <span style=\"background-color:rgba(135,206,250,0.5231127);\">rheingau</span> <span style=\"background-color:rgba(135,206,250,0.3239437);\">:</span> <span style=\"background-color:rgba(135,206,250,0.4807413);\">riesling</span> <span style=\"background-color:rgba(135,206,250,0.35489267);\">:</span>"
      ],
      "text/plain": [
       "<IPython.core.display.HTML object>"
      ]
     },
     "metadata": {},
     "output_type": "display_data"
    },
    {
     "name": "stdout",
     "output_type": "stream",
     "text": [
      "while:   \t38.19%\n",
      "whiffs:   \t19.76%\n",
      "a:   \t13.49%\n",
      "this:   \t6.37%\n",
      "hints:   \t3.29%\n",
      "--------\n",
      "\n"
     ]
    },
    {
     "data": {
      "text/html": [
       "<span style=\"background-color:rgba(135,206,250,1.0);\">wine</span> <span style=\"background-color:rgba(135,206,250,0.7490046);\">review</span> <span style=\"background-color:rgba(135,206,250,0.18024656);\">:</span> <span style=\"background-color:rgba(135,206,250,0.22359058);\">germany</span> <span style=\"background-color:rgba(135,206,250,0.2594212);\">:</span> <span style=\"background-color:rgba(135,206,250,0.13369396);\">rheingau</span> <span style=\"background-color:rgba(135,206,250,0.15316808);\">:</span> <span style=\"background-color:rgba(135,206,250,0.16033366);\">riesling</span> <span style=\"background-color:rgba(135,206,250,0.22234477);\">:</span> <span style=\"background-color:rgba(135,206,250,0.15106075);\">whiffs</span>"
      ],
      "text/plain": [
       "<IPython.core.display.HTML object>"
      ]
     },
     "metadata": {},
     "output_type": "display_data"
    },
    {
     "name": "stdout",
     "output_type": "stream",
     "text": [
      "of:   \t100.0%\n",
      "suggesting:   \t0.0%\n",
      "are:   \t0.0%\n",
      "recall:   \t0.0%\n",
      "include:   \t0.0%\n",
      "--------\n",
      "\n"
     ]
    },
    {
     "data": {
      "text/html": [
       "<span style=\"background-color:rgba(135,206,250,0.8084009);\">wine</span> <span style=\"background-color:rgba(135,206,250,0.65487236);\">review</span> <span style=\"background-color:rgba(135,206,250,0.18352175);\">:</span> <span style=\"background-color:rgba(135,206,250,0.6535568);\">germany</span> <span style=\"background-color:rgba(135,206,250,0.1907819);\">:</span> <span style=\"background-color:rgba(135,206,250,0.38260782);\">rheingau</span> <span style=\"background-color:rgba(135,206,250,0.1723653);\">:</span> <span style=\"background-color:rgba(135,206,250,0.4066801);\">riesling</span> <span style=\"background-color:rgba(135,206,250,0.2699312);\">:</span> <span style=\"background-color:rgba(135,206,250,1.0);\">whiffs</span> <span style=\"background-color:rgba(135,206,250,0.24836026);\">of</span>"
      ],
      "text/plain": [
       "<IPython.core.display.HTML object>"
      ]
     },
     "metadata": {},
     "output_type": "display_data"
    },
    {
     "name": "stdout",
     "output_type": "stream",
     "text": [
      "smoke:   \t85.35%\n",
      "saffron:   \t3.88%\n",
      "crushed:   \t1.91%\n",
      "struck:   \t1.32%\n",
      "honey:   \t0.92%\n",
      "--------\n",
      "\n"
     ]
    },
    {
     "data": {
      "text/html": [
       "<span style=\"background-color:rgba(135,206,250,1.0);\">wine</span> <span style=\"background-color:rgba(135,206,250,0.8206282);\">review</span> <span style=\"background-color:rgba(135,206,250,0.21572167);\">:</span> <span style=\"background-color:rgba(135,206,250,0.64046544);\">germany</span> <span style=\"background-color:rgba(135,206,250,0.23951119);\">:</span> <span style=\"background-color:rgba(135,206,250,0.51334494);\">rheingau</span> <span style=\"background-color:rgba(135,206,250,0.25798622);\">:</span> <span style=\"background-color:rgba(135,206,250,0.4996168);\">riesling</span> <span style=\"background-color:rgba(135,206,250,0.34175092);\">:</span> <span style=\"background-color:rgba(135,206,250,0.59935504);\">whiffs</span> <span style=\"background-color:rgba(135,206,250,0.48976254);\">of</span> <span style=\"background-color:rgba(135,206,250,0.46329874);\">crushed</span>"
      ],
      "text/plain": [
       "<IPython.core.display.HTML object>"
      ]
     },
     "metadata": {},
     "output_type": "display_data"
    },
    {
     "name": "stdout",
     "output_type": "stream",
     "text": [
      "stones:   \t45.65%\n",
      "slate:   \t27.99%\n",
      "stone:   \t21.93%\n",
      "minerals:   \t3.03%\n",
      "mineral:   \t0.78%\n",
      "--------\n",
      "\n"
     ]
    },
    {
     "data": {
      "text/html": [
       "<span style=\"background-color:rgba(135,206,250,1.0);\">wine</span> <span style=\"background-color:rgba(135,206,250,0.63627756);\">review</span> <span style=\"background-color:rgba(135,206,250,0.08387723);\">:</span> <span style=\"background-color:rgba(135,206,250,0.26598707);\">germany</span> <span style=\"background-color:rgba(135,206,250,0.20670892);\">:</span> <span style=\"background-color:rgba(135,206,250,0.1229173);\">rheingau</span> <span style=\"background-color:rgba(135,206,250,0.121631585);\">:</span> <span style=\"background-color:rgba(135,206,250,0.08809019);\">riesling</span> <span style=\"background-color:rgba(135,206,250,0.15250821);\">:</span> <span style=\"background-color:rgba(135,206,250,0.2098336);\">whiffs</span> <span style=\"background-color:rgba(135,206,250,0.224578);\">of</span> <span style=\"background-color:rgba(135,206,250,0.17853902);\">crushed</span> <span style=\"background-color:rgba(135,206,250,0.23192887);\">stones</span>"
      ],
      "text/plain": [
       "<IPython.core.display.HTML object>"
      ]
     },
     "metadata": {},
     "output_type": "display_data"
    },
    {
     "name": "stdout",
     "output_type": "stream",
     "text": [
      "and:   \t55.43%\n",
      "lend:   \t35.33%\n",
      ",:   \t7.97%\n",
      "are:   \t0.87%\n",
      "lends:   \t0.15%\n",
      "--------\n",
      "\n"
     ]
    },
    {
     "data": {
      "text/html": [
       "<span style=\"background-color:rgba(135,206,250,0.20017956);\">wine</span> <span style=\"background-color:rgba(135,206,250,0.22978546);\">review</span> <span style=\"background-color:rgba(135,206,250,0.06192607);\">:</span> <span style=\"background-color:rgba(135,206,250,0.20062798);\">germany</span> <span style=\"background-color:rgba(135,206,250,0.04785322);\">:</span> <span style=\"background-color:rgba(135,206,250,0.11354558);\">rheingau</span> <span style=\"background-color:rgba(135,206,250,0.04081901);\">:</span> <span style=\"background-color:rgba(135,206,250,0.12994722);\">riesling</span> <span style=\"background-color:rgba(135,206,250,0.061059855);\">:</span> <span style=\"background-color:rgba(135,206,250,0.18475834);\">whiffs</span> <span style=\"background-color:rgba(135,206,250,0.081744395);\">of</span> <span style=\"background-color:rgba(135,206,250,0.129352);\">crushed</span> <span style=\"background-color:rgba(135,206,250,1.0);\">stones</span> <span style=\"background-color:rgba(135,206,250,0.08946219);\">and</span>"
      ],
      "text/plain": [
       "<IPython.core.display.HTML object>"
      ]
     },
     "metadata": {},
     "output_type": "display_data"
    },
    {
     "name": "stdout",
     "output_type": "stream",
     "text": [
      "crushed:   \t33.78%\n",
      "lime:   \t13.61%\n",
      "stone:   \t12.72%\n",
      "smoke:   \t7.79%\n",
      "river:   \t7.34%\n",
      "--------\n",
      "\n"
     ]
    },
    {
     "data": {
      "text/html": [
       "<span style=\"background-color:rgba(135,206,250,0.5688164);\">wine</span> <span style=\"background-color:rgba(135,206,250,0.5339989);\">review</span> <span style=\"background-color:rgba(135,206,250,0.13356613);\">:</span> <span style=\"background-color:rgba(135,206,250,0.3719961);\">germany</span> <span style=\"background-color:rgba(135,206,250,0.14110285);\">:</span> <span style=\"background-color:rgba(135,206,250,0.38192824);\">rheingau</span> <span style=\"background-color:rgba(135,206,250,0.1523429);\">:</span> <span style=\"background-color:rgba(135,206,250,0.37201607);\">riesling</span> <span style=\"background-color:rgba(135,206,250,0.17701498);\">:</span> <span style=\"background-color:rgba(135,206,250,0.24271858);\">whiffs</span> <span style=\"background-color:rgba(135,206,250,0.18622583);\">of</span> <span style=\"background-color:rgba(135,206,250,0.15688892);\">crushed</span> <span style=\"background-color:rgba(135,206,250,1.0);\">stones</span> <span style=\"background-color:rgba(135,206,250,0.35612878);\">and</span> <span style=\"background-color:rgba(135,206,250,0.21502429);\">crushed</span>"
      ],
      "text/plain": [
       "<IPython.core.display.HTML object>"
      ]
     },
     "metadata": {},
     "output_type": "display_data"
    },
    {
     "name": "stdout",
     "output_type": "stream",
     "text": [
      "stone:   \t63.9%\n",
      "slate:   \t15.37%\n",
      "stones:   \t11.91%\n",
      "minerals:   \t7.53%\n",
      "granite:   \t0.45%\n",
      "--------\n",
      "\n"
     ]
    },
    {
     "data": {
      "text/html": [
       "<span style=\"background-color:rgba(135,206,250,1.0);\">wine</span> <span style=\"background-color:rgba(135,206,250,0.8856967);\">review</span> <span style=\"background-color:rgba(135,206,250,0.143248);\">:</span> <span style=\"background-color:rgba(135,206,250,0.31542256);\">germany</span> <span style=\"background-color:rgba(135,206,250,0.28873265);\">:</span> <span style=\"background-color:rgba(135,206,250,0.15136528);\">rheingau</span> <span style=\"background-color:rgba(135,206,250,0.16773975);\">:</span> <span style=\"background-color:rgba(135,206,250,0.09930413);\">riesling</span> <span style=\"background-color:rgba(135,206,250,0.15963295);\">:</span> <span style=\"background-color:rgba(135,206,250,0.2736702);\">whiffs</span> <span style=\"background-color:rgba(135,206,250,0.3102617);\">of</span> <span style=\"background-color:rgba(135,206,250,0.400653);\">crushed</span> <span style=\"background-color:rgba(135,206,250,0.40361625);\">stones</span> <span style=\"background-color:rgba(135,206,250,0.36055845);\">and</span> <span style=\"background-color:rgba(135,206,250,0.9722325);\">crushed</span> <span style=\"background-color:rgba(135,206,250,0.20382841);\">stone</span>"
      ],
      "text/plain": [
       "<IPython.core.display.HTML object>"
      ]
     },
     "metadata": {},
     "output_type": "display_data"
    },
    {
     "name": "stdout",
     "output_type": "stream",
     "text": [
      "add:   \t43.71%\n",
      "lend:   \t32.68%\n",
      "are:   \t17.14%\n",
      "accent:   \t2.48%\n",
      "notes:   \t0.63%\n",
      "--------\n",
      "\n"
     ]
    },
    {
     "data": {
      "text/html": [
       "<span style=\"background-color:rgba(135,206,250,1.0);\">wine</span> <span style=\"background-color:rgba(135,206,250,0.901274);\">review</span> <span style=\"background-color:rgba(135,206,250,0.21942233);\">:</span> <span style=\"background-color:rgba(135,206,250,0.3365123);\">germany</span> <span style=\"background-color:rgba(135,206,250,0.41944858);\">:</span> <span style=\"background-color:rgba(135,206,250,0.26553753);\">rheingau</span> <span style=\"background-color:rgba(135,206,250,0.24042138);\">:</span> <span style=\"background-color:rgba(135,206,250,0.20596534);\">riesling</span> <span style=\"background-color:rgba(135,206,250,0.18677938);\">:</span> <span style=\"background-color:rgba(135,206,250,0.27421057);\">whiffs</span> <span style=\"background-color:rgba(135,206,250,0.18442667);\">of</span> <span style=\"background-color:rgba(135,206,250,0.17234816);\">crushed</span> <span style=\"background-color:rgba(135,206,250,0.33847275);\">stones</span> <span style=\"background-color:rgba(135,206,250,0.28207868);\">and</span> <span style=\"background-color:rgba(135,206,250,0.22828537);\">crushed</span> <span style=\"background-color:rgba(135,206,250,0.2673784);\">stone</span> <span style=\"background-color:rgba(135,206,250,0.30564404);\">lend</span>"
      ],
      "text/plain": [
       "<IPython.core.display.HTML object>"
      ]
     },
     "metadata": {},
     "output_type": "display_data"
    },
    {
     "name": "stdout",
     "output_type": "stream",
     "text": [
      "a:   \t74.6%\n",
      "complexity:   \t6.62%\n",
      "savoriness:   \t4.62%\n",
      "savory:   \t4.54%\n",
      "an:   \t3.99%\n",
      "--------\n",
      "\n"
     ]
    },
    {
     "data": {
      "text/html": [
       "<span style=\"background-color:rgba(135,206,250,0.3788968);\">wine</span> <span style=\"background-color:rgba(135,206,250,0.4070754);\">review</span> <span style=\"background-color:rgba(135,206,250,0.08429423);\">:</span> <span style=\"background-color:rgba(135,206,250,0.35784954);\">germany</span> <span style=\"background-color:rgba(135,206,250,0.06629559);\">:</span> <span style=\"background-color:rgba(135,206,250,0.20659514);\">rheingau</span> <span style=\"background-color:rgba(135,206,250,0.059747867);\">:</span> <span style=\"background-color:rgba(135,206,250,0.21355288);\">riesling</span> <span style=\"background-color:rgba(135,206,250,0.08955779);\">:</span> <span style=\"background-color:rgba(135,206,250,0.25885028);\">whiffs</span> <span style=\"background-color:rgba(135,206,250,0.12950987);\">of</span> <span style=\"background-color:rgba(135,206,250,0.18320768);\">crushed</span> <span style=\"background-color:rgba(135,206,250,0.40560004);\">stones</span> <span style=\"background-color:rgba(135,206,250,0.14378546);\">and</span> <span style=\"background-color:rgba(135,206,250,0.23044759);\">crushed</span> <span style=\"background-color:rgba(135,206,250,0.34005475);\">stone</span> <span style=\"background-color:rgba(135,206,250,1.0);\">lend</span> <span style=\"background-color:rgba(135,206,250,0.15360817);\">a</span>"
      ],
      "text/plain": [
       "<IPython.core.display.HTML object>"
      ]
     },
     "metadata": {},
     "output_type": "display_data"
    },
    {
     "name": "stdout",
     "output_type": "stream",
     "text": [
      "savory:   \t69.18%\n",
      "lavish:   \t5.72%\n",
      "mysteriously:   \t2.97%\n",
      "floral:   \t2.71%\n",
      "hint:   \t2.59%\n",
      "--------\n",
      "\n"
     ]
    },
    {
     "data": {
      "text/html": [
       "<span style=\"background-color:rgba(135,206,250,0.32440788);\">wine</span> <span style=\"background-color:rgba(135,206,250,0.3133837);\">review</span> <span style=\"background-color:rgba(135,206,250,0.057118833);\">:</span> <span style=\"background-color:rgba(135,206,250,0.25370988);\">germany</span> <span style=\"background-color:rgba(135,206,250,0.0627064);\">:</span> <span style=\"background-color:rgba(135,206,250,0.20616369);\">rheingau</span> <span style=\"background-color:rgba(135,206,250,0.06498615);\">:</span> <span style=\"background-color:rgba(135,206,250,0.27904087);\">riesling</span> <span style=\"background-color:rgba(135,206,250,0.077091336);\">:</span> <span style=\"background-color:rgba(135,206,250,0.1895775);\">whiffs</span> <span style=\"background-color:rgba(135,206,250,0.096813455);\">of</span> <span style=\"background-color:rgba(135,206,250,0.077305354);\">crushed</span> <span style=\"background-color:rgba(135,206,250,0.19025713);\">stones</span> <span style=\"background-color:rgba(135,206,250,0.095684804);\">and</span> <span style=\"background-color:rgba(135,206,250,0.08743986);\">crushed</span> <span style=\"background-color:rgba(135,206,250,0.22058056);\">stone</span> <span style=\"background-color:rgba(135,206,250,1.0);\">lend</span> <span style=\"background-color:rgba(135,206,250,0.53216684);\">a</span> <span style=\"background-color:rgba(135,206,250,0.1502952);\">savory</span>"
      ],
      "text/plain": [
       "<IPython.core.display.HTML object>"
      ]
     },
     "metadata": {},
     "output_type": "display_data"
    },
    {
     "name": "stdout",
     "output_type": "stream",
     "text": [
      "tone:   \t99.59%\n",
      ",:   \t0.23%\n",
      "sheen:   \t0.06%\n",
      "edge:   \t0.03%\n",
      "feel:   \t0.01%\n",
      "--------\n",
      "\n"
     ]
    },
    {
     "data": {
      "text/html": [
       "<span style=\"background-color:rgba(135,206,250,0.26595786);\">wine</span> <span style=\"background-color:rgba(135,206,250,0.377254);\">review</span> <span style=\"background-color:rgba(135,206,250,0.052738097);\">:</span> <span style=\"background-color:rgba(135,206,250,0.1663173);\">germany</span> <span style=\"background-color:rgba(135,206,250,0.09262912);\">:</span> <span style=\"background-color:rgba(135,206,250,0.06615968);\">rheingau</span> <span style=\"background-color:rgba(135,206,250,0.03968751);\">:</span> <span style=\"background-color:rgba(135,206,250,0.04442508);\">riesling</span> <span style=\"background-color:rgba(135,206,250,0.04638293);\">:</span> <span style=\"background-color:rgba(135,206,250,0.11102697);\">whiffs</span> <span style=\"background-color:rgba(135,206,250,0.07647991);\">of</span> <span style=\"background-color:rgba(135,206,250,0.032458667);\">crushed</span> <span style=\"background-color:rgba(135,206,250,0.08846763);\">stones</span> <span style=\"background-color:rgba(135,206,250,0.06050149);\">and</span> <span style=\"background-color:rgba(135,206,250,0.043832112);\">crushed</span> <span style=\"background-color:rgba(135,206,250,0.06748506);\">stone</span> <span style=\"background-color:rgba(135,206,250,1.0);\">lend</span> <span style=\"background-color:rgba(135,206,250,0.17889903);\">a</span> <span style=\"background-color:rgba(135,206,250,0.13934027);\">savory</span> <span style=\"background-color:rgba(135,206,250,0.17843102);\">tone</span>"
      ],
      "text/plain": [
       "<IPython.core.display.HTML object>"
      ]
     },
     "metadata": {},
     "output_type": "display_data"
    },
    {
     "name": "stdout",
     "output_type": "stream",
     "text": [
      "to:   \t100.0%\n",
      "of:   \t0.0%\n",
      "for:   \t0.0%\n",
      "on:   \t0.0%\n",
      "and:   \t0.0%\n",
      "--------\n",
      "\n"
     ]
    },
    {
     "data": {
      "text/html": [
       "<span style=\"background-color:rgba(135,206,250,0.3691835);\">wine</span> <span style=\"background-color:rgba(135,206,250,0.43869683);\">review</span> <span style=\"background-color:rgba(135,206,250,0.06332995);\">:</span> <span style=\"background-color:rgba(135,206,250,0.25231937);\">germany</span> <span style=\"background-color:rgba(135,206,250,0.08962367);\">:</span> <span style=\"background-color:rgba(135,206,250,0.1708169);\">rheingau</span> <span style=\"background-color:rgba(135,206,250,0.058517594);\">:</span> <span style=\"background-color:rgba(135,206,250,0.16375816);\">riesling</span> <span style=\"background-color:rgba(135,206,250,0.06705534);\">:</span> <span style=\"background-color:rgba(135,206,250,0.14470156);\">whiffs</span> <span style=\"background-color:rgba(135,206,250,0.0791656);\">of</span> <span style=\"background-color:rgba(135,206,250,0.067395605);\">crushed</span> <span style=\"background-color:rgba(135,206,250,0.119539045);\">stones</span> <span style=\"background-color:rgba(135,206,250,0.067792796);\">and</span> <span style=\"background-color:rgba(135,206,250,0.089481145);\">crushed</span> <span style=\"background-color:rgba(135,206,250,0.111314416);\">stone</span> <span style=\"background-color:rgba(135,206,250,0.66047996);\">lend</span> <span style=\"background-color:rgba(135,206,250,0.208085);\">a</span> <span style=\"background-color:rgba(135,206,250,0.26908913);\">savory</span> <span style=\"background-color:rgba(135,206,250,1.0);\">tone</span> <span style=\"background-color:rgba(135,206,250,0.12592289);\">to</span>"
      ],
      "text/plain": [
       "<IPython.core.display.HTML object>"
      ]
     },
     "metadata": {},
     "output_type": "display_data"
    },
    {
     "name": "stdout",
     "output_type": "stream",
     "text": [
      "this:   \t99.81%\n",
      "nose:   \t0.04%\n",
      "fresh:   \t0.04%\n",
      "the:   \t0.03%\n",
      "ripe:   \t0.02%\n",
      "--------\n",
      "\n"
     ]
    },
    {
     "data": {
      "text/html": [
       "<span style=\"background-color:rgba(135,206,250,0.6126261);\">wine</span> <span style=\"background-color:rgba(135,206,250,1.0);\">review</span> <span style=\"background-color:rgba(135,206,250,0.19027098);\">:</span> <span style=\"background-color:rgba(135,206,250,0.5295228);\">germany</span> <span style=\"background-color:rgba(135,206,250,0.1925477);\">:</span> <span style=\"background-color:rgba(135,206,250,0.5806757);\">rheingau</span> <span style=\"background-color:rgba(135,206,250,0.16425478);\">:</span> <span style=\"background-color:rgba(135,206,250,0.5903689);\">riesling</span> <span style=\"background-color:rgba(135,206,250,0.16044693);\">:</span> <span style=\"background-color:rgba(135,206,250,0.27344376);\">whiffs</span> <span style=\"background-color:rgba(135,206,250,0.12004945);\">of</span> <span style=\"background-color:rgba(135,206,250,0.13214302);\">crushed</span> <span style=\"background-color:rgba(135,206,250,0.17114206);\">stones</span> <span style=\"background-color:rgba(135,206,250,0.10892778);\">and</span> <span style=\"background-color:rgba(135,206,250,0.13054706);\">crushed</span> <span style=\"background-color:rgba(135,206,250,0.1050918);\">stone</span> <span style=\"background-color:rgba(135,206,250,0.39091736);\">lend</span> <span style=\"background-color:rgba(135,206,250,0.14722407);\">a</span> <span style=\"background-color:rgba(135,206,250,0.23083124);\">savory</span> <span style=\"background-color:rgba(135,206,250,0.4832297);\">tone</span> <span style=\"background-color:rgba(135,206,250,0.6150944);\">to</span> <span style=\"background-color:rgba(135,206,250,0.42376983);\">this</span>"
      ],
      "text/plain": [
       "<IPython.core.display.HTML object>"
      ]
     },
     "metadata": {},
     "output_type": "display_data"
    },
    {
     "name": "stdout",
     "output_type": "stream",
     "text": [
      "dry:   \t91.19%\n",
      "off:   \t4.13%\n",
      "semi:   \t1.16%\n",
      "gorgeously:   \t0.32%\n",
      "silken:   \t0.3%\n",
      "--------\n",
      "\n"
     ]
    },
    {
     "data": {
      "text/html": [
       "<span style=\"background-color:rgba(135,206,250,0.24796341);\">wine</span> <span style=\"background-color:rgba(135,206,250,0.36016533);\">review</span> <span style=\"background-color:rgba(135,206,250,0.06103651);\">:</span> <span style=\"background-color:rgba(135,206,250,0.18923597);\">germany</span> <span style=\"background-color:rgba(135,206,250,0.075382486);\">:</span> <span style=\"background-color:rgba(135,206,250,0.26985052);\">rheingau</span> <span style=\"background-color:rgba(135,206,250,0.06607212);\">:</span> <span style=\"background-color:rgba(135,206,250,0.43721196);\">riesling</span> <span style=\"background-color:rgba(135,206,250,0.0855277);\">:</span> <span style=\"background-color:rgba(135,206,250,0.14273462);\">whiffs</span> <span style=\"background-color:rgba(135,206,250,0.077429354);\">of</span> <span style=\"background-color:rgba(135,206,250,0.059047807);\">crushed</span> <span style=\"background-color:rgba(135,206,250,0.11806376);\">stones</span> <span style=\"background-color:rgba(135,206,250,0.07303143);\">and</span> <span style=\"background-color:rgba(135,206,250,0.05715947);\">crushed</span> <span style=\"background-color:rgba(135,206,250,0.0903821);\">stone</span> <span style=\"background-color:rgba(135,206,250,0.30047518);\">lend</span> <span style=\"background-color:rgba(135,206,250,0.13229907);\">a</span> <span style=\"background-color:rgba(135,206,250,0.07900914);\">savory</span> <span style=\"background-color:rgba(135,206,250,0.4489303);\">tone</span> <span style=\"background-color:rgba(135,206,250,0.41059002);\">to</span> <span style=\"background-color:rgba(135,206,250,1.0);\">this</span> <span style=\"background-color:rgba(135,206,250,0.20390694);\">dry</span>"
      ],
      "text/plain": [
       "<IPython.core.display.HTML object>"
      ]
     },
     "metadata": {},
     "output_type": "display_data"
    },
    {
     "name": "stdout",
     "output_type": "stream",
     "text": [
      ",:   \t99.26%\n",
      "semi:   \t0.2%\n",
      "but:   \t0.19%\n",
      "dry:   \t0.13%\n",
      "off:   \t0.06%\n",
      "--------\n",
      "\n"
     ]
    },
    {
     "data": {
      "text/html": [
       "<span style=\"background-color:rgba(135,206,250,0.29706547);\">wine</span> <span style=\"background-color:rgba(135,206,250,0.5346988);\">review</span> <span style=\"background-color:rgba(135,206,250,0.12888113);\">:</span> <span style=\"background-color:rgba(135,206,250,0.33461094);\">germany</span> <span style=\"background-color:rgba(135,206,250,0.111941405);\">:</span> <span style=\"background-color:rgba(135,206,250,0.30683595);\">rheingau</span> <span style=\"background-color:rgba(135,206,250,0.079188816);\">:</span> <span style=\"background-color:rgba(135,206,250,0.3308165);\">riesling</span> <span style=\"background-color:rgba(135,206,250,0.10845967);\">:</span> <span style=\"background-color:rgba(135,206,250,0.18545179);\">whiffs</span> <span style=\"background-color:rgba(135,206,250,0.12625936);\">of</span> <span style=\"background-color:rgba(135,206,250,0.06890012);\">crushed</span> <span style=\"background-color:rgba(135,206,250,0.1784904);\">stones</span> <span style=\"background-color:rgba(135,206,250,0.12290012);\">and</span> <span style=\"background-color:rgba(135,206,250,0.07104957);\">crushed</span> <span style=\"background-color:rgba(135,206,250,0.14269179);\">stone</span> <span style=\"background-color:rgba(135,206,250,0.3798723);\">lend</span> <span style=\"background-color:rgba(135,206,250,0.14230314);\">a</span> <span style=\"background-color:rgba(135,206,250,0.23869039);\">savory</span> <span style=\"background-color:rgba(135,206,250,0.42019793);\">tone</span> <span style=\"background-color:rgba(135,206,250,0.41238815);\">to</span> <span style=\"background-color:rgba(135,206,250,0.8120654);\">this</span> <span style=\"background-color:rgba(135,206,250,1.0);\">dry</span> <span style=\"background-color:rgba(135,206,250,0.38785142);\">,</span>"
      ],
      "text/plain": [
       "<IPython.core.display.HTML object>"
      ]
     },
     "metadata": {},
     "output_type": "display_data"
    },
    {
     "name": "stdout",
     "output_type": "stream",
     "text": [
      "medium:   \t74.23%\n",
      "full:   \t12.74%\n",
      "richly:   \t1.41%\n",
      "lusciously:   \t1.36%\n",
      "off:   \t1.31%\n",
      "--------\n",
      "\n"
     ]
    },
    {
     "data": {
      "text/html": [
       "<span style=\"background-color:rgba(135,206,250,0.51850367);\">wine</span> <span style=\"background-color:rgba(135,206,250,0.7959744);\">review</span> <span style=\"background-color:rgba(135,206,250,0.14462794);\">:</span> <span style=\"background-color:rgba(135,206,250,0.40770808);\">germany</span> <span style=\"background-color:rgba(135,206,250,0.16493571);\">:</span> <span style=\"background-color:rgba(135,206,250,0.40365753);\">rheingau</span> <span style=\"background-color:rgba(135,206,250,0.13361485);\">:</span> <span style=\"background-color:rgba(135,206,250,0.47154975);\">riesling</span> <span style=\"background-color:rgba(135,206,250,0.15323578);\">:</span> <span style=\"background-color:rgba(135,206,250,0.19215389);\">whiffs</span> <span style=\"background-color:rgba(135,206,250,0.11353391);\">of</span> <span style=\"background-color:rgba(135,206,250,0.098356985);\">crushed</span> <span style=\"background-color:rgba(135,206,250,0.2440537);\">stones</span> <span style=\"background-color:rgba(135,206,250,0.10512385);\">and</span> <span style=\"background-color:rgba(135,206,250,0.10173771);\">crushed</span> <span style=\"background-color:rgba(135,206,250,0.17002802);\">stone</span> <span style=\"background-color:rgba(135,206,250,0.33535588);\">lend</span> <span style=\"background-color:rgba(135,206,250,0.17974639);\">a</span> <span style=\"background-color:rgba(135,206,250,0.19376236);\">savory</span> <span style=\"background-color:rgba(135,206,250,0.5236978);\">tone</span> <span style=\"background-color:rgba(135,206,250,0.55944556);\">to</span> <span style=\"background-color:rgba(135,206,250,1.0);\">this</span> <span style=\"background-color:rgba(135,206,250,0.5484533);\">dry</span> <span style=\"background-color:rgba(135,206,250,0.9077618);\">,</span> <span style=\"background-color:rgba(135,206,250,0.36928466);\">light</span>"
      ],
      "text/plain": [
       "<IPython.core.display.HTML object>"
      ]
     },
     "metadata": {},
     "output_type": "display_data"
    },
    {
     "name": "stdout",
     "output_type": "stream",
     "text": [
      "-:   \t99.88%\n",
      ",:   \t0.04%\n",
      "bodied:   \t0.02%\n",
      "spätlese:   \t0.01%\n",
      "and:   \t0.01%\n",
      "--------\n",
      "\n"
     ]
    },
    {
     "data": {
      "text/html": [
       "<span style=\"background-color:rgba(135,206,250,0.21589065);\">wine</span> <span style=\"background-color:rgba(135,206,250,0.36970222);\">review</span> <span style=\"background-color:rgba(135,206,250,0.06005342);\">:</span> <span style=\"background-color:rgba(135,206,250,0.18557289);\">germany</span> <span style=\"background-color:rgba(135,206,250,0.07873921);\">:</span> <span style=\"background-color:rgba(135,206,250,0.1817406);\">rheingau</span> <span style=\"background-color:rgba(135,206,250,0.05267658);\">:</span> <span style=\"background-color:rgba(135,206,250,0.25106886);\">riesling</span> <span style=\"background-color:rgba(135,206,250,0.07643785);\">:</span> <span style=\"background-color:rgba(135,206,250,0.1032375);\">whiffs</span> <span style=\"background-color:rgba(135,206,250,0.058971874);\">of</span> <span style=\"background-color:rgba(135,206,250,0.06971107);\">crushed</span> <span style=\"background-color:rgba(135,206,250,0.07724809);\">stones</span> <span style=\"background-color:rgba(135,206,250,0.079232916);\">and</span> <span style=\"background-color:rgba(135,206,250,0.08162678);\">crushed</span> <span style=\"background-color:rgba(135,206,250,0.074595794);\">stone</span> <span style=\"background-color:rgba(135,206,250,0.09157088);\">lend</span> <span style=\"background-color:rgba(135,206,250,0.06974769);\">a</span> <span style=\"background-color:rgba(135,206,250,0.0947569);\">savory</span> <span style=\"background-color:rgba(135,206,250,0.13820462);\">tone</span> <span style=\"background-color:rgba(135,206,250,0.21004814);\">to</span> <span style=\"background-color:rgba(135,206,250,0.23996964);\">this</span> <span style=\"background-color:rgba(135,206,250,0.46347263);\">dry</span> <span style=\"background-color:rgba(135,206,250,0.27805972);\">,</span> <span style=\"background-color:rgba(135,206,250,1.0);\">light</span> <span style=\"background-color:rgba(135,206,250,0.08698922);\">-</span>"
      ],
      "text/plain": [
       "<IPython.core.display.HTML object>"
      ]
     },
     "metadata": {},
     "output_type": "display_data"
    },
    {
     "name": "stdout",
     "output_type": "stream",
     "text": [
      "bodied:   \t80.97%\n",
      "footed:   \t19.02%\n",
      "to:   \t0.01%\n",
      "medium:   \t0.0%\n",
      "framed:   \t0.0%\n",
      "--------\n",
      "\n"
     ]
    },
    {
     "data": {
      "text/html": [
       "<span style=\"background-color:rgba(135,206,250,0.4499073);\">wine</span> <span style=\"background-color:rgba(135,206,250,0.69838816);\">review</span> <span style=\"background-color:rgba(135,206,250,0.12473722);\">:</span> <span style=\"background-color:rgba(135,206,250,0.3627694);\">germany</span> <span style=\"background-color:rgba(135,206,250,0.13983889);\">:</span> <span style=\"background-color:rgba(135,206,250,0.52111983);\">rheingau</span> <span style=\"background-color:rgba(135,206,250,0.15214351);\">:</span> <span style=\"background-color:rgba(135,206,250,0.72893095);\">riesling</span> <span style=\"background-color:rgba(135,206,250,0.19795175);\">:</span> <span style=\"background-color:rgba(135,206,250,0.2732877);\">whiffs</span> <span style=\"background-color:rgba(135,206,250,0.13323668);\">of</span> <span style=\"background-color:rgba(135,206,250,0.06689469);\">crushed</span> <span style=\"background-color:rgba(135,206,250,0.1329683);\">stones</span> <span style=\"background-color:rgba(135,206,250,0.10379741);\">and</span> <span style=\"background-color:rgba(135,206,250,0.06177342);\">crushed</span> <span style=\"background-color:rgba(135,206,250,0.14429799);\">stone</span> <span style=\"background-color:rgba(135,206,250,0.29128948);\">lend</span> <span style=\"background-color:rgba(135,206,250,0.19823365);\">a</span> <span style=\"background-color:rgba(135,206,250,0.0924341);\">savory</span> <span style=\"background-color:rgba(135,206,250,0.43501383);\">tone</span> <span style=\"background-color:rgba(135,206,250,0.3676237);\">to</span> <span style=\"background-color:rgba(135,206,250,1.0);\">this</span> <span style=\"background-color:rgba(135,206,250,0.29872322);\">dry</span> <span style=\"background-color:rgba(135,206,250,0.95438594);\">,</span> <span style=\"background-color:rgba(135,206,250,0.35671225);\">light</span> <span style=\"background-color:rgba(135,206,250,0.45691416);\">-</span> <span style=\"background-color:rgba(135,206,250,0.39471358);\">bodied</span>"
      ],
      "text/plain": [
       "<IPython.core.display.HTML object>"
      ]
     },
     "metadata": {},
     "output_type": "display_data"
    },
    {
     "name": "stdout",
     "output_type": "stream",
     "text": [
      "riesling:   \t56.56%\n",
      "spätlese:   \t22.93%\n",
      "wine:   \t10.55%\n",
      "kabinett:   \t4.42%\n",
      "dry:   \t2.79%\n",
      "--------\n",
      "\n"
     ]
    },
    {
     "data": {
      "text/html": [
       "<span style=\"background-color:rgba(135,206,250,0.4574472);\">wine</span> <span style=\"background-color:rgba(135,206,250,1.0);\">review</span> <span style=\"background-color:rgba(135,206,250,0.07350195);\">:</span> <span style=\"background-color:rgba(135,206,250,0.19731876);\">germany</span> <span style=\"background-color:rgba(135,206,250,0.1300247);\">:</span> <span style=\"background-color:rgba(135,206,250,0.14894971);\">rheingau</span> <span style=\"background-color:rgba(135,206,250,0.11876622);\">:</span> <span style=\"background-color:rgba(135,206,250,0.08693479);\">riesling</span> <span style=\"background-color:rgba(135,206,250,0.10069607);\">:</span> <span style=\"background-color:rgba(135,206,250,0.16703233);\">whiffs</span> <span style=\"background-color:rgba(135,206,250,0.07135544);\">of</span> <span style=\"background-color:rgba(135,206,250,0.03415395);\">crushed</span> <span style=\"background-color:rgba(135,206,250,0.0592989);\">stones</span> <span style=\"background-color:rgba(135,206,250,0.050292067);\">and</span> <span style=\"background-color:rgba(135,206,250,0.03288237);\">crushed</span> <span style=\"background-color:rgba(135,206,250,0.052174356);\">stone</span> <span style=\"background-color:rgba(135,206,250,0.32201397);\">lend</span> <span style=\"background-color:rgba(135,206,250,0.116471834);\">a</span> <span style=\"background-color:rgba(135,206,250,0.057264253);\">savory</span> <span style=\"background-color:rgba(135,206,250,0.12923554);\">tone</span> <span style=\"background-color:rgba(135,206,250,0.15490276);\">to</span> <span style=\"background-color:rgba(135,206,250,0.31753707);\">this</span> <span style=\"background-color:rgba(135,206,250,0.1300811);\">dry</span> <span style=\"background-color:rgba(135,206,250,0.33880123);\">,</span> <span style=\"background-color:rgba(135,206,250,0.13866745);\">light</span> <span style=\"background-color:rgba(135,206,250,0.23946558);\">-</span> <span style=\"background-color:rgba(135,206,250,0.2999022);\">bodied</span> <span style=\"background-color:rgba(135,206,250,0.35329923);\">spätlese</span>"
      ],
      "text/plain": [
       "<IPython.core.display.HTML object>"
      ]
     },
     "metadata": {},
     "output_type": "display_data"
    },
    {
     "name": "stdout",
     "output_type": "stream",
     "text": [
      ".:   \t99.99%\n",
      "that:   \t0.0%\n",
      ",:   \t0.0%\n",
      "of:   \t0.0%\n",
      "full:   \t0.0%\n",
      "--------\n",
      "\n"
     ]
    },
    {
     "data": {
      "text/html": [
       "<span style=\"background-color:rgba(135,206,250,0.3431013);\">wine</span> <span style=\"background-color:rgba(135,206,250,1.0);\">review</span> <span style=\"background-color:rgba(135,206,250,0.19761798);\">:</span> <span style=\"background-color:rgba(135,206,250,0.47080937);\">germany</span> <span style=\"background-color:rgba(135,206,250,0.38527647);\">:</span> <span style=\"background-color:rgba(135,206,250,0.41656253);\">rheingau</span> <span style=\"background-color:rgba(135,206,250,0.19253735);\">:</span> <span style=\"background-color:rgba(135,206,250,0.2640014);\">riesling</span> <span style=\"background-color:rgba(135,206,250,0.13255024);\">:</span> <span style=\"background-color:rgba(135,206,250,0.14569396);\">whiffs</span> <span style=\"background-color:rgba(135,206,250,0.06544308);\">of</span> <span style=\"background-color:rgba(135,206,250,0.061414957);\">crushed</span> <span style=\"background-color:rgba(135,206,250,0.10700331);\">stones</span> <span style=\"background-color:rgba(135,206,250,0.058653895);\">and</span> <span style=\"background-color:rgba(135,206,250,0.057987276);\">crushed</span> <span style=\"background-color:rgba(135,206,250,0.069260605);\">stone</span> <span style=\"background-color:rgba(135,206,250,0.12816098);\">lend</span> <span style=\"background-color:rgba(135,206,250,0.05032706);\">a</span> <span style=\"background-color:rgba(135,206,250,0.084086984);\">savory</span> <span style=\"background-color:rgba(135,206,250,0.11916739);\">tone</span> <span style=\"background-color:rgba(135,206,250,0.06889417);\">to</span> <span style=\"background-color:rgba(135,206,250,0.18177767);\">this</span> <span style=\"background-color:rgba(135,206,250,0.14190786);\">dry</span> <span style=\"background-color:rgba(135,206,250,0.0855595);\">,</span> <span style=\"background-color:rgba(135,206,250,0.14037561);\">light</span> <span style=\"background-color:rgba(135,206,250,0.090974994);\">-</span> <span style=\"background-color:rgba(135,206,250,0.18123397);\">bodied</span> <span style=\"background-color:rgba(135,206,250,0.32855463);\">spätlese</span> <span style=\"background-color:rgba(135,206,250,0.32828617);\">.</span>"
      ],
      "text/plain": [
       "<IPython.core.display.HTML object>"
      ]
     },
     "metadata": {},
     "output_type": "display_data"
    },
    {
     "name": "stdout",
     "output_type": "stream",
     "text": [
      "it:   \t92.86%\n",
      "the:   \t5.1%\n",
      "on:   \t0.62%\n",
      "juicy:   \t0.28%\n",
      "crisp:   \t0.22%\n",
      "--------\n",
      "\n"
     ]
    },
    {
     "data": {
      "text/html": [
       "<span style=\"background-color:rgba(135,206,250,0.19789909);\">wine</span> <span style=\"background-color:rgba(135,206,250,0.6559568);\">review</span> <span style=\"background-color:rgba(135,206,250,0.15889587);\">:</span> <span style=\"background-color:rgba(135,206,250,0.27439666);\">germany</span> <span style=\"background-color:rgba(135,206,250,0.116154335);\">:</span> <span style=\"background-color:rgba(135,206,250,0.165853);\">rheingau</span> <span style=\"background-color:rgba(135,206,250,0.07726462);\">:</span> <span style=\"background-color:rgba(135,206,250,0.09088383);\">riesling</span> <span style=\"background-color:rgba(135,206,250,0.06822776);\">:</span> <span style=\"background-color:rgba(135,206,250,0.1287568);\">whiffs</span> <span style=\"background-color:rgba(135,206,250,0.06313248);\">of</span> <span style=\"background-color:rgba(135,206,250,0.055004895);\">crushed</span> <span style=\"background-color:rgba(135,206,250,0.10353701);\">stones</span> <span style=\"background-color:rgba(135,206,250,0.043816354);\">and</span> <span style=\"background-color:rgba(135,206,250,0.050053645);\">crushed</span> <span style=\"background-color:rgba(135,206,250,0.046177354);\">stone</span> <span style=\"background-color:rgba(135,206,250,0.10310118);\">lend</span> <span style=\"background-color:rgba(135,206,250,0.043787602);\">a</span> <span style=\"background-color:rgba(135,206,250,0.059029385);\">savory</span> <span style=\"background-color:rgba(135,206,250,0.12003237);\">tone</span> <span style=\"background-color:rgba(135,206,250,0.08165255);\">to</span> <span style=\"background-color:rgba(135,206,250,0.07434152);\">this</span> <span style=\"background-color:rgba(135,206,250,0.13693196);\">dry</span> <span style=\"background-color:rgba(135,206,250,0.13931134);\">,</span> <span style=\"background-color:rgba(135,206,250,0.12550342);\">light</span> <span style=\"background-color:rgba(135,206,250,0.12267441);\">-</span> <span style=\"background-color:rgba(135,206,250,0.22881393);\">bodied</span> <span style=\"background-color:rgba(135,206,250,0.23664212);\">spätlese</span> <span style=\"background-color:rgba(135,206,250,1.0);\">.</span> <span style=\"background-color:rgba(135,206,250,0.22085455);\">it</span>"
      ],
      "text/plain": [
       "<IPython.core.display.HTML object>"
      ]
     },
     "metadata": {},
     "output_type": "display_data"
    },
    {
     "name": "stdout",
     "output_type": "stream",
     "text": [
      "':   \t99.96%\n",
      "has:   \t0.02%\n",
      "offers:   \t0.01%\n",
      "balances:   \t0.0%\n",
      "is:   \t0.0%\n",
      "--------\n",
      "\n"
     ]
    },
    {
     "data": {
      "text/html": [
       "<span style=\"background-color:rgba(135,206,250,0.16737828);\">wine</span> <span style=\"background-color:rgba(135,206,250,0.25871715);\">review</span> <span style=\"background-color:rgba(135,206,250,0.080459535);\">:</span> <span style=\"background-color:rgba(135,206,250,0.15587698);\">germany</span> <span style=\"background-color:rgba(135,206,250,0.0693099);\">:</span> <span style=\"background-color:rgba(135,206,250,0.16681623);\">rheingau</span> <span style=\"background-color:rgba(135,206,250,0.048317615);\">:</span> <span style=\"background-color:rgba(135,206,250,0.14979982);\">riesling</span> <span style=\"background-color:rgba(135,206,250,0.057729516);\">:</span> <span style=\"background-color:rgba(135,206,250,0.09550446);\">whiffs</span> <span style=\"background-color:rgba(135,206,250,0.04512844);\">of</span> <span style=\"background-color:rgba(135,206,250,0.045006935);\">crushed</span> <span style=\"background-color:rgba(135,206,250,0.08108042);\">stones</span> <span style=\"background-color:rgba(135,206,250,0.04676704);\">and</span> <span style=\"background-color:rgba(135,206,250,0.041509356);\">crushed</span> <span style=\"background-color:rgba(135,206,250,0.040220976);\">stone</span> <span style=\"background-color:rgba(135,206,250,0.056122027);\">lend</span> <span style=\"background-color:rgba(135,206,250,0.03579833);\">a</span> <span style=\"background-color:rgba(135,206,250,0.057956494);\">savory</span> <span style=\"background-color:rgba(135,206,250,0.074912235);\">tone</span> <span style=\"background-color:rgba(135,206,250,0.07132596);\">to</span> <span style=\"background-color:rgba(135,206,250,0.07249343);\">this</span> <span style=\"background-color:rgba(135,206,250,0.09744738);\">dry</span> <span style=\"background-color:rgba(135,206,250,0.0962784);\">,</span> <span style=\"background-color:rgba(135,206,250,0.08642282);\">light</span> <span style=\"background-color:rgba(135,206,250,0.08172728);\">-</span> <span style=\"background-color:rgba(135,206,250,0.15207812);\">bodied</span> <span style=\"background-color:rgba(135,206,250,0.5142665);\">spätlese</span> <span style=\"background-color:rgba(135,206,250,0.6534978);\">.</span> <span style=\"background-color:rgba(135,206,250,1.0);\">it</span> <span style=\"background-color:rgba(135,206,250,0.09809149);\">'</span>"
      ],
      "text/plain": [
       "<IPython.core.display.HTML object>"
      ]
     },
     "metadata": {},
     "output_type": "display_data"
    },
    {
     "name": "stdout",
     "output_type": "stream",
     "text": [
      "s:   \t100.0%\n",
      "ll:   \t0.0%\n",
      "[UNK]:   \t0.0%\n",
      "balances:   \t0.0%\n",
      "shows:   \t0.0%\n",
      "--------\n",
      "\n"
     ]
    },
    {
     "data": {
      "text/html": [
       "<span style=\"background-color:rgba(135,206,250,0.19024096);\">wine</span> <span style=\"background-color:rgba(135,206,250,0.57417876);\">review</span> <span style=\"background-color:rgba(135,206,250,0.08120242);\">:</span> <span style=\"background-color:rgba(135,206,250,0.2532891);\">germany</span> <span style=\"background-color:rgba(135,206,250,0.07337277);\">:</span> <span style=\"background-color:rgba(135,206,250,0.17498189);\">rheingau</span> <span style=\"background-color:rgba(135,206,250,0.049348664);\">:</span> <span style=\"background-color:rgba(135,206,250,0.18457668);\">riesling</span> <span style=\"background-color:rgba(135,206,250,0.071330115);\">:</span> <span style=\"background-color:rgba(135,206,250,0.12749368);\">whiffs</span> <span style=\"background-color:rgba(135,206,250,0.04440413);\">of</span> <span style=\"background-color:rgba(135,206,250,0.05730238);\">crushed</span> <span style=\"background-color:rgba(135,206,250,0.080980755);\">stones</span> <span style=\"background-color:rgba(135,206,250,0.04382666);\">and</span> <span style=\"background-color:rgba(135,206,250,0.053484224);\">crushed</span> <span style=\"background-color:rgba(135,206,250,0.049329653);\">stone</span> <span style=\"background-color:rgba(135,206,250,0.065737344);\">lend</span> <span style=\"background-color:rgba(135,206,250,0.04090295);\">a</span> <span style=\"background-color:rgba(135,206,250,0.07643527);\">savory</span> <span style=\"background-color:rgba(135,206,250,0.10106355);\">tone</span> <span style=\"background-color:rgba(135,206,250,0.056578837);\">to</span> <span style=\"background-color:rgba(135,206,250,0.08220347);\">this</span> <span style=\"background-color:rgba(135,206,250,0.16589488);\">dry</span> <span style=\"background-color:rgba(135,206,250,0.10556048);\">,</span> <span style=\"background-color:rgba(135,206,250,0.18301986);\">light</span> <span style=\"background-color:rgba(135,206,250,0.10556838);\">-</span> <span style=\"background-color:rgba(135,206,250,0.2083243);\">bodied</span> <span style=\"background-color:rgba(135,206,250,0.40267074);\">spätlese</span> <span style=\"background-color:rgba(135,206,250,1.0);\">.</span> <span style=\"background-color:rgba(135,206,250,0.8624309);\">it</span> <span style=\"background-color:rgba(135,206,250,0.117356665);\">'</span> <span style=\"background-color:rgba(135,206,250,0.16508381);\">s</span>"
      ],
      "text/plain": [
       "<IPython.core.display.HTML object>"
      ]
     },
     "metadata": {},
     "output_type": "display_data"
    },
    {
     "name": "stdout",
     "output_type": "stream",
     "text": [
      "lusciously:   \t35.06%\n",
      "juicy:   \t25.39%\n",
      "a:   \t10.72%\n",
      "crisp:   \t3.04%\n",
      "medium:   \t2.23%\n",
      "--------\n",
      "\n"
     ]
    },
    {
     "data": {
      "text/html": [
       "<span style=\"background-color:rgba(135,206,250,0.33658916);\">wine</span> <span style=\"background-color:rgba(135,206,250,1.0);\">review</span> <span style=\"background-color:rgba(135,206,250,0.18155888);\">:</span> <span style=\"background-color:rgba(135,206,250,0.2190984);\">germany</span> <span style=\"background-color:rgba(135,206,250,0.16314882);\">:</span> <span style=\"background-color:rgba(135,206,250,0.34707493);\">rheingau</span> <span style=\"background-color:rgba(135,206,250,0.12275223);\">:</span> <span style=\"background-color:rgba(135,206,250,0.52573824);\">riesling</span> <span style=\"background-color:rgba(135,206,250,0.1261726);\">:</span> <span style=\"background-color:rgba(135,206,250,0.13918011);\">whiffs</span> <span style=\"background-color:rgba(135,206,250,0.06548067);\">of</span> <span style=\"background-color:rgba(135,206,250,0.05925651);\">crushed</span> <span style=\"background-color:rgba(135,206,250,0.078341514);\">stones</span> <span style=\"background-color:rgba(135,206,250,0.070644245);\">and</span> <span style=\"background-color:rgba(135,206,250,0.05503718);\">crushed</span> <span style=\"background-color:rgba(135,206,250,0.06388849);\">stone</span> <span style=\"background-color:rgba(135,206,250,0.08521234);\">lend</span> <span style=\"background-color:rgba(135,206,250,0.050958723);\">a</span> <span style=\"background-color:rgba(135,206,250,0.05917583);\">savory</span> <span style=\"background-color:rgba(135,206,250,0.088894494);\">tone</span> <span style=\"background-color:rgba(135,206,250,0.08994148);\">to</span> <span style=\"background-color:rgba(135,206,250,0.12804136);\">this</span> <span style=\"background-color:rgba(135,206,250,0.103423744);\">dry</span> <span style=\"background-color:rgba(135,206,250,0.11492174);\">,</span> <span style=\"background-color:rgba(135,206,250,0.08059226);\">light</span> <span style=\"background-color:rgba(135,206,250,0.0813678);\">-</span> <span style=\"background-color:rgba(135,206,250,0.13549487);\">bodied</span> <span style=\"background-color:rgba(135,206,250,0.4515882);\">spätlese</span> <span style=\"background-color:rgba(135,206,250,0.7765893);\">.</span> <span style=\"background-color:rgba(135,206,250,0.7039143);\">it</span> <span style=\"background-color:rgba(135,206,250,0.36521247);\">'</span> <span style=\"background-color:rgba(135,206,250,0.8087184);\">s</span> <span style=\"background-color:rgba(135,206,250,0.35266066);\">expansive</span>"
      ],
      "text/plain": [
       "<IPython.core.display.HTML object>"
      ]
     },
     "metadata": {},
     "output_type": "display_data"
    },
    {
     "name": "stdout",
     "output_type": "stream",
     "text": [
      "on:   \t99.21%\n",
      "in:   \t0.4%\n",
      "and:   \t0.31%\n",
      ",:   \t0.07%\n",
      "with:   \t0.01%\n",
      "--------\n",
      "\n"
     ]
    },
    {
     "data": {
      "text/html": [
       "<span style=\"background-color:rgba(135,206,250,0.26237416);\">wine</span> <span style=\"background-color:rgba(135,206,250,0.90938807);\">review</span> <span style=\"background-color:rgba(135,206,250,0.14547999);\">:</span> <span style=\"background-color:rgba(135,206,250,0.229217);\">germany</span> <span style=\"background-color:rgba(135,206,250,0.16858995);\">:</span> <span style=\"background-color:rgba(135,206,250,0.2549967);\">rheingau</span> <span style=\"background-color:rgba(135,206,250,0.10051117);\">:</span> <span style=\"background-color:rgba(135,206,250,0.24452667);\">riesling</span> <span style=\"background-color:rgba(135,206,250,0.103039734);\">:</span> <span style=\"background-color:rgba(135,206,250,0.11076733);\">whiffs</span> <span style=\"background-color:rgba(135,206,250,0.056364786);\">of</span> <span style=\"background-color:rgba(135,206,250,0.051918324);\">crushed</span> <span style=\"background-color:rgba(135,206,250,0.078113444);\">stones</span> <span style=\"background-color:rgba(135,206,250,0.075530626);\">and</span> <span style=\"background-color:rgba(135,206,250,0.04882029);\">crushed</span> <span style=\"background-color:rgba(135,206,250,0.046829563);\">stone</span> <span style=\"background-color:rgba(135,206,250,0.13335772);\">lend</span> <span style=\"background-color:rgba(135,206,250,0.05464082);\">a</span> <span style=\"background-color:rgba(135,206,250,0.07686677);\">savory</span> <span style=\"background-color:rgba(135,206,250,0.074990444);\">tone</span> <span style=\"background-color:rgba(135,206,250,0.050164044);\">to</span> <span style=\"background-color:rgba(135,206,250,0.1518129);\">this</span> <span style=\"background-color:rgba(135,206,250,0.10529907);\">dry</span> <span style=\"background-color:rgba(135,206,250,0.13208099);\">,</span> <span style=\"background-color:rgba(135,206,250,0.14022052);\">light</span> <span style=\"background-color:rgba(135,206,250,0.14315453);\">-</span> <span style=\"background-color:rgba(135,206,250,0.16167113);\">bodied</span> <span style=\"background-color:rgba(135,206,250,0.3223496);\">spätlese</span> <span style=\"background-color:rgba(135,206,250,0.69846433);\">.</span> <span style=\"background-color:rgba(135,206,250,0.41080886);\">it</span> <span style=\"background-color:rgba(135,206,250,0.15700927);\">'</span> <span style=\"background-color:rgba(135,206,250,0.4691015);\">s</span> <span style=\"background-color:rgba(135,206,250,1.0);\">expansive</span> <span style=\"background-color:rgba(135,206,250,0.43769956);\">on</span>"
      ],
      "text/plain": [
       "<IPython.core.display.HTML object>"
      ]
     },
     "metadata": {},
     "output_type": "display_data"
    },
    {
     "name": "stdout",
     "output_type": "stream",
     "text": [
      "the:   \t99.96%\n",
      "first:   \t0.03%\n",
      "its:   \t0.01%\n",
      "entry:   \t0.0%\n",
      "a:   \t0.0%\n",
      "--------\n",
      "\n"
     ]
    },
    {
     "data": {
      "text/html": [
       "<span style=\"background-color:rgba(135,206,250,0.16048808);\">wine</span> <span style=\"background-color:rgba(135,206,250,0.49316278);\">review</span> <span style=\"background-color:rgba(135,206,250,0.16260011);\">:</span> <span style=\"background-color:rgba(135,206,250,0.2993184);\">germany</span> <span style=\"background-color:rgba(135,206,250,0.083199464);\">:</span> <span style=\"background-color:rgba(135,206,250,0.28544515);\">rheingau</span> <span style=\"background-color:rgba(135,206,250,0.0659092);\">:</span> <span style=\"background-color:rgba(135,206,250,0.2898692);\">riesling</span> <span style=\"background-color:rgba(135,206,250,0.07350915);\">:</span> <span style=\"background-color:rgba(135,206,250,0.12854017);\">whiffs</span> <span style=\"background-color:rgba(135,206,250,0.035763394);\">of</span> <span style=\"background-color:rgba(135,206,250,0.06736428);\">crushed</span> <span style=\"background-color:rgba(135,206,250,0.121876545);\">stones</span> <span style=\"background-color:rgba(135,206,250,0.03265548);\">and</span> <span style=\"background-color:rgba(135,206,250,0.06236214);\">crushed</span> <span style=\"background-color:rgba(135,206,250,0.062467452);\">stone</span> <span style=\"background-color:rgba(135,206,250,0.056729272);\">lend</span> <span style=\"background-color:rgba(135,206,250,0.026322287);\">a</span> <span style=\"background-color:rgba(135,206,250,0.08640733);\">savory</span> <span style=\"background-color:rgba(135,206,250,0.12427828);\">tone</span> <span style=\"background-color:rgba(135,206,250,0.04170118);\">to</span> <span style=\"background-color:rgba(135,206,250,0.076105915);\">this</span> <span style=\"background-color:rgba(135,206,250,0.116821304);\">dry</span> <span style=\"background-color:rgba(135,206,250,0.06765369);\">,</span> <span style=\"background-color:rgba(135,206,250,0.11923776);\">light</span> <span style=\"background-color:rgba(135,206,250,0.070239455);\">-</span> <span style=\"background-color:rgba(135,206,250,0.19104014);\">bodied</span> <span style=\"background-color:rgba(135,206,250,0.33252645);\">spätlese</span> <span style=\"background-color:rgba(135,206,250,0.41319618);\">.</span> <span style=\"background-color:rgba(135,206,250,0.22209147);\">it</span> <span style=\"background-color:rgba(135,206,250,0.045765415);\">'</span> <span style=\"background-color:rgba(135,206,250,0.38855156);\">s</span> <span style=\"background-color:rgba(135,206,250,0.94123256);\">expansive</span> <span style=\"background-color:rgba(135,206,250,1.0);\">on</span> <span style=\"background-color:rgba(135,206,250,0.25922912);\">the</span>"
      ],
      "text/plain": [
       "<IPython.core.display.HTML object>"
      ]
     },
     "metadata": {},
     "output_type": "display_data"
    },
    {
     "name": "stdout",
     "output_type": "stream",
     "text": [
      "palate:   \t99.99%\n",
      "midpalate:   \t0.01%\n",
      "tongue:   \t0.0%\n",
      "sip:   \t0.0%\n",
      "finish:   \t0.0%\n",
      "--------\n",
      "\n"
     ]
    },
    {
     "data": {
      "text/html": [
       "<span style=\"background-color:rgba(135,206,250,0.1093143);\">wine</span> <span style=\"background-color:rgba(135,206,250,0.66471815);\">review</span> <span style=\"background-color:rgba(135,206,250,0.104825765);\">:</span> <span style=\"background-color:rgba(135,206,250,0.3072248);\">germany</span> <span style=\"background-color:rgba(135,206,250,0.09660846);\">:</span> <span style=\"background-color:rgba(135,206,250,0.14244772);\">rheingau</span> <span style=\"background-color:rgba(135,206,250,0.05482927);\">:</span> <span style=\"background-color:rgba(135,206,250,0.077823065);\">riesling</span> <span style=\"background-color:rgba(135,206,250,0.060195375);\">:</span> <span style=\"background-color:rgba(135,206,250,0.10482066);\">whiffs</span> <span style=\"background-color:rgba(135,206,250,0.03848816);\">of</span> <span style=\"background-color:rgba(135,206,250,0.019832214);\">crushed</span> <span style=\"background-color:rgba(135,206,250,0.08062838);\">stones</span> <span style=\"background-color:rgba(135,206,250,0.040299047);\">and</span> <span style=\"background-color:rgba(135,206,250,0.018830223);\">crushed</span> <span style=\"background-color:rgba(135,206,250,0.035004806);\">stone</span> <span style=\"background-color:rgba(135,206,250,0.07793962);\">lend</span> <span style=\"background-color:rgba(135,206,250,0.058234766);\">a</span> <span style=\"background-color:rgba(135,206,250,0.038555484);\">savory</span> <span style=\"background-color:rgba(135,206,250,0.05621286);\">tone</span> <span style=\"background-color:rgba(135,206,250,0.046950124);\">to</span> <span style=\"background-color:rgba(135,206,250,0.09117928);\">this</span> <span style=\"background-color:rgba(135,206,250,0.0738851);\">dry</span> <span style=\"background-color:rgba(135,206,250,0.05730366);\">,</span> <span style=\"background-color:rgba(135,206,250,0.057474524);\">light</span> <span style=\"background-color:rgba(135,206,250,0.056444917);\">-</span> <span style=\"background-color:rgba(135,206,250,0.0705966);\">bodied</span> <span style=\"background-color:rgba(135,206,250,0.12839091);\">spätlese</span> <span style=\"background-color:rgba(135,206,250,0.6197341);\">.</span> <span style=\"background-color:rgba(135,206,250,0.20494916);\">it</span> <span style=\"background-color:rgba(135,206,250,0.058030628);\">'</span> <span style=\"background-color:rgba(135,206,250,0.38346392);\">s</span> <span style=\"background-color:rgba(135,206,250,0.5187065);\">expansive</span> <span style=\"background-color:rgba(135,206,250,1.0);\">on</span> <span style=\"background-color:rgba(135,206,250,0.5972067);\">the</span> <span style=\"background-color:rgba(135,206,250,0.3248198);\">palate</span>"
      ],
      "text/plain": [
       "<IPython.core.display.HTML object>"
      ]
     },
     "metadata": {},
     "output_type": "display_data"
    },
    {
     "name": "stdout",
     "output_type": "stream",
     "text": [
      ",:   \t98.37%\n",
      "with:   \t1.2%\n",
      "but:   \t0.22%\n",
      "and:   \t0.2%\n",
      "yet:   \t0.01%\n",
      "--------\n",
      "\n"
     ]
    },
    {
     "data": {
      "text/html": [
       "<span style=\"background-color:rgba(135,206,250,0.08428073);\">wine</span> <span style=\"background-color:rgba(135,206,250,0.42628708);\">review</span> <span style=\"background-color:rgba(135,206,250,0.18490154);\">:</span> <span style=\"background-color:rgba(135,206,250,0.24412519);\">germany</span> <span style=\"background-color:rgba(135,206,250,0.068235);\">:</span> <span style=\"background-color:rgba(135,206,250,0.23619305);\">rheingau</span> <span style=\"background-color:rgba(135,206,250,0.046980415);\">:</span> <span style=\"background-color:rgba(135,206,250,0.24473439);\">riesling</span> <span style=\"background-color:rgba(135,206,250,0.059328653);\">:</span> <span style=\"background-color:rgba(135,206,250,0.08405435);\">whiffs</span> <span style=\"background-color:rgba(135,206,250,0.039727576);\">of</span> <span style=\"background-color:rgba(135,206,250,0.025971482);\">crushed</span> <span style=\"background-color:rgba(135,206,250,0.06746726);\">stones</span> <span style=\"background-color:rgba(135,206,250,0.0372566);\">and</span> <span style=\"background-color:rgba(135,206,250,0.022038424);\">crushed</span> <span style=\"background-color:rgba(135,206,250,0.04471534);\">stone</span> <span style=\"background-color:rgba(135,206,250,0.0823996);\">lend</span> <span style=\"background-color:rgba(135,206,250,0.025158357);\">a</span> <span style=\"background-color:rgba(135,206,250,0.049013782);\">savory</span> <span style=\"background-color:rgba(135,206,250,0.052963093);\">tone</span> <span style=\"background-color:rgba(135,206,250,0.038538836);\">to</span> <span style=\"background-color:rgba(135,206,250,0.097703606);\">this</span> <span style=\"background-color:rgba(135,206,250,0.086260684);\">dry</span> <span style=\"background-color:rgba(135,206,250,0.04011982);\">,</span> <span style=\"background-color:rgba(135,206,250,0.102204494);\">light</span> <span style=\"background-color:rgba(135,206,250,0.03782648);\">-</span> <span style=\"background-color:rgba(135,206,250,0.08750619);\">bodied</span> <span style=\"background-color:rgba(135,206,250,0.25699633);\">spätlese</span> <span style=\"background-color:rgba(135,206,250,0.3839867);\">.</span> <span style=\"background-color:rgba(135,206,250,0.22980721);\">it</span> <span style=\"background-color:rgba(135,206,250,0.049749553);\">'</span> <span style=\"background-color:rgba(135,206,250,0.31988493);\">s</span> <span style=\"background-color:rgba(135,206,250,0.49446246);\">expansive</span> <span style=\"background-color:rgba(135,206,250,0.45602173);\">on</span> <span style=\"background-color:rgba(135,206,250,0.47296596);\">the</span> <span style=\"background-color:rgba(135,206,250,1.0);\">palate</span> <span style=\"background-color:rgba(135,206,250,0.40469575);\">,</span>"
      ],
      "text/plain": [
       "<IPython.core.display.HTML object>"
      ]
     },
     "metadata": {},
     "output_type": "display_data"
    },
    {
     "name": "stdout",
     "output_type": "stream",
     "text": [
      "with:   \t73.93%\n",
      "but:   \t24.78%\n",
      "yet:   \t0.36%\n",
      "it:   \t0.27%\n",
      "and:   \t0.17%\n",
      "--------\n",
      "\n"
     ]
    },
    {
     "data": {
      "text/html": [
       "<span style=\"background-color:rgba(135,206,250,0.17248578);\">wine</span> <span style=\"background-color:rgba(135,206,250,0.9781325);\">review</span> <span style=\"background-color:rgba(135,206,250,0.26084638);\">:</span> <span style=\"background-color:rgba(135,206,250,0.41495046);\">germany</span> <span style=\"background-color:rgba(135,206,250,0.19192185);\">:</span> <span style=\"background-color:rgba(135,206,250,0.3290429);\">rheingau</span> <span style=\"background-color:rgba(135,206,250,0.11553796);\">:</span> <span style=\"background-color:rgba(135,206,250,0.40223047);\">riesling</span> <span style=\"background-color:rgba(135,206,250,0.089951865);\">:</span> <span style=\"background-color:rgba(135,206,250,0.1401243);\">whiffs</span> <span style=\"background-color:rgba(135,206,250,0.035542507);\">of</span> <span style=\"background-color:rgba(135,206,250,0.062324613);\">crushed</span> <span style=\"background-color:rgba(135,206,250,0.13102919);\">stones</span> <span style=\"background-color:rgba(135,206,250,0.05227478);\">and</span> <span style=\"background-color:rgba(135,206,250,0.058943972);\">crushed</span> <span style=\"background-color:rgba(135,206,250,0.06308888);\">stone</span> <span style=\"background-color:rgba(135,206,250,0.05610087);\">lend</span> <span style=\"background-color:rgba(135,206,250,0.039052024);\">a</span> <span style=\"background-color:rgba(135,206,250,0.085128665);\">savory</span> <span style=\"background-color:rgba(135,206,250,0.09080972);\">tone</span> <span style=\"background-color:rgba(135,206,250,0.034515385);\">to</span> <span style=\"background-color:rgba(135,206,250,0.07489323);\">this</span> <span style=\"background-color:rgba(135,206,250,0.11098463);\">dry</span> <span style=\"background-color:rgba(135,206,250,0.05504221);\">,</span> <span style=\"background-color:rgba(135,206,250,0.1273855);\">light</span> <span style=\"background-color:rgba(135,206,250,0.045068685);\">-</span> <span style=\"background-color:rgba(135,206,250,0.13313054);\">bodied</span> <span style=\"background-color:rgba(135,206,250,0.27703378);\">spätlese</span> <span style=\"background-color:rgba(135,206,250,0.26885748);\">.</span> <span style=\"background-color:rgba(135,206,250,0.111556105);\">it</span> <span style=\"background-color:rgba(135,206,250,0.04404112);\">'</span> <span style=\"background-color:rgba(135,206,250,0.11328822);\">s</span> <span style=\"background-color:rgba(135,206,250,0.49492362);\">expansive</span> <span style=\"background-color:rgba(135,206,250,0.19092125);\">on</span> <span style=\"background-color:rgba(135,206,250,0.29172248);\">the</span> <span style=\"background-color:rgba(135,206,250,1.0);\">palate</span> <span style=\"background-color:rgba(135,206,250,0.77733713);\">,</span> <span style=\"background-color:rgba(135,206,250,0.43459702);\">with</span>"
      ],
      "text/plain": [
       "<IPython.core.display.HTML object>"
      ]
     },
     "metadata": {},
     "output_type": "display_data"
    },
    {
     "name": "stdout",
     "output_type": "stream",
     "text": [
      "a:   \t42.24%\n",
      "hints:   \t11.54%\n",
      "notes:   \t7.88%\n",
      "flavors:   \t7.15%\n",
      "juicy:   \t6.55%\n",
      "--------\n",
      "\n"
     ]
    },
    {
     "data": {
      "text/html": [
       "<span style=\"background-color:rgba(135,206,250,0.15292369);\">wine</span> <span style=\"background-color:rgba(135,206,250,0.75648266);\">review</span> <span style=\"background-color:rgba(135,206,250,0.21011811);\">:</span> <span style=\"background-color:rgba(135,206,250,0.442425);\">germany</span> <span style=\"background-color:rgba(135,206,250,0.06594243);\">:</span> <span style=\"background-color:rgba(135,206,250,0.3191466);\">rheingau</span> <span style=\"background-color:rgba(135,206,250,0.059333786);\">:</span> <span style=\"background-color:rgba(135,206,250,0.311815);\">riesling</span> <span style=\"background-color:rgba(135,206,250,0.075577855);\">:</span> <span style=\"background-color:rgba(135,206,250,0.14091837);\">whiffs</span> <span style=\"background-color:rgba(135,206,250,0.0414646);\">of</span> <span style=\"background-color:rgba(135,206,250,0.07805195);\">crushed</span> <span style=\"background-color:rgba(135,206,250,0.11075218);\">stones</span> <span style=\"background-color:rgba(135,206,250,0.03628029);\">and</span> <span style=\"background-color:rgba(135,206,250,0.06744183);\">crushed</span> <span style=\"background-color:rgba(135,206,250,0.061156165);\">stone</span> <span style=\"background-color:rgba(135,206,250,0.057377197);\">lend</span> <span style=\"background-color:rgba(135,206,250,0.023411073);\">a</span> <span style=\"background-color:rgba(135,206,250,0.07983786);\">savory</span> <span style=\"background-color:rgba(135,206,250,0.09198703);\">tone</span> <span style=\"background-color:rgba(135,206,250,0.032918483);\">to</span> <span style=\"background-color:rgba(135,206,250,0.062008727);\">this</span> <span style=\"background-color:rgba(135,206,250,0.103410274);\">dry</span> <span style=\"background-color:rgba(135,206,250,0.04774172);\">,</span> <span style=\"background-color:rgba(135,206,250,0.1390791);\">light</span> <span style=\"background-color:rgba(135,206,250,0.034817047);\">-</span> <span style=\"background-color:rgba(135,206,250,0.14492509);\">bodied</span> <span style=\"background-color:rgba(135,206,250,0.25073716);\">spätlese</span> <span style=\"background-color:rgba(135,206,250,0.21957679);\">.</span> <span style=\"background-color:rgba(135,206,250,0.105998285);\">it</span> <span style=\"background-color:rgba(135,206,250,0.039831627);\">'</span> <span style=\"background-color:rgba(135,206,250,0.1359916);\">s</span> <span style=\"background-color:rgba(135,206,250,0.42009756);\">expansive</span> <span style=\"background-color:rgba(135,206,250,0.31536454);\">on</span> <span style=\"background-color:rgba(135,206,250,0.2223371);\">the</span> <span style=\"background-color:rgba(135,206,250,0.7634179);\">palate</span> <span style=\"background-color:rgba(135,206,250,0.55686903);\">,</span> <span style=\"background-color:rgba(135,206,250,1.0);\">with</span> <span style=\"background-color:rgba(135,206,250,0.27164283);\">a</span>"
      ],
      "text/plain": [
       "<IPython.core.display.HTML object>"
      ]
     },
     "metadata": {},
     "output_type": "display_data"
    },
    {
     "name": "stdout",
     "output_type": "stream",
     "text": [
      "spray:   \t13.39%\n",
      "reverberating:   \t12.66%\n",
      "hint:   \t10.63%\n",
      "delicate:   \t7.35%\n",
      "lingering:   \t5.76%\n",
      "--------\n",
      "\n"
     ]
    },
    {
     "data": {
      "text/html": [
       "<span style=\"background-color:rgba(135,206,250,0.2774612);\">wine</span> <span style=\"background-color:rgba(135,206,250,1.0);\">review</span> <span style=\"background-color:rgba(135,206,250,0.14203998);\">:</span> <span style=\"background-color:rgba(135,206,250,0.16670272);\">germany</span> <span style=\"background-color:rgba(135,206,250,0.15600531);\">:</span> <span style=\"background-color:rgba(135,206,250,0.14977819);\">rheingau</span> <span style=\"background-color:rgba(135,206,250,0.084281065);\">:</span> <span style=\"background-color:rgba(135,206,250,0.14628702);\">riesling</span> <span style=\"background-color:rgba(135,206,250,0.08667529);\">:</span> <span style=\"background-color:rgba(135,206,250,0.09964132);\">whiffs</span> <span style=\"background-color:rgba(135,206,250,0.059426054);\">of</span> <span style=\"background-color:rgba(135,206,250,0.025590237);\">crushed</span> <span style=\"background-color:rgba(135,206,250,0.047287907);\">stones</span> <span style=\"background-color:rgba(135,206,250,0.048215467);\">and</span> <span style=\"background-color:rgba(135,206,250,0.02425729);\">crushed</span> <span style=\"background-color:rgba(135,206,250,0.030750223);\">stone</span> <span style=\"background-color:rgba(135,206,250,0.12676571);\">lend</span> <span style=\"background-color:rgba(135,206,250,0.04636553);\">a</span> <span style=\"background-color:rgba(135,206,250,0.041413072);\">savory</span> <span style=\"background-color:rgba(135,206,250,0.04081877);\">tone</span> <span style=\"background-color:rgba(135,206,250,0.067855515);\">to</span> <span style=\"background-color:rgba(135,206,250,0.08368189);\">this</span> <span style=\"background-color:rgba(135,206,250,0.055863574);\">dry</span> <span style=\"background-color:rgba(135,206,250,0.061699223);\">,</span> <span style=\"background-color:rgba(135,206,250,0.038276583);\">light</span> <span style=\"background-color:rgba(135,206,250,0.050505966);\">-</span> <span style=\"background-color:rgba(135,206,250,0.051298697);\">bodied</span> <span style=\"background-color:rgba(135,206,250,0.13835831);\">spätlese</span> <span style=\"background-color:rgba(135,206,250,0.30530056);\">.</span> <span style=\"background-color:rgba(135,206,250,0.14893475);\">it</span> <span style=\"background-color:rgba(135,206,250,0.06441061);\">'</span> <span style=\"background-color:rgba(135,206,250,0.15033807);\">s</span> <span style=\"background-color:rgba(135,206,250,0.15865125);\">expansive</span> <span style=\"background-color:rgba(135,206,250,0.3428144);\">on</span> <span style=\"background-color:rgba(135,206,250,0.34357926);\">the</span> <span style=\"background-color:rgba(135,206,250,0.49996036);\">palate</span> <span style=\"background-color:rgba(135,206,250,0.43453217);\">,</span> <span style=\"background-color:rgba(135,206,250,0.8362298);\">with</span> <span style=\"background-color:rgba(135,206,250,0.95014066);\">a</span> <span style=\"background-color:rgba(135,206,250,0.26559904);\">crush</span>"
      ],
      "text/plain": [
       "<IPython.core.display.HTML object>"
      ]
     },
     "metadata": {},
     "output_type": "display_data"
    },
    {
     "name": "stdout",
     "output_type": "stream",
     "text": [
      "of:   \t100.0%\n",
      "facility:   \t0.0%\n",
      ",:   \t0.0%\n",
      "that:   \t0.0%\n",
      "like:   \t0.0%\n",
      "--------\n",
      "\n"
     ]
    },
    {
     "data": {
      "text/html": [
       "<span style=\"background-color:rgba(135,206,250,0.07892747);\">wine</span> <span style=\"background-color:rgba(135,206,250,0.2595056);\">review</span> <span style=\"background-color:rgba(135,206,250,0.09417783);\">:</span> <span style=\"background-color:rgba(135,206,250,0.31639555);\">germany</span> <span style=\"background-color:rgba(135,206,250,0.050672546);\">:</span> <span style=\"background-color:rgba(135,206,250,0.26501262);\">rheingau</span> <span style=\"background-color:rgba(135,206,250,0.043685738);\">:</span> <span style=\"background-color:rgba(135,206,250,0.33194855);\">riesling</span> <span style=\"background-color:rgba(135,206,250,0.04797452);\">:</span> <span style=\"background-color:rgba(135,206,250,0.060475577);\">whiffs</span> <span style=\"background-color:rgba(135,206,250,0.015007966);\">of</span> <span style=\"background-color:rgba(135,206,250,0.03234505);\">crushed</span> <span style=\"background-color:rgba(135,206,250,0.06992609);\">stones</span> <span style=\"background-color:rgba(135,206,250,0.025171211);\">and</span> <span style=\"background-color:rgba(135,206,250,0.029220065);\">crushed</span> <span style=\"background-color:rgba(135,206,250,0.039574973);\">stone</span> <span style=\"background-color:rgba(135,206,250,0.029075751);\">lend</span> <span style=\"background-color:rgba(135,206,250,0.019399961);\">a</span> <span style=\"background-color:rgba(135,206,250,0.060203563);\">savory</span> <span style=\"background-color:rgba(135,206,250,0.043164715);\">tone</span> <span style=\"background-color:rgba(135,206,250,0.015802331);\">to</span> <span style=\"background-color:rgba(135,206,250,0.037200972);\">this</span> <span style=\"background-color:rgba(135,206,250,0.059648145);\">dry</span> <span style=\"background-color:rgba(135,206,250,0.03320753);\">,</span> <span style=\"background-color:rgba(135,206,250,0.054451004);\">light</span> <span style=\"background-color:rgba(135,206,250,0.025937539);\">-</span> <span style=\"background-color:rgba(135,206,250,0.07052103);\">bodied</span> <span style=\"background-color:rgba(135,206,250,0.17394091);\">spätlese</span> <span style=\"background-color:rgba(135,206,250,0.107681595);\">.</span> <span style=\"background-color:rgba(135,206,250,0.05573785);\">it</span> <span style=\"background-color:rgba(135,206,250,0.01643967);\">'</span> <span style=\"background-color:rgba(135,206,250,0.06744451);\">s</span> <span style=\"background-color:rgba(135,206,250,0.18836871);\">expansive</span> <span style=\"background-color:rgba(135,206,250,0.09306465);\">on</span> <span style=\"background-color:rgba(135,206,250,0.15114039);\">the</span> <span style=\"background-color:rgba(135,206,250,0.35809058);\">palate</span> <span style=\"background-color:rgba(135,206,250,0.25028548);\">,</span> <span style=\"background-color:rgba(135,206,250,0.3135083);\">with</span> <span style=\"background-color:rgba(135,206,250,0.4009715);\">a</span> <span style=\"background-color:rgba(135,206,250,1.0);\">crush</span> <span style=\"background-color:rgba(135,206,250,0.22207911);\">of</span>"
      ],
      "text/plain": [
       "<IPython.core.display.HTML object>"
      ]
     },
     "metadata": {},
     "output_type": "display_data"
    },
    {
     "name": "stdout",
     "output_type": "stream",
     "text": [
      "mineral:   \t31.68%\n",
      "lemon:   \t27.27%\n",
      "lime:   \t14.64%\n",
      "minerals:   \t6.77%\n",
      "tangerine:   \t4.64%\n",
      "--------\n",
      "\n"
     ]
    },
    {
     "data": {
      "text/html": [
       "<span style=\"background-color:rgba(135,206,250,0.13201006);\">wine</span> <span style=\"background-color:rgba(135,206,250,0.52011985);\">review</span> <span style=\"background-color:rgba(135,206,250,0.13122036);\">:</span> <span style=\"background-color:rgba(135,206,250,0.33209735);\">germany</span> <span style=\"background-color:rgba(135,206,250,0.12239702);\">:</span> <span style=\"background-color:rgba(135,206,250,0.18686636);\">rheingau</span> <span style=\"background-color:rgba(135,206,250,0.08175341);\">:</span> <span style=\"background-color:rgba(135,206,250,0.108470395);\">riesling</span> <span style=\"background-color:rgba(135,206,250,0.07218926);\">:</span> <span style=\"background-color:rgba(135,206,250,0.10270156);\">whiffs</span> <span style=\"background-color:rgba(135,206,250,0.057498593);\">of</span> <span style=\"background-color:rgba(135,206,250,0.027925093);\">crushed</span> <span style=\"background-color:rgba(135,206,250,0.09484788);\">stones</span> <span style=\"background-color:rgba(135,206,250,0.028872838);\">and</span> <span style=\"background-color:rgba(135,206,250,0.025761144);\">crushed</span> <span style=\"background-color:rgba(135,206,250,0.028122235);\">stone</span> <span style=\"background-color:rgba(135,206,250,0.05865291);\">lend</span> <span style=\"background-color:rgba(135,206,250,0.03181472);\">a</span> <span style=\"background-color:rgba(135,206,250,0.027996408);\">savory</span> <span style=\"background-color:rgba(135,206,250,0.07250812);\">tone</span> <span style=\"background-color:rgba(135,206,250,0.041514084);\">to</span> <span style=\"background-color:rgba(135,206,250,0.044152487);\">this</span> <span style=\"background-color:rgba(135,206,250,0.04267716);\">dry</span> <span style=\"background-color:rgba(135,206,250,0.036409967);\">,</span> <span style=\"background-color:rgba(135,206,250,0.03152196);\">light</span> <span style=\"background-color:rgba(135,206,250,0.02611403);\">-</span> <span style=\"background-color:rgba(135,206,250,0.05834789);\">bodied</span> <span style=\"background-color:rgba(135,206,250,0.10197744);\">spätlese</span> <span style=\"background-color:rgba(135,206,250,0.20184201);\">.</span> <span style=\"background-color:rgba(135,206,250,0.08188739);\">it</span> <span style=\"background-color:rgba(135,206,250,0.029447496);\">'</span> <span style=\"background-color:rgba(135,206,250,0.12258471);\">s</span> <span style=\"background-color:rgba(135,206,250,0.15217058);\">expansive</span> <span style=\"background-color:rgba(135,206,250,0.13051859);\">on</span> <span style=\"background-color:rgba(135,206,250,0.17081356);\">the</span> <span style=\"background-color:rgba(135,206,250,0.31924996);\">palate</span> <span style=\"background-color:rgba(135,206,250,0.1674302);\">,</span> <span style=\"background-color:rgba(135,206,250,0.49173918);\">with</span> <span style=\"background-color:rgba(135,206,250,0.47956574);\">a</span> <span style=\"background-color:rgba(135,206,250,0.72180563);\">crush</span> <span style=\"background-color:rgba(135,206,250,1.0);\">of</span> <span style=\"background-color:rgba(135,206,250,0.27433538);\">mineral</span>"
      ],
      "text/plain": [
       "<IPython.core.display.HTML object>"
      ]
     },
     "metadata": {},
     "output_type": "display_data"
    },
    {
     "name": "stdout",
     "output_type": "stream",
     "text": [
      ",:   \t54.3%\n",
      "and:   \t19.43%\n",
      "tones:   \t15.33%\n",
      "sheen:   \t4.32%\n",
      "-:   \t2.21%\n",
      "--------\n",
      "\n"
     ]
    },
    {
     "data": {
      "text/html": [
       "<span style=\"background-color:rgba(135,206,250,0.058179475);\">wine</span> <span style=\"background-color:rgba(135,206,250,0.19602278);\">review</span> <span style=\"background-color:rgba(135,206,250,0.057143953);\">:</span> <span style=\"background-color:rgba(135,206,250,0.24482812);\">germany</span> <span style=\"background-color:rgba(135,206,250,0.02823698);\">:</span> <span style=\"background-color:rgba(135,206,250,0.14749666);\">rheingau</span> <span style=\"background-color:rgba(135,206,250,0.024366483);\">:</span> <span style=\"background-color:rgba(135,206,250,0.17777404);\">riesling</span> <span style=\"background-color:rgba(135,206,250,0.035521504);\">:</span> <span style=\"background-color:rgba(135,206,250,0.062336143);\">whiffs</span> <span style=\"background-color:rgba(135,206,250,0.016895592);\">of</span> <span style=\"background-color:rgba(135,206,250,0.032996587);\">crushed</span> <span style=\"background-color:rgba(135,206,250,0.06978586);\">stones</span> <span style=\"background-color:rgba(135,206,250,0.019904394);\">and</span> <span style=\"background-color:rgba(135,206,250,0.029562144);\">crushed</span> <span style=\"background-color:rgba(135,206,250,0.035247188);\">stone</span> <span style=\"background-color:rgba(135,206,250,0.026853707);\">lend</span> <span style=\"background-color:rgba(135,206,250,0.015741598);\">a</span> <span style=\"background-color:rgba(135,206,250,0.04597667);\">savory</span> <span style=\"background-color:rgba(135,206,250,0.043167964);\">tone</span> <span style=\"background-color:rgba(135,206,250,0.016074818);\">to</span> <span style=\"background-color:rgba(135,206,250,0.03103349);\">this</span> <span style=\"background-color:rgba(135,206,250,0.056098264);\">dry</span> <span style=\"background-color:rgba(135,206,250,0.022797277);\">,</span> <span style=\"background-color:rgba(135,206,250,0.07808714);\">light</span> <span style=\"background-color:rgba(135,206,250,0.01974929);\">-</span> <span style=\"background-color:rgba(135,206,250,0.06642893);\">bodied</span> <span style=\"background-color:rgba(135,206,250,0.11003537);\">spätlese</span> <span style=\"background-color:rgba(135,206,250,0.09506065);\">.</span> <span style=\"background-color:rgba(135,206,250,0.040572036);\">it</span> <span style=\"background-color:rgba(135,206,250,0.015578293);\">'</span> <span style=\"background-color:rgba(135,206,250,0.05457217);\">s</span> <span style=\"background-color:rgba(135,206,250,0.14277792);\">expansive</span> <span style=\"background-color:rgba(135,206,250,0.04947138);\">on</span> <span style=\"background-color:rgba(135,206,250,0.062000524);\">the</span> <span style=\"background-color:rgba(135,206,250,0.167695);\">palate</span> <span style=\"background-color:rgba(135,206,250,0.16137615);\">,</span> <span style=\"background-color:rgba(135,206,250,0.20334575);\">with</span> <span style=\"background-color:rgba(135,206,250,0.1679496);\">a</span> <span style=\"background-color:rgba(135,206,250,0.3318638);\">crush</span> <span style=\"background-color:rgba(135,206,250,0.4477543);\">of</span> <span style=\"background-color:rgba(135,206,250,1.0);\">mineral</span> <span style=\"background-color:rgba(135,206,250,0.3366704);\">and</span>"
      ],
      "text/plain": [
       "<IPython.core.display.HTML object>"
      ]
     },
     "metadata": {},
     "output_type": "display_data"
    },
    {
     "name": "stdout",
     "output_type": "stream",
     "text": [
      "lime:   \t18.57%\n",
      "stone:   \t14.87%\n",
      "crushed:   \t13.09%\n",
      "steel:   \t12.16%\n",
      "slate:   \t6.35%\n",
      "--------\n",
      "\n"
     ]
    },
    {
     "data": {
      "text/html": [
       "<span style=\"background-color:rgba(135,206,250,0.15438187);\">wine</span> <span style=\"background-color:rgba(135,206,250,0.86735696);\">review</span> <span style=\"background-color:rgba(135,206,250,0.33941984);\">:</span> <span style=\"background-color:rgba(135,206,250,0.5847107);\">germany</span> <span style=\"background-color:rgba(135,206,250,0.1826348);\">:</span> <span style=\"background-color:rgba(135,206,250,0.36300296);\">rheingau</span> <span style=\"background-color:rgba(135,206,250,0.15286106);\">:</span> <span style=\"background-color:rgba(135,206,250,0.19607538);\">riesling</span> <span style=\"background-color:rgba(135,206,250,0.13351704);\">:</span> <span style=\"background-color:rgba(135,206,250,0.1230642);\">whiffs</span> <span style=\"background-color:rgba(135,206,250,0.057744324);\">of</span> <span style=\"background-color:rgba(135,206,250,0.04680344);\">crushed</span> <span style=\"background-color:rgba(135,206,250,0.13576485);\">stones</span> <span style=\"background-color:rgba(135,206,250,0.04588458);\">and</span> <span style=\"background-color:rgba(135,206,250,0.043613248);\">crushed</span> <span style=\"background-color:rgba(135,206,250,0.043203443);\">stone</span> <span style=\"background-color:rgba(135,206,250,0.06550981);\">lend</span> <span style=\"background-color:rgba(135,206,250,0.048593726);\">a</span> <span style=\"background-color:rgba(135,206,250,0.06785105);\">savory</span> <span style=\"background-color:rgba(135,206,250,0.08179683);\">tone</span> <span style=\"background-color:rgba(135,206,250,0.040291224);\">to</span> <span style=\"background-color:rgba(135,206,250,0.058393855);\">this</span> <span style=\"background-color:rgba(135,206,250,0.07856019);\">dry</span> <span style=\"background-color:rgba(135,206,250,0.046518255);\">,</span> <span style=\"background-color:rgba(135,206,250,0.05644683);\">light</span> <span style=\"background-color:rgba(135,206,250,0.033901885);\">-</span> <span style=\"background-color:rgba(135,206,250,0.09084386);\">bodied</span> <span style=\"background-color:rgba(135,206,250,0.14890914);\">spätlese</span> <span style=\"background-color:rgba(135,206,250,0.19797854);\">.</span> <span style=\"background-color:rgba(135,206,250,0.087701775);\">it</span> <span style=\"background-color:rgba(135,206,250,0.030474095);\">'</span> <span style=\"background-color:rgba(135,206,250,0.13027342);\">s</span> <span style=\"background-color:rgba(135,206,250,0.24490574);\">expansive</span> <span style=\"background-color:rgba(135,206,250,0.105739325);\">on</span> <span style=\"background-color:rgba(135,206,250,0.140885);\">the</span> <span style=\"background-color:rgba(135,206,250,0.2856763);\">palate</span> <span style=\"background-color:rgba(135,206,250,0.15758309);\">,</span> <span style=\"background-color:rgba(135,206,250,0.37016556);\">with</span> <span style=\"background-color:rgba(135,206,250,0.44674024);\">a</span> <span style=\"background-color:rgba(135,206,250,0.50298333);\">crush</span> <span style=\"background-color:rgba(135,206,250,0.48590478);\">of</span> <span style=\"background-color:rgba(135,206,250,0.5998704);\">mineral</span> <span style=\"background-color:rgba(135,206,250,1.0);\">and</span> <span style=\"background-color:rgba(135,206,250,0.5935361);\">lemon</span>"
      ],
      "text/plain": [
       "<IPython.core.display.HTML object>"
      ]
     },
     "metadata": {},
     "output_type": "display_data"
    },
    {
     "name": "stdout",
     "output_type": "stream",
     "text": [
      "rind:   \t34.13%\n",
      "-:   \t32.56%\n",
      "flavors:   \t13.7%\n",
      "and:   \t7.39%\n",
      "peel:   \t2.9%\n",
      "--------\n",
      "\n"
     ]
    },
    {
     "data": {
      "text/html": [
       "<span style=\"background-color:rgba(135,206,250,0.13438629);\">wine</span> <span style=\"background-color:rgba(135,206,250,1.0);\">review</span> <span style=\"background-color:rgba(135,206,250,0.15694828);\">:</span> <span style=\"background-color:rgba(135,206,250,0.3666647);\">germany</span> <span style=\"background-color:rgba(135,206,250,0.12613928);\">:</span> <span style=\"background-color:rgba(135,206,250,0.1685656);\">rheingau</span> <span style=\"background-color:rgba(135,206,250,0.095964);\">:</span> <span style=\"background-color:rgba(135,206,250,0.15704218);\">riesling</span> <span style=\"background-color:rgba(135,206,250,0.09459049);\">:</span> <span style=\"background-color:rgba(135,206,250,0.13637136);\">whiffs</span> <span style=\"background-color:rgba(135,206,250,0.065106);\">of</span> <span style=\"background-color:rgba(135,206,250,0.026043989);\">crushed</span> <span style=\"background-color:rgba(135,206,250,0.064213365);\">stones</span> <span style=\"background-color:rgba(135,206,250,0.028541265);\">and</span> <span style=\"background-color:rgba(135,206,250,0.022798045);\">crushed</span> <span style=\"background-color:rgba(135,206,250,0.036858395);\">stone</span> <span style=\"background-color:rgba(135,206,250,0.11875338);\">lend</span> <span style=\"background-color:rgba(135,206,250,0.046550956);\">a</span> <span style=\"background-color:rgba(135,206,250,0.03266207);\">savory</span> <span style=\"background-color:rgba(135,206,250,0.059030645);\">tone</span> <span style=\"background-color:rgba(135,206,250,0.048923675);\">to</span> <span style=\"background-color:rgba(135,206,250,0.067848586);\">this</span> <span style=\"background-color:rgba(135,206,250,0.052552547);\">dry</span> <span style=\"background-color:rgba(135,206,250,0.036594152);\">,</span> <span style=\"background-color:rgba(135,206,250,0.033954185);\">light</span> <span style=\"background-color:rgba(135,206,250,0.03409327);\">-</span> <span style=\"background-color:rgba(135,206,250,0.05227796);\">bodied</span> <span style=\"background-color:rgba(135,206,250,0.11076837);\">spätlese</span> <span style=\"background-color:rgba(135,206,250,0.23612885);\">.</span> <span style=\"background-color:rgba(135,206,250,0.11351431);\">it</span> <span style=\"background-color:rgba(135,206,250,0.023621215);\">'</span> <span style=\"background-color:rgba(135,206,250,0.10768799);\">s</span> <span style=\"background-color:rgba(135,206,250,0.13379368);\">expansive</span> <span style=\"background-color:rgba(135,206,250,0.11820626);\">on</span> <span style=\"background-color:rgba(135,206,250,0.17676215);\">the</span> <span style=\"background-color:rgba(135,206,250,0.32121807);\">palate</span> <span style=\"background-color:rgba(135,206,250,0.17952739);\">,</span> <span style=\"background-color:rgba(135,206,250,0.45262182);\">with</span> <span style=\"background-color:rgba(135,206,250,0.41700122);\">a</span> <span style=\"background-color:rgba(135,206,250,0.45685863);\">crush</span> <span style=\"background-color:rgba(135,206,250,0.56049716);\">of</span> <span style=\"background-color:rgba(135,206,250,0.24612218);\">mineral</span> <span style=\"background-color:rgba(135,206,250,0.6446802);\">and</span> <span style=\"background-color:rgba(135,206,250,0.5083542);\">lemon</span> <span style=\"background-color:rgba(135,206,250,0.31311497);\">rind</span>"
      ],
      "text/plain": [
       "<IPython.core.display.HTML object>"
      ]
     },
     "metadata": {},
     "output_type": "display_data"
    },
    {
     "name": "stdout",
     "output_type": "stream",
     "text": [
      "flavors:   \t29.66%\n",
      "and:   \t25.28%\n",
      ",:   \t15.93%\n",
      "on:   \t6.31%\n",
      "that:   \t5.84%\n",
      "--------\n",
      "\n"
     ]
    },
    {
     "data": {
      "text/html": [
       "<span style=\"background-color:rgba(135,206,250,0.1614591);\">wine</span> <span style=\"background-color:rgba(135,206,250,1.0);\">review</span> <span style=\"background-color:rgba(135,206,250,0.25250527);\">:</span> <span style=\"background-color:rgba(135,206,250,0.27079862);\">germany</span> <span style=\"background-color:rgba(135,206,250,0.16804883);\">:</span> <span style=\"background-color:rgba(135,206,250,0.30700025);\">rheingau</span> <span style=\"background-color:rgba(135,206,250,0.10498923);\">:</span> <span style=\"background-color:rgba(135,206,250,0.24862948);\">riesling</span> <span style=\"background-color:rgba(135,206,250,0.10384259);\">:</span> <span style=\"background-color:rgba(135,206,250,0.09140067);\">whiffs</span> <span style=\"background-color:rgba(135,206,250,0.04449264);\">of</span> <span style=\"background-color:rgba(135,206,250,0.049761068);\">crushed</span> <span style=\"background-color:rgba(135,206,250,0.072404906);\">stones</span> <span style=\"background-color:rgba(135,206,250,0.06506052);\">and</span> <span style=\"background-color:rgba(135,206,250,0.04384547);\">crushed</span> <span style=\"background-color:rgba(135,206,250,0.032188807);\">stone</span> <span style=\"background-color:rgba(135,206,250,0.070663586);\">lend</span> <span style=\"background-color:rgba(135,206,250,0.037942596);\">a</span> <span style=\"background-color:rgba(135,206,250,0.051942278);\">savory</span> <span style=\"background-color:rgba(135,206,250,0.04701554);\">tone</span> <span style=\"background-color:rgba(135,206,250,0.027899144);\">to</span> <span style=\"background-color:rgba(135,206,250,0.073391624);\">this</span> <span style=\"background-color:rgba(135,206,250,0.05651212);\">dry</span> <span style=\"background-color:rgba(135,206,250,0.055353366);\">,</span> <span style=\"background-color:rgba(135,206,250,0.049650826);\">light</span> <span style=\"background-color:rgba(135,206,250,0.03550488);\">-</span> <span style=\"background-color:rgba(135,206,250,0.069813386);\">bodied</span> <span style=\"background-color:rgba(135,206,250,0.13179189);\">spätlese</span> <span style=\"background-color:rgba(135,206,250,0.14238973);\">.</span> <span style=\"background-color:rgba(135,206,250,0.09459509);\">it</span> <span style=\"background-color:rgba(135,206,250,0.033416215);\">'</span> <span style=\"background-color:rgba(135,206,250,0.09499378);\">s</span> <span style=\"background-color:rgba(135,206,250,0.1318814);\">expansive</span> <span style=\"background-color:rgba(135,206,250,0.045269564);\">on</span> <span style=\"background-color:rgba(135,206,250,0.14701061);\">the</span> <span style=\"background-color:rgba(135,206,250,0.29893455);\">palate</span> <span style=\"background-color:rgba(135,206,250,0.16227257);\">,</span> <span style=\"background-color:rgba(135,206,250,0.16131032);\">with</span> <span style=\"background-color:rgba(135,206,250,0.17746699);\">a</span> <span style=\"background-color:rgba(135,206,250,0.23819062);\">crush</span> <span style=\"background-color:rgba(135,206,250,0.19215682);\">of</span> <span style=\"background-color:rgba(135,206,250,0.4228401);\">mineral</span> <span style=\"background-color:rgba(135,206,250,0.51809824);\">and</span> <span style=\"background-color:rgba(135,206,250,0.7392896);\">lemon</span> <span style=\"background-color:rgba(135,206,250,0.52171695);\">rind</span> <span style=\"background-color:rgba(135,206,250,0.3932614);\">on</span>"
      ],
      "text/plain": [
       "<IPython.core.display.HTML object>"
      ]
     },
     "metadata": {},
     "output_type": "display_data"
    },
    {
     "name": "stdout",
     "output_type": "stream",
     "text": [
      "the:   \t99.53%\n",
      "a:   \t0.45%\n",
      "this:   \t0.02%\n",
      "its:   \t0.0%\n",
      "an:   \t0.0%\n",
      "--------\n",
      "\n"
     ]
    },
    {
     "data": {
      "text/html": [
       "<span style=\"background-color:rgba(135,206,250,0.08798244);\">wine</span> <span style=\"background-color:rgba(135,206,250,0.34260687);\">review</span> <span style=\"background-color:rgba(135,206,250,0.17397505);\">:</span> <span style=\"background-color:rgba(135,206,250,0.2805903);\">germany</span> <span style=\"background-color:rgba(135,206,250,0.058641285);\">:</span> <span style=\"background-color:rgba(135,206,250,0.25622377);\">rheingau</span> <span style=\"background-color:rgba(135,206,250,0.05050226);\">:</span> <span style=\"background-color:rgba(135,206,250,0.26497683);\">riesling</span> <span style=\"background-color:rgba(135,206,250,0.05498114);\">:</span> <span style=\"background-color:rgba(135,206,250,0.08294855);\">whiffs</span> <span style=\"background-color:rgba(135,206,250,0.02288508);\">of</span> <span style=\"background-color:rgba(135,206,250,0.054362614);\">crushed</span> <span style=\"background-color:rgba(135,206,250,0.091429725);\">stones</span> <span style=\"background-color:rgba(135,206,250,0.022623422);\">and</span> <span style=\"background-color:rgba(135,206,250,0.047947794);\">crushed</span> <span style=\"background-color:rgba(135,206,250,0.040085133);\">stone</span> <span style=\"background-color:rgba(135,206,250,0.025132006);\">lend</span> <span style=\"background-color:rgba(135,206,250,0.014962115);\">a</span> <span style=\"background-color:rgba(135,206,250,0.049734253);\">savory</span> <span style=\"background-color:rgba(135,206,250,0.06768178);\">tone</span> <span style=\"background-color:rgba(135,206,250,0.018659137);\">to</span> <span style=\"background-color:rgba(135,206,250,0.03282974);\">this</span> <span style=\"background-color:rgba(135,206,250,0.0531071);\">dry</span> <span style=\"background-color:rgba(135,206,250,0.024934728);\">,</span> <span style=\"background-color:rgba(135,206,250,0.05568307);\">light</span> <span style=\"background-color:rgba(135,206,250,0.020341283);\">-</span> <span style=\"background-color:rgba(135,206,250,0.08569697);\">bodied</span> <span style=\"background-color:rgba(135,206,250,0.14128199);\">spätlese</span> <span style=\"background-color:rgba(135,206,250,0.07715511);\">.</span> <span style=\"background-color:rgba(135,206,250,0.03953241);\">it</span> <span style=\"background-color:rgba(135,206,250,0.0099757);\">'</span> <span style=\"background-color:rgba(135,206,250,0.039909486);\">s</span> <span style=\"background-color:rgba(135,206,250,0.13352579);\">expansive</span> <span style=\"background-color:rgba(135,206,250,0.04885683);\">on</span> <span style=\"background-color:rgba(135,206,250,0.02559736);\">the</span> <span style=\"background-color:rgba(135,206,250,0.26996243);\">palate</span> <span style=\"background-color:rgba(135,206,250,0.06705917);\">,</span> <span style=\"background-color:rgba(135,206,250,0.0864349);\">with</span> <span style=\"background-color:rgba(135,206,250,0.051280074);\">a</span> <span style=\"background-color:rgba(135,206,250,0.22026922);\">crush</span> <span style=\"background-color:rgba(135,206,250,0.14647724);\">of</span> <span style=\"background-color:rgba(135,206,250,0.26606044);\">mineral</span> <span style=\"background-color:rgba(135,206,250,0.21709096);\">and</span> <span style=\"background-color:rgba(135,206,250,0.421688);\">lemon</span> <span style=\"background-color:rgba(135,206,250,0.7906208);\">rind</span> <span style=\"background-color:rgba(135,206,250,1.0);\">on</span> <span style=\"background-color:rgba(135,206,250,0.25520295);\">the</span>"
      ],
      "text/plain": [
       "<IPython.core.display.HTML object>"
      ]
     },
     "metadata": {},
     "output_type": "display_data"
    },
    {
     "name": "stdout",
     "output_type": "stream",
     "text": [
      "finish:   \t98.56%\n",
      "midpalate:   \t0.9%\n",
      "palate:   \t0.39%\n",
      "long:   \t0.07%\n",
      "nose:   \t0.05%\n",
      "--------\n",
      "\n"
     ]
    },
    {
     "data": {
      "text/html": [
       "<span style=\"background-color:rgba(135,206,250,0.07591064);\">wine</span> <span style=\"background-color:rgba(135,206,250,0.5238084);\">review</span> <span style=\"background-color:rgba(135,206,250,0.105176665);\">:</span> <span style=\"background-color:rgba(135,206,250,0.2186127);\">germany</span> <span style=\"background-color:rgba(135,206,250,0.066942304);\">:</span> <span style=\"background-color:rgba(135,206,250,0.1330063);\">rheingau</span> <span style=\"background-color:rgba(135,206,250,0.046271235);\">:</span> <span style=\"background-color:rgba(135,206,250,0.08744033);\">riesling</span> <span style=\"background-color:rgba(135,206,250,0.055957012);\">:</span> <span style=\"background-color:rgba(135,206,250,0.06678188);\">whiffs</span> <span style=\"background-color:rgba(135,206,250,0.025766103);\">of</span> <span style=\"background-color:rgba(135,206,250,0.022031182);\">crushed</span> <span style=\"background-color:rgba(135,206,250,0.06526298);\">stones</span> <span style=\"background-color:rgba(135,206,250,0.027907357);\">and</span> <span style=\"background-color:rgba(135,206,250,0.019112423);\">crushed</span> <span style=\"background-color:rgba(135,206,250,0.019059364);\">stone</span> <span style=\"background-color:rgba(135,206,250,0.032255985);\">lend</span> <span style=\"background-color:rgba(135,206,250,0.021782486);\">a</span> <span style=\"background-color:rgba(135,206,250,0.023389407);\">savory</span> <span style=\"background-color:rgba(135,206,250,0.03145029);\">tone</span> <span style=\"background-color:rgba(135,206,250,0.014670112);\">to</span> <span style=\"background-color:rgba(135,206,250,0.030665582);\">this</span> <span style=\"background-color:rgba(135,206,250,0.030539028);\">dry</span> <span style=\"background-color:rgba(135,206,250,0.02146538);\">,</span> <span style=\"background-color:rgba(135,206,250,0.045980718);\">light</span> <span style=\"background-color:rgba(135,206,250,0.014842371);\">-</span> <span style=\"background-color:rgba(135,206,250,0.027193284);\">bodied</span> <span style=\"background-color:rgba(135,206,250,0.057998616);\">spätlese</span> <span style=\"background-color:rgba(135,206,250,0.14229402);\">.</span> <span style=\"background-color:rgba(135,206,250,0.057459343);\">it</span> <span style=\"background-color:rgba(135,206,250,0.021076377);\">'</span> <span style=\"background-color:rgba(135,206,250,0.063609034);\">s</span> <span style=\"background-color:rgba(135,206,250,0.11207235);\">expansive</span> <span style=\"background-color:rgba(135,206,250,0.058295276);\">on</span> <span style=\"background-color:rgba(135,206,250,0.05114519);\">the</span> <span style=\"background-color:rgba(135,206,250,0.062039085);\">palate</span> <span style=\"background-color:rgba(135,206,250,0.06556187);\">,</span> <span style=\"background-color:rgba(135,206,250,0.1797759);\">with</span> <span style=\"background-color:rgba(135,206,250,0.124873616);\">a</span> <span style=\"background-color:rgba(135,206,250,0.16480571);\">crush</span> <span style=\"background-color:rgba(135,206,250,0.117907934);\">of</span> <span style=\"background-color:rgba(135,206,250,0.17383897);\">mineral</span> <span style=\"background-color:rgba(135,206,250,0.18267277);\">and</span> <span style=\"background-color:rgba(135,206,250,0.16926968);\">lemon</span> <span style=\"background-color:rgba(135,206,250,0.29830047);\">rind</span> <span style=\"background-color:rgba(135,206,250,1.0);\">on</span> <span style=\"background-color:rgba(135,206,250,0.84209085);\">the</span> <span style=\"background-color:rgba(135,206,250,0.3459912);\">finish</span>"
      ],
      "text/plain": [
       "<IPython.core.display.HTML object>"
      ]
     },
     "metadata": {},
     "output_type": "display_data"
    },
    {
     "name": "stdout",
     "output_type": "stream",
     "text": [
      ".:   \t95.95%\n",
      ",:   \t4.02%\n",
      "that:   \t0.03%\n",
      "and:   \t0.0%\n",
      "with:   \t0.0%\n",
      "--------\n",
      "\n"
     ]
    },
    {
     "data": {
      "text/html": [
       "<span style=\"background-color:rgba(135,206,250,0.08839411);\">wine</span> <span style=\"background-color:rgba(135,206,250,1.0);\">review</span> <span style=\"background-color:rgba(135,206,250,0.4936829);\">:</span> <span style=\"background-color:rgba(135,206,250,0.5841062);\">germany</span> <span style=\"background-color:rgba(135,206,250,0.3040341);\">:</span> <span style=\"background-color:rgba(135,206,250,0.62020254);\">rheingau</span> <span style=\"background-color:rgba(135,206,250,0.17816567);\">:</span> <span style=\"background-color:rgba(135,206,250,0.3053087);\">riesling</span> <span style=\"background-color:rgba(135,206,250,0.14245532);\">:</span> <span style=\"background-color:rgba(135,206,250,0.09185658);\">whiffs</span> <span style=\"background-color:rgba(135,206,250,0.033397898);\">of</span> <span style=\"background-color:rgba(135,206,250,0.046855293);\">crushed</span> <span style=\"background-color:rgba(135,206,250,0.08003824);\">stones</span> <span style=\"background-color:rgba(135,206,250,0.037033677);\">and</span> <span style=\"background-color:rgba(135,206,250,0.04045253);\">crushed</span> <span style=\"background-color:rgba(135,206,250,0.037056655);\">stone</span> <span style=\"background-color:rgba(135,206,250,0.04125188);\">lend</span> <span style=\"background-color:rgba(135,206,250,0.021591797);\">a</span> <span style=\"background-color:rgba(135,206,250,0.041481394);\">savory</span> <span style=\"background-color:rgba(135,206,250,0.054538067);\">tone</span> <span style=\"background-color:rgba(135,206,250,0.025136746);\">to</span> <span style=\"background-color:rgba(135,206,250,0.058930103);\">this</span> <span style=\"background-color:rgba(135,206,250,0.055172313);\">dry</span> <span style=\"background-color:rgba(135,206,250,0.02928707);\">,</span> <span style=\"background-color:rgba(135,206,250,0.062149446);\">light</span> <span style=\"background-color:rgba(135,206,250,0.024970504);\">-</span> <span style=\"background-color:rgba(135,206,250,0.07645694);\">bodied</span> <span style=\"background-color:rgba(135,206,250,0.11052003);\">spätlese</span> <span style=\"background-color:rgba(135,206,250,0.084046915);\">.</span> <span style=\"background-color:rgba(135,206,250,0.039784737);\">it</span> <span style=\"background-color:rgba(135,206,250,0.013444753);\">'</span> <span style=\"background-color:rgba(135,206,250,0.0444952);\">s</span> <span style=\"background-color:rgba(135,206,250,0.118666135);\">expansive</span> <span style=\"background-color:rgba(135,206,250,0.039387323);\">on</span> <span style=\"background-color:rgba(135,206,250,0.033170838);\">the</span> <span style=\"background-color:rgba(135,206,250,0.16205336);\">palate</span> <span style=\"background-color:rgba(135,206,250,0.046631943);\">,</span> <span style=\"background-color:rgba(135,206,250,0.07168704);\">with</span> <span style=\"background-color:rgba(135,206,250,0.043855254);\">a</span> <span style=\"background-color:rgba(135,206,250,0.12163514);\">crush</span> <span style=\"background-color:rgba(135,206,250,0.046425454);\">of</span> <span style=\"background-color:rgba(135,206,250,0.118563235);\">mineral</span> <span style=\"background-color:rgba(135,206,250,0.07957736);\">and</span> <span style=\"background-color:rgba(135,206,250,0.11556049);\">lemon</span> <span style=\"background-color:rgba(135,206,250,0.146381);\">rind</span> <span style=\"background-color:rgba(135,206,250,0.11782264);\">on</span> <span style=\"background-color:rgba(135,206,250,0.14831695);\">the</span> <span style=\"background-color:rgba(135,206,250,0.49671286);\">finish</span> <span style=\"background-color:rgba(135,206,250,0.4355602);\">.</span>"
      ],
      "text/plain": [
       "<IPython.core.display.HTML object>"
      ]
     },
     "metadata": {},
     "output_type": "display_data"
    },
    {
     "name": "stdout",
     "output_type": "stream",
     "text": [
      ":   \t59.55%\n",
      "it:   \t35.52%\n",
      "drink:   \t4.17%\n",
      "the:   \t0.32%\n",
      "enjoy:   \t0.3%\n",
      "--------\n",
      "\n"
     ]
    }
   ],
   "source": [
    "info = text_generator.generate(\n",
    "    \"wine review : germany\", max_tokens=80, temperature=0.5\n",
    ")\n",
    "print_probs(info, vocab)"
   ]
  },
  {
   "cell_type": "markdown",
   "id": "14345afc-bcf7-4609-b237-d25ba4c1d4a5",
   "metadata": {
    "id": "14345afc-bcf7-4609-b237-d25ba4c1d4a5"
   },
   "source": [
    "## Классификация изображений при помощи трансформера для изображений\n",
    "\n",
    "В этом коде реализована модель Vision Transformer (ViT) для классификации изображений, и она демонстрируется на наборе данных CIFAR-10. Модель ViT применяет архитектуру Transformer с самовниманием к последовательностям фрагментов изображения без использования слоев свертки."
   ]
  },
  {
   "cell_type": "markdown",
   "id": "7d2d19bb-7b2d-4916-8e93-8f9fa52081dc",
   "metadata": {
    "id": "7d2d19bb-7b2d-4916-8e93-8f9fa52081dc"
   },
   "source": [
    "### Подготовка данных"
   ]
  },
  {
   "cell_type": "code",
   "execution_count": 37,
   "id": "05906914-6cc1-4409-b0c9-c3e51eb2e51f",
   "metadata": {
    "colab": {
     "base_uri": "https://localhost:8080/"
    },
    "id": "05906914-6cc1-4409-b0c9-c3e51eb2e51f",
    "outputId": "045816db-dc8f-4cc9-ecf7-209f7cee818f"
   },
   "outputs": [
    {
     "name": "stdout",
     "output_type": "stream",
     "text": [
      "x_train shape: (50000, 32, 32, 3) - y_train shape: (50000, 1)\n",
      "x_test shape: (10000, 32, 32, 3) - y_test shape: (10000, 1)\n"
     ]
    }
   ],
   "source": [
    "num_classes = 10\n",
    "input_shape = (32, 32, 3)\n",
    "\n",
    "(x_train, y_train), (x_test, y_test) = keras.datasets.cifar10.load_data()\n",
    "\n",
    "print(f\"x_train shape: {x_train.shape} - y_train shape: {y_train.shape}\")\n",
    "print(f\"x_test shape: {x_test.shape} - y_test shape: {y_test.shape}\")\n"
   ]
  },
  {
   "cell_type": "markdown",
   "id": "332eb3e0-ebc0-41ed-b03a-3045504d7f47",
   "metadata": {
    "id": "332eb3e0-ebc0-41ed-b03a-3045504d7f47"
   },
   "source": [
    "### Конфигурация гиперпараметров"
   ]
  },
  {
   "cell_type": "code",
   "execution_count": 38,
   "id": "e2f64afb-c786-4869-b5d5-fa745a793016",
   "metadata": {
    "id": "e2f64afb-c786-4869-b5d5-fa745a793016"
   },
   "outputs": [],
   "source": [
    "learning_rate = 0.001\n",
    "weight_decay = 0.0001\n",
    "batch_size = 256\n",
    "num_epochs = 10  # For real training, use num_epochs=100. 10 is a test value\n",
    "image_size = 72  # We'll resize input images to this size\n",
    "patch_size = 6  # Size of the patches to be extract from the input images\n",
    "num_patches = (image_size // patch_size) ** 2\n",
    "projection_dim = 64\n",
    "num_heads = 4\n",
    "transformer_units = [\n",
    "    projection_dim * 2,\n",
    "    projection_dim,\n",
    "]  # Size of the transformer layers\n",
    "transformer_layers = 8\n",
    "mlp_head_units = [\n",
    "    2048,\n",
    "    1024,\n",
    "]  # Size of the dense layers of the final classifier"
   ]
  },
  {
   "cell_type": "markdown",
   "id": "aeead202-9114-4080-9ef6-f9e3fd87a2cd",
   "metadata": {
    "id": "aeead202-9114-4080-9ef6-f9e3fd87a2cd"
   },
   "source": [
    "Используем аугментацию данных:"
   ]
  },
  {
   "cell_type": "code",
   "execution_count": 39,
   "id": "65da7f1b-61d2-44f4-a4a1-7398135f00d3",
   "metadata": {
    "id": "65da7f1b-61d2-44f4-a4a1-7398135f00d3"
   },
   "outputs": [],
   "source": [
    "data_augmentation = keras.Sequential(\n",
    "    [\n",
    "        layers.Normalization(),\n",
    "        layers.Resizing(image_size, image_size),\n",
    "        layers.RandomFlip(\"horizontal\"),\n",
    "        layers.RandomRotation(factor=0.02),\n",
    "        layers.RandomZoom(height_factor=0.2, width_factor=0.2),\n",
    "    ],\n",
    "    name=\"data_augmentation\",\n",
    ")\n",
    "# Compute the mean and the variance of the training data for normalization.\n",
    "data_augmentation.layers[0].adapt(x_train)"
   ]
  },
  {
   "cell_type": "markdown",
   "id": "eb75faff-1fab-4131-a256-103bb95b09cd",
   "metadata": {
    "id": "eb75faff-1fab-4131-a256-103bb95b09cd"
   },
   "source": [
    "Реализация многослойного перцептрона (MLP):"
   ]
  },
  {
   "cell_type": "code",
   "execution_count": 40,
   "id": "ebc82f1d-eaa7-4f6b-9fbd-71b1d7b2a10b",
   "metadata": {
    "id": "ebc82f1d-eaa7-4f6b-9fbd-71b1d7b2a10b"
   },
   "outputs": [],
   "source": [
    "def mlp(x, hidden_units, dropout_rate):\n",
    "    for units in hidden_units:\n",
    "        x = layers.Dense(units, activation=keras.activations.gelu)(x)\n",
    "        x = layers.Dropout(dropout_rate)(x)\n",
    "    return x"
   ]
  },
  {
   "cell_type": "markdown",
   "id": "27bcaa6e-af6c-4a9f-8b9e-290a446bc9f8",
   "metadata": {
    "id": "27bcaa6e-af6c-4a9f-8b9e-290a446bc9f8"
   },
   "source": [
    "Создание патчей изображения в слое:"
   ]
  },
  {
   "cell_type": "code",
   "execution_count": 41,
   "id": "6fa44b5b-d61e-48d8-87a3-893c9818b367",
   "metadata": {
    "id": "6fa44b5b-d61e-48d8-87a3-893c9818b367"
   },
   "outputs": [],
   "source": [
    "class Patches(layers.Layer):\n",
    "    def __init__(self, patch_size):\n",
    "        super().__init__()\n",
    "        self.patch_size = patch_size\n",
    "\n",
    "    def call(self, images):\n",
    "        input_shape = ops.shape(images)\n",
    "        batch_size = input_shape[0]\n",
    "        height = input_shape[1]\n",
    "        width = input_shape[2]\n",
    "        channels = input_shape[3]\n",
    "        num_patches_h = height // self.patch_size\n",
    "        num_patches_w = width // self.patch_size\n",
    "        patches = keras.ops.image.extract_patches(images, size=self.patch_size)\n",
    "        patches = ops.reshape(\n",
    "            patches,\n",
    "            (\n",
    "                batch_size,\n",
    "                num_patches_h * num_patches_w,\n",
    "                self.patch_size * self.patch_size * channels,\n",
    "            ),\n",
    "        )\n",
    "        return patches\n",
    "\n",
    "    def get_config(self):\n",
    "        config = super().get_config()\n",
    "        config.update({\"patch_size\": self.patch_size})\n",
    "        return config\n"
   ]
  },
  {
   "cell_type": "markdown",
   "id": "bfd38465-3cf7-43b2-8a6f-e616be353bf6",
   "metadata": {
    "id": "bfd38465-3cf7-43b2-8a6f-e616be353bf6"
   },
   "source": [
    "Визуализируем патчи для изображения:"
   ]
  },
  {
   "cell_type": "code",
   "execution_count": 42,
   "id": "b95cc564-d7bf-46f9-943b-97c169580c03",
   "metadata": {
    "colab": {
     "base_uri": "https://localhost:8080/",
     "height": 763
    },
    "id": "b95cc564-d7bf-46f9-943b-97c169580c03",
    "outputId": "bf82ab70-5c19-46f2-dd03-588ffb1c0bab"
   },
   "outputs": [
    {
     "name": "stdout",
     "output_type": "stream",
     "text": [
      "Image size: 72 X 72\n",
      "Patch size: 6 X 6\n",
      "Patches per image: 144\n",
      "Elements per patch: 108\n"
     ]
    },
    {
     "data": {
      "image/png": "[encoded data removed]",
      "text/plain": [
       "<Figure size 400x400 with 1 Axes>"
      ]
     },
     "metadata": {},
     "output_type": "display_data"
    },
    {
     "data": {
      "image/png": "[encoded data removed]",
      "text/plain": [
       "<Figure size 400x400 with 144 Axes>"
      ]
     },
     "metadata": {},
     "output_type": "display_data"
    }
   ],
   "source": [
    "plt.figure(figsize=(4, 4))\n",
    "image = x_train[np.random.choice(range(x_train.shape[0]))]\n",
    "plt.imshow(image.astype(\"uint8\"))\n",
    "plt.axis(\"off\")\n",
    "\n",
    "resized_image = ops.image.resize(\n",
    "    ops.convert_to_tensor([image]), size=(image_size, image_size)\n",
    ")\n",
    "patches = Patches(patch_size)(resized_image)\n",
    "print(f\"Image size: {image_size} X {image_size}\")\n",
    "print(f\"Patch size: {patch_size} X {patch_size}\")\n",
    "print(f\"Patches per image: {patches.shape[1]}\")\n",
    "print(f\"Elements per patch: {patches.shape[-1]}\")\n",
    "\n",
    "n = int(np.sqrt(patches.shape[1]))\n",
    "plt.figure(figsize=(4, 4))\n",
    "for i, patch in enumerate(patches[0]):\n",
    "    ax = plt.subplot(n, n, i + 1)\n",
    "    patch_img = ops.reshape(patch, (patch_size, patch_size, 3))\n",
    "    plt.imshow(ops.convert_to_numpy(patch_img).astype(\"uint8\"))\n",
    "    plt.axis(\"off\")"
   ]
  },
  {
   "cell_type": "markdown",
   "id": "3ff0cc91-38fc-4f78-b42a-22e9bbcba1c8",
   "metadata": {
    "id": "3ff0cc91-38fc-4f78-b42a-22e9bbcba1c8"
   },
   "source": [
    "### Реализация слоя кодирования патчей\n",
    "\n",
    "Слой `PatchEncoder` будет линейно преобразовывать патч, проецируя его в вектор размером `projection_dim`. Кроме того, он добавляет обучаемый позиционный эмбеддинг в проецируемый вектор."
   ]
  },
  {
   "cell_type": "code",
   "execution_count": 43,
   "id": "92029725-9912-4737-9e36-4829bce10a6b",
   "metadata": {
    "id": "92029725-9912-4737-9e36-4829bce10a6b"
   },
   "outputs": [],
   "source": [
    "class PatchEncoder(layers.Layer):\n",
    "    def __init__(self, num_patches, projection_dim):\n",
    "        super().__init__()\n",
    "        self.num_patches = num_patches\n",
    "        self.projection = layers.Dense(units=projection_dim)\n",
    "        self.position_embedding = layers.Embedding(\n",
    "            input_dim=num_patches, output_dim=projection_dim\n",
    "        )\n",
    "\n",
    "    def call(self, patch):\n",
    "        positions = ops.expand_dims(\n",
    "            ops.arange(start=0, stop=self.num_patches, step=1), axis=0\n",
    "        )\n",
    "        projected_patches = self.projection(patch)\n",
    "        encoded = projected_patches + self.position_embedding(positions)\n",
    "        return encoded\n",
    "\n",
    "    def get_config(self):\n",
    "        config = super().get_config()\n",
    "        config.update({\"num_patches\": self.num_patches})\n",
    "        return config\n"
   ]
  },
  {
   "cell_type": "markdown",
   "id": "2b47b136-2dd3-40b8-ad88-0cb980502367",
   "metadata": {
    "id": "2b47b136-2dd3-40b8-ad88-0cb980502367"
   },
   "source": [
    "### Построение модели ViT\n",
    "\n",
    "Модель ViT состоит из нескольких блоков Transformer, которые используют слой `layer.MultiHeadAttention` в качестве механизма самовнимания, применяемого к последовательности патчей. Блоки Transformer создают тензор формы $[batch_size, num_patches, projection_dim]$, который обрабатывается с помощью `softmax` для получения  вероятностей классов.\n",
    "В отличие от описанной в статье методики, которая добавляет обучаемое встраивание к последовательности закодированных патчей для использования в качестве представления изображения, все выходные данные окончательного блока Transformer преобразуются с помощью layer.Flatten() и используются в качестве входных данных представления изображения для головки классификатора. Обратите внимание, что слой layer.GlobalAveragePooling1D также может использоваться вместо этого для агрегирования выходных данных блока Transformer, особенно когда количество патчей и размеры проекции велики."
   ]
  },
  {
   "cell_type": "code",
   "execution_count": 44,
   "id": "4ec6261f-f5f5-42df-bfb3-534f4c3ee8c5",
   "metadata": {
    "id": "4ec6261f-f5f5-42df-bfb3-534f4c3ee8c5"
   },
   "outputs": [],
   "source": [
    "def create_vit_classifier():\n",
    "    inputs = keras.Input(shape=input_shape)\n",
    "    # Augment data.\n",
    "    augmented = data_augmentation(inputs)\n",
    "    # Create patches.\n",
    "    patches = Patches(patch_size)(augmented)\n",
    "    # Encode patches.\n",
    "    encoded_patches = PatchEncoder(num_patches, projection_dim)(patches)\n",
    "\n",
    "    # Create multiple layers of the Transformer block.\n",
    "    for _ in range(transformer_layers):\n",
    "        # Layer normalization 1.\n",
    "        x1 = layers.LayerNormalization(epsilon=1e-6)(encoded_patches)\n",
    "        # Create a multi-head attention layer.\n",
    "        attention_output = layers.MultiHeadAttention(\n",
    "            num_heads=num_heads, key_dim=projection_dim, dropout=0.1\n",
    "        )(x1, x1)\n",
    "        # Skip connection 1.\n",
    "        x2 = layers.Add()([attention_output, encoded_patches])\n",
    "        # Layer normalization 2.\n",
    "        x3 = layers.LayerNormalization(epsilon=1e-6)(x2)\n",
    "        # MLP.\n",
    "        x3 = mlp(x3, hidden_units=transformer_units, dropout_rate=0.1)\n",
    "        # Skip connection 2.\n",
    "        encoded_patches = layers.Add()([x3, x2])\n",
    "\n",
    "    # Create a [batch_size, projection_dim] tensor.\n",
    "    representation = layers.LayerNormalization(epsilon=1e-6)(encoded_patches)\n",
    "    representation = layers.Flatten()(representation)\n",
    "    representation = layers.Dropout(0.5)(representation)\n",
    "    # Add MLP.\n",
    "    features = mlp(representation, hidden_units=mlp_head_units, dropout_rate=0.5)\n",
    "    # Classify outputs.\n",
    "    logits = layers.Dense(num_classes)(features)\n",
    "    # Create the Keras model.\n",
    "    model = keras.Model(inputs=inputs, outputs=logits)\n",
    "    return model\n"
   ]
  },
  {
   "cell_type": "markdown",
   "id": "e1d8b39b-f2c6-49db-9e57-a4475ab904d8",
   "metadata": {
    "id": "e1d8b39b-f2c6-49db-9e57-a4475ab904d8"
   },
   "source": [
    "### Создание, обучение и оценка модели"
   ]
  },
  {
   "cell_type": "code",
   "execution_count": 45,
   "id": "f921240e-71a8-43e0-b80e-79256a11f794",
   "metadata": {
    "id": "f921240e-71a8-43e0-b80e-79256a11f794"
   },
   "outputs": [],
   "source": [
    "ViT = create_vit_classifier()\n"
   ]
  },
  {
   "cell_type": "code",
   "execution_count": 46,
   "id": "bbbeffa7-331f-40b2-a712-443b39aa856a",
   "metadata": {
    "id": "bbbeffa7-331f-40b2-a712-443b39aa856a"
   },
   "outputs": [],
   "source": [
    "optimizer = keras.optimizers.AdamW(\n",
    "    learning_rate=learning_rate, weight_decay=weight_decay\n",
    ")\n",
    "\n",
    "ViT.compile(\n",
    "    optimizer=optimizer,\n",
    "    loss=keras.losses.SparseCategoricalCrossentropy(from_logits=True),\n",
    "    metrics=[\n",
    "        keras.metrics.SparseCategoricalAccuracy(name=\"accuracy\"),\n",
    "        keras.metrics.SparseTopKCategoricalAccuracy(5, name=\"top-5-accuracy\"),\n",
    "    ],\n",
    ")"
   ]
  },
  {
   "cell_type": "code",
   "execution_count": 47,
   "id": "f1cfb673-c37e-4797-b734-6daf68c07a49",
   "metadata": {
    "id": "f1cfb673-c37e-4797-b734-6daf68c07a49"
   },
   "outputs": [],
   "source": [
    "checkpoint_filepath = \"/content/drive/MyDrive/ViT_checkpoint.weights.h5\"\n",
    "checkpoint_callback = keras.callbacks.ModelCheckpoint(\n",
    "    checkpoint_filepath,\n",
    "    monitor=\"val_accuracy\",\n",
    "    save_best_only=True,\n",
    "    save_weights_only=True,\n",
    ")"
   ]
  },
  {
   "cell_type": "code",
   "execution_count": 48,
   "id": "038aed39-5c6e-48a6-929f-32a83e21b482",
   "metadata": {
    "colab": {
     "base_uri": "https://localhost:8080/"
    },
    "id": "038aed39-5c6e-48a6-929f-32a83e21b482",
    "outputId": "35e5ea74-04e9-4565-d890-8bfb2a559239"
   },
   "outputs": [
    {
     "name": "stdout",
     "output_type": "stream",
     "text": [
      "Epoch 1/10\n",
      "\u001b[1m176/176\u001b[0m \u001b[32m━━━━━━━━━━━━━━━━━━━━\u001b[0m\u001b[37m\u001b[0m \u001b[1m102s\u001b[0m 394ms/step - accuracy: 0.2449 - loss: 2.7585 - top-5-accuracy: 0.7335 - val_accuracy: 0.4356 - val_loss: 1.5462 - val_top-5-accuracy: 0.9118\n",
      "Epoch 2/10\n",
      "\u001b[1m176/176\u001b[0m \u001b[32m━━━━━━━━━━━━━━━━━━━━\u001b[0m\u001b[37m\u001b[0m \u001b[1m79s\u001b[0m 399ms/step - accuracy: 0.4126 - loss: 1.6343 - top-5-accuracy: 0.8851 - val_accuracy: 0.5416 - val_loss: 1.2714 - val_top-5-accuracy: 0.9428\n",
      "Epoch 3/10\n",
      "\u001b[1m176/176\u001b[0m \u001b[32m━━━━━━━━━━━━━━━━━━━━\u001b[0m\u001b[37m\u001b[0m \u001b[1m82s\u001b[0m 398ms/step - accuracy: 0.4883 - loss: 1.4277 - top-5-accuracy: 0.9200 - val_accuracy: 0.5780 - val_loss: 1.1981 - val_top-5-accuracy: 0.9564\n",
      "Epoch 4/10\n",
      "\u001b[1m176/176\u001b[0m \u001b[32m━━━━━━━━━━━━━━━━━━━━\u001b[0m\u001b[37m\u001b[0m \u001b[1m86s\u001b[0m 421ms/step - accuracy: 0.5334 - loss: 1.3131 - top-5-accuracy: 0.9350 - val_accuracy: 0.6046 - val_loss: 1.1108 - val_top-5-accuracy: 0.9610\n",
      "Epoch 5/10\n",
      "\u001b[1m176/176\u001b[0m \u001b[32m━━━━━━━━━━━━━━━━━━━━\u001b[0m\u001b[37m\u001b[0m \u001b[1m82s\u001b[0m 420ms/step - accuracy: 0.5596 - loss: 1.2449 - top-5-accuracy: 0.9422 - val_accuracy: 0.6244 - val_loss: 1.0679 - val_top-5-accuracy: 0.9648\n",
      "Epoch 6/10\n",
      "\u001b[1m176/176\u001b[0m \u001b[32m━━━━━━━━━━━━━━━━━━━━\u001b[0m\u001b[37m\u001b[0m \u001b[1m82s\u001b[0m 421ms/step - accuracy: 0.5821 - loss: 1.1843 - top-5-accuracy: 0.9515 - val_accuracy: 0.6540 - val_loss: 0.9838 - val_top-5-accuracy: 0.9720\n",
      "Epoch 7/10\n",
      "\u001b[1m176/176\u001b[0m \u001b[32m━━━━━━━━━━━━━━━━━━━━\u001b[0m\u001b[37m\u001b[0m \u001b[1m72s\u001b[0m 407ms/step - accuracy: 0.5982 - loss: 1.1376 - top-5-accuracy: 0.9540 - val_accuracy: 0.6596 - val_loss: 0.9789 - val_top-5-accuracy: 0.9736\n",
      "Epoch 8/10\n",
      "\u001b[1m176/176\u001b[0m \u001b[32m━━━━━━━━━━━━━━━━━━━━\u001b[0m\u001b[37m\u001b[0m \u001b[1m84s\u001b[0m 420ms/step - accuracy: 0.6196 - loss: 1.0829 - top-5-accuracy: 0.9593 - val_accuracy: 0.6742 - val_loss: 0.9168 - val_top-5-accuracy: 0.9802\n",
      "Epoch 9/10\n",
      "\u001b[1m176/176\u001b[0m \u001b[32m━━━━━━━━━━━━━━━━━━━━\u001b[0m\u001b[37m\u001b[0m \u001b[1m73s\u001b[0m 417ms/step - accuracy: 0.6315 - loss: 1.0510 - top-5-accuracy: 0.9610 - val_accuracy: 0.6944 - val_loss: 0.8764 - val_top-5-accuracy: 0.9794\n",
      "Epoch 10/10\n",
      "\u001b[1m176/176\u001b[0m \u001b[32m━━━━━━━━━━━━━━━━━━━━\u001b[0m\u001b[37m\u001b[0m \u001b[1m78s\u001b[0m 395ms/step - accuracy: 0.6390 - loss: 1.0253 - top-5-accuracy: 0.9639 - val_accuracy: 0.6982 - val_loss: 0.8553 - val_top-5-accuracy: 0.9804\n"
     ]
    }
   ],
   "source": [
    "history = ViT.fit(\n",
    "    x=x_train,\n",
    "    y=y_train,\n",
    "    batch_size=batch_size,\n",
    "    epochs=num_epochs,\n",
    "    validation_split=0.1,\n",
    "    callbacks=[checkpoint_callback],\n",
    ")"
   ]
  },
  {
   "cell_type": "code",
   "execution_count": 49,
   "id": "2LYQwHewBwUe",
   "metadata": {
    "id": "2LYQwHewBwUe"
   },
   "outputs": [],
   "source": [
    "ViT.load_weights(checkpoint_filepath)"
   ]
  },
  {
   "cell_type": "code",
   "execution_count": 50,
   "id": "K5seEssaBm5g",
   "metadata": {
    "id": "K5seEssaBm5g"
   },
   "outputs": [],
   "source": [
    "# Save the final model\n",
    "ViT.save(\"/content/drive/MyDrive/ViT.keras\")\n",
    "# ViT = models.load_model(\"/content/drive/MyDrive/ViT.keras\", compile=True)"
   ]
  },
  {
   "cell_type": "code",
   "execution_count": 51,
   "id": "8004e35c-b75b-4f60-b17e-56889d89a64c",
   "metadata": {
    "colab": {
     "base_uri": "https://localhost:8080/"
    },
    "id": "8004e35c-b75b-4f60-b17e-56889d89a64c",
    "outputId": "46a2e942-5101-42f5-98a0-74bcdbbbf724"
   },
   "outputs": [
    {
     "name": "stdout",
     "output_type": "stream",
     "text": [
      "\u001b[1m313/313\u001b[0m \u001b[32m━━━━━━━━━━━━━━━━━━━━\u001b[0m\u001b[37m\u001b[0m \u001b[1m6s\u001b[0m 18ms/step - accuracy: 0.6894 - loss: 0.8746 - top-5-accuracy: 0.9747\n",
      "Test accuracy: 69.13%\n"
     ]
    }
   ],
   "source": [
    "_, accuracy, top_5_accuracy = ViT.evaluate(x_test, y_test)\n",
    "print(f\"Test accuracy: {round(accuracy * 100, 2)}%\")\n"
   ]
  },
  {
   "cell_type": "code",
   "execution_count": 52,
   "id": "b3f616a2-e46a-4110-a213-89406f307582",
   "metadata": {
    "colab": {
     "base_uri": "https://localhost:8080/",
     "height": 950
    },
    "id": "b3f616a2-e46a-4110-a213-89406f307582",
    "outputId": "d8a8b7da-8688-48ac-fd24-a02d4321deba"
   },
   "outputs": [
    {
     "data": {
      "image/png": "[encoded data removed]",
      "text/plain": [
       "<Figure size 640x480 with 1 Axes>"
      ]
     },
     "metadata": {},
     "output_type": "display_data"
    },
    {
     "data": {
      "image/png": "[encoded data removed]",
      "text/plain": [
       "<Figure size 640x480 with 1 Axes>"
      ]
     },
     "metadata": {},
     "output_type": "display_data"
    }
   ],
   "source": [
    "def plot_history(item):\n",
    "    plt.plot(history.history[item], label=item)\n",
    "    plt.plot(history.history[\"val_\" + item], label=\"val_\" + item)\n",
    "    plt.xlabel(\"Epochs\")\n",
    "    plt.ylabel(item)\n",
    "    plt.title(\"Train and Validation {} Over Epochs\".format(item), fontsize=14)\n",
    "    plt.legend()\n",
    "    plt.grid()\n",
    "    plt.show()\n",
    "\n",
    "\n",
    "plot_history(\"loss\")\n",
    "plot_history(\"top-5-accuracy\")"
   ]
  },
  {
   "cell_type": "markdown",
   "id": "35cfcb3b",
   "metadata": {
    "id": "35cfcb3b"
   },
   "source": [
    "#### Задание (10 баллов)\n",
    "\n",
    "Для закрепленного за Вами варианта работы:\n",
    "\n",
    "1. Загрузите заданный в индивидуальном задании набор данных с изображениями из Tensorflow Datasets с разбиением на обучающую, валидационную и тестовую выборки. Если при дальнейшей работе с данными возникнет нехватка вычислительных ресурсов, то разрешение изображений можно уменьшить.\n",
    "2. Оставьте в наборе изображения, указанных в индивидуальном задании, и визуализируйте по одному изображению из каждого класса, подписывая изображение меткой класса.\n",
    "3. Постройте нейронные сети различных архитектур (MLP, CNN, RNN, трансформер) для задачи многоклассовой классификации изображений (архитектуры и требования к сетям указаны в индивидуальном задании), используя функции потерь, указанные в индивидуальном задании. Подберите такие параметры, как функции активации, оптимизатор, начальная скорость обучения, размер мини-пакета и др. самостоятельно, обеспечивая обучение нейронных сетей. Обучайте нейронные сети с использованием валидационной выборки, сформированной в п. 1. Останавливайте переобучение нейронных сетей в случае роста потерь на валидационной выборке на нескольких эпохах обучения подряд.\n",
    "4. Вычислите и выведите в отчете матрицы ошибок нейронных сетей (tf.math.confusion_matrix) для обучающей и тестовой выборок.\n",
    "5. Визуализируйте кривые обучения построенных моделей для показателей потерь на обучающей и валидационной выборках на одном рисунке в зависимости от эпохи обучения, подписывая оси и рисунок и создавая легенду. Используйте для визуализации относительные потери (потери, деленные на начальные потери на первой эпохе).\n",
    "6. Оцените качество многоклассовой классификации нейронными сетями на тестовой выборке при помощи показателя качества, указанного в индивидуальном задании, и выведите название нейронной сети с лучшим качеством.\n",
    "\n",
    "\n"
   ]
  },
  {
   "cell_type": "code",
   "execution_count": null,
   "id": "O3y7-IlEXU9R",
   "metadata": {
    "id": "O3y7-IlEXU9R"
   },
   "outputs": [],
   "source": []
  }
 ],
 "metadata": {
  "accelerator": "GPU",
  "colab": {
   "gpuType": "T4",
   "provenance": []
  },
  "kernelspec": {
   "display_name": "Python 3 (ipykernel)",
   "language": "python",
   "name": "python3"
  },
  "language_info": {
   "codemirror_mode": {
    "name": "ipython",
    "version": 3
   },
   "file_extension": ".py",
   "mimetype": "text/x-python",
   "name": "python",
   "nbconvert_exporter": "python",
   "pygments_lexer": "ipython3",
   "version": "3.11.9"
  },
  "vscode": {
   "interpreter": {
    "hash": "31f2aee4e71d21fbe5cf8b01ff0e069b9275f58929596ceb00d14d90e3e16cd6"
   }
  }
 },
 "nbformat": 4,
 "nbformat_minor": 5
}
